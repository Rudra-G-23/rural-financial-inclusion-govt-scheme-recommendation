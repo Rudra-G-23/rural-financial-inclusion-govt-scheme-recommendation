{
 "cells": [
  {
   "cell_type": "code",
   "execution_count": 1,
   "id": "0c548703",
   "metadata": {},
   "outputs": [],
   "source": [
    "import numpy as np\n",
    "import pandas as pd\n",
    "import matplotlib.pyplot as plt\n",
    "import seaborn as sns\n",
    "import missingno as msgo\n",
    "\n",
    "import polars as pl\n",
    "import plotly.express as px\n",
    "import plotly.offline as po\n",
    "\n",
    "import warnings \n",
    "warnings.filterwarnings('ignore')"
   ]
  },
  {
   "cell_type": "code",
   "execution_count": 2,
   "id": "956f8f32",
   "metadata": {},
   "outputs": [],
   "source": [
    "lev_1_parquet_path= r\"C:\\Users\\Rudra\\Desktop\\rural-financial-inclusion-govt-scheme-recommendation\\parquet-data\\lev-01\\data\\lev-01_merged.parquet\"\n",
    "#df = pd.read_parquet(lev_1_parquet_path)"
   ]
  },
  {
   "cell_type": "code",
   "execution_count": null,
   "id": "356bfa7b",
   "metadata": {},
   "outputs": [],
   "source": []
  },
  {
   "cell_type": "code",
   "execution_count": 3,
   "id": "2795d543",
   "metadata": {},
   "outputs": [],
   "source": [
    "pdf = pl.read_parquet(lev_1_parquet_path)"
   ]
  },
  {
   "cell_type": "code",
   "execution_count": 4,
   "id": "a78a2aa6",
   "metadata": {},
   "outputs": [
    {
     "data": {
      "text/plain": [
       "String"
      ]
     },
     "execution_count": 4,
     "metadata": {},
     "output_type": "execute_result"
    }
   ],
   "source": [
    "pdf['District'].dtype"
   ]
  },
  {
   "cell_type": "code",
   "execution_count": 21,
   "id": "223ec0ab",
   "metadata": {},
   "outputs": [
    {
     "data": {
      "text/plain": [
       "Schema([('Survey_Name', String),\n",
       "        ('Year', String),\n",
       "        ('FSU_Serial_No', String),\n",
       "        ('Sector', String),\n",
       "        ('State', String),\n",
       "        ('NSS_Region', String),\n",
       "        ('District', String),\n",
       "        ('Stratum', String),\n",
       "        ('Sub_stratum', String),\n",
       "        ('Panel', String),\n",
       "        ('Sub_sample', String),\n",
       "        ('FOD_Sub_Region', String),\n",
       "        ('Sample_SU_No', String),\n",
       "        ('Sample_Sub_Division_No', String),\n",
       "        ('Second_Stage_Stratum_No', String),\n",
       "        ('Sample_Household_No', String),\n",
       "        ('Questionnaire_No', String),\n",
       "        ('Level', String),\n",
       "        ('Survey_Code', String),\n",
       "        ('Reason_for_Substitution_Code', String),\n",
       "        ('Multiplier', Float64)])"
      ]
     },
     "execution_count": 21,
     "metadata": {},
     "output_type": "execute_result"
    }
   ],
   "source": [
    "pdf.schema"
   ]
  },
  {
   "cell_type": "code",
   "execution_count": 26,
   "id": "d64402d3",
   "metadata": {},
   "outputs": [],
   "source": [
    "col = pdf.columns"
   ]
  },
  {
   "cell_type": "code",
   "execution_count": 27,
   "id": "9a73e6b6",
   "metadata": {},
   "outputs": [
    {
     "ename": "AttributeError",
     "evalue": "'DataFrame' object has no attribute 'dtype'",
     "output_type": "error",
     "traceback": [
      "\u001b[31m---------------------------------------------------------------------------\u001b[39m",
      "\u001b[31mAttributeError\u001b[39m                            Traceback (most recent call last)",
      "\u001b[36mCell\u001b[39m\u001b[36m \u001b[39m\u001b[32mIn[27]\u001b[39m\u001b[32m, line 3\u001b[39m\n\u001b[32m      1\u001b[39m pdf.schema\n\u001b[32m----> \u001b[39m\u001b[32m3\u001b[39m \u001b[38;5;28;01mif\u001b[39;00m \u001b[43mpdf\u001b[49m\u001b[43m[\u001b[49m\u001b[43mcol\u001b[49m\u001b[43m]\u001b[49m\u001b[43m.\u001b[49m\u001b[43mdtype\u001b[49m \u001b[38;5;129;01min\u001b[39;00m [\u001b[33m'\u001b[39m\u001b[33mstr\u001b[39m\u001b[33m'\u001b[39m, \u001b[33m'\u001b[39m\u001b[33mcategorical\u001b[39m\u001b[33m'\u001b[39m]:\n\u001b[32m      4\u001b[39m     unique_count = pdf[col].n_unique()\n\u001b[32m      5\u001b[39m     top_value = pdf[col].mode()[\u001b[32m0\u001b[39m]\n",
      "\u001b[31mAttributeError\u001b[39m: 'DataFrame' object has no attribute 'dtype'"
     ]
    }
   ],
   "source": [
    "pdf.schema\n",
    "\n",
    "if pdf[col].dtype in ['str', 'categorical']:\n",
    "    unique_count = pdf[col].n_unique()\n",
    "    top_value = pdf[col].mode()[0]\n",
    "    print(f\"Unique Values: {unique_count}\")\n",
    "    print(f\"Top Value: {top_value}\")\n"
   ]
  },
  {
   "cell_type": "code",
   "execution_count": 28,
   "id": "6d3043da",
   "metadata": {},
   "outputs": [
    {
     "data": {
      "text/plain": [
       "71"
      ]
     },
     "execution_count": 28,
     "metadata": {},
     "output_type": "execute_result"
    }
   ],
   "source": [
    "pdf['District'].n_unique()"
   ]
  },
  {
   "cell_type": "code",
   "execution_count": 30,
   "id": "f0436bc7",
   "metadata": {},
   "outputs": [
    {
     "data": {
      "text/plain": [
       "'07'"
      ]
     },
     "execution_count": 30,
     "metadata": {},
     "output_type": "execute_result"
    }
   ],
   "source": [
    "pdf['District'].mode()[0]"
   ]
  },
  {
   "cell_type": "code",
   "execution_count": 35,
   "id": "4117c136",
   "metadata": {},
   "outputs": [
    {
     "data": {
      "text/html": [
       "<div><style>\n",
       ".dataframe > thead > tr,\n",
       ".dataframe > tbody > tr {\n",
       "  text-align: right;\n",
       "  white-space: pre-wrap;\n",
       "}\n",
       "</style>\n",
       "<small>shape: (9, 2)</small><table border=\"1\" class=\"dataframe\"><thead><tr><th>statistic</th><th>value</th></tr><tr><td>str</td><td>f64</td></tr></thead><tbody><tr><td>&quot;count&quot;</td><td>1.309765e6</td></tr><tr><td>&quot;null_count&quot;</td><td>0.0</td></tr><tr><td>&quot;mean&quot;</td><td>111344.812944</td></tr><tr><td>&quot;std&quot;</td><td>79655.990743</td></tr><tr><td>&quot;min&quot;</td><td>369.0</td></tr><tr><td>&quot;25%&quot;</td><td>56738.0</td></tr><tr><td>&quot;50%&quot;</td><td>114044.0</td></tr><tr><td>&quot;75%&quot;</td><td>150441.0</td></tr><tr><td>&quot;max&quot;</td><td>2.366902e6</td></tr></tbody></table></div>"
      ],
      "text/plain": [
       "shape: (9, 2)\n",
       "┌────────────┬───────────────┐\n",
       "│ statistic  ┆ value         │\n",
       "│ ---        ┆ ---           │\n",
       "│ str        ┆ f64           │\n",
       "╞════════════╪═══════════════╡\n",
       "│ count      ┆ 1.309765e6    │\n",
       "│ null_count ┆ 0.0           │\n",
       "│ mean       ┆ 111344.812944 │\n",
       "│ std        ┆ 79655.990743  │\n",
       "│ min        ┆ 369.0         │\n",
       "│ 25%        ┆ 56738.0       │\n",
       "│ 50%        ┆ 114044.0      │\n",
       "│ 75%        ┆ 150441.0      │\n",
       "│ max        ┆ 2.366902e6    │\n",
       "└────────────┴───────────────┘"
      ]
     },
     "execution_count": 35,
     "metadata": {},
     "output_type": "execute_result"
    }
   ],
   "source": [
    "pdf['Multiplier'].describe(percentiles=(0.25, 0.5, 0.75))"
   ]
  },
  {
   "cell_type": "code",
   "execution_count": 4,
   "id": "552010bb",
   "metadata": {},
   "outputs": [
    {
     "data": {
      "text/plain": [
       "58.94057273864746"
      ]
     },
     "execution_count": 4,
     "metadata": {},
     "output_type": "execute_result"
    }
   ],
   "source": [
    "pdf.estimated_size(unit='mb')"
   ]
  },
  {
   "cell_type": "code",
   "execution_count": 5,
   "id": "03faa872",
   "metadata": {},
   "outputs": [
    {
     "data": {
      "text/html": [
       "<div><style>\n",
       ".dataframe > thead > tr,\n",
       ".dataframe > tbody > tr {\n",
       "  text-align: right;\n",
       "  white-space: pre-wrap;\n",
       "}\n",
       "</style>\n",
       "<small>shape: (3, 21)</small><table border=\"1\" class=\"dataframe\"><thead><tr><th>Survey_Name</th><th>Year</th><th>FSU_Serial_No</th><th>Sector</th><th>State</th><th>NSS_Region</th><th>District</th><th>Stratum</th><th>Sub_stratum</th><th>Panel</th><th>Sub_sample</th><th>FOD_Sub_Region</th><th>Sample_SU_No</th><th>Sample_Sub_Division_No</th><th>Second_Stage_Stratum_No</th><th>Sample_Household_No</th><th>Questionnaire_No</th><th>Level</th><th>Survey_Code</th><th>Reason_for_Substitution_Code</th><th>Multiplier</th></tr><tr><td>str</td><td>str</td><td>str</td><td>str</td><td>str</td><td>str</td><td>str</td><td>str</td><td>str</td><td>str</td><td>str</td><td>str</td><td>str</td><td>str</td><td>str</td><td>str</td><td>str</td><td>str</td><td>str</td><td>str</td><td>f64</td></tr></thead><tbody><tr><td>&quot;HCES&quot;</td><td>&quot;2024&quot;</td><td>&quot;41657&quot;</td><td>&quot;1&quot;</td><td>&quot;36&quot;</td><td>&quot;361&quot;</td><td>&quot;16&quot;</td><td>&quot;23&quot;</td><td>&quot;01&quot;</td><td>&quot;9&quot;</td><td>&quot;2&quot;</td><td>&quot;3611&quot;</td><td>&quot;1&quot;</td><td>&quot;&quot;</td><td>&quot;3&quot;</td><td>&quot;15&quot;</td><td>&quot;H&quot;</td><td>&quot;01&quot;</td><td>&quot;2&quot;</td><td>&quot;9&quot;</td><td>126593.0</td></tr><tr><td>&quot;HCES&quot;</td><td>&quot;2024&quot;</td><td>&quot;48804&quot;</td><td>&quot;1&quot;</td><td>&quot;29&quot;</td><td>&quot;293&quot;</td><td>&quot;28&quot;</td><td>&quot;22&quot;</td><td>&quot;01&quot;</td><td>&quot;8&quot;</td><td>&quot;2&quot;</td><td>&quot;2910&quot;</td><td>&quot;1&quot;</td><td>&quot;&quot;</td><td>&quot;3&quot;</td><td>&quot;03&quot;</td><td>&quot;H&quot;</td><td>&quot;01&quot;</td><td>&quot;2&quot;</td><td>&quot;9&quot;</td><td>109950.0</td></tr><tr><td>&quot;HCES&quot;</td><td>&quot;2024&quot;</td><td>&quot;26402&quot;</td><td>&quot;2&quot;</td><td>&quot;06&quot;</td><td>&quot;061&quot;</td><td>&quot;20&quot;</td><td>&quot;42&quot;</td><td>&quot;01&quot;</td><td>&quot;4&quot;</td><td>&quot;1&quot;</td><td>&quot;0615&quot;</td><td>&quot;1&quot;</td><td>&quot;&quot;</td><td>&quot;2&quot;</td><td>&quot;03&quot;</td><td>&quot;H&quot;</td><td>&quot;01&quot;</td><td>&quot;1&quot;</td><td>&quot;&quot;</td><td>25635.0</td></tr></tbody></table></div>"
      ],
      "text/plain": [
       "shape: (3, 21)\n",
       "┌─────────────┬──────┬──────────────┬────────┬───┬───────┬─────────────┬──────────────┬────────────┐\n",
       "│ Survey_Name ┆ Year ┆ FSU_Serial_N ┆ Sector ┆ … ┆ Level ┆ Survey_Code ┆ Reason_for_S ┆ Multiplier │\n",
       "│ ---         ┆ ---  ┆ o            ┆ ---    ┆   ┆ ---   ┆ ---         ┆ ubstitution_ ┆ ---        │\n",
       "│ str         ┆ str  ┆ ---          ┆ str    ┆   ┆ str   ┆ str         ┆ Code         ┆ f64        │\n",
       "│             ┆      ┆ str          ┆        ┆   ┆       ┆             ┆ ---          ┆            │\n",
       "│             ┆      ┆              ┆        ┆   ┆       ┆             ┆ str          ┆            │\n",
       "╞═════════════╪══════╪══════════════╪════════╪═══╪═══════╪═════════════╪══════════════╪════════════╡\n",
       "│ HCES        ┆ 2024 ┆ 41657        ┆ 1      ┆ … ┆ 01    ┆ 2           ┆ 9            ┆ 126593.0   │\n",
       "│ HCES        ┆ 2024 ┆ 48804        ┆ 1      ┆ … ┆ 01    ┆ 2           ┆ 9            ┆ 109950.0   │\n",
       "│ HCES        ┆ 2024 ┆ 26402        ┆ 2      ┆ … ┆ 01    ┆ 1           ┆              ┆ 25635.0    │\n",
       "└─────────────┴──────┴──────────────┴────────┴───┴───────┴─────────────┴──────────────┴────────────┘"
      ]
     },
     "execution_count": 5,
     "metadata": {},
     "output_type": "execute_result"
    }
   ],
   "source": [
    "pdf.sample(3)"
   ]
  },
  {
   "cell_type": "code",
   "execution_count": 6,
   "id": "86336fbf",
   "metadata": {},
   "outputs": [
    {
     "data": {
      "text/plain": [
       "Schema([('Survey_Name', String),\n",
       "        ('Year', String),\n",
       "        ('FSU_Serial_No', String),\n",
       "        ('Sector', String),\n",
       "        ('State', String),\n",
       "        ('NSS_Region', String),\n",
       "        ('District', String),\n",
       "        ('Stratum', String),\n",
       "        ('Sub_stratum', String),\n",
       "        ('Panel', String),\n",
       "        ('Sub_sample', String),\n",
       "        ('FOD_Sub_Region', String),\n",
       "        ('Sample_SU_No', String),\n",
       "        ('Sample_Sub_Division_No', String),\n",
       "        ('Second_Stage_Stratum_No', String),\n",
       "        ('Sample_Household_No', String),\n",
       "        ('Questionnaire_No', String),\n",
       "        ('Level', String),\n",
       "        ('Survey_Code', String),\n",
       "        ('Reason_for_Substitution_Code', String),\n",
       "        ('Multiplier', Float64)])"
      ]
     },
     "execution_count": 6,
     "metadata": {},
     "output_type": "execute_result"
    }
   ],
   "source": [
    "pdf.collect_schema()"
   ]
  },
  {
   "cell_type": "code",
   "execution_count": 7,
   "id": "3b26282f",
   "metadata": {},
   "outputs": [
    {
     "data": {
      "text/plain": [
       "(1309765, 21)"
      ]
     },
     "execution_count": 7,
     "metadata": {},
     "output_type": "execute_result"
    }
   ],
   "source": [
    "pdf.shape"
   ]
  },
  {
   "cell_type": "code",
   "execution_count": 8,
   "id": "439bb083",
   "metadata": {},
   "outputs": [
    {
     "data": {
      "text/html": [
       "<div><style>\n",
       ".dataframe > thead > tr,\n",
       ".dataframe > tbody > tr {\n",
       "  text-align: right;\n",
       "  white-space: pre-wrap;\n",
       "}\n",
       "</style>\n",
       "<small>shape: (1, 21)</small><table border=\"1\" class=\"dataframe\"><thead><tr><th>Survey_Name</th><th>Year</th><th>FSU_Serial_No</th><th>Sector</th><th>State</th><th>NSS_Region</th><th>District</th><th>Stratum</th><th>Sub_stratum</th><th>Panel</th><th>Sub_sample</th><th>FOD_Sub_Region</th><th>Sample_SU_No</th><th>Sample_Sub_Division_No</th><th>Second_Stage_Stratum_No</th><th>Sample_Household_No</th><th>Questionnaire_No</th><th>Level</th><th>Survey_Code</th><th>Reason_for_Substitution_Code</th><th>Multiplier</th></tr><tr><td>u32</td><td>u32</td><td>u32</td><td>u32</td><td>u32</td><td>u32</td><td>u32</td><td>u32</td><td>u32</td><td>u32</td><td>u32</td><td>u32</td><td>u32</td><td>u32</td><td>u32</td><td>u32</td><td>u32</td><td>u32</td><td>u32</td><td>u32</td><td>u32</td></tr></thead><tbody><tr><td>0</td><td>0</td><td>0</td><td>0</td><td>0</td><td>0</td><td>0</td><td>0</td><td>0</td><td>0</td><td>0</td><td>0</td><td>0</td><td>0</td><td>0</td><td>0</td><td>0</td><td>0</td><td>0</td><td>0</td><td>0</td></tr></tbody></table></div>"
      ],
      "text/plain": [
       "shape: (1, 21)\n",
       "┌─────────────┬──────┬──────────────┬────────┬───┬───────┬─────────────┬──────────────┬────────────┐\n",
       "│ Survey_Name ┆ Year ┆ FSU_Serial_N ┆ Sector ┆ … ┆ Level ┆ Survey_Code ┆ Reason_for_S ┆ Multiplier │\n",
       "│ ---         ┆ ---  ┆ o            ┆ ---    ┆   ┆ ---   ┆ ---         ┆ ubstitution_ ┆ ---        │\n",
       "│ u32         ┆ u32  ┆ ---          ┆ u32    ┆   ┆ u32   ┆ u32         ┆ Code         ┆ u32        │\n",
       "│             ┆      ┆ u32          ┆        ┆   ┆       ┆             ┆ ---          ┆            │\n",
       "│             ┆      ┆              ┆        ┆   ┆       ┆             ┆ u32          ┆            │\n",
       "╞═════════════╪══════╪══════════════╪════════╪═══╪═══════╪═════════════╪══════════════╪════════════╡\n",
       "│ 0           ┆ 0    ┆ 0            ┆ 0      ┆ … ┆ 0     ┆ 0           ┆ 0            ┆ 0          │\n",
       "└─────────────┴──────┴──────────────┴────────┴───┴───────┴─────────────┴──────────────┴────────────┘"
      ]
     },
     "execution_count": 8,
     "metadata": {},
     "output_type": "execute_result"
    }
   ],
   "source": [
    "pdf.null_count()"
   ]
  },
  {
   "cell_type": "code",
   "execution_count": 9,
   "id": "783b47cb",
   "metadata": {},
   "outputs": [
    {
     "data": {
      "text/plain": [
       "1309765"
      ]
     },
     "execution_count": 9,
     "metadata": {},
     "output_type": "execute_result"
    }
   ],
   "source": [
    "pdf.is_duplicated().sum()"
   ]
  },
  {
   "cell_type": "code",
   "execution_count": 10,
   "id": "cd5a99a1",
   "metadata": {},
   "outputs": [
    {
     "data": {
      "text/html": [
       "<div><style>\n",
       ".dataframe > thead > tr,\n",
       ".dataframe > tbody > tr {\n",
       "  text-align: right;\n",
       "  white-space: pre-wrap;\n",
       "}\n",
       "</style>\n",
       "<small>shape: (9, 22)</small><table border=\"1\" class=\"dataframe\"><thead><tr><th>statistic</th><th>Survey_Name</th><th>Year</th><th>FSU_Serial_No</th><th>Sector</th><th>State</th><th>NSS_Region</th><th>District</th><th>Stratum</th><th>Sub_stratum</th><th>Panel</th><th>Sub_sample</th><th>FOD_Sub_Region</th><th>Sample_SU_No</th><th>Sample_Sub_Division_No</th><th>Second_Stage_Stratum_No</th><th>Sample_Household_No</th><th>Questionnaire_No</th><th>Level</th><th>Survey_Code</th><th>Reason_for_Substitution_Code</th><th>Multiplier</th></tr><tr><td>str</td><td>str</td><td>str</td><td>str</td><td>str</td><td>str</td><td>str</td><td>str</td><td>str</td><td>str</td><td>str</td><td>str</td><td>str</td><td>str</td><td>str</td><td>str</td><td>str</td><td>str</td><td>str</td><td>str</td><td>str</td><td>f64</td></tr></thead><tbody><tr><td>&quot;count&quot;</td><td>&quot;1309765&quot;</td><td>&quot;1309765&quot;</td><td>&quot;1309765&quot;</td><td>&quot;1309765&quot;</td><td>&quot;1309765&quot;</td><td>&quot;1309765&quot;</td><td>&quot;1309765&quot;</td><td>&quot;1309765&quot;</td><td>&quot;1309765&quot;</td><td>&quot;1309765&quot;</td><td>&quot;1309765&quot;</td><td>&quot;1309765&quot;</td><td>&quot;1309765&quot;</td><td>&quot;1309765&quot;</td><td>&quot;1309765&quot;</td><td>&quot;1309765&quot;</td><td>&quot;1309765&quot;</td><td>&quot;1309765&quot;</td><td>&quot;1309765&quot;</td><td>&quot;1309765&quot;</td><td>1.309765e6</td></tr><tr><td>&quot;null_count&quot;</td><td>&quot;0&quot;</td><td>&quot;0&quot;</td><td>&quot;0&quot;</td><td>&quot;0&quot;</td><td>&quot;0&quot;</td><td>&quot;0&quot;</td><td>&quot;0&quot;</td><td>&quot;0&quot;</td><td>&quot;0&quot;</td><td>&quot;0&quot;</td><td>&quot;0&quot;</td><td>&quot;0&quot;</td><td>&quot;0&quot;</td><td>&quot;0&quot;</td><td>&quot;0&quot;</td><td>&quot;0&quot;</td><td>&quot;0&quot;</td><td>&quot;0&quot;</td><td>&quot;0&quot;</td><td>&quot;0&quot;</td><td>0.0</td></tr><tr><td>&quot;mean&quot;</td><td>null</td><td>null</td><td>null</td><td>null</td><td>null</td><td>null</td><td>null</td><td>null</td><td>null</td><td>null</td><td>null</td><td>null</td><td>null</td><td>null</td><td>null</td><td>null</td><td>null</td><td>null</td><td>null</td><td>null</td><td>111344.812944</td></tr><tr><td>&quot;std&quot;</td><td>null</td><td>null</td><td>null</td><td>null</td><td>null</td><td>null</td><td>null</td><td>null</td><td>null</td><td>null</td><td>null</td><td>null</td><td>null</td><td>null</td><td>null</td><td>null</td><td>null</td><td>null</td><td>null</td><td>null</td><td>79655.990743</td></tr><tr><td>&quot;min&quot;</td><td>&quot;HCES&quot;</td><td>&quot;2024&quot;</td><td>&quot;22300&quot;</td><td>&quot;1&quot;</td><td>&quot;01&quot;</td><td>&quot;011&quot;</td><td>&quot;01&quot;</td><td>&quot;11&quot;</td><td>&quot;01&quot;</td><td>&quot;1&quot;</td><td>&quot;1&quot;</td><td>&quot;0110&quot;</td><td>&quot;1&quot;</td><td>&quot;&quot;</td><td>&quot;1&quot;</td><td>&quot;01&quot;</td><td>&quot;H&quot;</td><td>&quot;01&quot;</td><td>&quot;1&quot;</td><td>&quot;&quot;</td><td>369.0</td></tr><tr><td>&quot;25%&quot;</td><td>null</td><td>null</td><td>null</td><td>null</td><td>null</td><td>null</td><td>null</td><td>null</td><td>null</td><td>null</td><td>null</td><td>null</td><td>null</td><td>null</td><td>null</td><td>null</td><td>null</td><td>null</td><td>null</td><td>null</td><td>56738.0</td></tr><tr><td>&quot;50%&quot;</td><td>null</td><td>null</td><td>null</td><td>null</td><td>null</td><td>null</td><td>null</td><td>null</td><td>null</td><td>null</td><td>null</td><td>null</td><td>null</td><td>null</td><td>null</td><td>null</td><td>null</td><td>null</td><td>null</td><td>null</td><td>114044.0</td></tr><tr><td>&quot;75%&quot;</td><td>null</td><td>null</td><td>null</td><td>null</td><td>null</td><td>null</td><td>null</td><td>null</td><td>null</td><td>null</td><td>null</td><td>null</td><td>null</td><td>null</td><td>null</td><td>null</td><td>null</td><td>null</td><td>null</td><td>null</td><td>150441.0</td></tr><tr><td>&quot;max&quot;</td><td>&quot;HCES&quot;</td><td>&quot;2024&quot;</td><td>&quot;49999&quot;</td><td>&quot;2&quot;</td><td>&quot;37&quot;</td><td>&quot;371&quot;</td><td>&quot;71&quot;</td><td>&quot;99&quot;</td><td>&quot;48&quot;</td><td>&quot;9&quot;</td><td>&quot;2&quot;</td><td>&quot;3613&quot;</td><td>&quot;9&quot;</td><td>&quot;6&quot;</td><td>&quot;3&quot;</td><td>&quot;18&quot;</td><td>&quot;H&quot;</td><td>&quot;01&quot;</td><td>&quot;2&quot;</td><td>&quot;9&quot;</td><td>2.366902e6</td></tr></tbody></table></div>"
      ],
      "text/plain": [
       "shape: (9, 22)\n",
       "┌────────────┬────────────┬─────────┬────────────┬───┬─────────┬───────────┬───────────┬───────────┐\n",
       "│ statistic  ┆ Survey_Nam ┆ Year    ┆ FSU_Serial ┆ … ┆ Level   ┆ Survey_Co ┆ Reason_fo ┆ Multiplie │\n",
       "│ ---        ┆ e          ┆ ---     ┆ _No        ┆   ┆ ---     ┆ de        ┆ r_Substit ┆ r         │\n",
       "│ str        ┆ ---        ┆ str     ┆ ---        ┆   ┆ str     ┆ ---       ┆ ution_Cod ┆ ---       │\n",
       "│            ┆ str        ┆         ┆ str        ┆   ┆         ┆ str       ┆ e         ┆ f64       │\n",
       "│            ┆            ┆         ┆            ┆   ┆         ┆           ┆ ---       ┆           │\n",
       "│            ┆            ┆         ┆            ┆   ┆         ┆           ┆ str       ┆           │\n",
       "╞════════════╪════════════╪═════════╪════════════╪═══╪═════════╪═══════════╪═══════════╪═══════════╡\n",
       "│ count      ┆ 1309765    ┆ 1309765 ┆ 1309765    ┆ … ┆ 1309765 ┆ 1309765   ┆ 1309765   ┆ 1.309765e │\n",
       "│            ┆            ┆         ┆            ┆   ┆         ┆           ┆           ┆ 6         │\n",
       "│ null_count ┆ 0          ┆ 0       ┆ 0          ┆ … ┆ 0       ┆ 0         ┆ 0         ┆ 0.0       │\n",
       "│ mean       ┆ null       ┆ null    ┆ null       ┆ … ┆ null    ┆ null      ┆ null      ┆ 111344.81 │\n",
       "│            ┆            ┆         ┆            ┆   ┆         ┆           ┆           ┆ 2944      │\n",
       "│ std        ┆ null       ┆ null    ┆ null       ┆ … ┆ null    ┆ null      ┆ null      ┆ 79655.990 │\n",
       "│            ┆            ┆         ┆            ┆   ┆         ┆           ┆           ┆ 743       │\n",
       "│ min        ┆ HCES       ┆ 2024    ┆ 22300      ┆ … ┆ 01      ┆ 1         ┆           ┆ 369.0     │\n",
       "│ 25%        ┆ null       ┆ null    ┆ null       ┆ … ┆ null    ┆ null      ┆ null      ┆ 56738.0   │\n",
       "│ 50%        ┆ null       ┆ null    ┆ null       ┆ … ┆ null    ┆ null      ┆ null      ┆ 114044.0  │\n",
       "│ 75%        ┆ null       ┆ null    ┆ null       ┆ … ┆ null    ┆ null      ┆ null      ┆ 150441.0  │\n",
       "│ max        ┆ HCES       ┆ 2024    ┆ 49999      ┆ … ┆ 01      ┆ 2         ┆ 9         ┆ 2.366902e │\n",
       "│            ┆            ┆         ┆            ┆   ┆         ┆           ┆           ┆ 6         │\n",
       "└────────────┴────────────┴─────────┴────────────┴───┴─────────┴───────────┴───────────┴───────────┘"
      ]
     },
     "execution_count": 10,
     "metadata": {},
     "output_type": "execute_result"
    }
   ],
   "source": [
    "pdf.describe()"
   ]
  },
  {
   "cell_type": "code",
   "execution_count": 11,
   "id": "16ecf115",
   "metadata": {},
   "outputs": [
    {
     "data": {
      "text/html": [
       "<div><style>\n",
       ".dataframe > thead > tr,\n",
       ".dataframe > tbody > tr {\n",
       "  text-align: right;\n",
       "  white-space: pre-wrap;\n",
       "}\n",
       "</style>\n",
       "<small>shape: (4, 2)</small><table border=\"1\" class=\"dataframe\"><thead><tr><th>statistic</th><th>value</th></tr><tr><td>str</td><td>str</td></tr></thead><tbody><tr><td>&quot;count&quot;</td><td>&quot;1309765&quot;</td></tr><tr><td>&quot;null_count&quot;</td><td>&quot;0&quot;</td></tr><tr><td>&quot;min&quot;</td><td>&quot;0110&quot;</td></tr><tr><td>&quot;max&quot;</td><td>&quot;3613&quot;</td></tr></tbody></table></div>"
      ],
      "text/plain": [
       "shape: (4, 2)\n",
       "┌────────────┬─────────┐\n",
       "│ statistic  ┆ value   │\n",
       "│ ---        ┆ ---     │\n",
       "│ str        ┆ str     │\n",
       "╞════════════╪═════════╡\n",
       "│ count      ┆ 1309765 │\n",
       "│ null_count ┆ 0       │\n",
       "│ min        ┆ 0110    │\n",
       "│ max        ┆ 3613    │\n",
       "└────────────┴─────────┘"
      ]
     },
     "execution_count": 11,
     "metadata": {},
     "output_type": "execute_result"
    }
   ],
   "source": [
    "pdf['FOD_Sub_Region'].describe()"
   ]
  },
  {
   "cell_type": "code",
   "execution_count": 12,
   "id": "ae66a6ae",
   "metadata": {},
   "outputs": [
    {
     "data": {
      "text/plain": [
       "14836"
      ]
     },
     "execution_count": 12,
     "metadata": {},
     "output_type": "execute_result"
    }
   ],
   "source": [
    "pdf['FSU_Serial_No'].approx_n_unique()"
   ]
  },
  {
   "cell_type": "code",
   "execution_count": 13,
   "id": "0529d789",
   "metadata": {},
   "outputs": [
    {
     "data": {
      "text/plain": [
       "0"
      ]
     },
     "execution_count": 13,
     "metadata": {},
     "output_type": "execute_result"
    }
   ],
   "source": [
    "pdf['FSU_Serial_No'].is_null().sum()"
   ]
  },
  {
   "cell_type": "code",
   "execution_count": 14,
   "id": "be4dd032",
   "metadata": {},
   "outputs": [
    {
     "data": {
      "text/plain": [
       "False"
      ]
     },
     "execution_count": 14,
     "metadata": {},
     "output_type": "execute_result"
    }
   ],
   "source": [
    "pdf['FSU_Serial_No'].is_empty()"
   ]
  },
  {
   "cell_type": "code",
   "execution_count": 15,
   "id": "270eb4fa",
   "metadata": {},
   "outputs": [],
   "source": [
    "def summary_of_col(col):\n",
    "    print(f\"================= {col} Summary =================\")\n",
    "    \n",
    "    print(f\"Approx Unique count: \", pdf[col].approx_n_unique())\n",
    "    print(f\"Duplicated Rows count: \", pdf[col].is_duplicated().sum())\n",
    "    print(f\"Null count: \", pdf[col].null_count())\n",
    "    print(pdf[col].describe())\n",
    "    print(\"================================================== \\n\\n\\n\")"
   ]
  },
  {
   "cell_type": "code",
   "execution_count": 16,
   "id": "6d45fa81",
   "metadata": {},
   "outputs": [],
   "source": [
    "def summary_of_col(col):\n",
    "    print(f\"================= {col} Summary =================\")\n",
    "    \n",
    "    print(f\"Duplicated Rows count: \", pdf[col].is_duplicated().sum())\n",
    "    print(pdf[col].describe())\n",
    "    display\n",
    "    print(\"================================================== \\n\\n\\n\")"
   ]
  },
  {
   "cell_type": "code",
   "execution_count": 17,
   "id": "a7ebd7a9",
   "metadata": {},
   "outputs": [
    {
     "data": {
      "text/plain": [
       "21"
      ]
     },
     "execution_count": 17,
     "metadata": {},
     "output_type": "execute_result"
    }
   ],
   "source": [
    "len(pdf.columns)"
   ]
  },
  {
   "cell_type": "code",
   "execution_count": 18,
   "id": "b3923fd2",
   "metadata": {},
   "outputs": [
    {
     "name": "stdout",
     "output_type": "stream",
     "text": [
      "================= Survey_Name Summary =================\n",
      "Duplicated Rows count:  1309765\n",
      "shape: (4, 2)\n",
      "┌────────────┬─────────┐\n",
      "│ statistic  ┆ value   │\n",
      "│ ---        ┆ ---     │\n",
      "│ str        ┆ str     │\n",
      "╞════════════╪═════════╡\n",
      "│ count      ┆ 1309765 │\n",
      "│ null_count ┆ 0       │\n",
      "│ min        ┆ HCES    │\n",
      "│ max        ┆ HCES    │\n",
      "└────────────┴─────────┘\n",
      "================================================== \n",
      "\n",
      "\n",
      "\n",
      "================= Year Summary =================\n",
      "Duplicated Rows count:  1309765\n",
      "shape: (4, 2)\n",
      "┌────────────┬─────────┐\n",
      "│ statistic  ┆ value   │\n",
      "│ ---        ┆ ---     │\n",
      "│ str        ┆ str     │\n",
      "╞════════════╪═════════╡\n",
      "│ count      ┆ 1309765 │\n",
      "│ null_count ┆ 0       │\n",
      "│ min        ┆ 2024    │\n",
      "│ max        ┆ 2024    │\n",
      "└────────────┴─────────┘\n",
      "================================================== \n",
      "\n",
      "\n",
      "\n",
      "================= FSU_Serial_No Summary =================\n",
      "Duplicated Rows count:  1309765\n",
      "shape: (4, 2)\n",
      "┌────────────┬─────────┐\n",
      "│ statistic  ┆ value   │\n",
      "│ ---        ┆ ---     │\n",
      "│ str        ┆ str     │\n",
      "╞════════════╪═════════╡\n",
      "│ count      ┆ 1309765 │\n",
      "│ null_count ┆ 0       │\n",
      "│ min        ┆ 22300   │\n",
      "│ max        ┆ 49999   │\n",
      "└────────────┴─────────┘\n",
      "================================================== \n",
      "\n",
      "\n",
      "\n",
      "================= Sector Summary =================\n",
      "Duplicated Rows count:  1309765\n",
      "shape: (4, 2)\n",
      "┌────────────┬─────────┐\n",
      "│ statistic  ┆ value   │\n",
      "│ ---        ┆ ---     │\n",
      "│ str        ┆ str     │\n",
      "╞════════════╪═════════╡\n",
      "│ count      ┆ 1309765 │\n",
      "│ null_count ┆ 0       │\n",
      "│ min        ┆ 1       │\n",
      "│ max        ┆ 2       │\n",
      "└────────────┴─────────┘\n",
      "================================================== \n",
      "\n",
      "\n",
      "\n",
      "================= State Summary =================\n",
      "Duplicated Rows count:  1309765\n",
      "shape: (4, 2)\n",
      "┌────────────┬─────────┐\n",
      "│ statistic  ┆ value   │\n",
      "│ ---        ┆ ---     │\n",
      "│ str        ┆ str     │\n",
      "╞════════════╪═════════╡\n",
      "│ count      ┆ 1309765 │\n",
      "│ null_count ┆ 0       │\n",
      "│ min        ┆ 01      │\n",
      "│ max        ┆ 37      │\n",
      "└────────────┴─────────┘\n",
      "================================================== \n",
      "\n",
      "\n",
      "\n",
      "================= NSS_Region Summary =================\n",
      "Duplicated Rows count:  1309765\n",
      "shape: (4, 2)\n",
      "┌────────────┬─────────┐\n",
      "│ statistic  ┆ value   │\n",
      "│ ---        ┆ ---     │\n",
      "│ str        ┆ str     │\n",
      "╞════════════╪═════════╡\n",
      "│ count      ┆ 1309765 │\n",
      "│ null_count ┆ 0       │\n",
      "│ min        ┆ 011     │\n",
      "│ max        ┆ 371     │\n",
      "└────────────┴─────────┘\n",
      "================================================== \n",
      "\n",
      "\n",
      "\n",
      "================= District Summary =================\n",
      "Duplicated Rows count:  1309765\n",
      "shape: (4, 2)\n",
      "┌────────────┬─────────┐\n",
      "│ statistic  ┆ value   │\n",
      "│ ---        ┆ ---     │\n",
      "│ str        ┆ str     │\n",
      "╞════════════╪═════════╡\n",
      "│ count      ┆ 1309765 │\n",
      "│ null_count ┆ 0       │\n",
      "│ min        ┆ 01      │\n",
      "│ max        ┆ 71      │\n",
      "└────────────┴─────────┘\n",
      "================================================== \n",
      "\n",
      "\n",
      "\n",
      "================= Stratum Summary =================\n",
      "Duplicated Rows count:  1309765\n",
      "shape: (4, 2)\n",
      "┌────────────┬─────────┐\n",
      "│ statistic  ┆ value   │\n",
      "│ ---        ┆ ---     │\n",
      "│ str        ┆ str     │\n",
      "╞════════════╪═════════╡\n",
      "│ count      ┆ 1309765 │\n",
      "│ null_count ┆ 0       │\n",
      "│ min        ┆ 11      │\n",
      "│ max        ┆ 99      │\n",
      "└────────────┴─────────┘\n",
      "================================================== \n",
      "\n",
      "\n",
      "\n",
      "================= Sub_stratum Summary =================\n",
      "Duplicated Rows count:  1309765\n",
      "shape: (4, 2)\n",
      "┌────────────┬─────────┐\n",
      "│ statistic  ┆ value   │\n",
      "│ ---        ┆ ---     │\n",
      "│ str        ┆ str     │\n",
      "╞════════════╪═════════╡\n",
      "│ count      ┆ 1309765 │\n",
      "│ null_count ┆ 0       │\n",
      "│ min        ┆ 01      │\n",
      "│ max        ┆ 48      │\n",
      "└────────────┴─────────┘\n",
      "================================================== \n",
      "\n",
      "\n",
      "\n",
      "================= Panel Summary =================\n",
      "Duplicated Rows count:  1309765\n",
      "shape: (4, 2)\n",
      "┌────────────┬─────────┐\n",
      "│ statistic  ┆ value   │\n",
      "│ ---        ┆ ---     │\n",
      "│ str        ┆ str     │\n",
      "╞════════════╪═════════╡\n",
      "│ count      ┆ 1309765 │\n",
      "│ null_count ┆ 0       │\n",
      "│ min        ┆ 1       │\n",
      "│ max        ┆ 9       │\n",
      "└────────────┴─────────┘\n",
      "================================================== \n",
      "\n",
      "\n",
      "\n",
      "================= Sub_sample Summary =================\n",
      "Duplicated Rows count:  1309765\n",
      "shape: (4, 2)\n",
      "┌────────────┬─────────┐\n",
      "│ statistic  ┆ value   │\n",
      "│ ---        ┆ ---     │\n",
      "│ str        ┆ str     │\n",
      "╞════════════╪═════════╡\n",
      "│ count      ┆ 1309765 │\n",
      "│ null_count ┆ 0       │\n",
      "│ min        ┆ 1       │\n",
      "│ max        ┆ 2       │\n",
      "└────────────┴─────────┘\n",
      "================================================== \n",
      "\n",
      "\n",
      "\n",
      "================= FOD_Sub_Region Summary =================\n",
      "Duplicated Rows count:  1309765\n",
      "shape: (4, 2)\n",
      "┌────────────┬─────────┐\n",
      "│ statistic  ┆ value   │\n",
      "│ ---        ┆ ---     │\n",
      "│ str        ┆ str     │\n",
      "╞════════════╪═════════╡\n",
      "│ count      ┆ 1309765 │\n",
      "│ null_count ┆ 0       │\n",
      "│ min        ┆ 0110    │\n",
      "│ max        ┆ 3613    │\n",
      "└────────────┴─────────┘\n",
      "================================================== \n",
      "\n",
      "\n",
      "\n",
      "================= Sample_SU_No Summary =================\n",
      "Duplicated Rows count:  1309765\n",
      "shape: (4, 2)\n",
      "┌────────────┬─────────┐\n",
      "│ statistic  ┆ value   │\n",
      "│ ---        ┆ ---     │\n",
      "│ str        ┆ str     │\n",
      "╞════════════╪═════════╡\n",
      "│ count      ┆ 1309765 │\n",
      "│ null_count ┆ 0       │\n",
      "│ min        ┆ 1       │\n",
      "│ max        ┆ 9       │\n",
      "└────────────┴─────────┘\n",
      "================================================== \n",
      "\n",
      "\n",
      "\n",
      "================= Sample_Sub_Division_No Summary =================\n",
      "Duplicated Rows count:  1309765\n",
      "shape: (4, 2)\n",
      "┌────────────┬─────────┐\n",
      "│ statistic  ┆ value   │\n",
      "│ ---        ┆ ---     │\n",
      "│ str        ┆ str     │\n",
      "╞════════════╪═════════╡\n",
      "│ count      ┆ 1309765 │\n",
      "│ null_count ┆ 0       │\n",
      "│ min        ┆         │\n",
      "│ max        ┆ 6       │\n",
      "└────────────┴─────────┘\n",
      "================================================== \n",
      "\n",
      "\n",
      "\n",
      "================= Second_Stage_Stratum_No Summary =================\n",
      "Duplicated Rows count:  1309765\n",
      "shape: (4, 2)\n",
      "┌────────────┬─────────┐\n",
      "│ statistic  ┆ value   │\n",
      "│ ---        ┆ ---     │\n",
      "│ str        ┆ str     │\n",
      "╞════════════╪═════════╡\n",
      "│ count      ┆ 1309765 │\n",
      "│ null_count ┆ 0       │\n",
      "│ min        ┆ 1       │\n",
      "│ max        ┆ 3       │\n",
      "└────────────┴─────────┘\n",
      "================================================== \n",
      "\n",
      "\n",
      "\n",
      "================= Sample_Household_No Summary =================\n",
      "Duplicated Rows count:  1309765\n",
      "shape: (4, 2)\n",
      "┌────────────┬─────────┐\n",
      "│ statistic  ┆ value   │\n",
      "│ ---        ┆ ---     │\n",
      "│ str        ┆ str     │\n",
      "╞════════════╪═════════╡\n",
      "│ count      ┆ 1309765 │\n",
      "│ null_count ┆ 0       │\n",
      "│ min        ┆ 01      │\n",
      "│ max        ┆ 18      │\n",
      "└────────────┴─────────┘\n",
      "================================================== \n",
      "\n",
      "\n",
      "\n",
      "================= Questionnaire_No Summary =================\n",
      "Duplicated Rows count:  1309765\n",
      "shape: (4, 2)\n",
      "┌────────────┬─────────┐\n",
      "│ statistic  ┆ value   │\n",
      "│ ---        ┆ ---     │\n",
      "│ str        ┆ str     │\n",
      "╞════════════╪═════════╡\n",
      "│ count      ┆ 1309765 │\n",
      "│ null_count ┆ 0       │\n",
      "│ min        ┆ H       │\n",
      "│ max        ┆ H       │\n",
      "└────────────┴─────────┘\n",
      "================================================== \n",
      "\n",
      "\n",
      "\n",
      "================= Level Summary =================\n",
      "Duplicated Rows count:  1309765\n",
      "shape: (4, 2)\n",
      "┌────────────┬─────────┐\n",
      "│ statistic  ┆ value   │\n",
      "│ ---        ┆ ---     │\n",
      "│ str        ┆ str     │\n",
      "╞════════════╪═════════╡\n",
      "│ count      ┆ 1309765 │\n",
      "│ null_count ┆ 0       │\n",
      "│ min        ┆ 01      │\n",
      "│ max        ┆ 01      │\n",
      "└────────────┴─────────┘\n",
      "================================================== \n",
      "\n",
      "\n",
      "\n",
      "================= Survey_Code Summary =================\n",
      "Duplicated Rows count:  1309765\n",
      "shape: (4, 2)\n",
      "┌────────────┬─────────┐\n",
      "│ statistic  ┆ value   │\n",
      "│ ---        ┆ ---     │\n",
      "│ str        ┆ str     │\n",
      "╞════════════╪═════════╡\n",
      "│ count      ┆ 1309765 │\n",
      "│ null_count ┆ 0       │\n",
      "│ min        ┆ 1       │\n",
      "│ max        ┆ 2       │\n",
      "└────────────┴─────────┘\n",
      "================================================== \n",
      "\n",
      "\n",
      "\n",
      "================= Reason_for_Substitution_Code Summary =================\n",
      "Duplicated Rows count:  1309765\n",
      "shape: (4, 2)\n",
      "┌────────────┬─────────┐\n",
      "│ statistic  ┆ value   │\n",
      "│ ---        ┆ ---     │\n",
      "│ str        ┆ str     │\n",
      "╞════════════╪═════════╡\n",
      "│ count      ┆ 1309765 │\n",
      "│ null_count ┆ 0       │\n",
      "│ min        ┆         │\n",
      "│ max        ┆ 9       │\n",
      "└────────────┴─────────┘\n",
      "================================================== \n",
      "\n",
      "\n",
      "\n",
      "================= Multiplier Summary =================\n",
      "Duplicated Rows count:  1309765\n",
      "shape: (9, 2)\n",
      "┌────────────┬───────────────┐\n",
      "│ statistic  ┆ value         │\n",
      "│ ---        ┆ ---           │\n",
      "│ str        ┆ f64           │\n",
      "╞════════════╪═══════════════╡\n",
      "│ count      ┆ 1.309765e6    │\n",
      "│ null_count ┆ 0.0           │\n",
      "│ mean       ┆ 111344.812944 │\n",
      "│ std        ┆ 79655.990743  │\n",
      "│ min        ┆ 369.0         │\n",
      "│ 25%        ┆ 56738.0       │\n",
      "│ 50%        ┆ 114044.0      │\n",
      "│ 75%        ┆ 150441.0      │\n",
      "│ max        ┆ 2.366902e6    │\n",
      "└────────────┴───────────────┘\n",
      "================================================== \n",
      "\n",
      "\n",
      "\n"
     ]
    }
   ],
   "source": [
    "for col in pdf.columns:\n",
    "    summary_of_col(col)"
   ]
  },
  {
   "cell_type": "code",
   "execution_count": null,
   "id": "07eb9059",
   "metadata": {},
   "outputs": [],
   "source": []
  },
  {
   "cell_type": "code",
   "execution_count": 19,
   "id": "61ab4e07",
   "metadata": {},
   "outputs": [
    {
     "ename": "AttributeError",
     "evalue": "'OutStream' object has no attribute 'reconfigure'",
     "output_type": "error",
     "traceback": [
      "\u001b[31m---------------------------------------------------------------------------\u001b[39m",
      "\u001b[31mAttributeError\u001b[39m                            Traceback (most recent call last)",
      "\u001b[36mCell\u001b[39m\u001b[36m \u001b[39m\u001b[32mIn[19]\u001b[39m\u001b[32m, line 10\u001b[39m\n\u001b[32m      5\u001b[39m \u001b[38;5;28;01mfrom\u001b[39;00m\u001b[38;5;250m \u001b[39m\u001b[34;01mdatetime\u001b[39;00m\u001b[38;5;250m \u001b[39m\u001b[38;5;28;01mimport\u001b[39;00m datetime\n\u001b[32m      7\u001b[39m warnings.filterwarnings(\u001b[33m\"\u001b[39m\u001b[33mignore\u001b[39m\u001b[33m\"\u001b[39m)\n\u001b[32m---> \u001b[39m\u001b[32m10\u001b[39m \u001b[43msys\u001b[49m\u001b[43m.\u001b[49m\u001b[43mstdout\u001b[49m\u001b[43m.\u001b[49m\u001b[43mreconfigure\u001b[49m(encoding=\u001b[33m\"\u001b[39m\u001b[33mutf-8\u001b[39m\u001b[33m\"\u001b[39m)\n\u001b[32m     11\u001b[39m timestamp = datetime.now().strftime(\u001b[33m\"\u001b[39m\u001b[33m%\u001b[39m\u001b[33mY-\u001b[39m\u001b[33m%\u001b[39m\u001b[33mm-\u001b[39m\u001b[38;5;132;01m%d\u001b[39;00m\u001b[33m_\u001b[39m\u001b[33m%\u001b[39m\u001b[33mH-\u001b[39m\u001b[33m%\u001b[39m\u001b[33mM-\u001b[39m\u001b[33m%\u001b[39m\u001b[33mS\u001b[39m\u001b[33m\"\u001b[39m)\n\u001b[32m     12\u001b[39m log_filename = \u001b[33mf\u001b[39m\u001b[33m\"\u001b[39m\u001b[33mlogs/output_\u001b[39m\u001b[38;5;132;01m{\u001b[39;00mtimestamp\u001b[38;5;132;01m}\u001b[39;00m\u001b[33m.log\u001b[39m\u001b[33m\"\u001b[39m\n",
      "\u001b[31mAttributeError\u001b[39m: 'OutStream' object has no attribute 'reconfigure'"
     ]
    }
   ],
   "source": [
    "from loguru import logger\n",
    "import sys\n",
    "import polars as pl\n",
    "import warnings\n",
    "from datetime import datetime\n",
    "\n",
    "warnings.filterwarnings(\"ignore\")\n",
    "\n",
    "\n",
    "sys.stdout.reconfigure(encoding=\"utf-8\")\n",
    "timestamp = datetime.now().strftime(\"%Y-%m-%d_%H-%M-%S\")\n",
    "log_filename = f\"logs/output_{timestamp}.log\"\n",
    "logger.remove()\n",
    "logger.add(sys.stdout, colorize=True,\n",
    "           format=\"<blue>{time:YYYY-MM-DD HH:mm:ss}</blue> | \"\n",
    "                  \"<level>{level: <8}</level> | \"\n",
    "                  \"<cyan>{message}</cyan>\")\n",
    "\n",
    "\n",
    "logger.add(log_filename, encoding=\"utf-8\", level=\"INFO\",\n",
    "           format=\"{time:YYYY-MM-DD HH:mm:ss} | {level: <8} | {message}\")\n",
    "\n",
    "logger.info(f\"📄 Logging started — saving to {log_filename}\")\n",
    "\n",
    "# --- Example data ---\n",
    "lev_1_parquet_path = r\"C:\\Users\\Rudra\\Desktop\\rural-financial-inclusion-govt-scheme-recommendation\\parquet-data\\lev-01\\data\\lev-01_merged.parquet\"\n",
    "pdf = pl.read_parquet(lev_1_parquet_path)\n",
    "logger.info(f\"Loaded file: {lev_1_parquet_path}\")\n",
    "logger.info(f\"File size: {pdf.estimated_size(unit='mb')} MB\")\n",
    "\n",
    "# --- Column summary function ---\n",
    "def summary_of_col(col):\n",
    "    logger.info(f\"=== {col} Summary ===\")\n",
    "    try:\n",
    "        dup_count = pdf[col].is_duplicated().sum()\n",
    "        desc = pdf[col].describe()\n",
    "        logger.info(f\"Duplicates: {dup_count}\")\n",
    "        # Convert Polars table to string safely\n",
    "        logger.info(\"\\n\" + desc.__str__())\n",
    "    except Exception as e:\n",
    "        logger.error(f\"Error processing {col}: {e}\")\n",
    "    logger.info(\"=\" * 40)\n",
    "\n",
    "# --- Process all columns ---\n",
    "for i, col in enumerate(pdf.columns, start=1):\n",
    "    logger.info(f\"[{i}/{len(pdf.columns)}] Processing {col}\")\n",
    "    summary_of_col(col)\n",
    "\n",
    "logger.success(\"✅ All summaries completed!\")"
   ]
  }
 ],
 "metadata": {
  "kernelspec": {
   "display_name": "Python 3",
   "language": "python",
   "name": "python3"
  },
  "language_info": {
   "codemirror_mode": {
    "name": "ipython",
    "version": 3
   },
   "file_extension": ".py",
   "mimetype": "text/x-python",
   "name": "python",
   "nbconvert_exporter": "python",
   "pygments_lexer": "ipython3",
   "version": "3.11.9"
  }
 },
 "nbformat": 4,
 "nbformat_minor": 5
}
