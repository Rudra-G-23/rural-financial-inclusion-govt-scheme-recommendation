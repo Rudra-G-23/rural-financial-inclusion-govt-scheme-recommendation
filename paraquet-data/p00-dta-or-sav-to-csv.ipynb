{
 "cells": [
  {
   "cell_type": "code",
   "execution_count": null,
   "id": "bebb8c90",
   "metadata": {},
   "outputs": [],
   "source": [
    "\"\"\" \n",
    "Goal: In this notebook we convert the dta & sav file format to csv \n",
    "\n",
    "Author: Rudra Prasad Bhuyan\n",
    "Starting Time: 24-102025 08:19 IST\n",
    "\"\"\"\n",
    "print(\"\")"
   ]
  },
  {
   "cell_type": "code",
   "execution_count": 5,
   "id": "bcfe0b00",
   "metadata": {},
   "outputs": [],
   "source": [
    "!pip install pyreadstat -q"
   ]
  },
  {
   "cell_type": "code",
   "execution_count": 1,
   "id": "bc50afd9",
   "metadata": {},
   "outputs": [],
   "source": [
    "import pandas as pd\n",
    "import pyreadstat"
   ]
  },
  {
   "cell_type": "code",
   "execution_count": 16,
   "id": "0e7e8bd8",
   "metadata": {},
   "outputs": [],
   "source": [
    "#  Import form the local path\n",
    "\n",
    "lev_01_path  = \"raw-data\\LEVEL - 01(Section 1 and 1.1).sav\"\n",
    "lev_02_path  = \"raw-data\\LEVEL - 02 (Section 3).sav\"\n",
    "lev_03_path  = \"raw-data\\LEVEL - 03.sav\"\n",
    "lev_04_path  = \"raw-data/LEVEL - 04 (Section 4.1).sav\"\n",
    "lev_05_path  = \"raw-data\\LEVEL - 05 ( Sec 5 & 6).dta\"\n",
    "lev_06_path  = \"raw-data\\LEVEL - 06 (Section 7).dta\"\n",
    "lev_07_path  = \"raw-data\\LEVEL - 07 (Section 4.dta\"\n",
    "lev_08_path  = \"raw-data\\LEVEL - 08 (Section 8.dta\"\n",
    "lev_09_path  = \"raw-data\\LEVEL - 09 (Section 9 & 10 & 11).dta\"\n",
    "lev_10_path  = \"raw-data\\LEVEL - 10 (Section 12).dta\"\n",
    "lev_11_path  = \"raw-data\\LEVEL - 11 (Section 4.dta\"\n",
    "lev_12_path  = \"raw-data\\LEVEL - 12 (Section 13).dta\"\n",
    "lev_13_path  = \"raw-data\\Level - 13 (Section 14).dta\"\n",
    "lev_14_path  = \"raw-data\\LEVEL - 14 (Section  A1,B1 & C1).dta\"\n",
    "lev_15_path  = \"raw-data\\LEVEL - 15 (Section 1.dta\""
   ]
  },
  {
   "cell_type": "code",
   "execution_count": 19,
   "id": "a9384056",
   "metadata": {},
   "outputs": [
    {
     "ename": "PyreadstatError",
     "evalue": "File lev_01_path does not exist!",
     "output_type": "error",
     "traceback": [
      "\u001b[31m---------------------------------------------------------------------------\u001b[39m",
      "\u001b[31mPyreadstatError\u001b[39m                           Traceback (most recent call last)",
      "\u001b[36mCell\u001b[39m\u001b[36m \u001b[39m\u001b[32mIn[19]\u001b[39m\u001b[32m, line 4\u001b[39m\n\u001b[32m      3\u001b[39m \u001b[38;5;28;01mtry\u001b[39;00m:\n\u001b[32m----> \u001b[39m\u001b[32m4\u001b[39m     df, meta = \u001b[43mpyreadstat\u001b[49m\u001b[43m.\u001b[49m\u001b[43mread_sav\u001b[49m\u001b[43m(\u001b[49m\u001b[33;43mf\u001b[39;49m\u001b[33;43m\"\u001b[39;49m\u001b[33;43mlev_\u001b[39;49m\u001b[38;5;132;43;01m{\u001b[39;49;00m\u001b[43mi\u001b[49m\u001b[38;5;132;43;01m:\u001b[39;49;00m\u001b[33;43m02d\u001b[39;49m\u001b[38;5;132;43;01m}\u001b[39;49;00m\u001b[33;43m_path\u001b[39;49m\u001b[33;43m\"\u001b[39;49m\u001b[43m)\u001b[49m\n\u001b[32m      5\u001b[39m     df.to_csv(\u001b[33mf\u001b[39m\u001b[33m\"\u001b[39m\u001b[33mlev_\u001b[39m\u001b[38;5;132;01m{\u001b[39;00ml\u001b[38;5;132;01m}\u001b[39;00m\u001b[33m\"\u001b[39m, index=\u001b[38;5;28;01mFalse\u001b[39;00m, encoding=\u001b[33m'\u001b[39m\u001b[33mutf-8\u001b[39m\u001b[33m'\u001b[39m)\n",
      "\u001b[36mFile \u001b[39m\u001b[32mpyreadstat/pyreadstat.pyx:391\u001b[39m, in \u001b[36mpyreadstat.pyreadstat.read_sav\u001b[39m\u001b[34m()\u001b[39m\n",
      "\u001b[36mFile \u001b[39m\u001b[32mpyreadstat/_readstat_parser.pyx:1195\u001b[39m, in \u001b[36mpyreadstat._readstat_parser.run_conversion\u001b[39m\u001b[34m()\u001b[39m\n",
      "\u001b[31mPyreadstatError\u001b[39m: File lev_01_path does not exist!",
      "\nDuring handling of the above exception, another exception occurred:\n",
      "\u001b[31mPyreadstatError\u001b[39m                           Traceback (most recent call last)",
      "\u001b[36mCell\u001b[39m\u001b[36m \u001b[39m\u001b[32mIn[19]\u001b[39m\u001b[32m, line 8\u001b[39m\n\u001b[32m      6\u001b[39m     \u001b[38;5;28mprint\u001b[39m(\u001b[33mf\u001b[39m\u001b[33m\"\u001b[39m\u001b[33m✅ Conversion complete! CSV saved: lev_\u001b[39m\u001b[38;5;132;01m{\u001b[39;00mi\u001b[38;5;132;01m}\u001b[39;00m\u001b[33m.csv\u001b[39m\u001b[33m\"\u001b[39m)\n\u001b[32m      7\u001b[39m \u001b[38;5;28;01mexcept\u001b[39;00m:\n\u001b[32m----> \u001b[39m\u001b[32m8\u001b[39m     df, meta = \u001b[43mpyreadstat\u001b[49m\u001b[43m.\u001b[49m\u001b[43mread_dta\u001b[49m\u001b[43m(\u001b[49m\u001b[33;43mf\u001b[39;49m\u001b[33;43m\"\u001b[39;49m\u001b[33;43mlev_\u001b[39;49m\u001b[38;5;132;43;01m{\u001b[39;49;00m\u001b[43mi\u001b[49m\u001b[38;5;132;43;01m:\u001b[39;49;00m\u001b[33;43m02d\u001b[39;49m\u001b[38;5;132;43;01m}\u001b[39;49;00m\u001b[33;43m_path\u001b[39;49m\u001b[33;43m\"\u001b[39;49m\u001b[43m)\u001b[49m\n\u001b[32m      9\u001b[39m     df.to_csv(\u001b[33mf\u001b[39m\u001b[33m\"\u001b[39m\u001b[33mlev_\u001b[39m\u001b[38;5;132;01m{\u001b[39;00ml\u001b[38;5;132;01m}\u001b[39;00m\u001b[33m\"\u001b[39m, index=\u001b[38;5;28;01mFalse\u001b[39;00m, encoding=\u001b[33m'\u001b[39m\u001b[33mutf-8\u001b[39m\u001b[33m'\u001b[39m)\n\u001b[32m     10\u001b[39m     \u001b[38;5;28mprint\u001b[39m(\u001b[33mf\u001b[39m\u001b[33m\"\u001b[39m\u001b[33m✅ Conversion complete! CSV saved: lev_\u001b[39m\u001b[38;5;132;01m{\u001b[39;00mi\u001b[38;5;132;01m}\u001b[39;00m\u001b[33m.csv\u001b[39m\u001b[33m\"\u001b[39m)\n",
      "\u001b[36mFile \u001b[39m\u001b[32mpyreadstat/pyreadstat.pyx:296\u001b[39m, in \u001b[36mpyreadstat.pyreadstat.read_dta\u001b[39m\u001b[34m()\u001b[39m\n",
      "\u001b[36mFile \u001b[39m\u001b[32mpyreadstat/_readstat_parser.pyx:1195\u001b[39m, in \u001b[36mpyreadstat._readstat_parser.run_conversion\u001b[39m\u001b[34m()\u001b[39m\n",
      "\u001b[31mPyreadstatError\u001b[39m: File lev_01_path does not exist!"
     ]
    }
   ],
   "source": [
    "for i in range(1, 16):\n",
    "    if i < 10:\n",
    "        try:\n",
    "            df, meta = pyreadstat.read_sav(f\"lev_{i:02d}_path\")\n",
    "            df.to_csv(f\"lev_{l}\", index=False, encoding='utf-8')\n",
    "            print(f\"✅ Conversion complete! CSV saved: lev_{i}.csv\")\n",
    "        except:\n",
    "            df, meta = pyreadstat.read_dta(f\"lev_{i:02d}_path\")\n",
    "            df.to_csv(f\"lev_{l}\", index=False, encoding='utf-8')\n",
    "            print(f\"✅ Conversion complete! CSV saved: lev_{i}.csv\")\n",
    "    else:\n",
    "        try:\n",
    "            df, meta = pyreadstat.read_sav(f\"lev_{i:02d}_path\")\n",
    "            df.to_csv(f\"lev_{l}\", index=False, encoding='utf-8')\n",
    "            print(f\"✅ Conversion complete! CSV saved: lev_{i}.csv\")\n",
    "        except:\n",
    "            df, meta = pyreadstat.read_dta(f\"lev_{i:02d}_path\")\n",
    "            df.to_csv(f\"lev_{l}\", index=False, encoding='utf-8')\n",
    "            print(f\"✅ Conversion complete! CSV saved: lev_{i}.csv\")   \n"
   ]
  },
  {
   "cell_type": "code",
   "execution_count": 29,
   "id": "127cef7f",
   "metadata": {},
   "outputs": [],
   "source": [
    "lev_01_path  = r\"C:\\Users\\Rudra\\Desktop\\rural-financial-inclusion-govt-scheme-recommendation\\raw-data\\LEVEL - 01(Section 1 and 1.1).sav\"\n",
    "csv_file_path = \"level-01.csv\"  # replace with desired .csv file path\n",
    "\n",
    "df, meta = pyreadstat.read_sav(lev_01_path)\n",
    "df.to_csv(csv_file_path, index=False, encoding='utf-8')"
   ]
  },
  {
   "cell_type": "code",
   "execution_count": null,
   "id": "718f8d02",
   "metadata": {},
   "outputs": [
    {
     "name": "stdout",
     "output_type": "stream",
     "text": [
      "['__class__', '__delattr__', '__dict__', '__dir__', '__doc__', '__eq__', '__format__', '__ge__', '__getattribute__', '__getstate__', '__gt__', '__hash__', '__init__', '__init_subclass__', '__le__', '__lt__', '__module__', '__ne__', '__new__', '__reduce__', '__reduce_ex__', '__repr__', '__setattr__', '__sizeof__', '__str__', '__subclasshook__', '__weakref__', 'column_labels', 'column_names', 'column_names_to_labels', 'creation_time', 'file_encoding', 'file_format', 'file_label', 'missing_ranges', 'missing_user_values', 'modification_time', 'mr_sets', 'notes', 'number_columns', 'number_rows', 'original_variable_types', 'readstat_variable_types', 'table_name', 'value_labels', 'variable_alignment', 'variable_display_width', 'variable_measure', 'variable_storage_width', 'variable_to_label', 'variable_value_labels']\n"
     ]
    }
   ],
   "source": [
    "print(dir(meta))"
   ]
  },
  {
   "cell_type": "code",
   "execution_count": null,
   "id": "a7fe660b",
   "metadata": {},
   "outputs": [],
   "source": [
    "\"creation_time\" = meta.creation_time,\n",
    "\"modification_time\": meta.modification_time"
   ]
  },
  {
   "cell_type": "code",
   "execution_count": null,
   "id": "fcb6c603",
   "metadata": {},
   "outputs": [
    {
     "data": {
      "text/plain": [
       "['__class__',\n",
       " '__delattr__',\n",
       " '__dict__',\n",
       " '__dir__',\n",
       " '__doc__',\n",
       " '__eq__',\n",
       " '__format__',\n",
       " '__ge__',\n",
       " '__getattribute__',\n",
       " '__getstate__',\n",
       " '__gt__',\n",
       " '__hash__',\n",
       " '__init__',\n",
       " '__init_subclass__',\n",
       " '__le__',\n",
       " '__lt__',\n",
       " '__module__',\n",
       " '__ne__',\n",
       " '__new__',\n",
       " '__reduce__',\n",
       " '__reduce_ex__',\n",
       " '__repr__',\n",
       " '__setattr__',\n",
       " '__sizeof__',\n",
       " '__str__',\n",
       " '__subclasshook__',\n",
       " '__weakref__',\n",
       " 'column_labels',\n",
       " 'column_names',\n",
       " 'column_names_to_labels',\n",
       " 'creation_time',\n",
       " 'file_encoding',\n",
       " 'file_format',\n",
       " 'file_label',\n",
       " 'missing_ranges',\n",
       " 'missing_user_values',\n",
       " 'modification_time',\n",
       " 'mr_sets',\n",
       " 'notes',\n",
       " 'number_columns',\n",
       " 'number_rows',\n",
       " 'original_variable_types',\n",
       " 'readstat_variable_types',\n",
       " 'table_name',\n",
       " 'value_labels',\n",
       " 'variable_alignment',\n",
       " 'variable_display_width',\n",
       " 'variable_measure',\n",
       " 'variable_storage_width',\n",
       " 'variable_to_label',\n",
       " 'variable_value_labels']"
      ]
     },
     "execution_count": 31,
     "metadata": {},
     "output_type": "execute_result"
    }
   ],
   "source": [
    "['__class__', '__delattr__', '__dict__', '__dir__', '__doc__', '__eq__', '__format__', '__ge__', \n",
    " '__getattribute__', '__getstate__', '__gt__', '__hash__', '__init__', '__init_subclass__', \n",
    " '__le__', '__lt__', '__module__', '__ne__', '__new__', '__reduce__', '__reduce_ex__', \n",
    " '__repr__', '__setattr__', '__sizeof__', '__str__', '__subclasshook__',\n",
    " '__weakref__', \n",
    " 'column_labels', 'column_names', \n",
    " 'column_names_to_labels', 'creation_time',\n",
    " 'file_encoding',\n",
    " 'file_format', 'file_label', 'missing_ranges',\n",
    " 'missing_user_values', 'modification_time',\n",
    " 'mr_sets', 'notes', 'number_columns', 'number_rows', 'original_variable_types',\n",
    " 'readstat_variable_types', 'table_name', 'value_labels', 'variable_alignment', \n",
    " 'variable_display_width', 'variable_measure', 'variable_storage_width', 'variable_to_label', 'variable_value_labels']"
   ]
  },
  {
   "cell_type": "code",
   "execution_count": null,
   "id": "bcb0896c",
   "metadata": {},
   "outputs": [],
   "source": [
    "metadata = {\n",
    "    \"rows\": meta.number_rows,\n",
    "    \"columns\": meta.number_columns,\n",
    "    \"missing_ranges\": meta.missing_ranges,\n",
    "    \"missing_user_values\": meta.missing_user_values,\n",
    "    \"notes\": meta.notes,\n",
    "    \"original_variables_type\": meta.original_variable_types,\n",
    "    \"readstat_variable_types\": meta.readstat_variable_types,\n",
    "    \"table_name\": meta.table_name,\n",
    "    \"value_labels\": meta.value_labels,\n",
    "    \"Variable_labels\": meta.column_labels,\n",
    "    \"Value_labels\":  meta.value_labels\n",
    "}"
   ]
  },
  {
   "cell_type": "code",
   "execution_count": 4,
   "id": "041aa6d3",
   "metadata": {},
   "outputs": [],
   "source": [
    "df = pd.read_parquet(r\"C:\\Users\\Rudra\\Desktop\\rural-financial-inclusion-govt-scheme-recommendation\\lev_01.parquet\")"
   ]
  },
  {
   "cell_type": "code",
   "execution_count": 8,
   "id": "d1dab083",
   "metadata": {},
   "outputs": [
    {
     "data": {
      "text/plain": [
       "(261953, 21)"
      ]
     },
     "execution_count": 8,
     "metadata": {},
     "output_type": "execute_result"
    }
   ],
   "source": [
    "df.shape"
   ]
  },
  {
   "cell_type": "code",
   "execution_count": 9,
   "id": "d830f237",
   "metadata": {},
   "outputs": [
    {
     "data": {
      "text/plain": [
       "261953"
      ]
     },
     "execution_count": 9,
     "metadata": {},
     "output_type": "execute_result"
    }
   ],
   "source": [
    "df.shape[0]"
   ]
  },
  {
   "cell_type": "code",
   "execution_count": null,
   "id": "9ead84b4",
   "metadata": {},
   "outputs": [],
   "source": []
  }
 ],
 "metadata": {
  "kernelspec": {
   "display_name": "Python 3",
   "language": "python",
   "name": "python3"
  },
  "language_info": {
   "codemirror_mode": {
    "name": "ipython",
    "version": 3
   },
   "file_extension": ".py",
   "mimetype": "text/x-python",
   "name": "python",
   "nbconvert_exporter": "python",
   "pygments_lexer": "ipython3",
   "version": "3.11.9"
  }
 },
 "nbformat": 4,
 "nbformat_minor": 5
}
