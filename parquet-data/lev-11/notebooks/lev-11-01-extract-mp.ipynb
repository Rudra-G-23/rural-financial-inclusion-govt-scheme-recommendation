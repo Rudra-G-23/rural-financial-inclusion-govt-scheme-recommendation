{
 "cells": [
  {
   "cell_type": "markdown",
   "id": "50ff01d7",
   "metadata": {},
   "source": [
    "# Goal: Extract MP state data from this table"
   ]
  },
  {
   "cell_type": "code",
   "execution_count": 15,
   "id": "69513632",
   "metadata": {},
   "outputs": [
    {
     "data": {
      "text/plain": [
       "' \\nGoal: Extract MP state data from this table\\nAuthor: Rudra Prasad Bhuyan\\n'"
      ]
     },
     "execution_count": 15,
     "metadata": {},
     "output_type": "execute_result"
    }
   ],
   "source": [
    "\"\"\" \n",
    "Goal: Extract MP state data from this table\n",
    "Author: Rudra Prasad Bhuyan\n",
    "\"\"\""
   ]
  },
  {
   "cell_type": "code",
   "execution_count": 16,
   "id": "b9e33eef",
   "metadata": {},
   "outputs": [],
   "source": [
    "import numpy as np\n",
    "import pandas as pd\n",
    "import polars as pl\n",
    "import matplotlib.pyplot as plt\n",
    "import seaborn as sns\n",
    "import plotly.express as px\n",
    "import plotly.offline as po\n",
    "\n",
    "import warnings\n",
    "warnings.filterwarnings('ignore')"
   ]
  },
  {
   "cell_type": "code",
   "execution_count": 17,
   "id": "4d29e02f",
   "metadata": {},
   "outputs": [],
   "source": [
    "path = r\"C:\\Users\\Rudra\\Desktop\\rural-financial-inclusion-govt-scheme-recommendation\\parquet-data\\lev-11\\data\\lev-11_merged.parquet\"\n",
    "\n",
    "#df = pd.read_parquet(path)\n",
    "pdf = pl.read_parquet(path)"
   ]
  },
  {
   "cell_type": "code",
   "execution_count": 18,
   "id": "1d039ba9",
   "metadata": {},
   "outputs": [
    {
     "data": {
      "text/plain": [
       "Schema([('Survey_Name', String),\n",
       "        ('Year', String),\n",
       "        ('FSU_Serial_No', String),\n",
       "        ('Sector', String),\n",
       "        ('State', String),\n",
       "        ('NSS_Region', String),\n",
       "        ('District', String),\n",
       "        ('Stratum', String),\n",
       "        ('Sub_stratum', String),\n",
       "        ('Panel', String),\n",
       "        ('Sub_sample', String),\n",
       "        ('FOD_Sub_Region', String),\n",
       "        ('Sample_SU_No', String),\n",
       "        ('Sample_Sub_Division_No', String),\n",
       "        ('Second_Stage_Stratum_No', String),\n",
       "        ('Sample_Household_No', String),\n",
       "        ('questionnaire_No', String),\n",
       "        ('Level', String),\n",
       "        ('Online_Clothing', String),\n",
       "        ('Online_Footwear', String),\n",
       "        ('Online_Furniture', String),\n",
       "        ('Online_Mobile', String),\n",
       "        ('Online_PersonalGoods', String),\n",
       "        ('Online_RecreationGoods', String),\n",
       "        ('Online_HouseholdAppliances', String),\n",
       "        ('Online_Crockery', String),\n",
       "        ('Online_SportsGoods', String),\n",
       "        ('Online_MedicalEquipment', String),\n",
       "        ('Online_Bedding', String),\n",
       "        ('Free_Laptop', String),\n",
       "        ('Num_Free_Laptop', Float64),\n",
       "        ('Free_Tablet', String),\n",
       "        ('Num_Free_Tablet', Float64),\n",
       "        ('Free_Mobile', String),\n",
       "        ('Num_Free_Mobile', Float64),\n",
       "        ('Free_Bicycle', String),\n",
       "        ('Num_Free_Bicycle', Float64),\n",
       "        ('Free_Scooter', String),\n",
       "        ('Num_Free_Scooter', Float64),\n",
       "        ('Free_Clothing', String),\n",
       "        ('Num_Free_Clothing', Float64),\n",
       "        ('Free_Footwear', String),\n",
       "        ('Num_Free_Footwear', Float64),\n",
       "        ('Free_Other', String),\n",
       "        ('Num_Free_Other', Float64),\n",
       "        ('Possess_Television', String),\n",
       "        ('Possess_Radio', String),\n",
       "        ('Possess_Laptop', String),\n",
       "        ('Possess_Mobile', String),\n",
       "        ('Possess_Bicycle', String),\n",
       "        ('Possess_Scooter', String),\n",
       "        ('Possess_Car', String),\n",
       "        ('Possess_Truck', String),\n",
       "        ('Possess_AnimalCart', String),\n",
       "        ('Possess_Refrigerator', String),\n",
       "        ('Possess_WashingMachine', String),\n",
       "        ('Possess_AirCooler', String),\n",
       "        ('TV_Facility_Type', String),\n",
       "        ('Multiplier', Int64)])"
      ]
     },
     "execution_count": 18,
     "metadata": {},
     "output_type": "execute_result"
    }
   ],
   "source": [
    "pdf.collect_schema()"
   ]
  },
  {
   "cell_type": "markdown",
   "id": "0ca9efce",
   "metadata": {},
   "source": [
    "# Where is MP"
   ]
  },
  {
   "cell_type": "code",
   "execution_count": 19,
   "id": "dba59a55",
   "metadata": {},
   "outputs": [
    {
     "data": {
      "text/plain": [
       "523906"
      ]
     },
     "execution_count": 19,
     "metadata": {},
     "output_type": "execute_result"
    }
   ],
   "source": [
    "# Shape of the data\n",
    "pdf.shape[0]"
   ]
  },
  {
   "cell_type": "code",
   "execution_count": 20,
   "id": "b4349c11",
   "metadata": {},
   "outputs": [
    {
     "data": {
      "text/html": [
       "<div><style>\n",
       ".dataframe > thead > tr,\n",
       ".dataframe > tbody > tr {\n",
       "  text-align: right;\n",
       "  white-space: pre-wrap;\n",
       "}\n",
       "</style>\n",
       "<small>shape: (523_906,)</small><table border=\"1\" class=\"dataframe\"><thead><tr><th>State</th></tr><tr><td>str</td></tr></thead><tbody><tr><td>&quot;05&quot;</td></tr><tr><td>&quot;05&quot;</td></tr><tr><td>&quot;05&quot;</td></tr><tr><td>&quot;05&quot;</td></tr><tr><td>&quot;05&quot;</td></tr><tr><td>&hellip;</td></tr><tr><td>&quot;10&quot;</td></tr><tr><td>&quot;10&quot;</td></tr><tr><td>&quot;10&quot;</td></tr><tr><td>&quot;10&quot;</td></tr><tr><td>&quot;10&quot;</td></tr></tbody></table></div>"
      ],
      "text/plain": [
       "shape: (523_906,)\n",
       "Series: 'State' [str]\n",
       "[\n",
       "\t\"05\"\n",
       "\t\"05\"\n",
       "\t\"05\"\n",
       "\t\"05\"\n",
       "\t\"05\"\n",
       "\t…\n",
       "\t\"10\"\n",
       "\t\"10\"\n",
       "\t\"10\"\n",
       "\t\"10\"\n",
       "\t\"10\"\n",
       "]"
      ]
     },
     "execution_count": 20,
     "metadata": {},
     "output_type": "execute_result"
    }
   ],
   "source": [
    "pdf['State']"
   ]
  },
  {
   "cell_type": "code",
   "execution_count": 21,
   "id": "3241ac72",
   "metadata": {},
   "outputs": [
    {
     "data": {
      "text/html": [
       "<div><style>\n",
       ".dataframe > thead > tr,\n",
       ".dataframe > tbody > tr {\n",
       "  text-align: right;\n",
       "  white-space: pre-wrap;\n",
       "}\n",
       "</style>\n",
       "<small>shape: (523_906,)</small><table border=\"1\" class=\"dataframe\"><thead><tr><th>State</th></tr><tr><td>bool</td></tr></thead><tbody><tr><td>false</td></tr><tr><td>false</td></tr><tr><td>false</td></tr><tr><td>false</td></tr><tr><td>false</td></tr><tr><td>&hellip;</td></tr><tr><td>false</td></tr><tr><td>false</td></tr><tr><td>false</td></tr><tr><td>false</td></tr><tr><td>false</td></tr></tbody></table></div>"
      ],
      "text/plain": [
       "shape: (523_906,)\n",
       "Series: 'State' [bool]\n",
       "[\n",
       "\tfalse\n",
       "\tfalse\n",
       "\tfalse\n",
       "\tfalse\n",
       "\tfalse\n",
       "\t…\n",
       "\tfalse\n",
       "\tfalse\n",
       "\tfalse\n",
       "\tfalse\n",
       "\tfalse\n",
       "]"
      ]
     },
     "execution_count": 21,
     "metadata": {},
     "output_type": "execute_result"
    }
   ],
   "source": [
    "# This are label data \n",
    "# For know mp we used the Metadata json file\n",
    "# Line number 308\n",
    "\n",
    "pdf['State'] == '23'\n"
   ]
  },
  {
   "cell_type": "code",
   "execution_count": 22,
   "id": "402d33fd",
   "metadata": {},
   "outputs": [],
   "source": [
    "mp_data = pdf.filter(\n",
    "    pl.col('State') == '23'\n",
    ")"
   ]
  },
  {
   "cell_type": "code",
   "execution_count": 23,
   "id": "a88d44dc",
   "metadata": {},
   "outputs": [
    {
     "data": {
      "text/html": [
       "<div><style>\n",
       ".dataframe > thead > tr,\n",
       ".dataframe > tbody > tr {\n",
       "  text-align: right;\n",
       "  white-space: pre-wrap;\n",
       "}\n",
       "</style>\n",
       "<small>shape: (28_210, 59)</small><table border=\"1\" class=\"dataframe\"><thead><tr><th>Survey_Name</th><th>Year</th><th>FSU_Serial_No</th><th>Sector</th><th>State</th><th>NSS_Region</th><th>District</th><th>Stratum</th><th>Sub_stratum</th><th>Panel</th><th>Sub_sample</th><th>FOD_Sub_Region</th><th>Sample_SU_No</th><th>Sample_Sub_Division_No</th><th>Second_Stage_Stratum_No</th><th>Sample_Household_No</th><th>questionnaire_No</th><th>Level</th><th>Online_Clothing</th><th>Online_Footwear</th><th>Online_Furniture</th><th>Online_Mobile</th><th>Online_PersonalGoods</th><th>Online_RecreationGoods</th><th>Online_HouseholdAppliances</th><th>Online_Crockery</th><th>Online_SportsGoods</th><th>Online_MedicalEquipment</th><th>Online_Bedding</th><th>Free_Laptop</th><th>Num_Free_Laptop</th><th>Free_Tablet</th><th>Num_Free_Tablet</th><th>Free_Mobile</th><th>Num_Free_Mobile</th><th>Free_Bicycle</th><th>Num_Free_Bicycle</th><th>Free_Scooter</th><th>Num_Free_Scooter</th><th>Free_Clothing</th><th>Num_Free_Clothing</th><th>Free_Footwear</th><th>Num_Free_Footwear</th><th>Free_Other</th><th>Num_Free_Other</th><th>Possess_Television</th><th>Possess_Radio</th><th>Possess_Laptop</th><th>Possess_Mobile</th><th>Possess_Bicycle</th><th>Possess_Scooter</th><th>Possess_Car</th><th>Possess_Truck</th><th>Possess_AnimalCart</th><th>Possess_Refrigerator</th><th>Possess_WashingMachine</th><th>Possess_AirCooler</th><th>TV_Facility_Type</th><th>Multiplier</th></tr><tr><td>str</td><td>str</td><td>str</td><td>str</td><td>str</td><td>str</td><td>str</td><td>str</td><td>str</td><td>str</td><td>str</td><td>str</td><td>str</td><td>str</td><td>str</td><td>str</td><td>str</td><td>str</td><td>str</td><td>str</td><td>str</td><td>str</td><td>str</td><td>str</td><td>str</td><td>str</td><td>str</td><td>str</td><td>str</td><td>str</td><td>f64</td><td>str</td><td>f64</td><td>str</td><td>f64</td><td>str</td><td>f64</td><td>str</td><td>f64</td><td>str</td><td>f64</td><td>str</td><td>f64</td><td>str</td><td>f64</td><td>str</td><td>str</td><td>str</td><td>str</td><td>str</td><td>str</td><td>str</td><td>str</td><td>str</td><td>str</td><td>str</td><td>str</td><td>str</td><td>i64</td></tr></thead><tbody><tr><td>&quot;HCES&quot;</td><td>&quot;2024&quot;</td><td>&quot;44085&quot;</td><td>&quot;1&quot;</td><td>&quot;23&quot;</td><td>&quot;232&quot;</td><td>&quot;26&quot;</td><td>&quot;21&quot;</td><td>&quot;01&quot;</td><td>&quot;1&quot;</td><td>&quot;2&quot;</td><td>&quot;2310&quot;</td><td>&quot;1&quot;</td><td>&quot;&quot;</td><td>&quot;2&quot;</td><td>&quot;01&quot;</td><td>&quot;D&quot;</td><td>&quot;11&quot;</td><td>&quot;&quot;</td><td>&quot;&quot;</td><td>&quot;&quot;</td><td>&quot;&quot;</td><td>&quot;&quot;</td><td>&quot;&quot;</td><td>&quot;&quot;</td><td>&quot;&quot;</td><td>&quot;&quot;</td><td>&quot;&quot;</td><td>&quot;&quot;</td><td>&quot;&quot;</td><td>null</td><td>&quot;&quot;</td><td>null</td><td>&quot;&quot;</td><td>null</td><td>&quot;&quot;</td><td>null</td><td>&quot;&quot;</td><td>null</td><td>&quot;&quot;</td><td>null</td><td>&quot;&quot;</td><td>null</td><td>&quot;1&quot;</td><td>4.0</td><td>&quot;1&quot;</td><td>&quot;&quot;</td><td>&quot;&quot;</td><td>&quot;1&quot;</td><td>&quot;1&quot;</td><td>&quot;1&quot;</td><td>&quot;&quot;</td><td>&quot;&quot;</td><td>&quot;&quot;</td><td>&quot;&quot;</td><td>&quot;&quot;</td><td>&quot;1&quot;</td><td>&quot;3&quot;</td><td>58558</td></tr><tr><td>&quot;HCES&quot;</td><td>&quot;2024&quot;</td><td>&quot;44085&quot;</td><td>&quot;1&quot;</td><td>&quot;23&quot;</td><td>&quot;232&quot;</td><td>&quot;26&quot;</td><td>&quot;21&quot;</td><td>&quot;01&quot;</td><td>&quot;1&quot;</td><td>&quot;2&quot;</td><td>&quot;2310&quot;</td><td>&quot;1&quot;</td><td>&quot;&quot;</td><td>&quot;2&quot;</td><td>&quot;02&quot;</td><td>&quot;D&quot;</td><td>&quot;11&quot;</td><td>&quot;&quot;</td><td>&quot;&quot;</td><td>&quot;&quot;</td><td>&quot;&quot;</td><td>&quot;&quot;</td><td>&quot;&quot;</td><td>&quot;&quot;</td><td>&quot;&quot;</td><td>&quot;&quot;</td><td>&quot;&quot;</td><td>&quot;&quot;</td><td>&quot;&quot;</td><td>null</td><td>&quot;&quot;</td><td>null</td><td>&quot;&quot;</td><td>null</td><td>&quot;&quot;</td><td>null</td><td>&quot;&quot;</td><td>null</td><td>&quot;&quot;</td><td>null</td><td>&quot;&quot;</td><td>null</td><td>&quot;&quot;</td><td>null</td><td>&quot;1&quot;</td><td>&quot;&quot;</td><td>&quot;&quot;</td><td>&quot;1&quot;</td><td>&quot;&quot;</td><td>&quot;1&quot;</td><td>&quot;&quot;</td><td>&quot;&quot;</td><td>&quot;&quot;</td><td>&quot;1&quot;</td><td>&quot;&quot;</td><td>&quot;1&quot;</td><td>&quot;3&quot;</td><td>58558</td></tr><tr><td>&quot;HCES&quot;</td><td>&quot;2024&quot;</td><td>&quot;44085&quot;</td><td>&quot;1&quot;</td><td>&quot;23&quot;</td><td>&quot;232&quot;</td><td>&quot;26&quot;</td><td>&quot;21&quot;</td><td>&quot;01&quot;</td><td>&quot;1&quot;</td><td>&quot;2&quot;</td><td>&quot;2310&quot;</td><td>&quot;1&quot;</td><td>&quot;&quot;</td><td>&quot;2&quot;</td><td>&quot;03&quot;</td><td>&quot;D&quot;</td><td>&quot;11&quot;</td><td>&quot;&quot;</td><td>&quot;&quot;</td><td>&quot;&quot;</td><td>&quot;&quot;</td><td>&quot;&quot;</td><td>&quot;&quot;</td><td>&quot;&quot;</td><td>&quot;&quot;</td><td>&quot;&quot;</td><td>&quot;&quot;</td><td>&quot;&quot;</td><td>&quot;&quot;</td><td>null</td><td>&quot;&quot;</td><td>null</td><td>&quot;&quot;</td><td>null</td><td>&quot;&quot;</td><td>null</td><td>&quot;&quot;</td><td>null</td><td>&quot;&quot;</td><td>null</td><td>&quot;&quot;</td><td>null</td><td>&quot;&quot;</td><td>null</td><td>&quot;1&quot;</td><td>&quot;&quot;</td><td>&quot;&quot;</td><td>&quot;1&quot;</td><td>&quot;1&quot;</td><td>&quot;1&quot;</td><td>&quot;&quot;</td><td>&quot;&quot;</td><td>&quot;&quot;</td><td>&quot;1&quot;</td><td>&quot;1&quot;</td><td>&quot;1&quot;</td><td>&quot;3&quot;</td><td>58558</td></tr><tr><td>&quot;HCES&quot;</td><td>&quot;2024&quot;</td><td>&quot;44085&quot;</td><td>&quot;1&quot;</td><td>&quot;23&quot;</td><td>&quot;232&quot;</td><td>&quot;26&quot;</td><td>&quot;21&quot;</td><td>&quot;01&quot;</td><td>&quot;1&quot;</td><td>&quot;2&quot;</td><td>&quot;2310&quot;</td><td>&quot;1&quot;</td><td>&quot;&quot;</td><td>&quot;2&quot;</td><td>&quot;04&quot;</td><td>&quot;D&quot;</td><td>&quot;11&quot;</td><td>&quot;&quot;</td><td>&quot;&quot;</td><td>&quot;&quot;</td><td>&quot;&quot;</td><td>&quot;&quot;</td><td>&quot;&quot;</td><td>&quot;&quot;</td><td>&quot;&quot;</td><td>&quot;&quot;</td><td>&quot;&quot;</td><td>&quot;&quot;</td><td>&quot;&quot;</td><td>null</td><td>&quot;&quot;</td><td>null</td><td>&quot;&quot;</td><td>null</td><td>&quot;&quot;</td><td>null</td><td>&quot;&quot;</td><td>null</td><td>&quot;&quot;</td><td>null</td><td>&quot;&quot;</td><td>null</td><td>&quot;&quot;</td><td>null</td><td>&quot;1&quot;</td><td>&quot;&quot;</td><td>&quot;&quot;</td><td>&quot;1&quot;</td><td>&quot;1&quot;</td><td>&quot;1&quot;</td><td>&quot;&quot;</td><td>&quot;&quot;</td><td>&quot;&quot;</td><td>&quot;&quot;</td><td>&quot;&quot;</td><td>&quot;1&quot;</td><td>&quot;3&quot;</td><td>58558</td></tr><tr><td>&quot;HCES&quot;</td><td>&quot;2024&quot;</td><td>&quot;44085&quot;</td><td>&quot;1&quot;</td><td>&quot;23&quot;</td><td>&quot;232&quot;</td><td>&quot;26&quot;</td><td>&quot;21&quot;</td><td>&quot;01&quot;</td><td>&quot;1&quot;</td><td>&quot;2&quot;</td><td>&quot;2310&quot;</td><td>&quot;1&quot;</td><td>&quot;&quot;</td><td>&quot;2&quot;</td><td>&quot;05&quot;</td><td>&quot;D&quot;</td><td>&quot;11&quot;</td><td>&quot;&quot;</td><td>&quot;&quot;</td><td>&quot;&quot;</td><td>&quot;&quot;</td><td>&quot;&quot;</td><td>&quot;&quot;</td><td>&quot;&quot;</td><td>&quot;&quot;</td><td>&quot;&quot;</td><td>&quot;&quot;</td><td>&quot;&quot;</td><td>&quot;&quot;</td><td>null</td><td>&quot;&quot;</td><td>null</td><td>&quot;&quot;</td><td>null</td><td>&quot;&quot;</td><td>null</td><td>&quot;&quot;</td><td>null</td><td>&quot;&quot;</td><td>null</td><td>&quot;&quot;</td><td>null</td><td>&quot;&quot;</td><td>null</td><td>&quot;1&quot;</td><td>&quot;&quot;</td><td>&quot;&quot;</td><td>&quot;1&quot;</td><td>&quot;&quot;</td><td>&quot;1&quot;</td><td>&quot;&quot;</td><td>&quot;&quot;</td><td>&quot;&quot;</td><td>&quot;&quot;</td><td>&quot;&quot;</td><td>&quot;1&quot;</td><td>&quot;3&quot;</td><td>58558</td></tr><tr><td>&hellip;</td><td>&hellip;</td><td>&hellip;</td><td>&hellip;</td><td>&hellip;</td><td>&hellip;</td><td>&hellip;</td><td>&hellip;</td><td>&hellip;</td><td>&hellip;</td><td>&hellip;</td><td>&hellip;</td><td>&hellip;</td><td>&hellip;</td><td>&hellip;</td><td>&hellip;</td><td>&hellip;</td><td>&hellip;</td><td>&hellip;</td><td>&hellip;</td><td>&hellip;</td><td>&hellip;</td><td>&hellip;</td><td>&hellip;</td><td>&hellip;</td><td>&hellip;</td><td>&hellip;</td><td>&hellip;</td><td>&hellip;</td><td>&hellip;</td><td>&hellip;</td><td>&hellip;</td><td>&hellip;</td><td>&hellip;</td><td>&hellip;</td><td>&hellip;</td><td>&hellip;</td><td>&hellip;</td><td>&hellip;</td><td>&hellip;</td><td>&hellip;</td><td>&hellip;</td><td>&hellip;</td><td>&hellip;</td><td>&hellip;</td><td>&hellip;</td><td>&hellip;</td><td>&hellip;</td><td>&hellip;</td><td>&hellip;</td><td>&hellip;</td><td>&hellip;</td><td>&hellip;</td><td>&hellip;</td><td>&hellip;</td><td>&hellip;</td><td>&hellip;</td><td>&hellip;</td><td>&hellip;</td></tr><tr><td>&quot;HCES&quot;</td><td>&quot;2024&quot;</td><td>&quot;25137&quot;</td><td>&quot;2&quot;</td><td>&quot;23&quot;</td><td>&quot;232&quot;</td><td>&quot;10&quot;</td><td>&quot;12&quot;</td><td>&quot;05&quot;</td><td>&quot;10&quot;</td><td>&quot;1&quot;</td><td>&quot;2332&quot;</td><td>&quot;1&quot;</td><td>&quot;&quot;</td><td>&quot;3&quot;</td><td>&quot;13&quot;</td><td>&quot;D&quot;</td><td>&quot;11&quot;</td><td>&quot;&quot;</td><td>&quot;&quot;</td><td>&quot;&quot;</td><td>&quot;&quot;</td><td>&quot;&quot;</td><td>&quot;&quot;</td><td>&quot;&quot;</td><td>&quot;&quot;</td><td>&quot;&quot;</td><td>&quot;&quot;</td><td>&quot;&quot;</td><td>&quot;&quot;</td><td>null</td><td>&quot;&quot;</td><td>null</td><td>&quot;&quot;</td><td>null</td><td>&quot;&quot;</td><td>null</td><td>&quot;&quot;</td><td>null</td><td>&quot;&quot;</td><td>null</td><td>&quot;&quot;</td><td>null</td><td>&quot;&quot;</td><td>null</td><td>&quot;1&quot;</td><td>&quot;&quot;</td><td>&quot;&quot;</td><td>&quot;1&quot;</td><td>&quot;1&quot;</td><td>&quot;1&quot;</td><td>&quot;&quot;</td><td>&quot;&quot;</td><td>&quot;&quot;</td><td>&quot;1&quot;</td><td>&quot;&quot;</td><td>&quot;1&quot;</td><td>&quot;3&quot;</td><td>173023</td></tr><tr><td>&quot;HCES&quot;</td><td>&quot;2024&quot;</td><td>&quot;25137&quot;</td><td>&quot;2&quot;</td><td>&quot;23&quot;</td><td>&quot;232&quot;</td><td>&quot;10&quot;</td><td>&quot;12&quot;</td><td>&quot;05&quot;</td><td>&quot;10&quot;</td><td>&quot;1&quot;</td><td>&quot;2332&quot;</td><td>&quot;1&quot;</td><td>&quot;&quot;</td><td>&quot;3&quot;</td><td>&quot;14&quot;</td><td>&quot;D&quot;</td><td>&quot;11&quot;</td><td>&quot;&quot;</td><td>&quot;&quot;</td><td>&quot;&quot;</td><td>&quot;&quot;</td><td>&quot;&quot;</td><td>&quot;&quot;</td><td>&quot;&quot;</td><td>&quot;&quot;</td><td>&quot;&quot;</td><td>&quot;&quot;</td><td>&quot;&quot;</td><td>&quot;&quot;</td><td>null</td><td>&quot;&quot;</td><td>null</td><td>&quot;&quot;</td><td>null</td><td>&quot;&quot;</td><td>null</td><td>&quot;&quot;</td><td>null</td><td>&quot;&quot;</td><td>null</td><td>&quot;&quot;</td><td>null</td><td>&quot;&quot;</td><td>null</td><td>&quot;1&quot;</td><td>&quot;&quot;</td><td>&quot;&quot;</td><td>&quot;1&quot;</td><td>&quot;&quot;</td><td>&quot;1&quot;</td><td>&quot;&quot;</td><td>&quot;&quot;</td><td>&quot;&quot;</td><td>&quot;1&quot;</td><td>&quot;1&quot;</td><td>&quot;1&quot;</td><td>&quot;3&quot;</td><td>173023</td></tr><tr><td>&quot;HCES&quot;</td><td>&quot;2024&quot;</td><td>&quot;25137&quot;</td><td>&quot;2&quot;</td><td>&quot;23&quot;</td><td>&quot;232&quot;</td><td>&quot;10&quot;</td><td>&quot;12&quot;</td><td>&quot;05&quot;</td><td>&quot;10&quot;</td><td>&quot;1&quot;</td><td>&quot;2332&quot;</td><td>&quot;1&quot;</td><td>&quot;&quot;</td><td>&quot;3&quot;</td><td>&quot;15&quot;</td><td>&quot;D&quot;</td><td>&quot;11&quot;</td><td>&quot;&quot;</td><td>&quot;&quot;</td><td>&quot;&quot;</td><td>&quot;&quot;</td><td>&quot;&quot;</td><td>&quot;&quot;</td><td>&quot;&quot;</td><td>&quot;&quot;</td><td>&quot;&quot;</td><td>&quot;&quot;</td><td>&quot;&quot;</td><td>&quot;&quot;</td><td>null</td><td>&quot;&quot;</td><td>null</td><td>&quot;&quot;</td><td>null</td><td>&quot;&quot;</td><td>null</td><td>&quot;&quot;</td><td>null</td><td>&quot;&quot;</td><td>null</td><td>&quot;&quot;</td><td>null</td><td>&quot;&quot;</td><td>null</td><td>&quot;1&quot;</td><td>&quot;&quot;</td><td>&quot;&quot;</td><td>&quot;1&quot;</td><td>&quot;&quot;</td><td>&quot;1&quot;</td><td>&quot;&quot;</td><td>&quot;&quot;</td><td>&quot;&quot;</td><td>&quot;&quot;</td><td>&quot;&quot;</td><td>&quot;1&quot;</td><td>&quot;3&quot;</td><td>173023</td></tr><tr><td>&quot;HCES&quot;</td><td>&quot;2024&quot;</td><td>&quot;25137&quot;</td><td>&quot;2&quot;</td><td>&quot;23&quot;</td><td>&quot;232&quot;</td><td>&quot;10&quot;</td><td>&quot;12&quot;</td><td>&quot;05&quot;</td><td>&quot;10&quot;</td><td>&quot;1&quot;</td><td>&quot;2332&quot;</td><td>&quot;1&quot;</td><td>&quot;&quot;</td><td>&quot;3&quot;</td><td>&quot;16&quot;</td><td>&quot;D&quot;</td><td>&quot;11&quot;</td><td>&quot;&quot;</td><td>&quot;&quot;</td><td>&quot;&quot;</td><td>&quot;&quot;</td><td>&quot;&quot;</td><td>&quot;&quot;</td><td>&quot;&quot;</td><td>&quot;&quot;</td><td>&quot;&quot;</td><td>&quot;&quot;</td><td>&quot;&quot;</td><td>&quot;&quot;</td><td>null</td><td>&quot;&quot;</td><td>null</td><td>&quot;&quot;</td><td>null</td><td>&quot;&quot;</td><td>null</td><td>&quot;&quot;</td><td>null</td><td>&quot;&quot;</td><td>null</td><td>&quot;&quot;</td><td>null</td><td>&quot;&quot;</td><td>null</td><td>&quot;1&quot;</td><td>&quot;&quot;</td><td>&quot;&quot;</td><td>&quot;1&quot;</td><td>&quot;1&quot;</td><td>&quot;1&quot;</td><td>&quot;&quot;</td><td>&quot;&quot;</td><td>&quot;&quot;</td><td>&quot;1&quot;</td><td>&quot;1&quot;</td><td>&quot;1&quot;</td><td>&quot;1&quot;</td><td>173023</td></tr><tr><td>&quot;HCES&quot;</td><td>&quot;2024&quot;</td><td>&quot;25137&quot;</td><td>&quot;2&quot;</td><td>&quot;23&quot;</td><td>&quot;232&quot;</td><td>&quot;10&quot;</td><td>&quot;12&quot;</td><td>&quot;05&quot;</td><td>&quot;10&quot;</td><td>&quot;1&quot;</td><td>&quot;2332&quot;</td><td>&quot;1&quot;</td><td>&quot;&quot;</td><td>&quot;3&quot;</td><td>&quot;17&quot;</td><td>&quot;D&quot;</td><td>&quot;11&quot;</td><td>&quot;&quot;</td><td>&quot;&quot;</td><td>&quot;&quot;</td><td>&quot;&quot;</td><td>&quot;&quot;</td><td>&quot;&quot;</td><td>&quot;&quot;</td><td>&quot;&quot;</td><td>&quot;&quot;</td><td>&quot;&quot;</td><td>&quot;&quot;</td><td>&quot;&quot;</td><td>null</td><td>&quot;&quot;</td><td>null</td><td>&quot;&quot;</td><td>null</td><td>&quot;&quot;</td><td>null</td><td>&quot;&quot;</td><td>null</td><td>&quot;&quot;</td><td>null</td><td>&quot;&quot;</td><td>null</td><td>&quot;&quot;</td><td>null</td><td>&quot;1&quot;</td><td>&quot;&quot;</td><td>&quot;&quot;</td><td>&quot;1&quot;</td><td>&quot;&quot;</td><td>&quot;1&quot;</td><td>&quot;&quot;</td><td>&quot;&quot;</td><td>&quot;&quot;</td><td>&quot;&quot;</td><td>&quot;&quot;</td><td>&quot;1&quot;</td><td>&quot;3&quot;</td><td>173023</td></tr></tbody></table></div>"
      ],
      "text/plain": [
       "shape: (28_210, 59)\n",
       "┌─────────────┬──────┬────────────┬────────┬───┬────────────┬────────────┬────────────┬────────────┐\n",
       "│ Survey_Name ┆ Year ┆ FSU_Serial ┆ Sector ┆ … ┆ Possess_Wa ┆ Possess_Ai ┆ TV_Facilit ┆ Multiplier │\n",
       "│ ---         ┆ ---  ┆ _No        ┆ ---    ┆   ┆ shingMachi ┆ rCooler    ┆ y_Type     ┆ ---        │\n",
       "│ str         ┆ str  ┆ ---        ┆ str    ┆   ┆ ne         ┆ ---        ┆ ---        ┆ i64        │\n",
       "│             ┆      ┆ str        ┆        ┆   ┆ ---        ┆ str        ┆ str        ┆            │\n",
       "│             ┆      ┆            ┆        ┆   ┆ str        ┆            ┆            ┆            │\n",
       "╞═════════════╪══════╪════════════╪════════╪═══╪════════════╪════════════╪════════════╪════════════╡\n",
       "│ HCES        ┆ 2024 ┆ 44085      ┆ 1      ┆ … ┆            ┆ 1          ┆ 3          ┆ 58558      │\n",
       "│ HCES        ┆ 2024 ┆ 44085      ┆ 1      ┆ … ┆            ┆ 1          ┆ 3          ┆ 58558      │\n",
       "│ HCES        ┆ 2024 ┆ 44085      ┆ 1      ┆ … ┆ 1          ┆ 1          ┆ 3          ┆ 58558      │\n",
       "│ HCES        ┆ 2024 ┆ 44085      ┆ 1      ┆ … ┆            ┆ 1          ┆ 3          ┆ 58558      │\n",
       "│ HCES        ┆ 2024 ┆ 44085      ┆ 1      ┆ … ┆            ┆ 1          ┆ 3          ┆ 58558      │\n",
       "│ …           ┆ …    ┆ …          ┆ …      ┆ … ┆ …          ┆ …          ┆ …          ┆ …          │\n",
       "│ HCES        ┆ 2024 ┆ 25137      ┆ 2      ┆ … ┆            ┆ 1          ┆ 3          ┆ 173023     │\n",
       "│ HCES        ┆ 2024 ┆ 25137      ┆ 2      ┆ … ┆ 1          ┆ 1          ┆ 3          ┆ 173023     │\n",
       "│ HCES        ┆ 2024 ┆ 25137      ┆ 2      ┆ … ┆            ┆ 1          ┆ 3          ┆ 173023     │\n",
       "│ HCES        ┆ 2024 ┆ 25137      ┆ 2      ┆ … ┆ 1          ┆ 1          ┆ 1          ┆ 173023     │\n",
       "│ HCES        ┆ 2024 ┆ 25137      ┆ 2      ┆ … ┆            ┆ 1          ┆ 3          ┆ 173023     │\n",
       "└─────────────┴──────┴────────────┴────────┴───┴────────────┴────────────┴────────────┴────────────┘"
      ]
     },
     "execution_count": 23,
     "metadata": {},
     "output_type": "execute_result"
    }
   ],
   "source": [
    "mp_data"
   ]
  },
  {
   "cell_type": "code",
   "execution_count": 24,
   "id": "3a99c7de",
   "metadata": {},
   "outputs": [
    {
     "data": {
      "text/plain": [
       "791"
      ]
     },
     "execution_count": 24,
     "metadata": {},
     "output_type": "execute_result"
    }
   ],
   "source": [
    "mp_data['FSU_Serial_No'].n_unique()"
   ]
  },
  {
   "cell_type": "markdown",
   "id": "0388976f",
   "metadata": {},
   "source": [
    "# Save"
   ]
  },
  {
   "cell_type": "code",
   "execution_count": 25,
   "id": "cc7bcf67",
   "metadata": {},
   "outputs": [
    {
     "name": "stdout",
     "output_type": "stream",
     "text": [
      " 28210 are the MP data points\n"
     ]
    }
   ],
   "source": [
    "print(f\" {pdf.filter(pl.col('State') == '23').shape[0]} are the MP data points\")"
   ]
  },
  {
   "cell_type": "code",
   "execution_count": 26,
   "id": "b6f545ac",
   "metadata": {},
   "outputs": [],
   "source": [
    "# convert to both csv and parquet data format"
   ]
  },
  {
   "cell_type": "code",
   "execution_count": 27,
   "id": "31ef5e23",
   "metadata": {},
   "outputs": [],
   "source": [
    "mp_data.write_csv(r\"C:\\Users\\Rudra\\Desktop\\rural-financial-inclusion-govt-scheme-recommendation\\parquet-data\\lev-11\\data2\\lev_11_mp.csv\")"
   ]
  },
  {
   "cell_type": "code",
   "execution_count": 28,
   "id": "27e6f01f",
   "metadata": {},
   "outputs": [],
   "source": [
    "mp_data.write_parquet(r\"C:\\Users\\Rudra\\Desktop\\rural-financial-inclusion-govt-scheme-recommendation\\parquet-data\\lev-11\\data2\\lev_11_mp.parquet\", compression=\"zstd\")"
   ]
  }
 ],
 "metadata": {
  "kernelspec": {
   "display_name": "Python 3",
   "language": "python",
   "name": "python3"
  },
  "language_info": {
   "codemirror_mode": {
    "name": "ipython",
    "version": 3
   },
   "file_extension": ".py",
   "mimetype": "text/x-python",
   "name": "python",
   "nbconvert_exporter": "python",
   "pygments_lexer": "ipython3",
   "version": "3.11.9"
  }
 },
 "nbformat": 4,
 "nbformat_minor": 5
}
