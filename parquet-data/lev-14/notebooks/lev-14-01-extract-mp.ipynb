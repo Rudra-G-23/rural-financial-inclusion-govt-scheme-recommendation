{
 "cells": [
  {
   "cell_type": "markdown",
   "id": "50ff01d7",
   "metadata": {},
   "source": [
    "# Goal: Extract MP state data from this table"
   ]
  },
  {
   "cell_type": "code",
   "execution_count": 15,
   "id": "69513632",
   "metadata": {},
   "outputs": [
    {
     "data": {
      "text/plain": [
       "' \\nGoal: Extract MP state data from this table\\nAuthor: Rudra Prasad Bhuyan\\n'"
      ]
     },
     "execution_count": 15,
     "metadata": {},
     "output_type": "execute_result"
    }
   ],
   "source": [
    "\"\"\" \n",
    "Goal: Extract MP state data from this table\n",
    "Author: Rudra Prasad Bhuyan\n",
    "\"\"\""
   ]
  },
  {
   "cell_type": "code",
   "execution_count": 16,
   "id": "b9e33eef",
   "metadata": {},
   "outputs": [],
   "source": [
    "import numpy as np\n",
    "import pandas as pd\n",
    "import polars as pl\n",
    "import matplotlib.pyplot as plt\n",
    "import seaborn as sns\n",
    "import plotly.express as px\n",
    "import plotly.offline as po\n",
    "\n",
    "import warnings\n",
    "warnings.filterwarnings('ignore')"
   ]
  },
  {
   "cell_type": "code",
   "execution_count": 17,
   "id": "4d29e02f",
   "metadata": {},
   "outputs": [],
   "source": [
    "path = r\"C:\\Users\\Rudra\\Desktop\\rural-financial-inclusion-govt-scheme-recommendation\\parquet-data\\lev-14\\data\\lev-14_merged.parquet\"\n",
    "\n",
    "#df = pd.read_parquet(path)\n",
    "pdf = pl.read_parquet(path)"
   ]
  },
  {
   "cell_type": "code",
   "execution_count": 18,
   "id": "1d039ba9",
   "metadata": {},
   "outputs": [
    {
     "data": {
      "text/plain": [
       "Schema([('Survey_Name', String),\n",
       "        ('Year', String),\n",
       "        ('FSU_Serial_No', String),\n",
       "        ('Sector', String),\n",
       "        ('State', String),\n",
       "        ('NSS_Region', String),\n",
       "        ('District', String),\n",
       "        ('Stratum', String),\n",
       "        ('Sub_stratum', String),\n",
       "        ('Panel', String),\n",
       "        ('Sub_sample', String),\n",
       "        ('FOD_Sub_Region', String),\n",
       "        ('Sample_SU_No', String),\n",
       "        ('Sample_Sub_Division_No', String),\n",
       "        ('Second_Stage_Stratum_No', String),\n",
       "        ('Sample_Household_No', String),\n",
       "        ('Questionnaire_No', String),\n",
       "        ('Level', String),\n",
       "        ('SECTION', String),\n",
       "        ('ITEM_CODE', String),\n",
       "        ('VALUE_RS', Int64),\n",
       "        ('MULTIPLIER', Int64)])"
      ]
     },
     "execution_count": 18,
     "metadata": {},
     "output_type": "execute_result"
    }
   ],
   "source": [
    "pdf.collect_schema()"
   ]
  },
  {
   "cell_type": "markdown",
   "id": "0ca9efce",
   "metadata": {},
   "source": [
    "# Where is MP"
   ]
  },
  {
   "cell_type": "code",
   "execution_count": 19,
   "id": "dba59a55",
   "metadata": {},
   "outputs": [
    {
     "data": {
      "text/plain": [
       "16593138"
      ]
     },
     "execution_count": 19,
     "metadata": {},
     "output_type": "execute_result"
    }
   ],
   "source": [
    "# Shape of the data\n",
    "pdf.shape[0]"
   ]
  },
  {
   "cell_type": "code",
   "execution_count": 20,
   "id": "b4349c11",
   "metadata": {},
   "outputs": [
    {
     "data": {
      "text/html": [
       "<div><style>\n",
       ".dataframe > thead > tr,\n",
       ".dataframe > tbody > tr {\n",
       "  text-align: right;\n",
       "  white-space: pre-wrap;\n",
       "}\n",
       "</style>\n",
       "<small>shape: (16_593_138,)</small><table border=\"1\" class=\"dataframe\"><thead><tr><th>State</th></tr><tr><td>str</td></tr></thead><tbody><tr><td>&quot;01&quot;</td></tr><tr><td>&quot;01&quot;</td></tr><tr><td>&quot;01&quot;</td></tr><tr><td>&quot;01&quot;</td></tr><tr><td>&quot;01&quot;</td></tr><tr><td>&hellip;</td></tr><tr><td>&quot;24&quot;</td></tr><tr><td>&quot;24&quot;</td></tr><tr><td>&quot;24&quot;</td></tr><tr><td>&quot;24&quot;</td></tr><tr><td>&quot;24&quot;</td></tr></tbody></table></div>"
      ],
      "text/plain": [
       "shape: (16_593_138,)\n",
       "Series: 'State' [str]\n",
       "[\n",
       "\t\"01\"\n",
       "\t\"01\"\n",
       "\t\"01\"\n",
       "\t\"01\"\n",
       "\t\"01\"\n",
       "\t…\n",
       "\t\"24\"\n",
       "\t\"24\"\n",
       "\t\"24\"\n",
       "\t\"24\"\n",
       "\t\"24\"\n",
       "]"
      ]
     },
     "execution_count": 20,
     "metadata": {},
     "output_type": "execute_result"
    }
   ],
   "source": [
    "pdf['State']"
   ]
  },
  {
   "cell_type": "code",
   "execution_count": 21,
   "id": "3241ac72",
   "metadata": {},
   "outputs": [
    {
     "data": {
      "text/html": [
       "<div><style>\n",
       ".dataframe > thead > tr,\n",
       ".dataframe > tbody > tr {\n",
       "  text-align: right;\n",
       "  white-space: pre-wrap;\n",
       "}\n",
       "</style>\n",
       "<small>shape: (16_593_138,)</small><table border=\"1\" class=\"dataframe\"><thead><tr><th>State</th></tr><tr><td>bool</td></tr></thead><tbody><tr><td>false</td></tr><tr><td>false</td></tr><tr><td>false</td></tr><tr><td>false</td></tr><tr><td>false</td></tr><tr><td>&hellip;</td></tr><tr><td>false</td></tr><tr><td>false</td></tr><tr><td>false</td></tr><tr><td>false</td></tr><tr><td>false</td></tr></tbody></table></div>"
      ],
      "text/plain": [
       "shape: (16_593_138,)\n",
       "Series: 'State' [bool]\n",
       "[\n",
       "\tfalse\n",
       "\tfalse\n",
       "\tfalse\n",
       "\tfalse\n",
       "\tfalse\n",
       "\t…\n",
       "\tfalse\n",
       "\tfalse\n",
       "\tfalse\n",
       "\tfalse\n",
       "\tfalse\n",
       "]"
      ]
     },
     "execution_count": 21,
     "metadata": {},
     "output_type": "execute_result"
    }
   ],
   "source": [
    "# This are label data \n",
    "# For know mp we used the Metadata json file\n",
    "# Line number 308\n",
    "\n",
    "pdf['State'] == '23'\n"
   ]
  },
  {
   "cell_type": "code",
   "execution_count": 22,
   "id": "402d33fd",
   "metadata": {},
   "outputs": [],
   "source": [
    "mp_data = pdf.filter(\n",
    "    pl.col('State') == '23'\n",
    ")"
   ]
  },
  {
   "cell_type": "code",
   "execution_count": 23,
   "id": "7dbdeca6",
   "metadata": {},
   "outputs": [
    {
     "data": {
      "text/plain": [
       "931998"
      ]
     },
     "execution_count": 23,
     "metadata": {},
     "output_type": "execute_result"
    }
   ],
   "source": [
    "# In this table MP data is present \n",
    "\n",
    "mp_data.shape[0]"
   ]
  },
  {
   "cell_type": "code",
   "execution_count": 24,
   "id": "40ea3f53",
   "metadata": {},
   "outputs": [
    {
     "data": {
      "text/html": [
       "<div><style>\n",
       ".dataframe > thead > tr,\n",
       ".dataframe > tbody > tr {\n",
       "  text-align: right;\n",
       "  white-space: pre-wrap;\n",
       "}\n",
       "</style>\n",
       "<small>shape: (931_998, 22)</small><table border=\"1\" class=\"dataframe\"><thead><tr><th>Survey_Name</th><th>Year</th><th>FSU_Serial_No</th><th>Sector</th><th>State</th><th>NSS_Region</th><th>District</th><th>Stratum</th><th>Sub_stratum</th><th>Panel</th><th>Sub_sample</th><th>FOD_Sub_Region</th><th>Sample_SU_No</th><th>Sample_Sub_Division_No</th><th>Second_Stage_Stratum_No</th><th>Sample_Household_No</th><th>Questionnaire_No</th><th>Level</th><th>SECTION</th><th>ITEM_CODE</th><th>VALUE_RS</th><th>MULTIPLIER</th></tr><tr><td>str</td><td>str</td><td>str</td><td>str</td><td>str</td><td>str</td><td>str</td><td>str</td><td>str</td><td>str</td><td>str</td><td>str</td><td>str</td><td>str</td><td>str</td><td>str</td><td>str</td><td>str</td><td>str</td><td>str</td><td>i64</td><td>i64</td></tr></thead><tbody><tr><td>&quot;HCES&quot;</td><td>&quot;2024&quot;</td><td>&quot;44085&quot;</td><td>&quot;1&quot;</td><td>&quot;23&quot;</td><td>&quot;232&quot;</td><td>&quot;26&quot;</td><td>&quot;21&quot;</td><td>&quot;01&quot;</td><td>&quot;1&quot;</td><td>&quot;2&quot;</td><td>&quot;2310&quot;</td><td>&quot;1&quot;</td><td>&quot;&quot;</td><td>&quot;2&quot;</td><td>&quot;02&quot;</td><td>&quot;F&quot;</td><td>&quot;05&quot;</td><td>&quot;5.1&quot;</td><td>&quot;139&quot;</td><td>96</td><td>58558</td></tr><tr><td>&quot;HCES&quot;</td><td>&quot;2024&quot;</td><td>&quot;44085&quot;</td><td>&quot;1&quot;</td><td>&quot;23&quot;</td><td>&quot;232&quot;</td><td>&quot;26&quot;</td><td>&quot;21&quot;</td><td>&quot;01&quot;</td><td>&quot;1&quot;</td><td>&quot;2&quot;</td><td>&quot;2310&quot;</td><td>&quot;1&quot;</td><td>&quot;&quot;</td><td>&quot;2&quot;</td><td>&quot;03&quot;</td><td>&quot;F&quot;</td><td>&quot;05&quot;</td><td>&quot;5.1&quot;</td><td>&quot;139&quot;</td><td>82</td><td>58558</td></tr><tr><td>&quot;HCES&quot;</td><td>&quot;2024&quot;</td><td>&quot;44085&quot;</td><td>&quot;1&quot;</td><td>&quot;23&quot;</td><td>&quot;232&quot;</td><td>&quot;26&quot;</td><td>&quot;21&quot;</td><td>&quot;01&quot;</td><td>&quot;1&quot;</td><td>&quot;2&quot;</td><td>&quot;2310&quot;</td><td>&quot;1&quot;</td><td>&quot;&quot;</td><td>&quot;2&quot;</td><td>&quot;04&quot;</td><td>&quot;F&quot;</td><td>&quot;05&quot;</td><td>&quot;5.1&quot;</td><td>&quot;139&quot;</td><td>40</td><td>58558</td></tr><tr><td>&quot;HCES&quot;</td><td>&quot;2024&quot;</td><td>&quot;44085&quot;</td><td>&quot;1&quot;</td><td>&quot;23&quot;</td><td>&quot;232&quot;</td><td>&quot;26&quot;</td><td>&quot;21&quot;</td><td>&quot;01&quot;</td><td>&quot;1&quot;</td><td>&quot;2&quot;</td><td>&quot;2310&quot;</td><td>&quot;1&quot;</td><td>&quot;&quot;</td><td>&quot;2&quot;</td><td>&quot;05&quot;</td><td>&quot;F&quot;</td><td>&quot;05&quot;</td><td>&quot;5.1&quot;</td><td>&quot;139&quot;</td><td>80</td><td>58558</td></tr><tr><td>&quot;HCES&quot;</td><td>&quot;2024&quot;</td><td>&quot;44085&quot;</td><td>&quot;1&quot;</td><td>&quot;23&quot;</td><td>&quot;232&quot;</td><td>&quot;26&quot;</td><td>&quot;21&quot;</td><td>&quot;01&quot;</td><td>&quot;1&quot;</td><td>&quot;2&quot;</td><td>&quot;2310&quot;</td><td>&quot;1&quot;</td><td>&quot;&quot;</td><td>&quot;2&quot;</td><td>&quot;06&quot;</td><td>&quot;F&quot;</td><td>&quot;05&quot;</td><td>&quot;5.1&quot;</td><td>&quot;139&quot;</td><td>40</td><td>58558</td></tr><tr><td>&hellip;</td><td>&hellip;</td><td>&hellip;</td><td>&hellip;</td><td>&hellip;</td><td>&hellip;</td><td>&hellip;</td><td>&hellip;</td><td>&hellip;</td><td>&hellip;</td><td>&hellip;</td><td>&hellip;</td><td>&hellip;</td><td>&hellip;</td><td>&hellip;</td><td>&hellip;</td><td>&hellip;</td><td>&hellip;</td><td>&hellip;</td><td>&hellip;</td><td>&hellip;</td><td>&hellip;</td></tr><tr><td>&quot;HCES&quot;</td><td>&quot;2024&quot;</td><td>&quot;25131&quot;</td><td>&quot;2&quot;</td><td>&quot;23&quot;</td><td>&quot;232&quot;</td><td>&quot;10&quot;</td><td>&quot;22&quot;</td><td>&quot;04&quot;</td><td>&quot;10&quot;</td><td>&quot;2&quot;</td><td>&quot;2332&quot;</td><td>&quot;1&quot;</td><td>&quot;&quot;</td><td>&quot;3&quot;</td><td>&quot;18&quot;</td><td>&quot;F&quot;</td><td>&quot;05&quot;</td><td>&quot;6.2&quot;</td><td>&quot;219&quot;</td><td>237</td><td>102702</td></tr><tr><td>&quot;HCES&quot;</td><td>&quot;2024&quot;</td><td>&quot;25131&quot;</td><td>&quot;2&quot;</td><td>&quot;23&quot;</td><td>&quot;232&quot;</td><td>&quot;10&quot;</td><td>&quot;22&quot;</td><td>&quot;04&quot;</td><td>&quot;10&quot;</td><td>&quot;2&quot;</td><td>&quot;2332&quot;</td><td>&quot;1&quot;</td><td>&quot;&quot;</td><td>&quot;3&quot;</td><td>&quot;18&quot;</td><td>&quot;F&quot;</td><td>&quot;05&quot;</td><td>&quot;6.3&quot;</td><td>&quot;239&quot;</td><td>60</td><td>102702</td></tr><tr><td>&quot;HCES&quot;</td><td>&quot;2024&quot;</td><td>&quot;25131&quot;</td><td>&quot;2&quot;</td><td>&quot;23&quot;</td><td>&quot;232&quot;</td><td>&quot;10&quot;</td><td>&quot;22&quot;</td><td>&quot;04&quot;</td><td>&quot;10&quot;</td><td>&quot;2&quot;</td><td>&quot;2332&quot;</td><td>&quot;1&quot;</td><td>&quot;&quot;</td><td>&quot;3&quot;</td><td>&quot;18&quot;</td><td>&quot;F&quot;</td><td>&quot;05&quot;</td><td>&quot;6.4&quot;</td><td>&quot;249&quot;</td><td>14</td><td>102702</td></tr><tr><td>&quot;HCES&quot;</td><td>&quot;2024&quot;</td><td>&quot;25131&quot;</td><td>&quot;2&quot;</td><td>&quot;23&quot;</td><td>&quot;232&quot;</td><td>&quot;10&quot;</td><td>&quot;22&quot;</td><td>&quot;04&quot;</td><td>&quot;10&quot;</td><td>&quot;2&quot;</td><td>&quot;2332&quot;</td><td>&quot;1&quot;</td><td>&quot;&quot;</td><td>&quot;3&quot;</td><td>&quot;18&quot;</td><td>&quot;F&quot;</td><td>&quot;05&quot;</td><td>&quot;6.7&quot;</td><td>&quot;269&quot;</td><td>129</td><td>102702</td></tr><tr><td>&quot;HCES&quot;</td><td>&quot;2024&quot;</td><td>&quot;25131&quot;</td><td>&quot;2&quot;</td><td>&quot;23&quot;</td><td>&quot;232&quot;</td><td>&quot;10&quot;</td><td>&quot;22&quot;</td><td>&quot;04&quot;</td><td>&quot;10&quot;</td><td>&quot;2&quot;</td><td>&quot;2332&quot;</td><td>&quot;1&quot;</td><td>&quot;&quot;</td><td>&quot;3&quot;</td><td>&quot;18&quot;</td><td>&quot;F&quot;</td><td>&quot;05&quot;</td><td>&quot;6.8&quot;</td><td>&quot;279&quot;</td><td>55</td><td>102702</td></tr></tbody></table></div>"
      ],
      "text/plain": [
       "shape: (931_998, 22)\n",
       "┌─────────────┬──────┬───────────────┬────────┬───┬─────────┬───────────┬──────────┬────────────┐\n",
       "│ Survey_Name ┆ Year ┆ FSU_Serial_No ┆ Sector ┆ … ┆ SECTION ┆ ITEM_CODE ┆ VALUE_RS ┆ MULTIPLIER │\n",
       "│ ---         ┆ ---  ┆ ---           ┆ ---    ┆   ┆ ---     ┆ ---       ┆ ---      ┆ ---        │\n",
       "│ str         ┆ str  ┆ str           ┆ str    ┆   ┆ str     ┆ str       ┆ i64      ┆ i64        │\n",
       "╞═════════════╪══════╪═══════════════╪════════╪═══╪═════════╪═══════════╪══════════╪════════════╡\n",
       "│ HCES        ┆ 2024 ┆ 44085         ┆ 1      ┆ … ┆ 5.1     ┆ 139       ┆ 96       ┆ 58558      │\n",
       "│ HCES        ┆ 2024 ┆ 44085         ┆ 1      ┆ … ┆ 5.1     ┆ 139       ┆ 82       ┆ 58558      │\n",
       "│ HCES        ┆ 2024 ┆ 44085         ┆ 1      ┆ … ┆ 5.1     ┆ 139       ┆ 40       ┆ 58558      │\n",
       "│ HCES        ┆ 2024 ┆ 44085         ┆ 1      ┆ … ┆ 5.1     ┆ 139       ┆ 80       ┆ 58558      │\n",
       "│ HCES        ┆ 2024 ┆ 44085         ┆ 1      ┆ … ┆ 5.1     ┆ 139       ┆ 40       ┆ 58558      │\n",
       "│ …           ┆ …    ┆ …             ┆ …      ┆ … ┆ …       ┆ …         ┆ …        ┆ …          │\n",
       "│ HCES        ┆ 2024 ┆ 25131         ┆ 2      ┆ … ┆ 6.2     ┆ 219       ┆ 237      ┆ 102702     │\n",
       "│ HCES        ┆ 2024 ┆ 25131         ┆ 2      ┆ … ┆ 6.3     ┆ 239       ┆ 60       ┆ 102702     │\n",
       "│ HCES        ┆ 2024 ┆ 25131         ┆ 2      ┆ … ┆ 6.4     ┆ 249       ┆ 14       ┆ 102702     │\n",
       "│ HCES        ┆ 2024 ┆ 25131         ┆ 2      ┆ … ┆ 6.7     ┆ 269       ┆ 129      ┆ 102702     │\n",
       "│ HCES        ┆ 2024 ┆ 25131         ┆ 2      ┆ … ┆ 6.8     ┆ 279       ┆ 55       ┆ 102702     │\n",
       "└─────────────┴──────┴───────────────┴────────┴───┴─────────┴───────────┴──────────┴────────────┘"
      ]
     },
     "execution_count": 24,
     "metadata": {},
     "output_type": "execute_result"
    }
   ],
   "source": [
    "mp_data"
   ]
  },
  {
   "cell_type": "code",
   "execution_count": null,
   "id": "e653a61b",
   "metadata": {},
   "outputs": [],
   "source": []
  },
  {
   "cell_type": "code",
   "execution_count": 25,
   "id": "3a99c7de",
   "metadata": {},
   "outputs": [
    {
     "data": {
      "text/plain": [
       "791"
      ]
     },
     "execution_count": 25,
     "metadata": {},
     "output_type": "execute_result"
    }
   ],
   "source": [
    "mp_data['FSU_Serial_No'].n_unique()"
   ]
  },
  {
   "cell_type": "markdown",
   "id": "0388976f",
   "metadata": {},
   "source": [
    "# Save"
   ]
  },
  {
   "cell_type": "code",
   "execution_count": 26,
   "id": "cc7bcf67",
   "metadata": {},
   "outputs": [
    {
     "name": "stdout",
     "output_type": "stream",
     "text": [
      " 931998 are the MP data points\n"
     ]
    }
   ],
   "source": [
    "print(f\" {pdf.filter(pl.col('State') == '23').shape[0]} are the MP data points\")"
   ]
  },
  {
   "cell_type": "code",
   "execution_count": 27,
   "id": "b6f545ac",
   "metadata": {},
   "outputs": [],
   "source": [
    "# convert to both csv and parquet data format"
   ]
  },
  {
   "cell_type": "code",
   "execution_count": 28,
   "id": "27fc1033",
   "metadata": {},
   "outputs": [
    {
     "data": {
      "text/plain": [
       "1"
      ]
     },
     "execution_count": 28,
     "metadata": {},
     "output_type": "execute_result"
    }
   ],
   "source": [
    "mp_data['State'].n_unique()"
   ]
  },
  {
   "cell_type": "code",
   "execution_count": 29,
   "id": "31ef5e23",
   "metadata": {},
   "outputs": [],
   "source": [
    "mp_data.write_csv(r\"C:\\Users\\Rudra\\Desktop\\rural-financial-inclusion-govt-scheme-recommendation\\parquet-data\\lev-14\\data2\\lev_14_mp.csv\")"
   ]
  },
  {
   "cell_type": "code",
   "execution_count": 30,
   "id": "27e6f01f",
   "metadata": {},
   "outputs": [],
   "source": [
    "mp_data.write_parquet(r\"C:\\Users\\Rudra\\Desktop\\rural-financial-inclusion-govt-scheme-recommendation\\parquet-data\\lev-14\\data2\\lev_14_mp.parquet\", compression=\"zstd\")"
   ]
  },
  {
   "cell_type": "code",
   "execution_count": 31,
   "id": "12082863",
   "metadata": {},
   "outputs": [],
   "source": [
    "mp_data = pl.read_parquet(r\"C:\\Users\\Rudra\\Desktop\\rural-financial-inclusion-govt-scheme-recommendation\\parquet-data\\lev-14\\data2\\lev_14_mp.parquet\")"
   ]
  },
  {
   "cell_type": "code",
   "execution_count": 32,
   "id": "8b35ec34",
   "metadata": {},
   "outputs": [
    {
     "data": {
      "text/plain": [
       "1"
      ]
     },
     "execution_count": 32,
     "metadata": {},
     "output_type": "execute_result"
    }
   ],
   "source": [
    "mp_data['State'].n_unique()"
   ]
  }
 ],
 "metadata": {
  "kernelspec": {
   "display_name": "Python 3",
   "language": "python",
   "name": "python3"
  },
  "language_info": {
   "codemirror_mode": {
    "name": "ipython",
    "version": 3
   },
   "file_extension": ".py",
   "mimetype": "text/x-python",
   "name": "python",
   "nbconvert_exporter": "python",
   "pygments_lexer": "ipython3",
   "version": "3.11.9"
  }
 },
 "nbformat": 4,
 "nbformat_minor": 5
}
