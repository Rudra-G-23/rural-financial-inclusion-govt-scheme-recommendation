{
 "cells": [
  {
   "cell_type": "markdown",
   "id": "50ff01d7",
   "metadata": {},
   "source": [
    "# Goal: Extract MP state data from this table"
   ]
  },
  {
   "cell_type": "code",
   "execution_count": 15,
   "id": "69513632",
   "metadata": {},
   "outputs": [
    {
     "data": {
      "text/plain": [
       "' \\nGoal: Extract MP state data from this table\\nAuthor: Rudra Prasad Bhuyan\\n'"
      ]
     },
     "execution_count": 15,
     "metadata": {},
     "output_type": "execute_result"
    }
   ],
   "source": [
    "\"\"\" \n",
    "Goal: Extract MP state data from this table\n",
    "Author: Rudra Prasad Bhuyan\n",
    "\"\"\""
   ]
  },
  {
   "cell_type": "code",
   "execution_count": 16,
   "id": "b9e33eef",
   "metadata": {},
   "outputs": [],
   "source": [
    "import numpy as np\n",
    "import pandas as pd\n",
    "import polars as pl\n",
    "import matplotlib.pyplot as plt\n",
    "import seaborn as sns\n",
    "import plotly.express as px\n",
    "import plotly.offline as po\n",
    "\n",
    "import warnings\n",
    "warnings.filterwarnings('ignore')"
   ]
  },
  {
   "cell_type": "code",
   "execution_count": null,
   "id": "4d29e02f",
   "metadata": {},
   "outputs": [],
   "source": [
    "path = r\"C:\\Users\\Rudra\\Desktop\\rural-financial-inclusion-govt-scheme-recommendation\\parquet-data\\lev-05\\data\\lev-05_merged.parquet\"\n",
    "\n",
    "#df = pd.read_parquet(path)\n",
    "pdf = pl.read_parquet(path)"
   ]
  },
  {
   "cell_type": "code",
   "execution_count": null,
   "id": "1d039ba9",
   "metadata": {},
   "outputs": [
    {
     "data": {
      "text/plain": [
       "Schema([('Survey_Name', String),\n",
       "        ('Year', String),\n",
       "        ('FSU_Serial_No', String),\n",
       "        ('Sector', String),\n",
       "        ('State', String),\n",
       "        ('NSS_Region', String),\n",
       "        ('District', String),\n",
       "        ('Stratum', String),\n",
       "        ('Sub_stratum', String),\n",
       "        ('Panel', String),\n",
       "        ('Sub_sample', String),\n",
       "        ('FOD_Sub_Region', String),\n",
       "        ('Sample_SU_No', String),\n",
       "        ('Sample_Sub_Division_No', String),\n",
       "        ('Second_Stage_Stratum_No', String),\n",
       "        ('Sample_Household_No', String),\n",
       "        ('Questionnaire_No', String),\n",
       "        ('Level', String),\n",
       "        ('Item_Code', String),\n",
       "        ('OutOfHome_Consumption_Quantity', Float64),\n",
       "        ('OutOfHome_Consumption_Value', Float64),\n",
       "        ('Total_Consumption_Quantity', Float64),\n",
       "        ('Total_Consumption_Value', Float64),\n",
       "        ('Source', String),\n",
       "        ('Multiplier', Int64)])"
      ]
     },
     "execution_count": 4,
     "metadata": {},
     "output_type": "execute_result"
    }
   ],
   "source": [
    "pdf.collect_schema()"
   ]
  },
  {
   "cell_type": "markdown",
   "id": "0ca9efce",
   "metadata": {},
   "source": [
    "# Where is MP"
   ]
  },
  {
   "cell_type": "code",
   "execution_count": null,
   "id": "dba59a55",
   "metadata": {},
   "outputs": [
    {
     "data": {
      "text/plain": [
       "25508874"
      ]
     },
     "execution_count": 5,
     "metadata": {},
     "output_type": "execute_result"
    }
   ],
   "source": [
    "# Shape of the data\n",
    "pdf.shape[0]"
   ]
  },
  {
   "cell_type": "code",
   "execution_count": null,
   "id": "b4349c11",
   "metadata": {},
   "outputs": [
    {
     "data": {
      "text/html": [
       "<div><style>\n",
       ".dataframe > thead > tr,\n",
       ".dataframe > tbody > tr {\n",
       "  text-align: right;\n",
       "  white-space: pre-wrap;\n",
       "}\n",
       "</style>\n",
       "<small>shape: (25_508_874,)</small><table border=\"1\" class=\"dataframe\"><thead><tr><th>State</th></tr><tr><td>str</td></tr></thead><tbody><tr><td>&quot;01&quot;</td></tr><tr><td>&quot;01&quot;</td></tr><tr><td>&quot;01&quot;</td></tr><tr><td>&quot;01&quot;</td></tr><tr><td>&quot;01&quot;</td></tr><tr><td>&hellip;</td></tr><tr><td>&quot;10&quot;</td></tr><tr><td>&quot;10&quot;</td></tr><tr><td>&quot;10&quot;</td></tr><tr><td>&quot;10&quot;</td></tr><tr><td>&quot;10&quot;</td></tr></tbody></table></div>"
      ],
      "text/plain": [
       "shape: (25_508_874,)\n",
       "Series: 'State' [str]\n",
       "[\n",
       "\t\"01\"\n",
       "\t\"01\"\n",
       "\t\"01\"\n",
       "\t\"01\"\n",
       "\t\"01\"\n",
       "\t…\n",
       "\t\"10\"\n",
       "\t\"10\"\n",
       "\t\"10\"\n",
       "\t\"10\"\n",
       "\t\"10\"\n",
       "]"
      ]
     },
     "execution_count": 6,
     "metadata": {},
     "output_type": "execute_result"
    }
   ],
   "source": [
    "pdf['State']"
   ]
  },
  {
   "cell_type": "code",
   "execution_count": null,
   "id": "3241ac72",
   "metadata": {},
   "outputs": [
    {
     "data": {
      "text/html": [
       "<div><style>\n",
       ".dataframe > thead > tr,\n",
       ".dataframe > tbody > tr {\n",
       "  text-align: right;\n",
       "  white-space: pre-wrap;\n",
       "}\n",
       "</style>\n",
       "<small>shape: (25_508_874,)</small><table border=\"1\" class=\"dataframe\"><thead><tr><th>State</th></tr><tr><td>bool</td></tr></thead><tbody><tr><td>false</td></tr><tr><td>false</td></tr><tr><td>false</td></tr><tr><td>false</td></tr><tr><td>false</td></tr><tr><td>&hellip;</td></tr><tr><td>false</td></tr><tr><td>false</td></tr><tr><td>false</td></tr><tr><td>false</td></tr><tr><td>false</td></tr></tbody></table></div>"
      ],
      "text/plain": [
       "shape: (25_508_874,)\n",
       "Series: 'State' [bool]\n",
       "[\n",
       "\tfalse\n",
       "\tfalse\n",
       "\tfalse\n",
       "\tfalse\n",
       "\tfalse\n",
       "\t…\n",
       "\tfalse\n",
       "\tfalse\n",
       "\tfalse\n",
       "\tfalse\n",
       "\tfalse\n",
       "]"
      ]
     },
     "execution_count": 7,
     "metadata": {},
     "output_type": "execute_result"
    }
   ],
   "source": [
    "# This are label data \n",
    "# For know mp we used the Metadata json file\n",
    "# Line number 308\n",
    "\n",
    "pdf['State'] == '23'\n"
   ]
  },
  {
   "cell_type": "code",
   "execution_count": null,
   "id": "402d33fd",
   "metadata": {},
   "outputs": [],
   "source": [
    "mp_data = pdf.filter(\n",
    "    pl.col('State') == '23'\n",
    ")"
   ]
  },
  {
   "cell_type": "code",
   "execution_count": null,
   "id": "7de45369",
   "metadata": {},
   "outputs": [
    {
     "data": {
      "text/html": [
       "<div><style>\n",
       ".dataframe > thead > tr,\n",
       ".dataframe > tbody > tr {\n",
       "  text-align: right;\n",
       "  white-space: pre-wrap;\n",
       "}\n",
       "</style>\n",
       "<small>shape: (1_355_664, 25)</small><table border=\"1\" class=\"dataframe\"><thead><tr><th>Survey_Name</th><th>Year</th><th>FSU_Serial_No</th><th>Sector</th><th>State</th><th>NSS_Region</th><th>District</th><th>Stratum</th><th>Sub_stratum</th><th>Panel</th><th>Sub_sample</th><th>FOD_Sub_Region</th><th>Sample_SU_No</th><th>Sample_Sub_Division_No</th><th>Second_Stage_Stratum_No</th><th>Sample_Household_No</th><th>Questionnaire_No</th><th>Level</th><th>Item_Code</th><th>OutOfHome_Consumption_Quantity</th><th>OutOfHome_Consumption_Value</th><th>Total_Consumption_Quantity</th><th>Total_Consumption_Value</th><th>Source</th><th>Multiplier</th></tr><tr><td>str</td><td>str</td><td>str</td><td>str</td><td>str</td><td>str</td><td>str</td><td>str</td><td>str</td><td>str</td><td>str</td><td>str</td><td>str</td><td>str</td><td>str</td><td>str</td><td>str</td><td>str</td><td>str</td><td>f64</td><td>f64</td><td>f64</td><td>f64</td><td>str</td><td>i64</td></tr></thead><tbody><tr><td>&quot;HCES&quot;</td><td>&quot;2024&quot;</td><td>&quot;44085&quot;</td><td>&quot;1&quot;</td><td>&quot;23&quot;</td><td>&quot;232&quot;</td><td>&quot;26&quot;</td><td>&quot;21&quot;</td><td>&quot;01&quot;</td><td>&quot;1&quot;</td><td>&quot;2&quot;</td><td>&quot;2310&quot;</td><td>&quot;1&quot;</td><td>&quot;&quot;</td><td>&quot;2&quot;</td><td>&quot;01&quot;</td><td>&quot;F&quot;</td><td>&quot;05&quot;</td><td>&quot;004&quot;</td><td>null</td><td>null</td><td>0.5</td><td>200.0</td><td>&quot;1&quot;</td><td>58558</td></tr><tr><td>&quot;HCES&quot;</td><td>&quot;2024&quot;</td><td>&quot;44085&quot;</td><td>&quot;1&quot;</td><td>&quot;23&quot;</td><td>&quot;232&quot;</td><td>&quot;26&quot;</td><td>&quot;21&quot;</td><td>&quot;01&quot;</td><td>&quot;1&quot;</td><td>&quot;2&quot;</td><td>&quot;2310&quot;</td><td>&quot;1&quot;</td><td>&quot;&quot;</td><td>&quot;2&quot;</td><td>&quot;01&quot;</td><td>&quot;F&quot;</td><td>&quot;05&quot;</td><td>&quot;061&quot;</td><td>null</td><td>null</td><td>15.0</td><td>null</td><td>&quot;1&quot;</td><td>58558</td></tr><tr><td>&quot;HCES&quot;</td><td>&quot;2024&quot;</td><td>&quot;44085&quot;</td><td>&quot;1&quot;</td><td>&quot;23&quot;</td><td>&quot;232&quot;</td><td>&quot;26&quot;</td><td>&quot;21&quot;</td><td>&quot;01&quot;</td><td>&quot;1&quot;</td><td>&quot;2&quot;</td><td>&quot;2310&quot;</td><td>&quot;1&quot;</td><td>&quot;&quot;</td><td>&quot;2&quot;</td><td>&quot;01&quot;</td><td>&quot;F&quot;</td><td>&quot;05&quot;</td><td>&quot;062&quot;</td><td>null</td><td>null</td><td>14.0</td><td>null</td><td>&quot;1&quot;</td><td>58558</td></tr><tr><td>&quot;HCES&quot;</td><td>&quot;2024&quot;</td><td>&quot;44085&quot;</td><td>&quot;1&quot;</td><td>&quot;23&quot;</td><td>&quot;232&quot;</td><td>&quot;26&quot;</td><td>&quot;21&quot;</td><td>&quot;01&quot;</td><td>&quot;1&quot;</td><td>&quot;2&quot;</td><td>&quot;2310&quot;</td><td>&quot;1&quot;</td><td>&quot;&quot;</td><td>&quot;2&quot;</td><td>&quot;01&quot;</td><td>&quot;F&quot;</td><td>&quot;05&quot;</td><td>&quot;103&quot;</td><td>null</td><td>null</td><td>1.5</td><td>75.0</td><td>&quot;1&quot;</td><td>58558</td></tr><tr><td>&quot;HCES&quot;</td><td>&quot;2024&quot;</td><td>&quot;44085&quot;</td><td>&quot;1&quot;</td><td>&quot;23&quot;</td><td>&quot;232&quot;</td><td>&quot;26&quot;</td><td>&quot;21&quot;</td><td>&quot;01&quot;</td><td>&quot;1&quot;</td><td>&quot;2&quot;</td><td>&quot;2310&quot;</td><td>&quot;1&quot;</td><td>&quot;&quot;</td><td>&quot;2&quot;</td><td>&quot;01&quot;</td><td>&quot;F&quot;</td><td>&quot;05&quot;</td><td>&quot;105&quot;</td><td>null</td><td>null</td><td>0.1</td><td>15.0</td><td>&quot;1&quot;</td><td>58558</td></tr><tr><td>&hellip;</td><td>&hellip;</td><td>&hellip;</td><td>&hellip;</td><td>&hellip;</td><td>&hellip;</td><td>&hellip;</td><td>&hellip;</td><td>&hellip;</td><td>&hellip;</td><td>&hellip;</td><td>&hellip;</td><td>&hellip;</td><td>&hellip;</td><td>&hellip;</td><td>&hellip;</td><td>&hellip;</td><td>&hellip;</td><td>&hellip;</td><td>&hellip;</td><td>&hellip;</td><td>&hellip;</td><td>&hellip;</td><td>&hellip;</td><td>&hellip;</td></tr><tr><td>&quot;HCES&quot;</td><td>&quot;2024&quot;</td><td>&quot;25131&quot;</td><td>&quot;2&quot;</td><td>&quot;23&quot;</td><td>&quot;232&quot;</td><td>&quot;10&quot;</td><td>&quot;22&quot;</td><td>&quot;04&quot;</td><td>&quot;10&quot;</td><td>&quot;2&quot;</td><td>&quot;2332&quot;</td><td>&quot;1&quot;</td><td>&quot;&quot;</td><td>&quot;3&quot;</td><td>&quot;18&quot;</td><td>&quot;F&quot;</td><td>&quot;05&quot;</td><td>&quot;219&quot;</td><td>null</td><td>null</td><td>null</td><td>237.0</td><td>&quot;&quot;</td><td>102702</td></tr><tr><td>&quot;HCES&quot;</td><td>&quot;2024&quot;</td><td>&quot;25131&quot;</td><td>&quot;2&quot;</td><td>&quot;23&quot;</td><td>&quot;232&quot;</td><td>&quot;10&quot;</td><td>&quot;22&quot;</td><td>&quot;04&quot;</td><td>&quot;10&quot;</td><td>&quot;2&quot;</td><td>&quot;2332&quot;</td><td>&quot;1&quot;</td><td>&quot;&quot;</td><td>&quot;3&quot;</td><td>&quot;18&quot;</td><td>&quot;F&quot;</td><td>&quot;05&quot;</td><td>&quot;239&quot;</td><td>null</td><td>null</td><td>null</td><td>60.0</td><td>&quot;&quot;</td><td>102702</td></tr><tr><td>&quot;HCES&quot;</td><td>&quot;2024&quot;</td><td>&quot;25131&quot;</td><td>&quot;2&quot;</td><td>&quot;23&quot;</td><td>&quot;232&quot;</td><td>&quot;10&quot;</td><td>&quot;22&quot;</td><td>&quot;04&quot;</td><td>&quot;10&quot;</td><td>&quot;2&quot;</td><td>&quot;2332&quot;</td><td>&quot;1&quot;</td><td>&quot;&quot;</td><td>&quot;3&quot;</td><td>&quot;18&quot;</td><td>&quot;F&quot;</td><td>&quot;05&quot;</td><td>&quot;249&quot;</td><td>null</td><td>null</td><td>0.1</td><td>14.0</td><td>&quot;&quot;</td><td>102702</td></tr><tr><td>&quot;HCES&quot;</td><td>&quot;2024&quot;</td><td>&quot;25131&quot;</td><td>&quot;2&quot;</td><td>&quot;23&quot;</td><td>&quot;232&quot;</td><td>&quot;10&quot;</td><td>&quot;22&quot;</td><td>&quot;04&quot;</td><td>&quot;10&quot;</td><td>&quot;2&quot;</td><td>&quot;2332&quot;</td><td>&quot;1&quot;</td><td>&quot;&quot;</td><td>&quot;3&quot;</td><td>&quot;18&quot;</td><td>&quot;F&quot;</td><td>&quot;05&quot;</td><td>&quot;269&quot;</td><td>null</td><td>null</td><td>415.0</td><td>129.0</td><td>&quot;&quot;</td><td>102702</td></tr><tr><td>&quot;HCES&quot;</td><td>&quot;2024&quot;</td><td>&quot;25131&quot;</td><td>&quot;2&quot;</td><td>&quot;23&quot;</td><td>&quot;232&quot;</td><td>&quot;10&quot;</td><td>&quot;22&quot;</td><td>&quot;04&quot;</td><td>&quot;10&quot;</td><td>&quot;2&quot;</td><td>&quot;2332&quot;</td><td>&quot;1&quot;</td><td>&quot;&quot;</td><td>&quot;3&quot;</td><td>&quot;18&quot;</td><td>&quot;F&quot;</td><td>&quot;05&quot;</td><td>&quot;279&quot;</td><td>null</td><td>null</td><td>null</td><td>55.0</td><td>&quot;&quot;</td><td>102702</td></tr></tbody></table></div>"
      ],
      "text/plain": [
       "shape: (1_355_664, 25)\n",
       "┌─────────────┬──────┬──────────────┬────────┬───┬─────────────┬─────────────┬────────┬────────────┐\n",
       "│ Survey_Name ┆ Year ┆ FSU_Serial_N ┆ Sector ┆ … ┆ Total_Consu ┆ Total_Consu ┆ Source ┆ Multiplier │\n",
       "│ ---         ┆ ---  ┆ o            ┆ ---    ┆   ┆ mption_Quan ┆ mption_Valu ┆ ---    ┆ ---        │\n",
       "│ str         ┆ str  ┆ ---          ┆ str    ┆   ┆ tity        ┆ e           ┆ str    ┆ i64        │\n",
       "│             ┆      ┆ str          ┆        ┆   ┆ ---         ┆ ---         ┆        ┆            │\n",
       "│             ┆      ┆              ┆        ┆   ┆ f64         ┆ f64         ┆        ┆            │\n",
       "╞═════════════╪══════╪══════════════╪════════╪═══╪═════════════╪═════════════╪════════╪════════════╡\n",
       "│ HCES        ┆ 2024 ┆ 44085        ┆ 1      ┆ … ┆ 0.5         ┆ 200.0       ┆ 1      ┆ 58558      │\n",
       "│ HCES        ┆ 2024 ┆ 44085        ┆ 1      ┆ … ┆ 15.0        ┆ null        ┆ 1      ┆ 58558      │\n",
       "│ HCES        ┆ 2024 ┆ 44085        ┆ 1      ┆ … ┆ 14.0        ┆ null        ┆ 1      ┆ 58558      │\n",
       "│ HCES        ┆ 2024 ┆ 44085        ┆ 1      ┆ … ┆ 1.5         ┆ 75.0        ┆ 1      ┆ 58558      │\n",
       "│ HCES        ┆ 2024 ┆ 44085        ┆ 1      ┆ … ┆ 0.1         ┆ 15.0        ┆ 1      ┆ 58558      │\n",
       "│ …           ┆ …    ┆ …            ┆ …      ┆ … ┆ …           ┆ …           ┆ …      ┆ …          │\n",
       "│ HCES        ┆ 2024 ┆ 25131        ┆ 2      ┆ … ┆ null        ┆ 237.0       ┆        ┆ 102702     │\n",
       "│ HCES        ┆ 2024 ┆ 25131        ┆ 2      ┆ … ┆ null        ┆ 60.0        ┆        ┆ 102702     │\n",
       "│ HCES        ┆ 2024 ┆ 25131        ┆ 2      ┆ … ┆ 0.1         ┆ 14.0        ┆        ┆ 102702     │\n",
       "│ HCES        ┆ 2024 ┆ 25131        ┆ 2      ┆ … ┆ 415.0       ┆ 129.0       ┆        ┆ 102702     │\n",
       "│ HCES        ┆ 2024 ┆ 25131        ┆ 2      ┆ … ┆ null        ┆ 55.0        ┆        ┆ 102702     │\n",
       "└─────────────┴──────┴──────────────┴────────┴───┴─────────────┴─────────────┴────────┴────────────┘"
      ]
     },
     "execution_count": 13,
     "metadata": {},
     "output_type": "execute_result"
    }
   ],
   "source": [
    "mp_data"
   ]
  },
  {
   "cell_type": "code",
   "execution_count": null,
   "id": "6a2a40bb",
   "metadata": {},
   "outputs": [
    {
     "data": {
      "text/plain": [
       "791"
      ]
     },
     "execution_count": 14,
     "metadata": {},
     "output_type": "execute_result"
    }
   ],
   "source": [
    "mp_data['FSU_Serial_No'].n_unique()"
   ]
  },
  {
   "cell_type": "markdown",
   "id": "0388976f",
   "metadata": {},
   "source": [
    "# Save"
   ]
  },
  {
   "cell_type": "code",
   "execution_count": null,
   "id": "cc7bcf67",
   "metadata": {},
   "outputs": [
    {
     "name": "stdout",
     "output_type": "stream",
     "text": [
      " 1355664 are the MP data points\n"
     ]
    }
   ],
   "source": [
    "print(f\" {mp_data.shape[0]} are the MP data points\")"
   ]
  },
  {
   "cell_type": "code",
   "execution_count": null,
   "id": "b6f545ac",
   "metadata": {},
   "outputs": [],
   "source": [
    "# convert to both csv and parquet data format"
   ]
  },
  {
   "cell_type": "code",
   "execution_count": null,
   "id": "31ef5e23",
   "metadata": {},
   "outputs": [],
   "source": [
    "mp_data.write_csv(r\"C:\\Users\\Rudra\\Desktop\\rural-financial-inclusion-govt-scheme-recommendation\\parquet-data\\lev-05\\data2\\lev_05_mp.csv\")"
   ]
  },
  {
   "cell_type": "code",
   "execution_count": null,
   "id": "27e6f01f",
   "metadata": {},
   "outputs": [],
   "source": [
    "mp_data.write_parquet(r\"C:\\Users\\Rudra\\Desktop\\rural-financial-inclusion-govt-scheme-recommendation\\parquet-data\\lev-05\\data2\\lev_05_mp.parquet\", compression=\"zstd\")"
   ]
  }
 ],
 "metadata": {
  "kernelspec": {
   "display_name": "Python 3",
   "language": "python",
   "name": "python3"
  },
  "language_info": {
   "codemirror_mode": {
    "name": "ipython",
    "version": 3
   },
   "file_extension": ".py",
   "mimetype": "text/x-python",
   "name": "python",
   "nbconvert_exporter": "python",
   "pygments_lexer": "ipython3",
   "version": "3.11.9"
  }
 },
 "nbformat": 4,
 "nbformat_minor": 5
}
