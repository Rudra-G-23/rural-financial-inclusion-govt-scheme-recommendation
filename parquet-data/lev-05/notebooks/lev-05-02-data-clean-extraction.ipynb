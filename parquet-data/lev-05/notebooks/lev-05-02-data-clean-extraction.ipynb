{
 "cells": [
  {
   "cell_type": "markdown",
   "id": "da423554",
   "metadata": {},
   "source": [
    "# Goal: Do both Data cleaning & Feature Extraction"
   ]
  },
  {
   "cell_type": "code",
   "execution_count": 1,
   "id": "3516e05e",
   "metadata": {},
   "outputs": [],
   "source": [
    "import polars as pl\n",
    "import seaborn as sns"
   ]
  },
  {
   "cell_type": "code",
   "execution_count": 2,
   "id": "e7a886c8",
   "metadata": {},
   "outputs": [
    {
     "data": {
      "text/plain": [
       "Schema([('Survey_Name', String),\n",
       "        ('Year', String),\n",
       "        ('FSU_Serial_No', String),\n",
       "        ('Sector', String),\n",
       "        ('State', String),\n",
       "        ('NSS_Region', String),\n",
       "        ('District', String),\n",
       "        ('Stratum', String),\n",
       "        ('Sub_stratum', String),\n",
       "        ('Panel', String),\n",
       "        ('Sub_sample', String),\n",
       "        ('FOD_Sub_Region', String),\n",
       "        ('Sample_SU_No', String),\n",
       "        ('Sample_Sub_Division_No', String),\n",
       "        ('Second_Stage_Stratum_No', String),\n",
       "        ('Sample_Household_No', String),\n",
       "        ('Questionnaire_No', String),\n",
       "        ('Level', String),\n",
       "        ('Item_Code', String),\n",
       "        ('OutOfHome_Consumption_Quantity', Float64),\n",
       "        ('OutOfHome_Consumption_Value', Float64),\n",
       "        ('Total_Consumption_Quantity', Float64),\n",
       "        ('Total_Consumption_Value', Float64),\n",
       "        ('Source', String),\n",
       "        ('Multiplier', Int64)])"
      ]
     },
     "execution_count": 2,
     "metadata": {},
     "output_type": "execute_result"
    }
   ],
   "source": [
    "path = r\"C:\\Users\\Rudra\\Desktop\\rural-financial-inclusion-govt-scheme-recommendation\\parquet-data\\lev-05\\data\\lev-05_merged.parquet\"\n",
    "\n",
    "pdf = pl.read_parquet(path)\n",
    "pdf.collect_schema()"
   ]
  },
  {
   "cell_type": "code",
   "execution_count": 3,
   "id": "e0339ae5",
   "metadata": {},
   "outputs": [
    {
     "data": {
      "text/html": [
       "<div><style>\n",
       ".dataframe > thead > tr,\n",
       ".dataframe > tbody > tr {\n",
       "  text-align: right;\n",
       "  white-space: pre-wrap;\n",
       "}\n",
       "</style>\n",
       "<small>shape: (1,)</small><table border=\"1\" class=\"dataframe\"><thead><tr><th>State</th></tr><tr><td>str</td></tr></thead><tbody><tr><td>&quot;23&quot;</td></tr></tbody></table></div>"
      ],
      "text/plain": [
       "shape: (1,)\n",
       "Series: 'State' [str]\n",
       "[\n",
       "\t\"23\"\n",
       "]"
      ]
     },
     "execution_count": 3,
     "metadata": {},
     "output_type": "execute_result"
    }
   ],
   "source": [
    "pdf = pdf.filter(\n",
    "    pl.col('State') == '23'\n",
    ")\n",
    "\n",
    "pdf['State'].unique()"
   ]
  },
  {
   "cell_type": "code",
   "execution_count": 4,
   "id": "a509d12d",
   "metadata": {},
   "outputs": [],
   "source": [
    "lev_05 = [\n",
    "    'OutOfHome_Consumption_Quantity',\n",
    "    'OutOfHome_Consumption_Value',\n",
    "    'Total_Consumption_Quantity',\n",
    "    'Total_Consumption_Value',\n",
    "    'Source',\n",
    "]\n",
    "\n",
    "pdf = pdf[lev_05]"
   ]
  },
  {
   "cell_type": "code",
   "execution_count": 5,
   "id": "53945b22",
   "metadata": {},
   "outputs": [
    {
     "data": {
      "text/html": [
       "<div><style>\n",
       ".dataframe > thead > tr,\n",
       ".dataframe > tbody > tr {\n",
       "  text-align: right;\n",
       "  white-space: pre-wrap;\n",
       "}\n",
       "</style>\n",
       "<small>shape: (1_355_664, 5)</small><table border=\"1\" class=\"dataframe\"><thead><tr><th>OutOfHome_Consumption_Quantity</th><th>OutOfHome_Consumption_Value</th><th>Total_Consumption_Quantity</th><th>Total_Consumption_Value</th><th>Source</th></tr><tr><td>f64</td><td>f64</td><td>f64</td><td>f64</td><td>str</td></tr></thead><tbody><tr><td>null</td><td>null</td><td>0.5</td><td>200.0</td><td>&quot;1&quot;</td></tr><tr><td>null</td><td>null</td><td>15.0</td><td>null</td><td>&quot;1&quot;</td></tr><tr><td>null</td><td>null</td><td>14.0</td><td>null</td><td>&quot;1&quot;</td></tr><tr><td>null</td><td>null</td><td>1.5</td><td>75.0</td><td>&quot;1&quot;</td></tr><tr><td>null</td><td>null</td><td>0.1</td><td>15.0</td><td>&quot;1&quot;</td></tr><tr><td>&hellip;</td><td>&hellip;</td><td>&hellip;</td><td>&hellip;</td><td>&hellip;</td></tr><tr><td>null</td><td>null</td><td>null</td><td>237.0</td><td>&quot;&quot;</td></tr><tr><td>null</td><td>null</td><td>null</td><td>60.0</td><td>&quot;&quot;</td></tr><tr><td>null</td><td>null</td><td>0.1</td><td>14.0</td><td>&quot;&quot;</td></tr><tr><td>null</td><td>null</td><td>415.0</td><td>129.0</td><td>&quot;&quot;</td></tr><tr><td>null</td><td>null</td><td>null</td><td>55.0</td><td>&quot;&quot;</td></tr></tbody></table></div>"
      ],
      "text/plain": [
       "shape: (1_355_664, 5)\n",
       "┌──────────────────────┬──────────────────────┬─────────────────────┬─────────────────────┬────────┐\n",
       "│ OutOfHome_Consumptio ┆ OutOfHome_Consumptio ┆ Total_Consumption_Q ┆ Total_Consumption_V ┆ Source │\n",
       "│ n_Quantity           ┆ n_Value              ┆ uantity             ┆ alue                ┆ ---    │\n",
       "│ ---                  ┆ ---                  ┆ ---                 ┆ ---                 ┆ str    │\n",
       "│ f64                  ┆ f64                  ┆ f64                 ┆ f64                 ┆        │\n",
       "╞══════════════════════╪══════════════════════╪═════════════════════╪═════════════════════╪════════╡\n",
       "│ null                 ┆ null                 ┆ 0.5                 ┆ 200.0               ┆ 1      │\n",
       "│ null                 ┆ null                 ┆ 15.0                ┆ null                ┆ 1      │\n",
       "│ null                 ┆ null                 ┆ 14.0                ┆ null                ┆ 1      │\n",
       "│ null                 ┆ null                 ┆ 1.5                 ┆ 75.0                ┆ 1      │\n",
       "│ null                 ┆ null                 ┆ 0.1                 ┆ 15.0                ┆ 1      │\n",
       "│ …                    ┆ …                    ┆ …                   ┆ …                   ┆ …      │\n",
       "│ null                 ┆ null                 ┆ null                ┆ 237.0               ┆        │\n",
       "│ null                 ┆ null                 ┆ null                ┆ 60.0                ┆        │\n",
       "│ null                 ┆ null                 ┆ 0.1                 ┆ 14.0                ┆        │\n",
       "│ null                 ┆ null                 ┆ 415.0               ┆ 129.0               ┆        │\n",
       "│ null                 ┆ null                 ┆ null                ┆ 55.0                ┆        │\n",
       "└──────────────────────┴──────────────────────┴─────────────────────┴─────────────────────┴────────┘"
      ]
     },
     "execution_count": 5,
     "metadata": {},
     "output_type": "execute_result"
    }
   ],
   "source": [
    "pdf"
   ]
  },
  {
   "cell_type": "code",
   "execution_count": 6,
   "id": "15b48db9",
   "metadata": {},
   "outputs": [
    {
     "data": {
      "text/plain": [
       "Schema([('OutOfHome_Consumption_Quantity', Int32),\n",
       "        ('OutOfHome_Consumption_Value', Int32),\n",
       "        ('Total_Consumption_Quantity', Int32),\n",
       "        ('Total_Consumption_Value', Int32),\n",
       "        ('Source', Int32)])"
      ]
     },
     "execution_count": 6,
     "metadata": {},
     "output_type": "execute_result"
    }
   ],
   "source": [
    "pdf = pdf.with_columns(\n",
    "    [pl.col(col).cast(pl.Int32, strict=False) for col in lev_05]\n",
    ")\n",
    "pdf.schema"
   ]
  },
  {
   "cell_type": "code",
   "execution_count": 7,
   "id": "57e54446",
   "metadata": {},
   "outputs": [
    {
     "data": {
      "text/html": [
       "<div><style>\n",
       ".dataframe > thead > tr,\n",
       ".dataframe > tbody > tr {\n",
       "  text-align: right;\n",
       "  white-space: pre-wrap;\n",
       "}\n",
       "</style>\n",
       "<small>shape: (1, 5)</small><table border=\"1\" class=\"dataframe\"><thead><tr><th>OutOfHome_Consumption_Quantity</th><th>OutOfHome_Consumption_Value</th><th>Total_Consumption_Quantity</th><th>Total_Consumption_Value</th><th>Source</th></tr><tr><td>u32</td><td>u32</td><td>u32</td><td>u32</td><td>u32</td></tr></thead><tbody><tr><td>1289894</td><td>1277454</td><td>146144</td><td>36200</td><td>313468</td></tr></tbody></table></div>"
      ],
      "text/plain": [
       "shape: (1, 5)\n",
       "┌──────────────────────┬──────────────────────┬─────────────────────┬─────────────────────┬────────┐\n",
       "│ OutOfHome_Consumptio ┆ OutOfHome_Consumptio ┆ Total_Consumption_Q ┆ Total_Consumption_V ┆ Source │\n",
       "│ n_Quantity           ┆ n_Value              ┆ uantity             ┆ alue                ┆ ---    │\n",
       "│ ---                  ┆ ---                  ┆ ---                 ┆ ---                 ┆ u32    │\n",
       "│ u32                  ┆ u32                  ┆ u32                 ┆ u32                 ┆        │\n",
       "╞══════════════════════╪══════════════════════╪═════════════════════╪═════════════════════╪════════╡\n",
       "│ 1289894              ┆ 1277454              ┆ 146144              ┆ 36200               ┆ 313468 │\n",
       "└──────────────────────┴──────────────────────┴─────────────────────┴─────────────────────┴────────┘"
      ]
     },
     "execution_count": 7,
     "metadata": {},
     "output_type": "execute_result"
    }
   ],
   "source": [
    "pdf.null_count()"
   ]
  },
  {
   "cell_type": "code",
   "execution_count": 8,
   "id": "7c956ebe",
   "metadata": {},
   "outputs": [
    {
     "data": {
      "text/html": [
       "<div><style>\n",
       ".dataframe > thead > tr,\n",
       ".dataframe > tbody > tr {\n",
       "  text-align: right;\n",
       "  white-space: pre-wrap;\n",
       "}\n",
       "</style>\n",
       "<small>shape: (1, 5)</small><table border=\"1\" class=\"dataframe\"><thead><tr><th>OutOfHome_Consumption_Quantity</th><th>OutOfHome_Consumption_Value</th><th>Total_Consumption_Quantity</th><th>Total_Consumption_Value</th><th>Source</th></tr><tr><td>f64</td><td>f64</td><td>f64</td><td>f64</td><td>f64</td></tr></thead><tbody><tr><td>0.951485</td><td>0.942309</td><td>0.107803</td><td>0.026703</td><td>0.231228</td></tr></tbody></table></div>"
      ],
      "text/plain": [
       "shape: (1, 5)\n",
       "┌─────────────────────┬─────────────────────┬─────────────────────┬─────────────────────┬──────────┐\n",
       "│ OutOfHome_Consumpti ┆ OutOfHome_Consumpti ┆ Total_Consumption_Q ┆ Total_Consumption_V ┆ Source   │\n",
       "│ on_Quantity         ┆ on_Value            ┆ uantity             ┆ alue                ┆ ---      │\n",
       "│ ---                 ┆ ---                 ┆ ---                 ┆ ---                 ┆ f64      │\n",
       "│ f64                 ┆ f64                 ┆ f64                 ┆ f64                 ┆          │\n",
       "╞═════════════════════╪═════════════════════╪═════════════════════╪═════════════════════╪══════════╡\n",
       "│ 0.951485            ┆ 0.942309            ┆ 0.107803            ┆ 0.026703            ┆ 0.231228 │\n",
       "└─────────────────────┴─────────────────────┴─────────────────────┴─────────────────────┴──────────┘"
      ]
     },
     "execution_count": 8,
     "metadata": {},
     "output_type": "execute_result"
    }
   ],
   "source": [
    "pdf.null_count() / pdf.shape[0]"
   ]
  },
  {
   "cell_type": "code",
   "execution_count": 9,
   "id": "5938a9bc",
   "metadata": {},
   "outputs": [],
   "source": [
    "def check_unique(col):\n",
    "    print(f\"{col} contains : {pdf[col].n_unique()}\")\n",
    "    display(pdf[col].unique())\n",
    "    display(f\" This {col} have the skewness {pdf[col].skew()}\")\n",
    "    print(f\"{'='*50}\")"
   ]
  },
  {
   "cell_type": "code",
   "execution_count": 10,
   "id": "84578e39",
   "metadata": {},
   "outputs": [],
   "source": [
    "def plot_hist(col):\n",
    "    sns.histplot(pdf[col])"
   ]
  },
  {
   "cell_type": "code",
   "execution_count": 11,
   "id": "7353551d",
   "metadata": {},
   "outputs": [],
   "source": [
    "# plot_hist('OutOfHome_Consumption_Quantity')"
   ]
  },
  {
   "cell_type": "code",
   "execution_count": 12,
   "id": "06bbc8d0",
   "metadata": {},
   "outputs": [
    {
     "name": "stdout",
     "output_type": "stream",
     "text": [
      "OutOfHome_Consumption_Quantity contains : 150\n"
     ]
    },
    {
     "data": {
      "text/html": [
       "<div><style>\n",
       ".dataframe > thead > tr,\n",
       ".dataframe > tbody > tr {\n",
       "  text-align: right;\n",
       "  white-space: pre-wrap;\n",
       "}\n",
       "</style>\n",
       "<small>shape: (150,)</small><table border=\"1\" class=\"dataframe\"><thead><tr><th>OutOfHome_Consumption_Quantity</th></tr><tr><td>i32</td></tr></thead><tbody><tr><td>null</td></tr><tr><td>0</td></tr><tr><td>1</td></tr><tr><td>2</td></tr><tr><td>3</td></tr><tr><td>&hellip;</td></tr><tr><td>625</td></tr><tr><td>650</td></tr><tr><td>1000</td></tr><tr><td>1150</td></tr><tr><td>1250</td></tr></tbody></table></div>"
      ],
      "text/plain": [
       "shape: (150,)\n",
       "Series: 'OutOfHome_Consumption_Quantity' [i32]\n",
       "[\n",
       "\tnull\n",
       "\t0\n",
       "\t1\n",
       "\t2\n",
       "\t3\n",
       "\t…\n",
       "\t625\n",
       "\t650\n",
       "\t1000\n",
       "\t1150\n",
       "\t1250\n",
       "]"
      ]
     },
     "metadata": {},
     "output_type": "display_data"
    },
    {
     "data": {
      "text/plain": [
       "' This OutOfHome_Consumption_Quantity have the skewness 10.383926032082329'"
      ]
     },
     "metadata": {},
     "output_type": "display_data"
    },
    {
     "name": "stdout",
     "output_type": "stream",
     "text": [
      "==================================================\n",
      "OutOfHome_Consumption_Value contains : 1011\n"
     ]
    },
    {
     "data": {
      "text/html": [
       "<div><style>\n",
       ".dataframe > thead > tr,\n",
       ".dataframe > tbody > tr {\n",
       "  text-align: right;\n",
       "  white-space: pre-wrap;\n",
       "}\n",
       "</style>\n",
       "<small>shape: (1_011,)</small><table border=\"1\" class=\"dataframe\"><thead><tr><th>OutOfHome_Consumption_Value</th></tr><tr><td>i32</td></tr></thead><tbody><tr><td>null</td></tr><tr><td>0</td></tr><tr><td>1</td></tr><tr><td>2</td></tr><tr><td>3</td></tr><tr><td>&hellip;</td></tr><tr><td>3030</td></tr><tr><td>3400</td></tr><tr><td>3585</td></tr><tr><td>3750</td></tr><tr><td>3804</td></tr></tbody></table></div>"
      ],
      "text/plain": [
       "shape: (1_011,)\n",
       "Series: 'OutOfHome_Consumption_Value' [i32]\n",
       "[\n",
       "\tnull\n",
       "\t0\n",
       "\t1\n",
       "\t2\n",
       "\t3\n",
       "\t…\n",
       "\t3030\n",
       "\t3400\n",
       "\t3585\n",
       "\t3750\n",
       "\t3804\n",
       "]"
      ]
     },
     "metadata": {},
     "output_type": "display_data"
    },
    {
     "data": {
      "text/plain": [
       "' This OutOfHome_Consumption_Value have the skewness 2.024162344960687'"
      ]
     },
     "metadata": {},
     "output_type": "display_data"
    },
    {
     "name": "stdout",
     "output_type": "stream",
     "text": [
      "==================================================\n",
      "Total_Consumption_Quantity contains : 976\n"
     ]
    },
    {
     "data": {
      "text/html": [
       "<div><style>\n",
       ".dataframe > thead > tr,\n",
       ".dataframe > tbody > tr {\n",
       "  text-align: right;\n",
       "  white-space: pre-wrap;\n",
       "}\n",
       "</style>\n",
       "<small>shape: (976,)</small><table border=\"1\" class=\"dataframe\"><thead><tr><th>Total_Consumption_Quantity</th></tr><tr><td>i32</td></tr></thead><tbody><tr><td>null</td></tr><tr><td>0</td></tr><tr><td>1</td></tr><tr><td>2</td></tr><tr><td>3</td></tr><tr><td>&hellip;</td></tr><tr><td>3125</td></tr><tr><td>3500</td></tr><tr><td>3950</td></tr><tr><td>4000</td></tr><tr><td>15250</td></tr></tbody></table></div>"
      ],
      "text/plain": [
       "shape: (976,)\n",
       "Series: 'Total_Consumption_Quantity' [i32]\n",
       "[\n",
       "\tnull\n",
       "\t0\n",
       "\t1\n",
       "\t2\n",
       "\t3\n",
       "\t…\n",
       "\t3125\n",
       "\t3500\n",
       "\t3950\n",
       "\t4000\n",
       "\t15250\n",
       "]"
      ]
     },
     "metadata": {},
     "output_type": "display_data"
    },
    {
     "data": {
      "text/plain": [
       "' This Total_Consumption_Quantity have the skewness 16.296559491808758'"
      ]
     },
     "metadata": {},
     "output_type": "display_data"
    },
    {
     "name": "stdout",
     "output_type": "stream",
     "text": [
      "==================================================\n",
      "Total_Consumption_Value contains : 2110\n"
     ]
    },
    {
     "data": {
      "text/html": [
       "<div><style>\n",
       ".dataframe > thead > tr,\n",
       ".dataframe > tbody > tr {\n",
       "  text-align: right;\n",
       "  white-space: pre-wrap;\n",
       "}\n",
       "</style>\n",
       "<small>shape: (2_110,)</small><table border=\"1\" class=\"dataframe\"><thead><tr><th>Total_Consumption_Value</th></tr><tr><td>i32</td></tr></thead><tbody><tr><td>null</td></tr><tr><td>1</td></tr><tr><td>2</td></tr><tr><td>3</td></tr><tr><td>4</td></tr><tr><td>&hellip;</td></tr><tr><td>6275</td></tr><tr><td>7060</td></tr><tr><td>7800</td></tr><tr><td>8880</td></tr><tr><td>18550</td></tr></tbody></table></div>"
      ],
      "text/plain": [
       "shape: (2_110,)\n",
       "Series: 'Total_Consumption_Value' [i32]\n",
       "[\n",
       "\tnull\n",
       "\t1\n",
       "\t2\n",
       "\t3\n",
       "\t4\n",
       "\t…\n",
       "\t6275\n",
       "\t7060\n",
       "\t7800\n",
       "\t8880\n",
       "\t18550\n",
       "]"
      ]
     },
     "metadata": {},
     "output_type": "display_data"
    },
    {
     "data": {
      "text/plain": [
       "' This Total_Consumption_Value have the skewness 6.000721741115648'"
      ]
     },
     "metadata": {},
     "output_type": "display_data"
    },
    {
     "name": "stdout",
     "output_type": "stream",
     "text": [
      "==================================================\n",
      "Source contains : 8\n"
     ]
    },
    {
     "data": {
      "text/html": [
       "<div><style>\n",
       ".dataframe > thead > tr,\n",
       ".dataframe > tbody > tr {\n",
       "  text-align: right;\n",
       "  white-space: pre-wrap;\n",
       "}\n",
       "</style>\n",
       "<small>shape: (8,)</small><table border=\"1\" class=\"dataframe\"><thead><tr><th>Source</th></tr><tr><td>i32</td></tr></thead><tbody><tr><td>null</td></tr><tr><td>1</td></tr><tr><td>2</td></tr><tr><td>3</td></tr><tr><td>4</td></tr><tr><td>5</td></tr><tr><td>6</td></tr><tr><td>9</td></tr></tbody></table></div>"
      ],
      "text/plain": [
       "shape: (8,)\n",
       "Series: 'Source' [i32]\n",
       "[\n",
       "\tnull\n",
       "\t1\n",
       "\t2\n",
       "\t3\n",
       "\t4\n",
       "\t5\n",
       "\t6\n",
       "\t9\n",
       "]"
      ]
     },
     "metadata": {},
     "output_type": "display_data"
    },
    {
     "data": {
      "text/plain": [
       "' This Source have the skewness 12.327904106831683'"
      ]
     },
     "metadata": {},
     "output_type": "display_data"
    },
    {
     "name": "stdout",
     "output_type": "stream",
     "text": [
      "==================================================\n"
     ]
    }
   ],
   "source": [
    "for col in pdf.columns:\n",
    "    check_unique(col)"
   ]
  },
  {
   "cell_type": "code",
   "execution_count": 13,
   "id": "adc4bc33",
   "metadata": {},
   "outputs": [
    {
     "data": {
      "text/plain": [
       "['OutOfHome_Consumption_Quantity',\n",
       " 'OutOfHome_Consumption_Value',\n",
       " 'Total_Consumption_Quantity',\n",
       " 'Total_Consumption_Value',\n",
       " 'Source']"
      ]
     },
     "execution_count": 13,
     "metadata": {},
     "output_type": "execute_result"
    }
   ],
   "source": [
    "pdf.columns"
   ]
  },
  {
   "cell_type": "code",
   "execution_count": null,
   "id": "de47591f",
   "metadata": {},
   "outputs": [],
   "source": []
  },
  {
   "cell_type": "code",
   "execution_count": 14,
   "id": "ec605fa0",
   "metadata": {},
   "outputs": [],
   "source": [
    "for col in pdf.columns:\n",
    "    pdf = pdf.with_columns(\n",
    "        pl.col(col).fill_null(strategy='forward')\n",
    "    )"
   ]
  },
  {
   "cell_type": "code",
   "execution_count": 24,
   "id": "01e21831",
   "metadata": {},
   "outputs": [
    {
     "data": {
      "text/html": [
       "<div><style>\n",
       ".dataframe > thead > tr,\n",
       ".dataframe > tbody > tr {\n",
       "  text-align: right;\n",
       "  white-space: pre-wrap;\n",
       "}\n",
       "</style>\n",
       "<small>shape: (1, 5)</small><table border=\"1\" class=\"dataframe\"><thead><tr><th>OutOfHome_Consumption_Quantity</th><th>OutOfHome_Consumption_Value</th><th>Total_Consumption_Quantity</th><th>Total_Consumption_Value</th><th>Source</th></tr><tr><td>u32</td><td>u32</td><td>u32</td><td>u32</td><td>u32</td></tr></thead><tbody><tr><td>5</td><td>5</td><td>0</td><td>0</td><td>0</td></tr></tbody></table></div>"
      ],
      "text/plain": [
       "shape: (1, 5)\n",
       "┌──────────────────────┬──────────────────────┬─────────────────────┬─────────────────────┬────────┐\n",
       "│ OutOfHome_Consumptio ┆ OutOfHome_Consumptio ┆ Total_Consumption_Q ┆ Total_Consumption_V ┆ Source │\n",
       "│ n_Quantity           ┆ n_Value              ┆ uantity             ┆ alue                ┆ ---    │\n",
       "│ ---                  ┆ ---                  ┆ ---                 ┆ ---                 ┆ u32    │\n",
       "│ u32                  ┆ u32                  ┆ u32                 ┆ u32                 ┆        │\n",
       "╞══════════════════════╪══════════════════════╪═════════════════════╪═════════════════════╪════════╡\n",
       "│ 5                    ┆ 5                    ┆ 0                   ┆ 0                   ┆ 0      │\n",
       "└──────────────────────┴──────────────────────┴─────────────────────┴─────────────────────┴────────┘"
      ]
     },
     "execution_count": 24,
     "metadata": {},
     "output_type": "execute_result"
    }
   ],
   "source": [
    "pdf.null_count()"
   ]
  },
  {
   "cell_type": "code",
   "execution_count": 23,
   "id": "133073f9",
   "metadata": {},
   "outputs": [],
   "source": [
    "pdf = pdf.with_columns(\n",
    "    pl.col('OutOfHome_Consumption_Quantity').fill_null(strategy='forward')\n",
    ")\n",
    "\n",
    "pdf = pdf.with_columns(\n",
    "    pl.col('OutOfHome_Consumption_Value').fill_null(strategy='forward')\n",
    ")"
   ]
  },
  {
   "cell_type": "code",
   "execution_count": 25,
   "id": "89c09cba",
   "metadata": {},
   "outputs": [
    {
     "name": "stdout",
     "output_type": "stream",
     "text": [
      "Saved 🙌\n"
     ]
    }
   ],
   "source": [
    "pdf.write_csv(r\"C:\\Users\\Rudra\\Desktop\\rural-financial-inclusion-govt-scheme-recommendation\\parquet-data\\lev-05\\data2\\lev_05_mp_clean.csv\")\n",
    "pdf.write_parquet(r\"C:\\Users\\Rudra\\Desktop\\rural-financial-inclusion-govt-scheme-recommendation\\parquet-data\\lev-05\\data2\\lev_05_mp_clean.parquet\", compression=\"zstd\")\n",
    "print('Saved 🙌')"
   ]
  },
  {
   "cell_type": "code",
   "execution_count": null,
   "id": "86425088",
   "metadata": {},
   "outputs": [],
   "source": []
  }
 ],
 "metadata": {
  "kernelspec": {
   "display_name": "Python 3",
   "language": "python",
   "name": "python3"
  },
  "language_info": {
   "codemirror_mode": {
    "name": "ipython",
    "version": 3
   },
   "file_extension": ".py",
   "mimetype": "text/x-python",
   "name": "python",
   "nbconvert_exporter": "python",
   "pygments_lexer": "ipython3",
   "version": "3.11.9"
  }
 },
 "nbformat": 4,
 "nbformat_minor": 5
}
