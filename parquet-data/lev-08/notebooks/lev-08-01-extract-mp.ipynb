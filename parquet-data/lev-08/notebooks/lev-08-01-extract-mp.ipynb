{
 "cells": [
  {
   "cell_type": "markdown",
   "id": "50ff01d7",
   "metadata": {},
   "source": [
    "# Goal: Extract MP state data from this table"
   ]
  },
  {
   "cell_type": "code",
   "execution_count": 15,
   "id": "69513632",
   "metadata": {},
   "outputs": [
    {
     "data": {
      "text/plain": [
       "' \\nGoal: Extract MP state data from this table\\nAuthor: Rudra Prasad Bhuyan\\n'"
      ]
     },
     "execution_count": 15,
     "metadata": {},
     "output_type": "execute_result"
    }
   ],
   "source": [
    "\"\"\" \n",
    "Goal: Extract MP state data from this table\n",
    "Author: Rudra Prasad Bhuyan\n",
    "\"\"\""
   ]
  },
  {
   "cell_type": "code",
   "execution_count": 16,
   "id": "b9e33eef",
   "metadata": {},
   "outputs": [],
   "source": [
    "import numpy as np\n",
    "import pandas as pd\n",
    "import polars as pl\n",
    "import matplotlib.pyplot as plt\n",
    "import seaborn as sns\n",
    "import plotly.express as px\n",
    "import plotly.offline as po\n",
    "\n",
    "import warnings\n",
    "warnings.filterwarnings('ignore')"
   ]
  },
  {
   "cell_type": "code",
   "execution_count": 17,
   "id": "4d29e02f",
   "metadata": {},
   "outputs": [],
   "source": [
    "path = r\"C:\\Users\\Rudra\\Desktop\\rural-financial-inclusion-govt-scheme-recommendation\\parquet-data\\lev-07\\data\\lev-07_merged.parquet\"\n",
    "\n",
    "#df = pd.read_parquet(path)\n",
    "pdf = pl.read_parquet(path)"
   ]
  },
  {
   "cell_type": "code",
   "execution_count": 18,
   "id": "1d039ba9",
   "metadata": {},
   "outputs": [
    {
     "data": {
      "text/plain": [
       "Schema([('Survey_Name', String),\n",
       "        ('Year', String),\n",
       "        ('FSU_Serial_No', String),\n",
       "        ('Sector', String),\n",
       "        ('State', String),\n",
       "        ('NSS_Region', String),\n",
       "        ('District', String),\n",
       "        ('Stratum', String),\n",
       "        ('Sub_stratum', String),\n",
       "        ('Panel', String),\n",
       "        ('Sub_sample', String),\n",
       "        ('FOD_Sub_Region', String),\n",
       "        ('Sample_SU_No', String),\n",
       "        ('Sample_Sub_Division_No', String),\n",
       "        ('Second_Stage_Stratum_No', String),\n",
       "        ('Sample_Household_No', String),\n",
       "        ('Questionnaire_No', String),\n",
       "        ('Level', String),\n",
       "        ('Kerosene_ration_card', String),\n",
       "        ('LPG_subsidy_received', String),\n",
       "        ('LPG_subsidized_cylinders', String),\n",
       "        ('Free_electricity', String),\n",
       "        ('Any_member_attended_school', String),\n",
       "        ('Num_govt_school_attended', Float64),\n",
       "        ('Num_private_school_attended', Float64),\n",
       "        ('Free_textbooks_received', String),\n",
       "        ('Total_textbooks', Float64),\n",
       "        ('Free_stationery_received', String),\n",
       "        ('Total_stationery', Float64),\n",
       "        ('Free_school_bag_received', String),\n",
       "        ('Total_school_bags', Float64),\n",
       "        ('Free_other_items_received', String),\n",
       "        ('Total_other_items', Float64),\n",
       "        ('Fee_waiver_received', String),\n",
       "        ('Num_fee_waiver_received', Float64),\n",
       "        ('Ayushman_beneficiary', String),\n",
       "        ('Num_ayushman_beneficiaries', Float64),\n",
       "        ('Hospitalization_case', String),\n",
       "        ('Medical_benefit_received', String),\n",
       "        ('Num_medical_beneficiaries', Float64),\n",
       "        ('Medical_benefit_amount', Float64),\n",
       "        ('Online_purchase_fuel_light', Float64),\n",
       "        ('Online_purchase_toilet_articles', Float64),\n",
       "        ('Online_purchase_education', Float64),\n",
       "        ('Online_purchase_medicine', Float64),\n",
       "        ('Online_purchase_services', Float64),\n",
       "        ('Multiplier', Int64)])"
      ]
     },
     "execution_count": 18,
     "metadata": {},
     "output_type": "execute_result"
    }
   ],
   "source": [
    "pdf.collect_schema()"
   ]
  },
  {
   "cell_type": "markdown",
   "id": "0ca9efce",
   "metadata": {},
   "source": [
    "# Where is MP"
   ]
  },
  {
   "cell_type": "code",
   "execution_count": 19,
   "id": "dba59a55",
   "metadata": {},
   "outputs": [
    {
     "data": {
      "text/plain": [
       "523906"
      ]
     },
     "execution_count": 19,
     "metadata": {},
     "output_type": "execute_result"
    }
   ],
   "source": [
    "# Shape of the data\n",
    "pdf.shape[0]"
   ]
  },
  {
   "cell_type": "code",
   "execution_count": 20,
   "id": "b4349c11",
   "metadata": {},
   "outputs": [
    {
     "data": {
      "text/html": [
       "<div><style>\n",
       ".dataframe > thead > tr,\n",
       ".dataframe > tbody > tr {\n",
       "  text-align: right;\n",
       "  white-space: pre-wrap;\n",
       "}\n",
       "</style>\n",
       "<small>shape: (523_906,)</small><table border=\"1\" class=\"dataframe\"><thead><tr><th>State</th></tr><tr><td>str</td></tr></thead><tbody><tr><td>&quot;05&quot;</td></tr><tr><td>&quot;05&quot;</td></tr><tr><td>&quot;05&quot;</td></tr><tr><td>&quot;05&quot;</td></tr><tr><td>&quot;05&quot;</td></tr><tr><td>&hellip;</td></tr><tr><td>&quot;10&quot;</td></tr><tr><td>&quot;10&quot;</td></tr><tr><td>&quot;10&quot;</td></tr><tr><td>&quot;10&quot;</td></tr><tr><td>&quot;10&quot;</td></tr></tbody></table></div>"
      ],
      "text/plain": [
       "shape: (523_906,)\n",
       "Series: 'State' [str]\n",
       "[\n",
       "\t\"05\"\n",
       "\t\"05\"\n",
       "\t\"05\"\n",
       "\t\"05\"\n",
       "\t\"05\"\n",
       "\t…\n",
       "\t\"10\"\n",
       "\t\"10\"\n",
       "\t\"10\"\n",
       "\t\"10\"\n",
       "\t\"10\"\n",
       "]"
      ]
     },
     "execution_count": 20,
     "metadata": {},
     "output_type": "execute_result"
    }
   ],
   "source": [
    "pdf['State']"
   ]
  },
  {
   "cell_type": "code",
   "execution_count": 21,
   "id": "3241ac72",
   "metadata": {},
   "outputs": [
    {
     "data": {
      "text/html": [
       "<div><style>\n",
       ".dataframe > thead > tr,\n",
       ".dataframe > tbody > tr {\n",
       "  text-align: right;\n",
       "  white-space: pre-wrap;\n",
       "}\n",
       "</style>\n",
       "<small>shape: (523_906,)</small><table border=\"1\" class=\"dataframe\"><thead><tr><th>State</th></tr><tr><td>bool</td></tr></thead><tbody><tr><td>false</td></tr><tr><td>false</td></tr><tr><td>false</td></tr><tr><td>false</td></tr><tr><td>false</td></tr><tr><td>&hellip;</td></tr><tr><td>false</td></tr><tr><td>false</td></tr><tr><td>false</td></tr><tr><td>false</td></tr><tr><td>false</td></tr></tbody></table></div>"
      ],
      "text/plain": [
       "shape: (523_906,)\n",
       "Series: 'State' [bool]\n",
       "[\n",
       "\tfalse\n",
       "\tfalse\n",
       "\tfalse\n",
       "\tfalse\n",
       "\tfalse\n",
       "\t…\n",
       "\tfalse\n",
       "\tfalse\n",
       "\tfalse\n",
       "\tfalse\n",
       "\tfalse\n",
       "]"
      ]
     },
     "execution_count": 21,
     "metadata": {},
     "output_type": "execute_result"
    }
   ],
   "source": [
    "# This are label data \n",
    "# For know mp we used the Metadata json file\n",
    "# Line number 308\n",
    "\n",
    "pdf['State'] == '23'\n"
   ]
  },
  {
   "cell_type": "code",
   "execution_count": 22,
   "id": "402d33fd",
   "metadata": {},
   "outputs": [],
   "source": [
    "mp_data = pdf.filter(\n",
    "    pl.col('State') == '23'\n",
    ")"
   ]
  },
  {
   "cell_type": "code",
   "execution_count": 23,
   "id": "6024a6b5",
   "metadata": {},
   "outputs": [
    {
     "data": {
      "text/html": [
       "<div><style>\n",
       ".dataframe > thead > tr,\n",
       ".dataframe > tbody > tr {\n",
       "  text-align: right;\n",
       "  white-space: pre-wrap;\n",
       "}\n",
       "</style>\n",
       "<small>shape: (28_210, 47)</small><table border=\"1\" class=\"dataframe\"><thead><tr><th>Survey_Name</th><th>Year</th><th>FSU_Serial_No</th><th>Sector</th><th>State</th><th>NSS_Region</th><th>District</th><th>Stratum</th><th>Sub_stratum</th><th>Panel</th><th>Sub_sample</th><th>FOD_Sub_Region</th><th>Sample_SU_No</th><th>Sample_Sub_Division_No</th><th>Second_Stage_Stratum_No</th><th>Sample_Household_No</th><th>Questionnaire_No</th><th>Level</th><th>Kerosene_ration_card</th><th>LPG_subsidy_received</th><th>LPG_subsidized_cylinders</th><th>Free_electricity</th><th>Any_member_attended_school</th><th>Num_govt_school_attended</th><th>Num_private_school_attended</th><th>Free_textbooks_received</th><th>Total_textbooks</th><th>Free_stationery_received</th><th>Total_stationery</th><th>Free_school_bag_received</th><th>Total_school_bags</th><th>Free_other_items_received</th><th>Total_other_items</th><th>Fee_waiver_received</th><th>Num_fee_waiver_received</th><th>Ayushman_beneficiary</th><th>Num_ayushman_beneficiaries</th><th>Hospitalization_case</th><th>Medical_benefit_received</th><th>Num_medical_beneficiaries</th><th>Medical_benefit_amount</th><th>Online_purchase_fuel_light</th><th>Online_purchase_toilet_articles</th><th>Online_purchase_education</th><th>Online_purchase_medicine</th><th>Online_purchase_services</th><th>Multiplier</th></tr><tr><td>str</td><td>str</td><td>str</td><td>str</td><td>str</td><td>str</td><td>str</td><td>str</td><td>str</td><td>str</td><td>str</td><td>str</td><td>str</td><td>str</td><td>str</td><td>str</td><td>str</td><td>str</td><td>str</td><td>str</td><td>str</td><td>str</td><td>str</td><td>f64</td><td>f64</td><td>str</td><td>f64</td><td>str</td><td>f64</td><td>str</td><td>f64</td><td>str</td><td>f64</td><td>str</td><td>f64</td><td>str</td><td>f64</td><td>str</td><td>str</td><td>f64</td><td>f64</td><td>f64</td><td>f64</td><td>f64</td><td>f64</td><td>f64</td><td>i64</td></tr></thead><tbody><tr><td>&quot;HCES&quot;</td><td>&quot;2024&quot;</td><td>&quot;44085&quot;</td><td>&quot;1&quot;</td><td>&quot;23&quot;</td><td>&quot;232&quot;</td><td>&quot;26&quot;</td><td>&quot;21&quot;</td><td>&quot;01&quot;</td><td>&quot;1&quot;</td><td>&quot;2&quot;</td><td>&quot;2310&quot;</td><td>&quot;1&quot;</td><td>&quot;&quot;</td><td>&quot;2&quot;</td><td>&quot;01&quot;</td><td>&quot;C&quot;</td><td>&quot;07&quot;</td><td>&quot;2&quot;</td><td>&quot;2&quot;</td><td>&quot;&quot;</td><td>&quot;2&quot;</td><td>&quot;1&quot;</td><td>2.0</td><td>null</td><td>&quot;&quot;</td><td>null</td><td>&quot;&quot;</td><td>null</td><td>&quot;&quot;</td><td>null</td><td>&quot;&quot;</td><td>null</td><td>&quot;2&quot;</td><td>null</td><td>&quot;2&quot;</td><td>null</td><td>&quot;1&quot;</td><td>&quot;2&quot;</td><td>null</td><td>null</td><td>null</td><td>null</td><td>null</td><td>null</td><td>1.0</td><td>58558</td></tr><tr><td>&quot;HCES&quot;</td><td>&quot;2024&quot;</td><td>&quot;44085&quot;</td><td>&quot;1&quot;</td><td>&quot;23&quot;</td><td>&quot;232&quot;</td><td>&quot;26&quot;</td><td>&quot;21&quot;</td><td>&quot;01&quot;</td><td>&quot;1&quot;</td><td>&quot;2&quot;</td><td>&quot;2310&quot;</td><td>&quot;1&quot;</td><td>&quot;&quot;</td><td>&quot;2&quot;</td><td>&quot;02&quot;</td><td>&quot;C&quot;</td><td>&quot;07&quot;</td><td>&quot;2&quot;</td><td>&quot;2&quot;</td><td>&quot;&quot;</td><td>&quot;2&quot;</td><td>&quot;1&quot;</td><td>0.0</td><td>1.0</td><td>&quot;&quot;</td><td>null</td><td>&quot;&quot;</td><td>null</td><td>&quot;&quot;</td><td>null</td><td>&quot;&quot;</td><td>null</td><td>&quot;2&quot;</td><td>null</td><td>&quot;1&quot;</td><td>1.0</td><td>&quot;1&quot;</td><td>&quot;1&quot;</td><td>1.0</td><td>60000.0</td><td>null</td><td>null</td><td>null</td><td>null</td><td>null</td><td>58558</td></tr><tr><td>&quot;HCES&quot;</td><td>&quot;2024&quot;</td><td>&quot;44085&quot;</td><td>&quot;1&quot;</td><td>&quot;23&quot;</td><td>&quot;232&quot;</td><td>&quot;26&quot;</td><td>&quot;21&quot;</td><td>&quot;01&quot;</td><td>&quot;1&quot;</td><td>&quot;2&quot;</td><td>&quot;2310&quot;</td><td>&quot;1&quot;</td><td>&quot;&quot;</td><td>&quot;2&quot;</td><td>&quot;03&quot;</td><td>&quot;C&quot;</td><td>&quot;07&quot;</td><td>&quot;2&quot;</td><td>&quot;2&quot;</td><td>&quot;&quot;</td><td>&quot;2&quot;</td><td>&quot;1&quot;</td><td>null</td><td>1.0</td><td>&quot;&quot;</td><td>null</td><td>&quot;&quot;</td><td>null</td><td>&quot;&quot;</td><td>null</td><td>&quot;&quot;</td><td>null</td><td>&quot;1&quot;</td><td>1.0</td><td>&quot;2&quot;</td><td>null</td><td>&quot;1&quot;</td><td>&quot;2&quot;</td><td>null</td><td>null</td><td>null</td><td>null</td><td>null</td><td>null</td><td>1.0</td><td>58558</td></tr><tr><td>&quot;HCES&quot;</td><td>&quot;2024&quot;</td><td>&quot;44085&quot;</td><td>&quot;1&quot;</td><td>&quot;23&quot;</td><td>&quot;232&quot;</td><td>&quot;26&quot;</td><td>&quot;21&quot;</td><td>&quot;01&quot;</td><td>&quot;1&quot;</td><td>&quot;2&quot;</td><td>&quot;2310&quot;</td><td>&quot;1&quot;</td><td>&quot;&quot;</td><td>&quot;2&quot;</td><td>&quot;04&quot;</td><td>&quot;C&quot;</td><td>&quot;07&quot;</td><td>&quot;2&quot;</td><td>&quot;2&quot;</td><td>&quot;&quot;</td><td>&quot;2&quot;</td><td>&quot;1&quot;</td><td>null</td><td>2.0</td><td>&quot;&quot;</td><td>null</td><td>&quot;&quot;</td><td>null</td><td>&quot;&quot;</td><td>null</td><td>&quot;&quot;</td><td>null</td><td>&quot;1&quot;</td><td>1.0</td><td>&quot;2&quot;</td><td>null</td><td>&quot;1&quot;</td><td>&quot;2&quot;</td><td>null</td><td>null</td><td>null</td><td>null</td><td>null</td><td>null</td><td>null</td><td>58558</td></tr><tr><td>&quot;HCES&quot;</td><td>&quot;2024&quot;</td><td>&quot;44085&quot;</td><td>&quot;1&quot;</td><td>&quot;23&quot;</td><td>&quot;232&quot;</td><td>&quot;26&quot;</td><td>&quot;21&quot;</td><td>&quot;01&quot;</td><td>&quot;1&quot;</td><td>&quot;2&quot;</td><td>&quot;2310&quot;</td><td>&quot;1&quot;</td><td>&quot;&quot;</td><td>&quot;2&quot;</td><td>&quot;05&quot;</td><td>&quot;C&quot;</td><td>&quot;07&quot;</td><td>&quot;2&quot;</td><td>&quot;2&quot;</td><td>&quot;&quot;</td><td>&quot;2&quot;</td><td>&quot;1&quot;</td><td>1.0</td><td>2.0</td><td>&quot;1&quot;</td><td>6.0</td><td>&quot;&quot;</td><td>null</td><td>&quot;&quot;</td><td>null</td><td>&quot;&quot;</td><td>null</td><td>&quot;1&quot;</td><td>1.0</td><td>&quot;1&quot;</td><td>1.0</td><td>&quot;3&quot;</td><td>&quot;1&quot;</td><td>1.0</td><td>120000.0</td><td>null</td><td>null</td><td>null</td><td>null</td><td>null</td><td>58558</td></tr><tr><td>&hellip;</td><td>&hellip;</td><td>&hellip;</td><td>&hellip;</td><td>&hellip;</td><td>&hellip;</td><td>&hellip;</td><td>&hellip;</td><td>&hellip;</td><td>&hellip;</td><td>&hellip;</td><td>&hellip;</td><td>&hellip;</td><td>&hellip;</td><td>&hellip;</td><td>&hellip;</td><td>&hellip;</td><td>&hellip;</td><td>&hellip;</td><td>&hellip;</td><td>&hellip;</td><td>&hellip;</td><td>&hellip;</td><td>&hellip;</td><td>&hellip;</td><td>&hellip;</td><td>&hellip;</td><td>&hellip;</td><td>&hellip;</td><td>&hellip;</td><td>&hellip;</td><td>&hellip;</td><td>&hellip;</td><td>&hellip;</td><td>&hellip;</td><td>&hellip;</td><td>&hellip;</td><td>&hellip;</td><td>&hellip;</td><td>&hellip;</td><td>&hellip;</td><td>&hellip;</td><td>&hellip;</td><td>&hellip;</td><td>&hellip;</td><td>&hellip;</td><td>&hellip;</td></tr><tr><td>&quot;HCES&quot;</td><td>&quot;2024&quot;</td><td>&quot;25137&quot;</td><td>&quot;2&quot;</td><td>&quot;23&quot;</td><td>&quot;232&quot;</td><td>&quot;10&quot;</td><td>&quot;12&quot;</td><td>&quot;05&quot;</td><td>&quot;10&quot;</td><td>&quot;1&quot;</td><td>&quot;2332&quot;</td><td>&quot;1&quot;</td><td>&quot;&quot;</td><td>&quot;3&quot;</td><td>&quot;13&quot;</td><td>&quot;C&quot;</td><td>&quot;07&quot;</td><td>&quot;2&quot;</td><td>&quot;1&quot;</td><td>&quot;2&quot;</td><td>&quot;1&quot;</td><td>&quot;1&quot;</td><td>1.0</td><td>0.0</td><td>&quot;1&quot;</td><td>6.0</td><td>&quot;&quot;</td><td>null</td><td>&quot;&quot;</td><td>null</td><td>&quot;&quot;</td><td>null</td><td>&quot;2&quot;</td><td>null</td><td>&quot;1&quot;</td><td>4.0</td><td>&quot;4&quot;</td><td>&quot;&quot;</td><td>null</td><td>null</td><td>null</td><td>null</td><td>null</td><td>null</td><td>1.0</td><td>173023</td></tr><tr><td>&quot;HCES&quot;</td><td>&quot;2024&quot;</td><td>&quot;25137&quot;</td><td>&quot;2&quot;</td><td>&quot;23&quot;</td><td>&quot;232&quot;</td><td>&quot;10&quot;</td><td>&quot;12&quot;</td><td>&quot;05&quot;</td><td>&quot;10&quot;</td><td>&quot;1&quot;</td><td>&quot;2332&quot;</td><td>&quot;1&quot;</td><td>&quot;&quot;</td><td>&quot;3&quot;</td><td>&quot;14&quot;</td><td>&quot;C&quot;</td><td>&quot;07&quot;</td><td>&quot;2&quot;</td><td>&quot;1&quot;</td><td>&quot;2&quot;</td><td>&quot;1&quot;</td><td>&quot;1&quot;</td><td>0.0</td><td>1.0</td><td>&quot;&quot;</td><td>null</td><td>&quot;&quot;</td><td>null</td><td>&quot;&quot;</td><td>null</td><td>&quot;&quot;</td><td>null</td><td>&quot;2&quot;</td><td>null</td><td>&quot;2&quot;</td><td>null</td><td>&quot;4&quot;</td><td>&quot;&quot;</td><td>null</td><td>null</td><td>null</td><td>null</td><td>null</td><td>null</td><td>1.0</td><td>173023</td></tr><tr><td>&quot;HCES&quot;</td><td>&quot;2024&quot;</td><td>&quot;25137&quot;</td><td>&quot;2&quot;</td><td>&quot;23&quot;</td><td>&quot;232&quot;</td><td>&quot;10&quot;</td><td>&quot;12&quot;</td><td>&quot;05&quot;</td><td>&quot;10&quot;</td><td>&quot;1&quot;</td><td>&quot;2332&quot;</td><td>&quot;1&quot;</td><td>&quot;&quot;</td><td>&quot;3&quot;</td><td>&quot;15&quot;</td><td>&quot;C&quot;</td><td>&quot;07&quot;</td><td>&quot;2&quot;</td><td>&quot;1&quot;</td><td>&quot;1&quot;</td><td>&quot;1&quot;</td><td>&quot;1&quot;</td><td>1.0</td><td>0.0</td><td>&quot;1&quot;</td><td>6.0</td><td>&quot;&quot;</td><td>null</td><td>&quot;&quot;</td><td>null</td><td>&quot;&quot;</td><td>null</td><td>&quot;2&quot;</td><td>null</td><td>&quot;1&quot;</td><td>3.0</td><td>&quot;1&quot;</td><td>&quot;2&quot;</td><td>null</td><td>null</td><td>null</td><td>null</td><td>null</td><td>null</td><td>1.0</td><td>173023</td></tr><tr><td>&quot;HCES&quot;</td><td>&quot;2024&quot;</td><td>&quot;25137&quot;</td><td>&quot;2&quot;</td><td>&quot;23&quot;</td><td>&quot;232&quot;</td><td>&quot;10&quot;</td><td>&quot;12&quot;</td><td>&quot;05&quot;</td><td>&quot;10&quot;</td><td>&quot;1&quot;</td><td>&quot;2332&quot;</td><td>&quot;1&quot;</td><td>&quot;&quot;</td><td>&quot;3&quot;</td><td>&quot;16&quot;</td><td>&quot;C&quot;</td><td>&quot;07&quot;</td><td>&quot;2&quot;</td><td>&quot;1&quot;</td><td>&quot;2&quot;</td><td>&quot;1&quot;</td><td>&quot;2&quot;</td><td>null</td><td>null</td><td>&quot;&quot;</td><td>null</td><td>&quot;&quot;</td><td>null</td><td>&quot;&quot;</td><td>null</td><td>&quot;&quot;</td><td>null</td><td>&quot;&quot;</td><td>null</td><td>&quot;1&quot;</td><td>3.0</td><td>&quot;4&quot;</td><td>&quot;&quot;</td><td>null</td><td>null</td><td>null</td><td>null</td><td>null</td><td>null</td><td>1.0</td><td>173023</td></tr><tr><td>&quot;HCES&quot;</td><td>&quot;2024&quot;</td><td>&quot;25137&quot;</td><td>&quot;2&quot;</td><td>&quot;23&quot;</td><td>&quot;232&quot;</td><td>&quot;10&quot;</td><td>&quot;12&quot;</td><td>&quot;05&quot;</td><td>&quot;10&quot;</td><td>&quot;1&quot;</td><td>&quot;2332&quot;</td><td>&quot;1&quot;</td><td>&quot;&quot;</td><td>&quot;3&quot;</td><td>&quot;17&quot;</td><td>&quot;C&quot;</td><td>&quot;07&quot;</td><td>&quot;2&quot;</td><td>&quot;1&quot;</td><td>&quot;2&quot;</td><td>&quot;1&quot;</td><td>&quot;1&quot;</td><td>2.0</td><td>1.0</td><td>&quot;1&quot;</td><td>12.0</td><td>&quot;&quot;</td><td>null</td><td>&quot;&quot;</td><td>null</td><td>&quot;&quot;</td><td>null</td><td>&quot;2&quot;</td><td>null</td><td>&quot;1&quot;</td><td>3.0</td><td>&quot;4&quot;</td><td>&quot;&quot;</td><td>null</td><td>null</td><td>null</td><td>null</td><td>null</td><td>null</td><td>1.0</td><td>173023</td></tr></tbody></table></div>"
      ],
      "text/plain": [
       "shape: (28_210, 47)\n",
       "┌─────────────┬──────┬────────────┬────────┬───┬────────────┬────────────┬────────────┬────────────┐\n",
       "│ Survey_Name ┆ Year ┆ FSU_Serial ┆ Sector ┆ … ┆ Online_pur ┆ Online_pur ┆ Online_pur ┆ Multiplier │\n",
       "│ ---         ┆ ---  ┆ _No        ┆ ---    ┆   ┆ chase_educ ┆ chase_medi ┆ chase_serv ┆ ---        │\n",
       "│ str         ┆ str  ┆ ---        ┆ str    ┆   ┆ ation      ┆ cine       ┆ ices       ┆ i64        │\n",
       "│             ┆      ┆ str        ┆        ┆   ┆ ---        ┆ ---        ┆ ---        ┆            │\n",
       "│             ┆      ┆            ┆        ┆   ┆ f64        ┆ f64        ┆ f64        ┆            │\n",
       "╞═════════════╪══════╪════════════╪════════╪═══╪════════════╪════════════╪════════════╪════════════╡\n",
       "│ HCES        ┆ 2024 ┆ 44085      ┆ 1      ┆ … ┆ null       ┆ null       ┆ 1.0        ┆ 58558      │\n",
       "│ HCES        ┆ 2024 ┆ 44085      ┆ 1      ┆ … ┆ null       ┆ null       ┆ null       ┆ 58558      │\n",
       "│ HCES        ┆ 2024 ┆ 44085      ┆ 1      ┆ … ┆ null       ┆ null       ┆ 1.0        ┆ 58558      │\n",
       "│ HCES        ┆ 2024 ┆ 44085      ┆ 1      ┆ … ┆ null       ┆ null       ┆ null       ┆ 58558      │\n",
       "│ HCES        ┆ 2024 ┆ 44085      ┆ 1      ┆ … ┆ null       ┆ null       ┆ null       ┆ 58558      │\n",
       "│ …           ┆ …    ┆ …          ┆ …      ┆ … ┆ …          ┆ …          ┆ …          ┆ …          │\n",
       "│ HCES        ┆ 2024 ┆ 25137      ┆ 2      ┆ … ┆ null       ┆ null       ┆ 1.0        ┆ 173023     │\n",
       "│ HCES        ┆ 2024 ┆ 25137      ┆ 2      ┆ … ┆ null       ┆ null       ┆ 1.0        ┆ 173023     │\n",
       "│ HCES        ┆ 2024 ┆ 25137      ┆ 2      ┆ … ┆ null       ┆ null       ┆ 1.0        ┆ 173023     │\n",
       "│ HCES        ┆ 2024 ┆ 25137      ┆ 2      ┆ … ┆ null       ┆ null       ┆ 1.0        ┆ 173023     │\n",
       "│ HCES        ┆ 2024 ┆ 25137      ┆ 2      ┆ … ┆ null       ┆ null       ┆ 1.0        ┆ 173023     │\n",
       "└─────────────┴──────┴────────────┴────────┴───┴────────────┴────────────┴────────────┴────────────┘"
      ]
     },
     "execution_count": 23,
     "metadata": {},
     "output_type": "execute_result"
    }
   ],
   "source": [
    "mp_data"
   ]
  },
  {
   "cell_type": "code",
   "execution_count": 24,
   "id": "86ae337c",
   "metadata": {},
   "outputs": [
    {
     "data": {
      "text/plain": [
       "791"
      ]
     },
     "execution_count": 24,
     "metadata": {},
     "output_type": "execute_result"
    }
   ],
   "source": [
    "mp_data['FSU_Serial_No'].n_unique()"
   ]
  },
  {
   "cell_type": "markdown",
   "id": "0388976f",
   "metadata": {},
   "source": [
    "# Save"
   ]
  },
  {
   "cell_type": "code",
   "execution_count": 25,
   "id": "cc7bcf67",
   "metadata": {},
   "outputs": [
    {
     "name": "stdout",
     "output_type": "stream",
     "text": [
      " 28210 are the MP data points\n"
     ]
    }
   ],
   "source": [
    "print(f\" {mp_data.shape[0]} are the MP data points\")"
   ]
  },
  {
   "cell_type": "code",
   "execution_count": 26,
   "id": "b6f545ac",
   "metadata": {},
   "outputs": [],
   "source": [
    "# convert to both csv and parquet data format"
   ]
  },
  {
   "cell_type": "code",
   "execution_count": 27,
   "id": "31ef5e23",
   "metadata": {},
   "outputs": [],
   "source": [
    "mp_data.write_csv(r\"C:\\Users\\Rudra\\Desktop\\rural-financial-inclusion-govt-scheme-recommendation\\parquet-data\\lev-08\\data2\\lev_08_mp.csv\")"
   ]
  },
  {
   "cell_type": "code",
   "execution_count": 28,
   "id": "27e6f01f",
   "metadata": {},
   "outputs": [],
   "source": [
    "mp_data.write_parquet(r\"C:\\Users\\Rudra\\Desktop\\rural-financial-inclusion-govt-scheme-recommendation\\parquet-data\\lev-08\\data2\\lev_08_mp.parquet\", compression=\"zstd\")"
   ]
  }
 ],
 "metadata": {
  "kernelspec": {
   "display_name": "Python 3",
   "language": "python",
   "name": "python3"
  },
  "language_info": {
   "codemirror_mode": {
    "name": "ipython",
    "version": 3
   },
   "file_extension": ".py",
   "mimetype": "text/x-python",
   "name": "python",
   "nbconvert_exporter": "python",
   "pygments_lexer": "ipython3",
   "version": "3.11.9"
  }
 },
 "nbformat": 4,
 "nbformat_minor": 5
}
