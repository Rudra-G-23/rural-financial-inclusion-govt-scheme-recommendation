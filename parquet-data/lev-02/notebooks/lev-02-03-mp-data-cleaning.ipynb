{
 "cells": [
  {
   "cell_type": "markdown",
   "id": "e6195ad7",
   "metadata": {},
   "source": [
    "# Goal: Data Clean"
   ]
  },
  {
   "cell_type": "code",
   "execution_count": 68,
   "id": "b878d176",
   "metadata": {},
   "outputs": [
    {
     "data": {
      "text/plain": [
       "' \\nGoal: Clean the Data\\nAuthor: Rudra Prasad Bhuyan\\n'"
      ]
     },
     "execution_count": 68,
     "metadata": {},
     "output_type": "execute_result"
    }
   ],
   "source": [
    "\"\"\" \n",
    "Goal: Clean the Data\n",
    "Author: Rudra Prasad Bhuyan\n",
    "\"\"\""
   ]
  },
  {
   "cell_type": "code",
   "execution_count": 69,
   "id": "113ef065",
   "metadata": {},
   "outputs": [],
   "source": [
    "import polars as pl\n",
    "import matplotlib.pyplot as plt\n",
    "import seaborn as sns"
   ]
  },
  {
   "cell_type": "code",
   "execution_count": 70,
   "id": "db63f811",
   "metadata": {},
   "outputs": [
    {
     "data": {
      "text/plain": [
       "Schema([('Survey_Name', String),\n",
       "        ('Year', String),\n",
       "        ('FSU_Serial_No', String),\n",
       "        ('Sector', String),\n",
       "        ('State', String),\n",
       "        ('NSS_Region', String),\n",
       "        ('District', String),\n",
       "        ('Stratum', String),\n",
       "        ('Sub_stratum', String),\n",
       "        ('Panel', String),\n",
       "        ('Sub_sample', String),\n",
       "        ('FOD_Sub_Region', String),\n",
       "        ('Sample_SU_No', String),\n",
       "        ('Sample_Sub_Division_No', String),\n",
       "        ('Second_Stage_Stratum_No', String),\n",
       "        ('Sample_Household_No', String),\n",
       "        ('Questionnaire_No', String),\n",
       "        ('Level', String),\n",
       "        ('Person_Serial_No', String),\n",
       "        ('Relation_to_Head', String),\n",
       "        ('Gender', String),\n",
       "        ('Age', String),\n",
       "        ('Marital_Status', String),\n",
       "        ('Education_Level', String),\n",
       "        ('Years_of_Education', String),\n",
       "        ('Used_Internet_Last_30_Days', String),\n",
       "        ('Days_Away_From_Home_Last_30_Days', String),\n",
       "        ('Meals_Usually_Taken_Per_Day', String),\n",
       "        ('Meals_From_School', String),\n",
       "        ('Meals_From_Employer', String),\n",
       "        ('Meals_Other', String),\n",
       "        ('Meals_On_Payment', String),\n",
       "        ('Meals_At_Home', String),\n",
       "        ('Revisit_Status', String),\n",
       "        ('FDQ_Original_Member', String),\n",
       "        ('Multiplier', Int64)])"
      ]
     },
     "execution_count": 70,
     "metadata": {},
     "output_type": "execute_result"
    }
   ],
   "source": [
    "path = r\"C:\\Users\\Rudra\\Desktop\\rural-financial-inclusion-govt-scheme-recommendation\\parquet-data\\lev-02\\data\\lev-02_merged.parquet\"\n",
    "\n",
    "pdf = pl.read_parquet(path)\n",
    "pdf.collect_schema()"
   ]
  },
  {
   "cell_type": "code",
   "execution_count": 71,
   "id": "8f6a5c6b",
   "metadata": {},
   "outputs": [
    {
     "data": {
      "text/html": [
       "<div><style>\n",
       ".dataframe > thead > tr,\n",
       ".dataframe > tbody > tr {\n",
       "  text-align: right;\n",
       "  white-space: pre-wrap;\n",
       "}\n",
       "</style>\n",
       "<small>shape: (1,)</small><table border=\"1\" class=\"dataframe\"><thead><tr><th>State</th></tr><tr><td>str</td></tr></thead><tbody><tr><td>&quot;23&quot;</td></tr></tbody></table></div>"
      ],
      "text/plain": [
       "shape: (1,)\n",
       "Series: 'State' [str]\n",
       "[\n",
       "\t\"23\"\n",
       "]"
      ]
     },
     "execution_count": 71,
     "metadata": {},
     "output_type": "execute_result"
    }
   ],
   "source": [
    "mp_data = pdf.filter(\n",
    "    pl.col('State') == '23'\n",
    ")\n",
    "\n",
    "mp_data['State'].unique()"
   ]
  },
  {
   "cell_type": "markdown",
   "id": "0e4d3780",
   "metadata": {},
   "source": [
    "# Break down all useful variables into separate group"
   ]
  },
  {
   "cell_type": "code",
   "execution_count": 72,
   "id": "29fd35b6",
   "metadata": {},
   "outputs": [],
   "source": [
    "lev_02_hh = [ 'Revisit_Status', 'FDQ_Original_Member', 'Multiplier']\n",
    "\n",
    "lev_02_food = ['Meals_Usually_Taken_Per_Day','Meals_From_School',\n",
    "               'Meals_From_Employer','Meals_Other',\n",
    "               'Meals_On_Payment','Meals_At_Home']\n",
    "\n",
    "lev_02_digital = ['Used_Internet_Last_30_Days']\n",
    "\n",
    "lev_02__behavior = ['Days_Away_From_Home_Last_30_Days']\n",
    "\n",
    "lev_02_user = ['FSU_Serial_No', 'Relation_to_Head','Gender',\n",
    "               'Age', 'Marital_Status', \n",
    "               'Education_Level', 'Years_of_Education']"
   ]
  },
  {
   "cell_type": "code",
   "execution_count": 73,
   "id": "bee2ff75",
   "metadata": {},
   "outputs": [],
   "source": [
    "lev_02_cols = (\n",
    "    lev_02_hh\n",
    "    + lev_02_food\n",
    "    + lev_02_digital\n",
    "    + lev_02__behavior\n",
    "    + lev_02_user\n",
    ")"
   ]
  },
  {
   "cell_type": "code",
   "execution_count": 74,
   "id": "8853ff38",
   "metadata": {},
   "outputs": [],
   "source": [
    "mp_data = mp_data[lev_02_cols]"
   ]
  },
  {
   "cell_type": "code",
   "execution_count": 75,
   "id": "427f85c8",
   "metadata": {},
   "outputs": [
    {
     "data": {
      "text/html": [
       "<div><style>\n",
       ".dataframe > thead > tr,\n",
       ".dataframe > tbody > tr {\n",
       "  text-align: right;\n",
       "  white-space: pre-wrap;\n",
       "}\n",
       "</style>\n",
       "<small>shape: (64_952, 18)</small><table border=\"1\" class=\"dataframe\"><thead><tr><th>Revisit_Status</th><th>FDQ_Original_Member</th><th>Multiplier</th><th>Meals_Usually_Taken_Per_Day</th><th>Meals_From_School</th><th>Meals_From_Employer</th><th>Meals_Other</th><th>Meals_On_Payment</th><th>Meals_At_Home</th><th>Used_Internet_Last_30_Days</th><th>Days_Away_From_Home_Last_30_Days</th><th>FSU_Serial_No</th><th>Relation_to_Head</th><th>Gender</th><th>Age</th><th>Marital_Status</th><th>Education_Level</th><th>Years_of_Education</th></tr><tr><td>str</td><td>str</td><td>i64</td><td>str</td><td>str</td><td>str</td><td>str</td><td>str</td><td>str</td><td>str</td><td>str</td><td>str</td><td>str</td><td>str</td><td>str</td><td>str</td><td>str</td><td>str</td></tr></thead><tbody><tr><td>&quot;1&quot;</td><td>&quot;1&quot;</td><td>131077</td><td>&quot;2&quot;</td><td>&quot;&quot;</td><td>&quot;&quot;</td><td>&quot;&quot;</td><td>&quot;&quot;</td><td>&quot;60&quot;</td><td>&quot;2&quot;</td><td>&quot;0&quot;</td><td>&quot;44081&quot;</td><td>&quot;1&quot;</td><td>&quot;2&quot;</td><td>&quot;46&quot;</td><td>&quot;3&quot;</td><td>&quot;01&quot;</td><td>&quot;&quot;</td></tr><tr><td>&quot;1&quot;</td><td>&quot;1&quot;</td><td>131077</td><td>&quot;2&quot;</td><td>&quot;&quot;</td><td>&quot;&quot;</td><td>&quot;&quot;</td><td>&quot;&quot;</td><td>&quot;60&quot;</td><td>&quot;1&quot;</td><td>&quot;0&quot;</td><td>&quot;44081&quot;</td><td>&quot;5&quot;</td><td>&quot;1&quot;</td><td>&quot;19&quot;</td><td>&quot;1&quot;</td><td>&quot;07&quot;</td><td>&quot;12&quot;</td></tr><tr><td>&quot;1&quot;</td><td>&quot;1&quot;</td><td>131077</td><td>&quot;2&quot;</td><td>&quot;&quot;</td><td>&quot;&quot;</td><td>&quot;&quot;</td><td>&quot;&quot;</td><td>&quot;60&quot;</td><td>&quot;1&quot;</td><td>&quot;0&quot;</td><td>&quot;44081&quot;</td><td>&quot;5&quot;</td><td>&quot;2&quot;</td><td>&quot;21&quot;</td><td>&quot;1&quot;</td><td>&quot;07&quot;</td><td>&quot;12&quot;</td></tr><tr><td>&quot;1&quot;</td><td>&quot;1&quot;</td><td>131077</td><td>&quot;2&quot;</td><td>&quot;&quot;</td><td>&quot;&quot;</td><td>&quot;&quot;</td><td>&quot;&quot;</td><td>&quot;60&quot;</td><td>&quot;2&quot;</td><td>&quot;0&quot;</td><td>&quot;44081&quot;</td><td>&quot;1&quot;</td><td>&quot;1&quot;</td><td>&quot;52&quot;</td><td>&quot;2&quot;</td><td>&quot;03&quot;</td><td>&quot;5&quot;</td></tr><tr><td>&quot;1&quot;</td><td>&quot;1&quot;</td><td>131077</td><td>&quot;2&quot;</td><td>&quot;&quot;</td><td>&quot;&quot;</td><td>&quot;&quot;</td><td>&quot;&quot;</td><td>&quot;60&quot;</td><td>&quot;2&quot;</td><td>&quot;0&quot;</td><td>&quot;44081&quot;</td><td>&quot;2&quot;</td><td>&quot;2&quot;</td><td>&quot;50&quot;</td><td>&quot;2&quot;</td><td>&quot;01&quot;</td><td>&quot;&quot;</td></tr><tr><td>&hellip;</td><td>&hellip;</td><td>&hellip;</td><td>&hellip;</td><td>&hellip;</td><td>&hellip;</td><td>&hellip;</td><td>&hellip;</td><td>&hellip;</td><td>&hellip;</td><td>&hellip;</td><td>&hellip;</td><td>&hellip;</td><td>&hellip;</td><td>&hellip;</td><td>&hellip;</td><td>&hellip;</td><td>&hellip;</td></tr><tr><td>&quot;1&quot;</td><td>&quot;1&quot;</td><td>173023</td><td>&quot;2&quot;</td><td>&quot;&quot;</td><td>&quot;&quot;</td><td>&quot;&quot;</td><td>&quot;&quot;</td><td>&quot;60&quot;</td><td>&quot;1&quot;</td><td>&quot;0&quot;</td><td>&quot;25137&quot;</td><td>&quot;1&quot;</td><td>&quot;1&quot;</td><td>&quot;42&quot;</td><td>&quot;2&quot;</td><td>&quot;05&quot;</td><td>&quot;8&quot;</td></tr><tr><td>&quot;1&quot;</td><td>&quot;1&quot;</td><td>173023</td><td>&quot;2&quot;</td><td>&quot;&quot;</td><td>&quot;&quot;</td><td>&quot;&quot;</td><td>&quot;&quot;</td><td>&quot;57&quot;</td><td>&quot;1&quot;</td><td>&quot;0&quot;</td><td>&quot;25137&quot;</td><td>&quot;2&quot;</td><td>&quot;2&quot;</td><td>&quot;40&quot;</td><td>&quot;2&quot;</td><td>&quot;05&quot;</td><td>&quot;8&quot;</td></tr><tr><td>&quot;1&quot;</td><td>&quot;1&quot;</td><td>173023</td><td>&quot;2&quot;</td><td>&quot;&quot;</td><td>&quot;&quot;</td><td>&quot;&quot;</td><td>&quot;&quot;</td><td>&quot;60&quot;</td><td>&quot;1&quot;</td><td>&quot;0&quot;</td><td>&quot;25137&quot;</td><td>&quot;5&quot;</td><td>&quot;1&quot;</td><td>&quot;11&quot;</td><td>&quot;1&quot;</td><td>&quot;04&quot;</td><td>&quot;5&quot;</td></tr><tr><td>&quot;1&quot;</td><td>&quot;1&quot;</td><td>173023</td><td>&quot;2&quot;</td><td>&quot;&quot;</td><td>&quot;&quot;</td><td>&quot;&quot;</td><td>&quot;&quot;</td><td>&quot;60&quot;</td><td>&quot;1&quot;</td><td>&quot;0&quot;</td><td>&quot;25137&quot;</td><td>&quot;5&quot;</td><td>&quot;2&quot;</td><td>&quot;14&quot;</td><td>&quot;1&quot;</td><td>&quot;05&quot;</td><td>&quot;8&quot;</td></tr><tr><td>&quot;1&quot;</td><td>&quot;1&quot;</td><td>173023</td><td>&quot;2&quot;</td><td>&quot;&quot;</td><td>&quot;&quot;</td><td>&quot;&quot;</td><td>&quot;&quot;</td><td>&quot;60&quot;</td><td>&quot;1&quot;</td><td>&quot;0&quot;</td><td>&quot;25137&quot;</td><td>&quot;5&quot;</td><td>&quot;2&quot;</td><td>&quot;9&quot;</td><td>&quot;1&quot;</td><td>&quot;03&quot;</td><td>&quot;3&quot;</td></tr></tbody></table></div>"
      ],
      "text/plain": [
       "shape: (64_952, 18)\n",
       "┌────────────┬────────────┬────────────┬────────────┬───┬─────┬────────────┬───────────┬───────────┐\n",
       "│ Revisit_St ┆ FDQ_Origin ┆ Multiplier ┆ Meals_Usua ┆ … ┆ Age ┆ Marital_St ┆ Education ┆ Years_of_ │\n",
       "│ atus       ┆ al_Member  ┆ ---        ┆ lly_Taken_ ┆   ┆ --- ┆ atus       ┆ _Level    ┆ Education │\n",
       "│ ---        ┆ ---        ┆ i64        ┆ Per_Day    ┆   ┆ str ┆ ---        ┆ ---       ┆ ---       │\n",
       "│ str        ┆ str        ┆            ┆ ---        ┆   ┆     ┆ str        ┆ str       ┆ str       │\n",
       "│            ┆            ┆            ┆ str        ┆   ┆     ┆            ┆           ┆           │\n",
       "╞════════════╪════════════╪════════════╪════════════╪═══╪═════╪════════════╪═══════════╪═══════════╡\n",
       "│ 1          ┆ 1          ┆ 131077     ┆ 2          ┆ … ┆ 46  ┆ 3          ┆ 01        ┆           │\n",
       "│ 1          ┆ 1          ┆ 131077     ┆ 2          ┆ … ┆ 19  ┆ 1          ┆ 07        ┆ 12        │\n",
       "│ 1          ┆ 1          ┆ 131077     ┆ 2          ┆ … ┆ 21  ┆ 1          ┆ 07        ┆ 12        │\n",
       "│ 1          ┆ 1          ┆ 131077     ┆ 2          ┆ … ┆ 52  ┆ 2          ┆ 03        ┆ 5         │\n",
       "│ 1          ┆ 1          ┆ 131077     ┆ 2          ┆ … ┆ 50  ┆ 2          ┆ 01        ┆           │\n",
       "│ …          ┆ …          ┆ …          ┆ …          ┆ … ┆ …   ┆ …          ┆ …         ┆ …         │\n",
       "│ 1          ┆ 1          ┆ 173023     ┆ 2          ┆ … ┆ 42  ┆ 2          ┆ 05        ┆ 8         │\n",
       "│ 1          ┆ 1          ┆ 173023     ┆ 2          ┆ … ┆ 40  ┆ 2          ┆ 05        ┆ 8         │\n",
       "│ 1          ┆ 1          ┆ 173023     ┆ 2          ┆ … ┆ 11  ┆ 1          ┆ 04        ┆ 5         │\n",
       "│ 1          ┆ 1          ┆ 173023     ┆ 2          ┆ … ┆ 14  ┆ 1          ┆ 05        ┆ 8         │\n",
       "│ 1          ┆ 1          ┆ 173023     ┆ 2          ┆ … ┆ 9   ┆ 1          ┆ 03        ┆ 3         │\n",
       "└────────────┴────────────┴────────────┴────────────┴───┴─────┴────────────┴───────────┴───────────┘"
      ]
     },
     "execution_count": 75,
     "metadata": {},
     "output_type": "execute_result"
    }
   ],
   "source": [
    "mp_data"
   ]
  },
  {
   "cell_type": "markdown",
   "id": "2016441b",
   "metadata": {},
   "source": [
    "## Casting"
   ]
  },
  {
   "cell_type": "code",
   "execution_count": 76,
   "id": "b11dd2f6",
   "metadata": {},
   "outputs": [],
   "source": [
    "mp_data = mp_data.with_columns(\n",
    "    [pl.col(col).cast(pl.Int32, strict=False) for col in lev_02_cols]\n",
    ")"
   ]
  },
  {
   "cell_type": "markdown",
   "id": "92940025",
   "metadata": {},
   "source": [
    "## House hold"
   ]
  },
  {
   "cell_type": "code",
   "execution_count": 77,
   "id": "b340d99b",
   "metadata": {},
   "outputs": [
    {
     "data": {
      "text/html": [
       "<div><style>\n",
       ".dataframe > thead > tr,\n",
       ".dataframe > tbody > tr {\n",
       "  text-align: right;\n",
       "  white-space: pre-wrap;\n",
       "}\n",
       "</style>\n",
       "<small>shape: (64_952, 3)</small><table border=\"1\" class=\"dataframe\"><thead><tr><th>Revisit_Status</th><th>FDQ_Original_Member</th><th>Multiplier</th></tr><tr><td>i32</td><td>i32</td><td>i32</td></tr></thead><tbody><tr><td>1</td><td>1</td><td>131077</td></tr><tr><td>1</td><td>1</td><td>131077</td></tr><tr><td>1</td><td>1</td><td>131077</td></tr><tr><td>1</td><td>1</td><td>131077</td></tr><tr><td>1</td><td>1</td><td>131077</td></tr><tr><td>&hellip;</td><td>&hellip;</td><td>&hellip;</td></tr><tr><td>1</td><td>1</td><td>173023</td></tr><tr><td>1</td><td>1</td><td>173023</td></tr><tr><td>1</td><td>1</td><td>173023</td></tr><tr><td>1</td><td>1</td><td>173023</td></tr><tr><td>1</td><td>1</td><td>173023</td></tr></tbody></table></div>"
      ],
      "text/plain": [
       "shape: (64_952, 3)\n",
       "┌────────────────┬─────────────────────┬────────────┐\n",
       "│ Revisit_Status ┆ FDQ_Original_Member ┆ Multiplier │\n",
       "│ ---            ┆ ---                 ┆ ---        │\n",
       "│ i32            ┆ i32                 ┆ i32        │\n",
       "╞════════════════╪═════════════════════╪════════════╡\n",
       "│ 1              ┆ 1                   ┆ 131077     │\n",
       "│ 1              ┆ 1                   ┆ 131077     │\n",
       "│ 1              ┆ 1                   ┆ 131077     │\n",
       "│ 1              ┆ 1                   ┆ 131077     │\n",
       "│ 1              ┆ 1                   ┆ 131077     │\n",
       "│ …              ┆ …                   ┆ …          │\n",
       "│ 1              ┆ 1                   ┆ 173023     │\n",
       "│ 1              ┆ 1                   ┆ 173023     │\n",
       "│ 1              ┆ 1                   ┆ 173023     │\n",
       "│ 1              ┆ 1                   ┆ 173023     │\n",
       "│ 1              ┆ 1                   ┆ 173023     │\n",
       "└────────────────┴─────────────────────┴────────────┘"
      ]
     },
     "execution_count": 77,
     "metadata": {},
     "output_type": "execute_result"
    }
   ],
   "source": [
    "mp_data[lev_02_hh]"
   ]
  },
  {
   "cell_type": "code",
   "execution_count": 78,
   "id": "b64d9979",
   "metadata": {},
   "outputs": [
    {
     "data": {
      "text/html": [
       "<div><style>\n",
       ".dataframe > thead > tr,\n",
       ".dataframe > tbody > tr {\n",
       "  text-align: right;\n",
       "  white-space: pre-wrap;\n",
       "}\n",
       "</style>\n",
       "<small>shape: (9, 4)</small><table border=\"1\" class=\"dataframe\"><thead><tr><th>statistic</th><th>Revisit_Status</th><th>FDQ_Original_Member</th><th>Multiplier</th></tr><tr><td>str</td><td>f64</td><td>f64</td><td>f64</td></tr></thead><tbody><tr><td>&quot;count&quot;</td><td>64952.0</td><td>64864.0</td><td>64952.0</td></tr><tr><td>&quot;null_count&quot;</td><td>0.0</td><td>88.0</td><td>0.0</td></tr><tr><td>&quot;mean&quot;</td><td>1.003741</td><td>1.0</td><td>112568.796927</td></tr><tr><td>&quot;std&quot;</td><td>0.080231</td><td>0.0</td><td>68371.178028</td></tr><tr><td>&quot;min&quot;</td><td>1.0</td><td>1.0</td><td>1913.0</td></tr><tr><td>&quot;25%&quot;</td><td>1.0</td><td>1.0</td><td>67000.0</td></tr><tr><td>&quot;50%&quot;</td><td>1.0</td><td>1.0</td><td>115615.0</td></tr><tr><td>&quot;75%&quot;</td><td>1.0</td><td>1.0</td><td>144808.0</td></tr><tr><td>&quot;max&quot;</td><td>3.0</td><td>1.0</td><td>888474.0</td></tr></tbody></table></div>"
      ],
      "text/plain": [
       "shape: (9, 4)\n",
       "┌────────────┬────────────────┬─────────────────────┬───────────────┐\n",
       "│ statistic  ┆ Revisit_Status ┆ FDQ_Original_Member ┆ Multiplier    │\n",
       "│ ---        ┆ ---            ┆ ---                 ┆ ---           │\n",
       "│ str        ┆ f64            ┆ f64                 ┆ f64           │\n",
       "╞════════════╪════════════════╪═════════════════════╪═══════════════╡\n",
       "│ count      ┆ 64952.0        ┆ 64864.0             ┆ 64952.0       │\n",
       "│ null_count ┆ 0.0            ┆ 88.0                ┆ 0.0           │\n",
       "│ mean       ┆ 1.003741       ┆ 1.0                 ┆ 112568.796927 │\n",
       "│ std        ┆ 0.080231       ┆ 0.0                 ┆ 68371.178028  │\n",
       "│ min        ┆ 1.0            ┆ 1.0                 ┆ 1913.0        │\n",
       "│ 25%        ┆ 1.0            ┆ 1.0                 ┆ 67000.0       │\n",
       "│ 50%        ┆ 1.0            ┆ 1.0                 ┆ 115615.0      │\n",
       "│ 75%        ┆ 1.0            ┆ 1.0                 ┆ 144808.0      │\n",
       "│ max        ┆ 3.0            ┆ 1.0                 ┆ 888474.0      │\n",
       "└────────────┴────────────────┴─────────────────────┴───────────────┘"
      ]
     },
     "execution_count": 78,
     "metadata": {},
     "output_type": "execute_result"
    }
   ],
   "source": [
    "mp_data[lev_02_hh].describe()"
   ]
  },
  {
   "cell_type": "markdown",
   "id": "7ad87377",
   "metadata": {},
   "source": [
    "- FDQ feature only have the null values\n",
    "- If we see the unique value \n",
    "- We found only 1 so we replace with one "
   ]
  },
  {
   "cell_type": "code",
   "execution_count": 79,
   "id": "2eb2ab65",
   "metadata": {},
   "outputs": [
    {
     "data": {
      "text/html": [
       "<div><style>\n",
       ".dataframe > thead > tr,\n",
       ".dataframe > tbody > tr {\n",
       "  text-align: right;\n",
       "  white-space: pre-wrap;\n",
       "}\n",
       "</style>\n",
       "<small>shape: (2,)</small><table border=\"1\" class=\"dataframe\"><thead><tr><th>FDQ_Original_Member</th></tr><tr><td>i32</td></tr></thead><tbody><tr><td>null</td></tr><tr><td>1</td></tr></tbody></table></div>"
      ],
      "text/plain": [
       "shape: (2,)\n",
       "Series: 'FDQ_Original_Member' [i32]\n",
       "[\n",
       "\tnull\n",
       "\t1\n",
       "]"
      ]
     },
     "execution_count": 79,
     "metadata": {},
     "output_type": "execute_result"
    }
   ],
   "source": [
    "mp_data['FDQ_Original_Member'].unique()"
   ]
  },
  {
   "cell_type": "code",
   "execution_count": 80,
   "id": "013c988d",
   "metadata": {},
   "outputs": [],
   "source": [
    "mp_data = mp_data.with_columns(\n",
    "    pl.col('FDQ_Original_Member').fill_null(strategy='one')\n",
    ")"
   ]
  },
  {
   "cell_type": "code",
   "execution_count": 81,
   "id": "e1ce13fe",
   "metadata": {},
   "outputs": [
    {
     "data": {
      "text/html": [
       "<div><style>\n",
       ".dataframe > thead > tr,\n",
       ".dataframe > tbody > tr {\n",
       "  text-align: right;\n",
       "  white-space: pre-wrap;\n",
       "}\n",
       "</style>\n",
       "<small>shape: (1,)</small><table border=\"1\" class=\"dataframe\"><thead><tr><th>FDQ_Original_Member</th></tr><tr><td>i32</td></tr></thead><tbody><tr><td>1</td></tr></tbody></table></div>"
      ],
      "text/plain": [
       "shape: (1,)\n",
       "Series: 'FDQ_Original_Member' [i32]\n",
       "[\n",
       "\t1\n",
       "]"
      ]
     },
     "execution_count": 81,
     "metadata": {},
     "output_type": "execute_result"
    }
   ],
   "source": [
    "mp_data['FDQ_Original_Member'].unique()"
   ]
  },
  {
   "cell_type": "markdown",
   "id": "c31734c6",
   "metadata": {},
   "source": [
    "## Food "
   ]
  },
  {
   "cell_type": "code",
   "execution_count": 82,
   "id": "920bc7a9",
   "metadata": {},
   "outputs": [
    {
     "data": {
      "text/html": [
       "<div><style>\n",
       ".dataframe > thead > tr,\n",
       ".dataframe > tbody > tr {\n",
       "  text-align: right;\n",
       "  white-space: pre-wrap;\n",
       "}\n",
       "</style>\n",
       "<small>shape: (64_952, 6)</small><table border=\"1\" class=\"dataframe\"><thead><tr><th>Meals_Usually_Taken_Per_Day</th><th>Meals_From_School</th><th>Meals_From_Employer</th><th>Meals_Other</th><th>Meals_On_Payment</th><th>Meals_At_Home</th></tr><tr><td>i32</td><td>i32</td><td>i32</td><td>i32</td><td>i32</td><td>i32</td></tr></thead><tbody><tr><td>2</td><td>null</td><td>null</td><td>null</td><td>null</td><td>60</td></tr><tr><td>2</td><td>null</td><td>null</td><td>null</td><td>null</td><td>60</td></tr><tr><td>2</td><td>null</td><td>null</td><td>null</td><td>null</td><td>60</td></tr><tr><td>2</td><td>null</td><td>null</td><td>null</td><td>null</td><td>60</td></tr><tr><td>2</td><td>null</td><td>null</td><td>null</td><td>null</td><td>60</td></tr><tr><td>&hellip;</td><td>&hellip;</td><td>&hellip;</td><td>&hellip;</td><td>&hellip;</td><td>&hellip;</td></tr><tr><td>2</td><td>null</td><td>null</td><td>null</td><td>null</td><td>60</td></tr><tr><td>2</td><td>null</td><td>null</td><td>null</td><td>null</td><td>57</td></tr><tr><td>2</td><td>null</td><td>null</td><td>null</td><td>null</td><td>60</td></tr><tr><td>2</td><td>null</td><td>null</td><td>null</td><td>null</td><td>60</td></tr><tr><td>2</td><td>null</td><td>null</td><td>null</td><td>null</td><td>60</td></tr></tbody></table></div>"
      ],
      "text/plain": [
       "shape: (64_952, 6)\n",
       "┌─────────────────┬────────────────┬────────────────┬─────────────┬────────────────┬───────────────┐\n",
       "│ Meals_Usually_T ┆ Meals_From_Sch ┆ Meals_From_Emp ┆ Meals_Other ┆ Meals_On_Payme ┆ Meals_At_Home │\n",
       "│ aken_Per_Day    ┆ ool            ┆ loyer          ┆ ---         ┆ nt             ┆ ---           │\n",
       "│ ---             ┆ ---            ┆ ---            ┆ i32         ┆ ---            ┆ i32           │\n",
       "│ i32             ┆ i32            ┆ i32            ┆             ┆ i32            ┆               │\n",
       "╞═════════════════╪════════════════╪════════════════╪═════════════╪════════════════╪═══════════════╡\n",
       "│ 2               ┆ null           ┆ null           ┆ null        ┆ null           ┆ 60            │\n",
       "│ 2               ┆ null           ┆ null           ┆ null        ┆ null           ┆ 60            │\n",
       "│ 2               ┆ null           ┆ null           ┆ null        ┆ null           ┆ 60            │\n",
       "│ 2               ┆ null           ┆ null           ┆ null        ┆ null           ┆ 60            │\n",
       "│ 2               ┆ null           ┆ null           ┆ null        ┆ null           ┆ 60            │\n",
       "│ …               ┆ …              ┆ …              ┆ …           ┆ …              ┆ …             │\n",
       "│ 2               ┆ null           ┆ null           ┆ null        ┆ null           ┆ 60            │\n",
       "│ 2               ┆ null           ┆ null           ┆ null        ┆ null           ┆ 57            │\n",
       "│ 2               ┆ null           ┆ null           ┆ null        ┆ null           ┆ 60            │\n",
       "│ 2               ┆ null           ┆ null           ┆ null        ┆ null           ┆ 60            │\n",
       "│ 2               ┆ null           ┆ null           ┆ null        ┆ null           ┆ 60            │\n",
       "└─────────────────┴────────────────┴────────────────┴─────────────┴────────────────┴───────────────┘"
      ]
     },
     "execution_count": 82,
     "metadata": {},
     "output_type": "execute_result"
    }
   ],
   "source": [
    "mp_data[lev_02_food]"
   ]
  },
  {
   "cell_type": "code",
   "execution_count": 83,
   "id": "4a3e25b0",
   "metadata": {},
   "outputs": [
    {
     "data": {
      "text/html": [
       "<div><style>\n",
       ".dataframe > thead > tr,\n",
       ".dataframe > tbody > tr {\n",
       "  text-align: right;\n",
       "  white-space: pre-wrap;\n",
       "}\n",
       "</style>\n",
       "<small>shape: (9, 7)</small><table border=\"1\" class=\"dataframe\"><thead><tr><th>statistic</th><th>Meals_Usually_Taken_Per_Day</th><th>Meals_From_School</th><th>Meals_From_Employer</th><th>Meals_Other</th><th>Meals_On_Payment</th><th>Meals_At_Home</th></tr><tr><td>str</td><td>f64</td><td>f64</td><td>f64</td><td>f64</td><td>f64</td><td>f64</td></tr></thead><tbody><tr><td>&quot;count&quot;</td><td>64833.0</td><td>10670.0</td><td>7743.0</td><td>13515.0</td><td>9362.0</td><td>64690.0</td></tr><tr><td>&quot;null_count&quot;</td><td>119.0</td><td>54282.0</td><td>57209.0</td><td>51437.0</td><td>55590.0</td><td>262.0</td></tr><tr><td>&quot;mean&quot;</td><td>2.304922</td><td>5.541706</td><td>0.164665</td><td>2.536293</td><td>1.228904</td><td>67.543098</td></tr><tr><td>&quot;std&quot;</td><td>0.522551</td><td>8.747545</td><td>2.737623</td><td>5.487476</td><td>6.034109</td><td>15.35473</td></tr><tr><td>&quot;min&quot;</td><td>0.0</td><td>0.0</td><td>0.0</td><td>0.0</td><td>0.0</td><td>0.0</td></tr><tr><td>&quot;25%&quot;</td><td>2.0</td><td>0.0</td><td>0.0</td><td>0.0</td><td>0.0</td><td>60.0</td></tr><tr><td>&quot;50%&quot;</td><td>2.0</td><td>0.0</td><td>0.0</td><td>1.0</td><td>0.0</td><td>60.0</td></tr><tr><td>&quot;75%&quot;</td><td>3.0</td><td>15.0</td><td>0.0</td><td>3.0</td><td>0.0</td><td>87.0</td></tr><tr><td>&quot;max&quot;</td><td>3.0</td><td>26.0</td><td>60.0</td><td>90.0</td><td>88.0</td><td>95.0</td></tr></tbody></table></div>"
      ],
      "text/plain": [
       "shape: (9, 7)\n",
       "┌────────────┬──────────────┬──────────────┬─────────────┬─────────────┬─────────────┬─────────────┐\n",
       "│ statistic  ┆ Meals_Usuall ┆ Meals_From_S ┆ Meals_From_ ┆ Meals_Other ┆ Meals_On_Pa ┆ Meals_At_Ho │\n",
       "│ ---        ┆ y_Taken_Per_ ┆ chool        ┆ Employer    ┆ ---         ┆ yment       ┆ me          │\n",
       "│ str        ┆ Day          ┆ ---          ┆ ---         ┆ f64         ┆ ---         ┆ ---         │\n",
       "│            ┆ ---          ┆ f64          ┆ f64         ┆             ┆ f64         ┆ f64         │\n",
       "│            ┆ f64          ┆              ┆             ┆             ┆             ┆             │\n",
       "╞════════════╪══════════════╪══════════════╪═════════════╪═════════════╪═════════════╪═════════════╡\n",
       "│ count      ┆ 64833.0      ┆ 10670.0      ┆ 7743.0      ┆ 13515.0     ┆ 9362.0      ┆ 64690.0     │\n",
       "│ null_count ┆ 119.0        ┆ 54282.0      ┆ 57209.0     ┆ 51437.0     ┆ 55590.0     ┆ 262.0       │\n",
       "│ mean       ┆ 2.304922     ┆ 5.541706     ┆ 0.164665    ┆ 2.536293    ┆ 1.228904    ┆ 67.543098   │\n",
       "│ std        ┆ 0.522551     ┆ 8.747545     ┆ 2.737623    ┆ 5.487476    ┆ 6.034109    ┆ 15.35473    │\n",
       "│ min        ┆ 0.0          ┆ 0.0          ┆ 0.0         ┆ 0.0         ┆ 0.0         ┆ 0.0         │\n",
       "│ 25%        ┆ 2.0          ┆ 0.0          ┆ 0.0         ┆ 0.0         ┆ 0.0         ┆ 60.0        │\n",
       "│ 50%        ┆ 2.0          ┆ 0.0          ┆ 0.0         ┆ 1.0         ┆ 0.0         ┆ 60.0        │\n",
       "│ 75%        ┆ 3.0          ┆ 15.0         ┆ 0.0         ┆ 3.0         ┆ 0.0         ┆ 87.0        │\n",
       "│ max        ┆ 3.0          ┆ 26.0         ┆ 60.0        ┆ 90.0        ┆ 88.0        ┆ 95.0        │\n",
       "└────────────┴──────────────┴──────────────┴─────────────┴─────────────┴─────────────┴─────────────┘"
      ]
     },
     "execution_count": 83,
     "metadata": {},
     "output_type": "execute_result"
    }
   ],
   "source": [
    "mp_data[lev_02_food].describe()"
   ]
  },
  {
   "cell_type": "code",
   "execution_count": 84,
   "id": "41e79fc7",
   "metadata": {},
   "outputs": [
    {
     "data": {
      "text/html": [
       "<div><style>\n",
       ".dataframe > thead > tr,\n",
       ".dataframe > tbody > tr {\n",
       "  text-align: right;\n",
       "  white-space: pre-wrap;\n",
       "}\n",
       "</style>\n",
       "<small>shape: (1, 6)</small><table border=\"1\" class=\"dataframe\"><thead><tr><th>Meals_Usually_Taken_Per_Day</th><th>Meals_From_School</th><th>Meals_From_Employer</th><th>Meals_Other</th><th>Meals_On_Payment</th><th>Meals_At_Home</th></tr><tr><td>f64</td><td>f64</td><td>f64</td><td>f64</td><td>f64</td><td>f64</td></tr></thead><tbody><tr><td>0.183212</td><td>83.572484</td><td>88.078889</td><td>79.192327</td><td>85.586279</td><td>0.403375</td></tr></tbody></table></div>"
      ],
      "text/plain": [
       "shape: (1, 6)\n",
       "┌─────────────────┬────────────────┬────────────────┬─────────────┬────────────────┬───────────────┐\n",
       "│ Meals_Usually_T ┆ Meals_From_Sch ┆ Meals_From_Emp ┆ Meals_Other ┆ Meals_On_Payme ┆ Meals_At_Home │\n",
       "│ aken_Per_Day    ┆ ool            ┆ loyer          ┆ ---         ┆ nt             ┆ ---           │\n",
       "│ ---             ┆ ---            ┆ ---            ┆ f64         ┆ ---            ┆ f64           │\n",
       "│ f64             ┆ f64            ┆ f64            ┆             ┆ f64            ┆               │\n",
       "╞═════════════════╪════════════════╪════════════════╪═════════════╪════════════════╪═══════════════╡\n",
       "│ 0.183212        ┆ 83.572484      ┆ 88.078889      ┆ 79.192327   ┆ 85.586279      ┆ 0.403375      │\n",
       "└─────────────────┴────────────────┴────────────────┴─────────────┴────────────────┴───────────────┘"
      ]
     },
     "execution_count": 84,
     "metadata": {},
     "output_type": "execute_result"
    }
   ],
   "source": [
    "# Percentage value is null\n",
    "(mp_data[lev_02_food].null_count() / mp_data.shape[0]) * 100 "
   ]
  },
  {
   "cell_type": "markdown",
   "id": "290be90c",
   "metadata": {},
   "source": [
    "**Clean Method:**\n",
    "\n",
    "- `Meals_Usually_Taken_Per_Day`, `Meals_At_Home` -> Safely clean with anything\n",
    "- Rest Columns fill with 0 --> Because if they have meal then it already present in `Meals_At_Home`.\n",
    "- May be most of person not from school and they eat at home so this null value created "
   ]
  },
  {
   "cell_type": "code",
   "execution_count": 85,
   "id": "dbd99b7c",
   "metadata": {},
   "outputs": [],
   "source": [
    "mp_data = mp_data.with_columns(\n",
    "    pl.col('Meals_From_School').fill_null(strategy='zero'),\n",
    "    pl.col('Meals_From_Employer').fill_null(strategy='zero'),\n",
    "    pl.col('Meals_Other').fill_null(strategy='zero'),\n",
    "    pl.col('Meals_On_Payment').fill_null(strategy='zero'),\n",
    ")"
   ]
  },
  {
   "cell_type": "code",
   "execution_count": 86,
   "id": "ae1bccf4",
   "metadata": {},
   "outputs": [
    {
     "data": {
      "text/plain": [
       "<Axes: ylabel='Count'>"
      ]
     },
     "execution_count": 86,
     "metadata": {},
     "output_type": "execute_result"
    },
    {
     "data": {
      "image/png": "[encoded data removed]",
      "text/plain": [
       "<Figure size 640x480 with 1 Axes>"
      ]
     },
     "metadata": {},
     "output_type": "display_data"
    }
   ],
   "source": [
    "sns.histplot(mp_data['Meals_Usually_Taken_Per_Day'])"
   ]
  },
  {
   "cell_type": "code",
   "execution_count": 87,
   "id": "8ba87b64",
   "metadata": {},
   "outputs": [],
   "source": [
    "mp_data = mp_data.with_columns(\n",
    "    pl.col('Meals_Usually_Taken_Per_Day').fill_null(value=3)\n",
    ")"
   ]
  },
  {
   "cell_type": "code",
   "execution_count": 88,
   "id": "bdf10612",
   "metadata": {},
   "outputs": [
    {
     "data": {
      "text/plain": [
       "<Axes: ylabel='Count'>"
      ]
     },
     "execution_count": 88,
     "metadata": {},
     "output_type": "execute_result"
    },
    {
     "data": {
      "image/png": "[encoded data removed]",
      "text/plain": [
       "<Figure size 640x480 with 1 Axes>"
      ]
     },
     "metadata": {},
     "output_type": "display_data"
    }
   ],
   "source": [
    "sns.histplot(mp_data['Meals_At_Home'])"
   ]
  },
  {
   "cell_type": "code",
   "execution_count": 89,
   "id": "44611485",
   "metadata": {},
   "outputs": [],
   "source": [
    "mp_data = mp_data.with_columns(\n",
    "    pl.col('Meals_At_Home').fill_null(strategy='mean')\n",
    ")"
   ]
  },
  {
   "cell_type": "code",
   "execution_count": 90,
   "id": "075eda6f",
   "metadata": {},
   "outputs": [
    {
     "data": {
      "text/plain": [
       "<Axes: ylabel='Count'>"
      ]
     },
     "execution_count": 90,
     "metadata": {},
     "output_type": "execute_result"
    },
    {
     "data": {
      "image/png": "[encoded data removed]",
      "text/plain": [
       "<Figure size 640x480 with 1 Axes>"
      ]
     },
     "metadata": {},
     "output_type": "display_data"
    }
   ],
   "source": [
    "sns.histplot(mp_data['Meals_Other'])"
   ]
  },
  {
   "cell_type": "code",
   "execution_count": 91,
   "id": "726e2862",
   "metadata": {},
   "outputs": [
    {
     "data": {
      "text/plain": [
       "<Axes: ylabel='Count'>"
      ]
     },
     "execution_count": 91,
     "metadata": {},
     "output_type": "execute_result"
    },
    {
     "data": {
      "image/png": "[encoded data removed]",
      "text/plain": [
       "<Figure size 640x480 with 1 Axes>"
      ]
     },
     "metadata": {},
     "output_type": "display_data"
    }
   ],
   "source": [
    "sns.histplot(mp_data['Meals_From_Employer'])"
   ]
  },
  {
   "cell_type": "code",
   "execution_count": 92,
   "id": "488f256e",
   "metadata": {},
   "outputs": [
    {
     "data": {
      "text/plain": [
       "<Axes: ylabel='Count'>"
      ]
     },
     "execution_count": 92,
     "metadata": {},
     "output_type": "execute_result"
    },
    {
     "data": {
      "image/png": "[encoded data removed]",
      "text/plain": [
       "<Figure size 640x480 with 1 Axes>"
      ]
     },
     "metadata": {},
     "output_type": "display_data"
    }
   ],
   "source": [
    "sns.histplot(mp_data['Meals_From_School'])"
   ]
  },
  {
   "cell_type": "markdown",
   "id": "adc20542",
   "metadata": {},
   "source": [
    "## Digital"
   ]
  },
  {
   "cell_type": "code",
   "execution_count": 93,
   "id": "9855c864",
   "metadata": {},
   "outputs": [
    {
     "data": {
      "text/html": [
       "<div><style>\n",
       ".dataframe > thead > tr,\n",
       ".dataframe > tbody > tr {\n",
       "  text-align: right;\n",
       "  white-space: pre-wrap;\n",
       "}\n",
       "</style>\n",
       "<small>shape: (64_952, 1)</small><table border=\"1\" class=\"dataframe\"><thead><tr><th>Used_Internet_Last_30_Days</th></tr><tr><td>i32</td></tr></thead><tbody><tr><td>2</td></tr><tr><td>1</td></tr><tr><td>1</td></tr><tr><td>2</td></tr><tr><td>2</td></tr><tr><td>&hellip;</td></tr><tr><td>1</td></tr><tr><td>1</td></tr><tr><td>1</td></tr><tr><td>1</td></tr><tr><td>1</td></tr></tbody></table></div>"
      ],
      "text/plain": [
       "shape: (64_952, 1)\n",
       "┌────────────────────────────┐\n",
       "│ Used_Internet_Last_30_Days │\n",
       "│ ---                        │\n",
       "│ i32                        │\n",
       "╞════════════════════════════╡\n",
       "│ 2                          │\n",
       "│ 1                          │\n",
       "│ 1                          │\n",
       "│ 2                          │\n",
       "│ 2                          │\n",
       "│ …                          │\n",
       "│ 1                          │\n",
       "│ 1                          │\n",
       "│ 1                          │\n",
       "│ 1                          │\n",
       "│ 1                          │\n",
       "└────────────────────────────┘"
      ]
     },
     "execution_count": 93,
     "metadata": {},
     "output_type": "execute_result"
    }
   ],
   "source": [
    "mp_data[lev_02_digital]"
   ]
  },
  {
   "cell_type": "code",
   "execution_count": 94,
   "id": "81c86c82",
   "metadata": {},
   "outputs": [
    {
     "data": {
      "text/html": [
       "<div><style>\n",
       ".dataframe > thead > tr,\n",
       ".dataframe > tbody > tr {\n",
       "  text-align: right;\n",
       "  white-space: pre-wrap;\n",
       "}\n",
       "</style>\n",
       "<small>shape: (9, 2)</small><table border=\"1\" class=\"dataframe\"><thead><tr><th>statistic</th><th>Used_Internet_Last_30_Days</th></tr><tr><td>str</td><td>f64</td></tr></thead><tbody><tr><td>&quot;count&quot;</td><td>62395.0</td></tr><tr><td>&quot;null_count&quot;</td><td>2557.0</td></tr><tr><td>&quot;mean&quot;</td><td>1.443529</td></tr><tr><td>&quot;std&quot;</td><td>0.496805</td></tr><tr><td>&quot;min&quot;</td><td>1.0</td></tr><tr><td>&quot;25%&quot;</td><td>1.0</td></tr><tr><td>&quot;50%&quot;</td><td>1.0</td></tr><tr><td>&quot;75%&quot;</td><td>2.0</td></tr><tr><td>&quot;max&quot;</td><td>2.0</td></tr></tbody></table></div>"
      ],
      "text/plain": [
       "shape: (9, 2)\n",
       "┌────────────┬────────────────────────────┐\n",
       "│ statistic  ┆ Used_Internet_Last_30_Days │\n",
       "│ ---        ┆ ---                        │\n",
       "│ str        ┆ f64                        │\n",
       "╞════════════╪════════════════════════════╡\n",
       "│ count      ┆ 62395.0                    │\n",
       "│ null_count ┆ 2557.0                     │\n",
       "│ mean       ┆ 1.443529                   │\n",
       "│ std        ┆ 0.496805                   │\n",
       "│ min        ┆ 1.0                        │\n",
       "│ 25%        ┆ 1.0                        │\n",
       "│ 50%        ┆ 1.0                        │\n",
       "│ 75%        ┆ 2.0                        │\n",
       "│ max        ┆ 2.0                        │\n",
       "└────────────┴────────────────────────────┘"
      ]
     },
     "execution_count": 94,
     "metadata": {},
     "output_type": "execute_result"
    }
   ],
   "source": [
    "mp_data[lev_02_digital].describe()"
   ]
  },
  {
   "cell_type": "code",
   "execution_count": 95,
   "id": "40aa0808",
   "metadata": {},
   "outputs": [
    {
     "data": {
      "text/html": [
       "<div><style>\n",
       ".dataframe > thead > tr,\n",
       ".dataframe > tbody > tr {\n",
       "  text-align: right;\n",
       "  white-space: pre-wrap;\n",
       "}\n",
       "</style>\n",
       "<small>shape: (1, 2)</small><table border=\"1\" class=\"dataframe\"><thead><tr><th>Used_Internet_Last_30_Days</th><th>Days_Away_From_Home_Last_30_Days</th></tr><tr><td>f64</td><td>f64</td></tr></thead><tbody><tr><td>3.936753</td><td>0.135485</td></tr></tbody></table></div>"
      ],
      "text/plain": [
       "shape: (1, 2)\n",
       "┌────────────────────────────┬─────────────────────────────────┐\n",
       "│ Used_Internet_Last_30_Days ┆ Days_Away_From_Home_Last_30_Da… │\n",
       "│ ---                        ┆ ---                             │\n",
       "│ f64                        ┆ f64                             │\n",
       "╞════════════════════════════╪═════════════════════════════════╡\n",
       "│ 3.936753                   ┆ 0.135485                        │\n",
       "└────────────────────────────┴─────────────────────────────────┘"
      ]
     },
     "execution_count": 95,
     "metadata": {},
     "output_type": "execute_result"
    }
   ],
   "source": [
    "# Percentage null value\n",
    "(mp_data[lev_02_digital + lev_02__behavior].null_count() / mp_data.shape[0]) * 100 "
   ]
  },
  {
   "cell_type": "markdown",
   "id": "0614662f",
   "metadata": {},
   "source": [
    "- Here 1: Yes and 2: No\n",
    "- I change the labeling and make according to me \n",
    "- For digital I do the forward fill null strategy"
   ]
  },
  {
   "cell_type": "code",
   "execution_count": 96,
   "id": "5c6a9353",
   "metadata": {},
   "outputs": [
    {
     "data": {
      "text/plain": [
       "<Axes: ylabel='Count'>"
      ]
     },
     "execution_count": 96,
     "metadata": {},
     "output_type": "execute_result"
    },
    {
     "data": {
      "image/png": "[encoded data removed]",
      "text/plain": [
       "<Figure size 640x480 with 1 Axes>"
      ]
     },
     "metadata": {},
     "output_type": "display_data"
    }
   ],
   "source": [
    "sns.histplot(mp_data['Used_Internet_Last_30_Days'])"
   ]
  },
  {
   "cell_type": "code",
   "execution_count": 97,
   "id": "833ff32e",
   "metadata": {},
   "outputs": [],
   "source": [
    "mp_data = mp_data.with_columns(\n",
    "    pl.col('Used_Internet_Last_30_Days').fill_null(strategy='forward'),\n",
    ")"
   ]
  },
  {
   "cell_type": "code",
   "execution_count": 98,
   "id": "ed9f3c4f",
   "metadata": {},
   "outputs": [
    {
     "data": {
      "text/html": [
       "<div><style>\n",
       ".dataframe > thead > tr,\n",
       ".dataframe > tbody > tr {\n",
       "  text-align: right;\n",
       "  white-space: pre-wrap;\n",
       "}\n",
       "</style>\n",
       "<small>shape: (2,)</small><table border=\"1\" class=\"dataframe\"><thead><tr><th>Used_Internet_Last_30_Days</th></tr><tr><td>i32</td></tr></thead><tbody><tr><td>1</td></tr><tr><td>2</td></tr></tbody></table></div>"
      ],
      "text/plain": [
       "shape: (2,)\n",
       "Series: 'Used_Internet_Last_30_Days' [i32]\n",
       "[\n",
       "\t1\n",
       "\t2\n",
       "]"
      ]
     },
     "execution_count": 98,
     "metadata": {},
     "output_type": "execute_result"
    }
   ],
   "source": [
    "mp_data['Used_Internet_Last_30_Days'].unique()"
   ]
  },
  {
   "cell_type": "code",
   "execution_count": 99,
   "id": "e250eea4",
   "metadata": {},
   "outputs": [],
   "source": [
    "# 1: Yes and 2: No ---> 1:Yes and 0:No"
   ]
  },
  {
   "cell_type": "code",
   "execution_count": 100,
   "id": "41f74001",
   "metadata": {},
   "outputs": [],
   "source": [
    "mp_data = mp_data.with_columns(\n",
    "    pl.when(pl.col(\"Used_Internet_Last_30_Days\") == 1)\n",
    "      .then(1)\n",
    "      .when(pl.col(\"Used_Internet_Last_30_Days\") == 2)\n",
    "      .then(0)\n",
    "      .otherwise(None)  # or 0 if you prefer\n",
    "      .alias(\"Used_Internet_Last_30_Days\")\n",
    ")\n"
   ]
  },
  {
   "cell_type": "markdown",
   "id": "50126b3a",
   "metadata": {},
   "source": [
    "## Behavior"
   ]
  },
  {
   "cell_type": "code",
   "execution_count": 101,
   "id": "a8435911",
   "metadata": {},
   "outputs": [
    {
     "data": {
      "text/html": [
       "<div><style>\n",
       ".dataframe > thead > tr,\n",
       ".dataframe > tbody > tr {\n",
       "  text-align: right;\n",
       "  white-space: pre-wrap;\n",
       "}\n",
       "</style>\n",
       "<small>shape: (64_952, 1)</small><table border=\"1\" class=\"dataframe\"><thead><tr><th>Days_Away_From_Home_Last_30_Days</th></tr><tr><td>i32</td></tr></thead><tbody><tr><td>0</td></tr><tr><td>0</td></tr><tr><td>0</td></tr><tr><td>0</td></tr><tr><td>0</td></tr><tr><td>&hellip;</td></tr><tr><td>0</td></tr><tr><td>0</td></tr><tr><td>0</td></tr><tr><td>0</td></tr><tr><td>0</td></tr></tbody></table></div>"
      ],
      "text/plain": [
       "shape: (64_952, 1)\n",
       "┌─────────────────────────────────┐\n",
       "│ Days_Away_From_Home_Last_30_Da… │\n",
       "│ ---                             │\n",
       "│ i32                             │\n",
       "╞═════════════════════════════════╡\n",
       "│ 0                               │\n",
       "│ 0                               │\n",
       "│ 0                               │\n",
       "│ 0                               │\n",
       "│ 0                               │\n",
       "│ …                               │\n",
       "│ 0                               │\n",
       "│ 0                               │\n",
       "│ 0                               │\n",
       "│ 0                               │\n",
       "│ 0                               │\n",
       "└─────────────────────────────────┘"
      ]
     },
     "execution_count": 101,
     "metadata": {},
     "output_type": "execute_result"
    }
   ],
   "source": [
    "mp_data[lev_02__behavior]"
   ]
  },
  {
   "cell_type": "code",
   "execution_count": 102,
   "id": "fb9ea912",
   "metadata": {},
   "outputs": [
    {
     "data": {
      "text/html": [
       "<div><style>\n",
       ".dataframe > thead > tr,\n",
       ".dataframe > tbody > tr {\n",
       "  text-align: right;\n",
       "  white-space: pre-wrap;\n",
       "}\n",
       "</style>\n",
       "<small>shape: (9, 2)</small><table border=\"1\" class=\"dataframe\"><thead><tr><th>statistic</th><th>Days_Away_From_Home_Last_30_Days</th></tr><tr><td>str</td><td>f64</td></tr></thead><tbody><tr><td>&quot;count&quot;</td><td>64864.0</td></tr><tr><td>&quot;null_count&quot;</td><td>88.0</td></tr><tr><td>&quot;mean&quot;</td><td>0.187022</td></tr><tr><td>&quot;std&quot;</td><td>1.202743</td></tr><tr><td>&quot;min&quot;</td><td>0.0</td></tr><tr><td>&quot;25%&quot;</td><td>0.0</td></tr><tr><td>&quot;50%&quot;</td><td>0.0</td></tr><tr><td>&quot;75%&quot;</td><td>0.0</td></tr><tr><td>&quot;max&quot;</td><td>30.0</td></tr></tbody></table></div>"
      ],
      "text/plain": [
       "shape: (9, 2)\n",
       "┌────────────┬─────────────────────────────────┐\n",
       "│ statistic  ┆ Days_Away_From_Home_Last_30_Da… │\n",
       "│ ---        ┆ ---                             │\n",
       "│ str        ┆ f64                             │\n",
       "╞════════════╪═════════════════════════════════╡\n",
       "│ count      ┆ 64864.0                         │\n",
       "│ null_count ┆ 88.0                            │\n",
       "│ mean       ┆ 0.187022                        │\n",
       "│ std        ┆ 1.202743                        │\n",
       "│ min        ┆ 0.0                             │\n",
       "│ 25%        ┆ 0.0                             │\n",
       "│ 50%        ┆ 0.0                             │\n",
       "│ 75%        ┆ 0.0                             │\n",
       "│ max        ┆ 30.0                            │\n",
       "└────────────┴─────────────────────────────────┘"
      ]
     },
     "execution_count": 102,
     "metadata": {},
     "output_type": "execute_result"
    }
   ],
   "source": [
    "mp_data[lev_02__behavior].describe()"
   ]
  },
  {
   "cell_type": "markdown",
   "id": "4416242e",
   "metadata": {},
   "source": [
    "- Due to most of value are 0 so I also do 0 "
   ]
  },
  {
   "cell_type": "code",
   "execution_count": 103,
   "id": "cc8ea582",
   "metadata": {},
   "outputs": [
    {
     "data": {
      "text/plain": [
       "<Axes: ylabel='Count'>"
      ]
     },
     "execution_count": 103,
     "metadata": {},
     "output_type": "execute_result"
    },
    {
     "data": {
      "image/png": "[encoded data removed]",
      "text/plain": [
       "<Figure size 640x480 with 1 Axes>"
      ]
     },
     "metadata": {},
     "output_type": "display_data"
    }
   ],
   "source": [
    "sns.histplot(mp_data['Days_Away_From_Home_Last_30_Days'])"
   ]
  },
  {
   "cell_type": "code",
   "execution_count": 104,
   "id": "1d4624bf",
   "metadata": {},
   "outputs": [],
   "source": [
    "mp_data = mp_data.with_columns(\n",
    "    pl.col('Days_Away_From_Home_Last_30_Days').fill_null(strategy='one')\n",
    ")"
   ]
  },
  {
   "cell_type": "markdown",
   "id": "212596c5",
   "metadata": {},
   "source": [
    "## User"
   ]
  },
  {
   "cell_type": "code",
   "execution_count": 105,
   "id": "a9dabfe8",
   "metadata": {},
   "outputs": [
    {
     "data": {
      "text/html": [
       "<div><style>\n",
       ".dataframe > thead > tr,\n",
       ".dataframe > tbody > tr {\n",
       "  text-align: right;\n",
       "  white-space: pre-wrap;\n",
       "}\n",
       "</style>\n",
       "<small>shape: (64_952, 7)</small><table border=\"1\" class=\"dataframe\"><thead><tr><th>FSU_Serial_No</th><th>Relation_to_Head</th><th>Gender</th><th>Age</th><th>Marital_Status</th><th>Education_Level</th><th>Years_of_Education</th></tr><tr><td>i32</td><td>i32</td><td>i32</td><td>i32</td><td>i32</td><td>i32</td><td>i32</td></tr></thead><tbody><tr><td>44081</td><td>1</td><td>2</td><td>46</td><td>3</td><td>1</td><td>null</td></tr><tr><td>44081</td><td>5</td><td>1</td><td>19</td><td>1</td><td>7</td><td>12</td></tr><tr><td>44081</td><td>5</td><td>2</td><td>21</td><td>1</td><td>7</td><td>12</td></tr><tr><td>44081</td><td>1</td><td>1</td><td>52</td><td>2</td><td>3</td><td>5</td></tr><tr><td>44081</td><td>2</td><td>2</td><td>50</td><td>2</td><td>1</td><td>null</td></tr><tr><td>&hellip;</td><td>&hellip;</td><td>&hellip;</td><td>&hellip;</td><td>&hellip;</td><td>&hellip;</td><td>&hellip;</td></tr><tr><td>25137</td><td>1</td><td>1</td><td>42</td><td>2</td><td>5</td><td>8</td></tr><tr><td>25137</td><td>2</td><td>2</td><td>40</td><td>2</td><td>5</td><td>8</td></tr><tr><td>25137</td><td>5</td><td>1</td><td>11</td><td>1</td><td>4</td><td>5</td></tr><tr><td>25137</td><td>5</td><td>2</td><td>14</td><td>1</td><td>5</td><td>8</td></tr><tr><td>25137</td><td>5</td><td>2</td><td>9</td><td>1</td><td>3</td><td>3</td></tr></tbody></table></div>"
      ],
      "text/plain": [
       "shape: (64_952, 7)\n",
       "┌───────────────┬────────────────┬────────┬─────┬────────────────┬────────────────┬────────────────┐\n",
       "│ FSU_Serial_No ┆ Relation_to_He ┆ Gender ┆ Age ┆ Marital_Status ┆ Education_Leve ┆ Years_of_Educa │\n",
       "│ ---           ┆ ad             ┆ ---    ┆ --- ┆ ---            ┆ l              ┆ tion           │\n",
       "│ i32           ┆ ---            ┆ i32    ┆ i32 ┆ i32            ┆ ---            ┆ ---            │\n",
       "│               ┆ i32            ┆        ┆     ┆                ┆ i32            ┆ i32            │\n",
       "╞═══════════════╪════════════════╪════════╪═════╪════════════════╪════════════════╪════════════════╡\n",
       "│ 44081         ┆ 1              ┆ 2      ┆ 46  ┆ 3              ┆ 1              ┆ null           │\n",
       "│ 44081         ┆ 5              ┆ 1      ┆ 19  ┆ 1              ┆ 7              ┆ 12             │\n",
       "│ 44081         ┆ 5              ┆ 2      ┆ 21  ┆ 1              ┆ 7              ┆ 12             │\n",
       "│ 44081         ┆ 1              ┆ 1      ┆ 52  ┆ 2              ┆ 3              ┆ 5              │\n",
       "│ 44081         ┆ 2              ┆ 2      ┆ 50  ┆ 2              ┆ 1              ┆ null           │\n",
       "│ …             ┆ …              ┆ …      ┆ …   ┆ …              ┆ …              ┆ …              │\n",
       "│ 25137         ┆ 1              ┆ 1      ┆ 42  ┆ 2              ┆ 5              ┆ 8              │\n",
       "│ 25137         ┆ 2              ┆ 2      ┆ 40  ┆ 2              ┆ 5              ┆ 8              │\n",
       "│ 25137         ┆ 5              ┆ 1      ┆ 11  ┆ 1              ┆ 4              ┆ 5              │\n",
       "│ 25137         ┆ 5              ┆ 2      ┆ 14  ┆ 1              ┆ 5              ┆ 8              │\n",
       "│ 25137         ┆ 5              ┆ 2      ┆ 9   ┆ 1              ┆ 3              ┆ 3              │\n",
       "└───────────────┴────────────────┴────────┴─────┴────────────────┴────────────────┴────────────────┘"
      ]
     },
     "execution_count": 105,
     "metadata": {},
     "output_type": "execute_result"
    }
   ],
   "source": [
    "mp_data[lev_02_user]"
   ]
  },
  {
   "cell_type": "code",
   "execution_count": 106,
   "id": "3fc8d6da",
   "metadata": {},
   "outputs": [
    {
     "data": {
      "text/html": [
       "<div><style>\n",
       ".dataframe > thead > tr,\n",
       ".dataframe > tbody > tr {\n",
       "  text-align: right;\n",
       "  white-space: pre-wrap;\n",
       "}\n",
       "</style>\n",
       "<small>shape: (9, 8)</small><table border=\"1\" class=\"dataframe\"><thead><tr><th>statistic</th><th>FSU_Serial_No</th><th>Relation_to_Head</th><th>Gender</th><th>Age</th><th>Marital_Status</th><th>Education_Level</th><th>Years_of_Education</th></tr><tr><td>str</td><td>f64</td><td>f64</td><td>f64</td><td>f64</td><td>f64</td><td>f64</td><td>f64</td></tr></thead><tbody><tr><td>&quot;count&quot;</td><td>64952.0</td><td>64952.0</td><td>64952.0</td><td>64952.0</td><td>64952.0</td><td>64952.0</td><td>47934.0</td></tr><tr><td>&quot;null_count&quot;</td><td>0.0</td><td>0.0</td><td>0.0</td><td>0.0</td><td>0.0</td><td>0.0</td><td>17018.0</td></tr><tr><td>&quot;mean&quot;</td><td>36407.862083</td><td>3.630142</td><td>1.482387</td><td>30.484974</td><td>1.627694</td><td>4.703458</td><td>8.965056</td></tr><tr><td>&quot;std&quot;</td><td>8555.76459</td><td>2.006095</td><td>0.499909</td><td>19.286044</td><td>0.597384</td><td>3.339115</td><td>4.325704</td></tr><tr><td>&quot;min&quot;</td><td>25000.0</td><td>1.0</td><td>1.0</td><td>0.0</td><td>1.0</td><td>1.0</td><td>0.0</td></tr><tr><td>&quot;25%&quot;</td><td>25296.0</td><td>2.0</td><td>1.0</td><td>15.0</td><td>1.0</td><td>2.0</td><td>5.0</td></tr><tr><td>&quot;50%&quot;</td><td>42399.0</td><td>4.0</td><td>1.0</td><td>28.0</td><td>2.0</td><td>4.0</td><td>8.0</td></tr><tr><td>&quot;75%&quot;</td><td>42742.0</td><td>5.0</td><td>2.0</td><td>45.0</td><td>2.0</td><td>6.0</td><td>12.0</td></tr><tr><td>&quot;max&quot;</td><td>44199.0</td><td>9.0</td><td>3.0</td><td>105.0</td><td>4.0</td><td>13.0</td><td>20.0</td></tr></tbody></table></div>"
      ],
      "text/plain": [
       "shape: (9, 8)\n",
       "┌────────────┬────────────┬────────────┬──────────┬───────────┬────────────┬───────────┬───────────┐\n",
       "│ statistic  ┆ FSU_Serial ┆ Relation_t ┆ Gender   ┆ Age       ┆ Marital_St ┆ Education ┆ Years_of_ │\n",
       "│ ---        ┆ _No        ┆ o_Head     ┆ ---      ┆ ---       ┆ atus       ┆ _Level    ┆ Education │\n",
       "│ str        ┆ ---        ┆ ---        ┆ f64      ┆ f64       ┆ ---        ┆ ---       ┆ ---       │\n",
       "│            ┆ f64        ┆ f64        ┆          ┆           ┆ f64        ┆ f64       ┆ f64       │\n",
       "╞════════════╪════════════╪════════════╪══════════╪═══════════╪════════════╪═══════════╪═══════════╡\n",
       "│ count      ┆ 64952.0    ┆ 64952.0    ┆ 64952.0  ┆ 64952.0   ┆ 64952.0    ┆ 64952.0   ┆ 47934.0   │\n",
       "│ null_count ┆ 0.0        ┆ 0.0        ┆ 0.0      ┆ 0.0       ┆ 0.0        ┆ 0.0       ┆ 17018.0   │\n",
       "│ mean       ┆ 36407.8620 ┆ 3.630142   ┆ 1.482387 ┆ 30.484974 ┆ 1.627694   ┆ 4.703458  ┆ 8.965056  │\n",
       "│            ┆ 83         ┆            ┆          ┆           ┆            ┆           ┆           │\n",
       "│ std        ┆ 8555.76459 ┆ 2.006095   ┆ 0.499909 ┆ 19.286044 ┆ 0.597384   ┆ 3.339115  ┆ 4.325704  │\n",
       "│ min        ┆ 25000.0    ┆ 1.0        ┆ 1.0      ┆ 0.0       ┆ 1.0        ┆ 1.0       ┆ 0.0       │\n",
       "│ 25%        ┆ 25296.0    ┆ 2.0        ┆ 1.0      ┆ 15.0      ┆ 1.0        ┆ 2.0       ┆ 5.0       │\n",
       "│ 50%        ┆ 42399.0    ┆ 4.0        ┆ 1.0      ┆ 28.0      ┆ 2.0        ┆ 4.0       ┆ 8.0       │\n",
       "│ 75%        ┆ 42742.0    ┆ 5.0        ┆ 2.0      ┆ 45.0      ┆ 2.0        ┆ 6.0       ┆ 12.0      │\n",
       "│ max        ┆ 44199.0    ┆ 9.0        ┆ 3.0      ┆ 105.0     ┆ 4.0        ┆ 13.0      ┆ 20.0      │\n",
       "└────────────┴────────────┴────────────┴──────────┴───────────┴────────────┴───────────┴───────────┘"
      ]
     },
     "execution_count": 106,
     "metadata": {},
     "output_type": "execute_result"
    }
   ],
   "source": [
    "mp_data[lev_02_user].describe()"
   ]
  },
  {
   "cell_type": "code",
   "execution_count": 107,
   "id": "5aa31591",
   "metadata": {},
   "outputs": [
    {
     "data": {
      "text/html": [
       "<div><style>\n",
       ".dataframe > thead > tr,\n",
       ".dataframe > tbody > tr {\n",
       "  text-align: right;\n",
       "  white-space: pre-wrap;\n",
       "}\n",
       "</style>\n",
       "<small>shape: (1, 7)</small><table border=\"1\" class=\"dataframe\"><thead><tr><th>FSU_Serial_No</th><th>Relation_to_Head</th><th>Gender</th><th>Age</th><th>Marital_Status</th><th>Education_Level</th><th>Years_of_Education</th></tr><tr><td>f64</td><td>f64</td><td>f64</td><td>f64</td><td>f64</td><td>f64</td><td>f64</td></tr></thead><tbody><tr><td>0.0</td><td>0.0</td><td>0.0</td><td>0.0</td><td>0.0</td><td>0.0</td><td>26.200887</td></tr></tbody></table></div>"
      ],
      "text/plain": [
       "shape: (1, 7)\n",
       "┌───────────────┬────────────────┬────────┬─────┬────────────────┬────────────────┬────────────────┐\n",
       "│ FSU_Serial_No ┆ Relation_to_He ┆ Gender ┆ Age ┆ Marital_Status ┆ Education_Leve ┆ Years_of_Educa │\n",
       "│ ---           ┆ ad             ┆ ---    ┆ --- ┆ ---            ┆ l              ┆ tion           │\n",
       "│ f64           ┆ ---            ┆ f64    ┆ f64 ┆ f64            ┆ ---            ┆ ---            │\n",
       "│               ┆ f64            ┆        ┆     ┆                ┆ f64            ┆ f64            │\n",
       "╞═══════════════╪════════════════╪════════╪═════╪════════════════╪════════════════╪════════════════╡\n",
       "│ 0.0           ┆ 0.0            ┆ 0.0    ┆ 0.0 ┆ 0.0            ┆ 0.0            ┆ 26.200887      │\n",
       "└───────────────┴────────────────┴────────┴─────┴────────────────┴────────────────┴────────────────┘"
      ]
     },
     "execution_count": 107,
     "metadata": {},
     "output_type": "execute_result"
    }
   ],
   "source": [
    "# Percentage null value\n",
    "(mp_data[lev_02_user].null_count() / mp_data.shape[0]) * 100 "
   ]
  },
  {
   "cell_type": "code",
   "execution_count": 108,
   "id": "8d7933cd",
   "metadata": {},
   "outputs": [
    {
     "data": {
      "text/plain": [
       "[None,\n",
       " 0,\n",
       " 1,\n",
       " 2,\n",
       " 3,\n",
       " 4,\n",
       " 5,\n",
       " 6,\n",
       " 7,\n",
       " 8,\n",
       " 9,\n",
       " 10,\n",
       " 11,\n",
       " 12,\n",
       " 13,\n",
       " 14,\n",
       " 15,\n",
       " 16,\n",
       " 17,\n",
       " 18,\n",
       " 19,\n",
       " 20]"
      ]
     },
     "execution_count": 108,
     "metadata": {},
     "output_type": "execute_result"
    }
   ],
   "source": [
    "mp_data['Years_of_Education'].unique().to_list()"
   ]
  },
  {
   "cell_type": "code",
   "execution_count": 109,
   "id": "62ad5d35",
   "metadata": {},
   "outputs": [
    {
     "data": {
      "text/plain": [
       "22"
      ]
     },
     "execution_count": 109,
     "metadata": {},
     "output_type": "execute_result"
    }
   ],
   "source": [
    "mp_data['Years_of_Education'].n_unique()"
   ]
  },
  {
   "cell_type": "code",
   "execution_count": 110,
   "id": "3e5ce516",
   "metadata": {},
   "outputs": [
    {
     "data": {
      "text/plain": [
       "0.19957148750414322"
      ]
     },
     "execution_count": 110,
     "metadata": {},
     "output_type": "execute_result"
    }
   ],
   "source": [
    "mp_data['Years_of_Education'].skew()"
   ]
  },
  {
   "cell_type": "markdown",
   "id": "853dd720",
   "metadata": {},
   "source": [
    "- If you notice data is 26 empty so \n",
    "- We can't directly replace with 0 so \n",
    "- we check skewness it is not even 1 \n",
    "- so now we safe\n",
    "- Slight Skew ok to fill with the mean"
   ]
  },
  {
   "cell_type": "code",
   "execution_count": 111,
   "id": "f9dc8113",
   "metadata": {},
   "outputs": [
    {
     "data": {
      "text/html": [
       "<div><style>\n",
       ".dataframe > thead > tr,\n",
       ".dataframe > tbody > tr {\n",
       "  text-align: right;\n",
       "  white-space: pre-wrap;\n",
       "}\n",
       "</style>\n",
       "<small>shape: (22, 2)</small><table border=\"1\" class=\"dataframe\"><thead><tr><th>Years_of_Education</th><th>count</th></tr><tr><td>i32</td><td>u32</td></tr></thead><tbody><tr><td>4</td><td>2025</td></tr><tr><td>2</td><td>1800</td></tr><tr><td>14</td><td>944</td></tr><tr><td>20</td><td>74</td></tr><tr><td>19</td><td>260</td></tr><tr><td>&hellip;</td><td>&hellip;</td></tr><tr><td>6</td><td>1797</td></tr><tr><td>1</td><td>1201</td></tr><tr><td>16</td><td>598</td></tr><tr><td>15</td><td>4327</td></tr><tr><td>13</td><td>622</td></tr></tbody></table></div>"
      ],
      "text/plain": [
       "shape: (22, 2)\n",
       "┌────────────────────┬───────┐\n",
       "│ Years_of_Education ┆ count │\n",
       "│ ---                ┆ ---   │\n",
       "│ i32                ┆ u32   │\n",
       "╞════════════════════╪═══════╡\n",
       "│ 4                  ┆ 2025  │\n",
       "│ 2                  ┆ 1800  │\n",
       "│ 14                 ┆ 944   │\n",
       "│ 20                 ┆ 74    │\n",
       "│ 19                 ┆ 260   │\n",
       "│ …                  ┆ …     │\n",
       "│ 6                  ┆ 1797  │\n",
       "│ 1                  ┆ 1201  │\n",
       "│ 16                 ┆ 598   │\n",
       "│ 15                 ┆ 4327  │\n",
       "│ 13                 ┆ 622   │\n",
       "└────────────────────┴───────┘"
      ]
     },
     "execution_count": 111,
     "metadata": {},
     "output_type": "execute_result"
    }
   ],
   "source": [
    "mp_data['Years_of_Education'].value_counts()"
   ]
  },
  {
   "cell_type": "code",
   "execution_count": 112,
   "id": "1fbd840c",
   "metadata": {},
   "outputs": [
    {
     "data": {
      "text/plain": [
       "<Axes: ylabel='Count'>"
      ]
     },
     "execution_count": 112,
     "metadata": {},
     "output_type": "execute_result"
    },
    {
     "data": {
      "image/png": "[encoded data removed]",
      "text/plain": [
       "<Figure size 640x480 with 1 Axes>"
      ]
     },
     "metadata": {},
     "output_type": "display_data"
    }
   ],
   "source": [
    "sns.histplot(mp_data['Years_of_Education'])"
   ]
  },
  {
   "cell_type": "code",
   "execution_count": 113,
   "id": "f7fa9789",
   "metadata": {},
   "outputs": [],
   "source": [
    "#sns.countplot(mp_data['Years_of_Education'])"
   ]
  },
  {
   "cell_type": "code",
   "execution_count": 114,
   "id": "cae88c45",
   "metadata": {},
   "outputs": [],
   "source": [
    "mp_data = mp_data.with_columns(\n",
    "    pl.col('Years_of_Education').fill_null(strategy='mean')\n",
    ")"
   ]
  },
  {
   "cell_type": "code",
   "execution_count": 115,
   "id": "929448d6",
   "metadata": {},
   "outputs": [
    {
     "data": {
      "text/html": [
       "<div><style>\n",
       ".dataframe > thead > tr,\n",
       ".dataframe > tbody > tr {\n",
       "  text-align: right;\n",
       "  white-space: pre-wrap;\n",
       "}\n",
       "</style>\n",
       "<small>shape: (1, 18)</small><table border=\"1\" class=\"dataframe\"><thead><tr><th>Revisit_Status</th><th>FDQ_Original_Member</th><th>Multiplier</th><th>Meals_Usually_Taken_Per_Day</th><th>Meals_From_School</th><th>Meals_From_Employer</th><th>Meals_Other</th><th>Meals_On_Payment</th><th>Meals_At_Home</th><th>Used_Internet_Last_30_Days</th><th>Days_Away_From_Home_Last_30_Days</th><th>FSU_Serial_No</th><th>Relation_to_Head</th><th>Gender</th><th>Age</th><th>Marital_Status</th><th>Education_Level</th><th>Years_of_Education</th></tr><tr><td>u32</td><td>u32</td><td>u32</td><td>u32</td><td>u32</td><td>u32</td><td>u32</td><td>u32</td><td>u32</td><td>u32</td><td>u32</td><td>u32</td><td>u32</td><td>u32</td><td>u32</td><td>u32</td><td>u32</td><td>u32</td></tr></thead><tbody><tr><td>0</td><td>0</td><td>0</td><td>0</td><td>0</td><td>0</td><td>0</td><td>0</td><td>0</td><td>0</td><td>0</td><td>0</td><td>0</td><td>0</td><td>0</td><td>0</td><td>0</td><td>0</td></tr></tbody></table></div>"
      ],
      "text/plain": [
       "shape: (1, 18)\n",
       "┌────────────┬────────────┬────────────┬────────────┬───┬─────┬────────────┬───────────┬───────────┐\n",
       "│ Revisit_St ┆ FDQ_Origin ┆ Multiplier ┆ Meals_Usua ┆ … ┆ Age ┆ Marital_St ┆ Education ┆ Years_of_ │\n",
       "│ atus       ┆ al_Member  ┆ ---        ┆ lly_Taken_ ┆   ┆ --- ┆ atus       ┆ _Level    ┆ Education │\n",
       "│ ---        ┆ ---        ┆ u32        ┆ Per_Day    ┆   ┆ u32 ┆ ---        ┆ ---       ┆ ---       │\n",
       "│ u32        ┆ u32        ┆            ┆ ---        ┆   ┆     ┆ u32        ┆ u32       ┆ u32       │\n",
       "│            ┆            ┆            ┆ u32        ┆   ┆     ┆            ┆           ┆           │\n",
       "╞════════════╪════════════╪════════════╪════════════╪═══╪═════╪════════════╪═══════════╪═══════════╡\n",
       "│ 0          ┆ 0          ┆ 0          ┆ 0          ┆ … ┆ 0   ┆ 0          ┆ 0         ┆ 0         │\n",
       "└────────────┴────────────┴────────────┴────────────┴───┴─────┴────────────┴───────────┴───────────┘"
      ]
     },
     "execution_count": 115,
     "metadata": {},
     "output_type": "execute_result"
    }
   ],
   "source": [
    "mp_data.null_count()"
   ]
  },
  {
   "cell_type": "code",
   "execution_count": 116,
   "id": "7b3bd1ad",
   "metadata": {},
   "outputs": [
    {
     "data": {
      "text/html": [
       "<div><style>\n",
       ".dataframe > thead > tr,\n",
       ".dataframe > tbody > tr {\n",
       "  text-align: right;\n",
       "  white-space: pre-wrap;\n",
       "}\n",
       "</style>\n",
       "<small>shape: (101,)</small><table border=\"1\" class=\"dataframe\"><thead><tr><th>Age</th></tr><tr><td>i32</td></tr></thead><tbody><tr><td>0</td></tr><tr><td>1</td></tr><tr><td>2</td></tr><tr><td>3</td></tr><tr><td>4</td></tr><tr><td>&hellip;</td></tr><tr><td>98</td></tr><tr><td>101</td></tr><tr><td>102</td></tr><tr><td>104</td></tr><tr><td>105</td></tr></tbody></table></div>"
      ],
      "text/plain": [
       "shape: (101,)\n",
       "Series: 'Age' [i32]\n",
       "[\n",
       "\t0\n",
       "\t1\n",
       "\t2\n",
       "\t3\n",
       "\t4\n",
       "\t…\n",
       "\t98\n",
       "\t101\n",
       "\t102\n",
       "\t104\n",
       "\t105\n",
       "]"
      ]
     },
     "execution_count": 116,
     "metadata": {},
     "output_type": "execute_result"
    }
   ],
   "source": [
    "mp_data['Age'].unique()"
   ]
  },
  {
   "cell_type": "code",
   "execution_count": 117,
   "id": "7aecd39f",
   "metadata": {},
   "outputs": [
    {
     "data": {
      "text/plain": [
       "(681, 18)"
      ]
     },
     "execution_count": 117,
     "metadata": {},
     "output_type": "execute_result"
    }
   ],
   "source": [
    "mp_data.filter(\n",
    "    pl.col('Age') == 0\n",
    ").shape\n",
    "\n",
    "# 681 values are 0 how 😆"
   ]
  },
  {
   "cell_type": "markdown",
   "id": "df9b630c",
   "metadata": {},
   "source": [
    "- How it is possible to age should be zero\n",
    "- Check the skewness data is missing may be so it fill with \n",
    "- Very funny way 😆\n",
    "- So I fill with the mean "
   ]
  },
  {
   "cell_type": "code",
   "execution_count": 118,
   "id": "b60cbc9e",
   "metadata": {},
   "outputs": [
    {
     "data": {
      "text/plain": [
       "0.4509959368658372"
      ]
     },
     "execution_count": 118,
     "metadata": {},
     "output_type": "execute_result"
    }
   ],
   "source": [
    "mp_data['Age'].skew()"
   ]
  },
  {
   "cell_type": "code",
   "execution_count": 119,
   "id": "f6e58a91",
   "metadata": {},
   "outputs": [
    {
     "data": {
      "text/html": [
       "<div><style>\n",
       ".dataframe > thead > tr,\n",
       ".dataframe > tbody > tr {\n",
       "  text-align: right;\n",
       "  white-space: pre-wrap;\n",
       "}\n",
       "</style>\n",
       "<small>shape: (9, 2)</small><table border=\"1\" class=\"dataframe\"><thead><tr><th>statistic</th><th>value</th></tr><tr><td>str</td><td>f64</td></tr></thead><tbody><tr><td>&quot;count&quot;</td><td>64952.0</td></tr><tr><td>&quot;null_count&quot;</td><td>0.0</td></tr><tr><td>&quot;mean&quot;</td><td>30.484974</td></tr><tr><td>&quot;std&quot;</td><td>19.286044</td></tr><tr><td>&quot;min&quot;</td><td>0.0</td></tr><tr><td>&quot;25%&quot;</td><td>15.0</td></tr><tr><td>&quot;50%&quot;</td><td>28.0</td></tr><tr><td>&quot;75%&quot;</td><td>45.0</td></tr><tr><td>&quot;max&quot;</td><td>105.0</td></tr></tbody></table></div>"
      ],
      "text/plain": [
       "shape: (9, 2)\n",
       "┌────────────┬───────────┐\n",
       "│ statistic  ┆ value     │\n",
       "│ ---        ┆ ---       │\n",
       "│ str        ┆ f64       │\n",
       "╞════════════╪═══════════╡\n",
       "│ count      ┆ 64952.0   │\n",
       "│ null_count ┆ 0.0       │\n",
       "│ mean       ┆ 30.484974 │\n",
       "│ std        ┆ 19.286044 │\n",
       "│ min        ┆ 0.0       │\n",
       "│ 25%        ┆ 15.0      │\n",
       "│ 50%        ┆ 28.0      │\n",
       "│ 75%        ┆ 45.0      │\n",
       "│ max        ┆ 105.0     │\n",
       "└────────────┴───────────┘"
      ]
     },
     "execution_count": 119,
     "metadata": {},
     "output_type": "execute_result"
    }
   ],
   "source": [
    "mp_data['Age'].describe()"
   ]
  },
  {
   "cell_type": "code",
   "execution_count": 120,
   "id": "050ea2d5",
   "metadata": {},
   "outputs": [
    {
     "data": {
      "text/plain": [
       "<Axes: ylabel='Count'>"
      ]
     },
     "execution_count": 120,
     "metadata": {},
     "output_type": "execute_result"
    },
    {
     "data": {
      "image/png": "[encoded data removed]",
      "text/plain": [
       "<Figure size 640x480 with 1 Axes>"
      ]
     },
     "metadata": {},
     "output_type": "display_data"
    }
   ],
   "source": [
    "sns.histplot(mp_data['Age'])"
   ]
  },
  {
   "cell_type": "code",
   "execution_count": 121,
   "id": "fd77271a",
   "metadata": {},
   "outputs": [
    {
     "data": {
      "text/plain": [
       "30.48497351890627"
      ]
     },
     "execution_count": 121,
     "metadata": {},
     "output_type": "execute_result"
    }
   ],
   "source": [
    "mp_data['Age'].mean()"
   ]
  },
  {
   "cell_type": "code",
   "execution_count": 122,
   "id": "68757e3e",
   "metadata": {},
   "outputs": [
    {
     "data": {
      "text/html": [
       "<div><style>\n",
       ".dataframe > thead > tr,\n",
       ".dataframe > tbody > tr {\n",
       "  text-align: right;\n",
       "  white-space: pre-wrap;\n",
       "}\n",
       "</style>\n",
       "<small>shape: (681, 1)</small><table border=\"1\" class=\"dataframe\"><thead><tr><th>Age</th></tr><tr><td>i32</td></tr></thead><tbody><tr><td>0</td></tr><tr><td>0</td></tr><tr><td>0</td></tr><tr><td>0</td></tr><tr><td>0</td></tr><tr><td>&hellip;</td></tr><tr><td>0</td></tr><tr><td>0</td></tr><tr><td>0</td></tr><tr><td>0</td></tr><tr><td>0</td></tr></tbody></table></div>"
      ],
      "text/plain": [
       "shape: (681, 1)\n",
       "┌─────┐\n",
       "│ Age │\n",
       "│ --- │\n",
       "│ i32 │\n",
       "╞═════╡\n",
       "│ 0   │\n",
       "│ 0   │\n",
       "│ 0   │\n",
       "│ 0   │\n",
       "│ 0   │\n",
       "│ …   │\n",
       "│ 0   │\n",
       "│ 0   │\n",
       "│ 0   │\n",
       "│ 0   │\n",
       "│ 0   │\n",
       "└─────┘"
      ]
     },
     "execution_count": 122,
     "metadata": {},
     "output_type": "execute_result"
    }
   ],
   "source": [
    "mp_data.filter(\n",
    "    pl.col('Age') == 0\n",
    ").select(pl.col('Age'))"
   ]
  },
  {
   "cell_type": "code",
   "execution_count": 123,
   "id": "26501056",
   "metadata": {},
   "outputs": [],
   "source": [
    "mp_data = mp_data.with_columns(\n",
    "    pl.when(pl.col(\"Age\") == 0)\n",
    "      .then(None)\n",
    "      .otherwise(pl.col(\"Age\"))\n",
    "      .alias(\"Age\")\n",
    ")\n",
    "\n",
    "mp_data = mp_data.with_columns(\n",
    "    pl.col(\"Age\").fill_null(strategy=\"forward\").alias(\"Age\")\n",
    ")"
   ]
  },
  {
   "cell_type": "code",
   "execution_count": 124,
   "id": "67a22c21",
   "metadata": {},
   "outputs": [
    {
     "data": {
      "text/plain": [
       "0"
      ]
     },
     "execution_count": 124,
     "metadata": {},
     "output_type": "execute_result"
    }
   ],
   "source": [
    "(mp_data.filter(pl.col(\"Age\") == 0)).height\n",
    "# should return 0 if all 0s were replaced"
   ]
  },
  {
   "cell_type": "code",
   "execution_count": 125,
   "id": "8c5c24db",
   "metadata": {},
   "outputs": [
    {
     "data": {
      "text/html": [
       "<div><style>\n",
       ".dataframe > thead > tr,\n",
       ".dataframe > tbody > tr {\n",
       "  text-align: right;\n",
       "  white-space: pre-wrap;\n",
       "}\n",
       "</style>\n",
       "<small>shape: (4,)</small><table border=\"1\" class=\"dataframe\"><thead><tr><th>Marital_Status</th></tr><tr><td>i32</td></tr></thead><tbody><tr><td>1</td></tr><tr><td>2</td></tr><tr><td>3</td></tr><tr><td>4</td></tr></tbody></table></div>"
      ],
      "text/plain": [
       "shape: (4,)\n",
       "Series: 'Marital_Status' [i32]\n",
       "[\n",
       "\t1\n",
       "\t2\n",
       "\t3\n",
       "\t4\n",
       "]"
      ]
     },
     "execution_count": 125,
     "metadata": {},
     "output_type": "execute_result"
    }
   ],
   "source": [
    "mp_data['Marital_Status'].unique()"
   ]
  },
  {
   "cell_type": "code",
   "execution_count": 126,
   "id": "39a2a620",
   "metadata": {},
   "outputs": [
    {
     "data": {
      "text/html": [
       "<div><style>\n",
       ".dataframe > thead > tr,\n",
       ".dataframe > tbody > tr {\n",
       "  text-align: right;\n",
       "  white-space: pre-wrap;\n",
       "}\n",
       "</style>\n",
       "<small>shape: (21,)</small><table border=\"1\" class=\"dataframe\"><thead><tr><th>Years_of_Education</th></tr><tr><td>i32</td></tr></thead><tbody><tr><td>0</td></tr><tr><td>1</td></tr><tr><td>2</td></tr><tr><td>3</td></tr><tr><td>4</td></tr><tr><td>&hellip;</td></tr><tr><td>16</td></tr><tr><td>17</td></tr><tr><td>18</td></tr><tr><td>19</td></tr><tr><td>20</td></tr></tbody></table></div>"
      ],
      "text/plain": [
       "shape: (21,)\n",
       "Series: 'Years_of_Education' [i32]\n",
       "[\n",
       "\t0\n",
       "\t1\n",
       "\t2\n",
       "\t3\n",
       "\t4\n",
       "\t…\n",
       "\t16\n",
       "\t17\n",
       "\t18\n",
       "\t19\n",
       "\t20\n",
       "]"
      ]
     },
     "execution_count": 126,
     "metadata": {},
     "output_type": "execute_result"
    }
   ],
   "source": [
    "mp_data['Years_of_Education'].unique()"
   ]
  },
  {
   "cell_type": "code",
   "execution_count": 127,
   "id": "8a76703d",
   "metadata": {},
   "outputs": [
    {
     "data": {
      "text/html": [
       "<div><style>\n",
       ".dataframe > thead > tr,\n",
       ".dataframe > tbody > tr {\n",
       "  text-align: right;\n",
       "  white-space: pre-wrap;\n",
       "}\n",
       "</style>\n",
       "<small>shape: (12,)</small><table border=\"1\" class=\"dataframe\"><thead><tr><th>Education_Level</th></tr><tr><td>i32</td></tr></thead><tbody><tr><td>1</td></tr><tr><td>2</td></tr><tr><td>3</td></tr><tr><td>4</td></tr><tr><td>5</td></tr><tr><td>&hellip;</td></tr><tr><td>8</td></tr><tr><td>10</td></tr><tr><td>11</td></tr><tr><td>12</td></tr><tr><td>13</td></tr></tbody></table></div>"
      ],
      "text/plain": [
       "shape: (12,)\n",
       "Series: 'Education_Level' [i32]\n",
       "[\n",
       "\t1\n",
       "\t2\n",
       "\t3\n",
       "\t4\n",
       "\t5\n",
       "\t…\n",
       "\t8\n",
       "\t10\n",
       "\t11\n",
       "\t12\n",
       "\t13\n",
       "]"
      ]
     },
     "execution_count": 127,
     "metadata": {},
     "output_type": "execute_result"
    }
   ],
   "source": [
    "mp_data['Education_Level'].unique()"
   ]
  },
  {
   "cell_type": "code",
   "execution_count": 128,
   "id": "1eb5617f",
   "metadata": {},
   "outputs": [
    {
     "data": {
      "text/plain": [
       "'\\n1\\tnever married\\t483369\\t\\n2\\tcurrently married(including living together)\\t557180\\t\\n3\\twidowed\\t62062\\t\\n4\\tdivorced/separated\\n'"
      ]
     },
     "execution_count": 128,
     "metadata": {},
     "output_type": "execute_result"
    }
   ],
   "source": [
    "\"\"\"\n",
    "1\tnever married\t483369\t\n",
    "2\tcurrently married(including living together)\t557180\t\n",
    "3\twidowed\t62062\t\n",
    "4\tdivorced/separated\n",
    "\"\"\""
   ]
  },
  {
   "cell_type": "code",
   "execution_count": 129,
   "id": "dda4c745",
   "metadata": {},
   "outputs": [
    {
     "data": {
      "text/plain": [
       "['Revisit_Status',\n",
       " 'FDQ_Original_Member',\n",
       " 'Multiplier',\n",
       " 'Meals_Usually_Taken_Per_Day',\n",
       " 'Meals_From_School',\n",
       " 'Meals_From_Employer',\n",
       " 'Meals_Other',\n",
       " 'Meals_On_Payment',\n",
       " 'Meals_At_Home',\n",
       " 'Used_Internet_Last_30_Days',\n",
       " 'Days_Away_From_Home_Last_30_Days',\n",
       " 'FSU_Serial_No',\n",
       " 'Relation_to_Head',\n",
       " 'Gender',\n",
       " 'Age',\n",
       " 'Marital_Status',\n",
       " 'Education_Level',\n",
       " 'Years_of_Education']"
      ]
     },
     "execution_count": 129,
     "metadata": {},
     "output_type": "execute_result"
    }
   ],
   "source": [
    "#mp_data = mp_data.drop('literal')\n",
    "\n",
    "mp_data.columns"
   ]
  },
  {
   "cell_type": "code",
   "execution_count": 130,
   "id": "e76161ca",
   "metadata": {},
   "outputs": [],
   "source": [
    "# All zero no null values 🙌\n",
    "\n",
    "# Some Feature Engineering ideas\n",
    "# - is_meal_done (Check user done meal or not, 1:Yes, 0:No)\n",
    "# - is_educated (1:Yes, 0:No)\n",
    "# - is_labour (Days_Away_From_Home_Last_30_Days if this is max then 25) & \n",
    "#   (if Meals_Usually_Taken_Per_Day is less than and equal to 0)\n",
    "# make cluster for the this year of eductions Years_of_Education and education level "
   ]
  },
  {
   "cell_type": "code",
   "execution_count": 131,
   "id": "71398609",
   "metadata": {},
   "outputs": [
    {
     "data": {
      "text/plain": [
       "[0, 1, 2, 3, 4, 5, 6, 7, 8, 9, 10, 11, 12, 13, 14, 15, 16, 17, 18, 19, 20]"
      ]
     },
     "execution_count": 131,
     "metadata": {},
     "output_type": "execute_result"
    }
   ],
   "source": [
    "mp_data['Years_of_Education'].unique().to_list()"
   ]
  },
  {
   "cell_type": "code",
   "execution_count": 132,
   "id": "cff80685",
   "metadata": {},
   "outputs": [],
   "source": [
    "# is_nuclear_family (my assumption father, mother, 3 child) because we focus on the rural village\n",
    "# so anything which is > than 5 include as joint_family"
   ]
  },
  {
   "cell_type": "code",
   "execution_count": 133,
   "id": "4bce76f8",
   "metadata": {},
   "outputs": [],
   "source": [
    "# Done 🙌\n",
    "# Now Again eda on this clean data then \n",
    "# Feature engineering \n",
    "# Then again Clean data"
   ]
  },
  {
   "cell_type": "code",
   "execution_count": 134,
   "id": "20231d6f",
   "metadata": {},
   "outputs": [],
   "source": [
    "mp_data.write_csv(r\"C:\\Users\\Rudra\\Desktop\\rural-financial-inclusion-govt-scheme-recommendation\\parquet-data\\lev-02\\data2\\lev_02_mp_clean.csv\")\n",
    "mp_data.write_parquet(r\"C:\\Users\\Rudra\\Desktop\\rural-financial-inclusion-govt-scheme-recommendation\\parquet-data\\lev-02\\data2\\lev_02_mp_clean.parquet\", compression=\"zstd\")"
   ]
  }
 ],
 "metadata": {
  "kernelspec": {
   "display_name": "Python 3",
   "language": "python",
   "name": "python3"
  },
  "language_info": {
   "codemirror_mode": {
    "name": "ipython",
    "version": 3
   },
   "file_extension": ".py",
   "mimetype": "text/x-python",
   "name": "python",
   "nbconvert_exporter": "python",
   "pygments_lexer": "ipython3",
   "version": "3.11.9"
  }
 },
 "nbformat": 4,
 "nbformat_minor": 5
}
