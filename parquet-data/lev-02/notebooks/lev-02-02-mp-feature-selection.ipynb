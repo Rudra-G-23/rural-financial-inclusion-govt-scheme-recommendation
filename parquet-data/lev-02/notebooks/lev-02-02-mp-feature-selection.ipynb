{
 "cells": [
  {
   "cell_type": "markdown",
   "id": "e6195ad7",
   "metadata": {},
   "source": [
    "# Goal: Feature Selection"
   ]
  },
  {
   "cell_type": "code",
   "execution_count": 21,
   "id": "b878d176",
   "metadata": {},
   "outputs": [
    {
     "data": {
      "text/plain": [
       "' \\nGoal: Feature Selection\\nAuthor: Rudra Prasad Bhuyan\\n'"
      ]
     },
     "execution_count": 21,
     "metadata": {},
     "output_type": "execute_result"
    }
   ],
   "source": [
    "\"\"\" \n",
    "Goal: Feature Selection\n",
    "Author: Rudra Prasad Bhuyan\n",
    "\"\"\""
   ]
  },
  {
   "cell_type": "code",
   "execution_count": 22,
   "id": "113ef065",
   "metadata": {},
   "outputs": [],
   "source": [
    "import polars as pl"
   ]
  },
  {
   "cell_type": "code",
   "execution_count": 23,
   "id": "db63f811",
   "metadata": {},
   "outputs": [],
   "source": [
    "path = r\"C:\\Users\\Rudra\\Desktop\\rural-financial-inclusion-govt-scheme-recommendation\\parquet-data\\lev-02\\data\\lev-02_merged.parquet\"\n",
    "\n",
    "pdf = pl.read_parquet(path)"
   ]
  },
  {
   "cell_type": "code",
   "execution_count": 24,
   "id": "063096f3",
   "metadata": {},
   "outputs": [
    {
     "data": {
      "text/plain": [
       "Schema([('Survey_Name', String),\n",
       "        ('Year', String),\n",
       "        ('FSU_Serial_No', String),\n",
       "        ('Sector', String),\n",
       "        ('State', String),\n",
       "        ('NSS_Region', String),\n",
       "        ('District', String),\n",
       "        ('Stratum', String),\n",
       "        ('Sub_stratum', String),\n",
       "        ('Panel', String),\n",
       "        ('Sub_sample', String),\n",
       "        ('FOD_Sub_Region', String),\n",
       "        ('Sample_SU_No', String),\n",
       "        ('Sample_Sub_Division_No', String),\n",
       "        ('Second_Stage_Stratum_No', String),\n",
       "        ('Sample_Household_No', String),\n",
       "        ('Questionnaire_No', String),\n",
       "        ('Level', String),\n",
       "        ('Person_Serial_No', String),\n",
       "        ('Relation_to_Head', String),\n",
       "        ('Gender', String),\n",
       "        ('Age', String),\n",
       "        ('Marital_Status', String),\n",
       "        ('Education_Level', String),\n",
       "        ('Years_of_Education', String),\n",
       "        ('Used_Internet_Last_30_Days', String),\n",
       "        ('Days_Away_From_Home_Last_30_Days', String),\n",
       "        ('Meals_Usually_Taken_Per_Day', String),\n",
       "        ('Meals_From_School', String),\n",
       "        ('Meals_From_Employer', String),\n",
       "        ('Meals_Other', String),\n",
       "        ('Meals_On_Payment', String),\n",
       "        ('Meals_At_Home', String),\n",
       "        ('Revisit_Status', String),\n",
       "        ('FDQ_Original_Member', String),\n",
       "        ('Multiplier', Int64)])"
      ]
     },
     "execution_count": 24,
     "metadata": {},
     "output_type": "execute_result"
    }
   ],
   "source": [
    "pdf.collect_schema()"
   ]
  },
  {
   "cell_type": "code",
   "execution_count": 25,
   "id": "8f6a5c6b",
   "metadata": {},
   "outputs": [],
   "source": [
    "mp_data = pdf.filter(\n",
    "    pl.col('State') == '23'\n",
    ")"
   ]
  },
  {
   "cell_type": "code",
   "execution_count": 26,
   "id": "1a794b3d",
   "metadata": {},
   "outputs": [
    {
     "data": {
      "text/html": [
       "<div><style>\n",
       ".dataframe > thead > tr,\n",
       ".dataframe > tbody > tr {\n",
       "  text-align: right;\n",
       "  white-space: pre-wrap;\n",
       "}\n",
       "</style>\n",
       "<small>shape: (1,)</small><table border=\"1\" class=\"dataframe\"><thead><tr><th>State</th></tr><tr><td>str</td></tr></thead><tbody><tr><td>&quot;23&quot;</td></tr></tbody></table></div>"
      ],
      "text/plain": [
       "shape: (1,)\n",
       "Series: 'State' [str]\n",
       "[\n",
       "\t\"23\"\n",
       "]"
      ]
     },
     "execution_count": 26,
     "metadata": {},
     "output_type": "execute_result"
    }
   ],
   "source": [
    "mp_data['State'].unique()"
   ]
  },
  {
   "cell_type": "markdown",
   "id": "0e4d3780",
   "metadata": {},
   "source": [
    "# Break down all useful variables into separate group"
   ]
  },
  {
   "cell_type": "code",
   "execution_count": 27,
   "id": "29fd35b6",
   "metadata": {},
   "outputs": [],
   "source": [
    "lev_02_hh = [ 'Revisit_Status', 'FDQ_Original_Member', 'Multiplier']\n",
    "\n",
    "lev_02_food = ['Meals_Usually_Taken_Per_Day','Meals_From_School',\n",
    "               'Meals_From_Employer','Meals_Other',\n",
    "               'Meals_On_Payment','Meals_At_Home']\n",
    "\n",
    "lev_02_digital = ['Used_Internet_Last_30_Days']\n",
    "\n",
    "lev_02__behavior = ['Days_Away_From_Home_Last_30_Days']\n",
    "\n",
    "lev_02_user = ['FSU_Serial_No', 'Relation_to_Head','Gender',\n",
    "               'Age', 'Marital_Status', \n",
    "               'Education_Level', 'Years_of_Education']"
   ]
  },
  {
   "cell_type": "code",
   "execution_count": 28,
   "id": "bee2ff75",
   "metadata": {},
   "outputs": [],
   "source": [
    "lev_02_cols = (\n",
    "    lev_02_hh\n",
    "    + lev_02_food\n",
    "    + lev_02_digital\n",
    "    + lev_02__behavior\n",
    "    + lev_02_user\n",
    ")"
   ]
  },
  {
   "cell_type": "code",
   "execution_count": 29,
   "id": "c8e48322",
   "metadata": {},
   "outputs": [
    {
     "data": {
      "text/html": [
       "<div><style>\n",
       ".dataframe > thead > tr,\n",
       ".dataframe > tbody > tr {\n",
       "  text-align: right;\n",
       "  white-space: pre-wrap;\n",
       "}\n",
       "</style>\n",
       "<small>shape: (64_952, 18)</small><table border=\"1\" class=\"dataframe\"><thead><tr><th>Revisit_Status</th><th>FDQ_Original_Member</th><th>Multiplier</th><th>Meals_Usually_Taken_Per_Day</th><th>Meals_From_School</th><th>Meals_From_Employer</th><th>Meals_Other</th><th>Meals_On_Payment</th><th>Meals_At_Home</th><th>Used_Internet_Last_30_Days</th><th>Days_Away_From_Home_Last_30_Days</th><th>FSU_Serial_No</th><th>Relation_to_Head</th><th>Gender</th><th>Age</th><th>Marital_Status</th><th>Education_Level</th><th>Years_of_Education</th></tr><tr><td>str</td><td>str</td><td>i64</td><td>str</td><td>str</td><td>str</td><td>str</td><td>str</td><td>str</td><td>str</td><td>str</td><td>str</td><td>str</td><td>str</td><td>str</td><td>str</td><td>str</td><td>str</td></tr></thead><tbody><tr><td>&quot;1&quot;</td><td>&quot;1&quot;</td><td>131077</td><td>&quot;2&quot;</td><td>&quot;&quot;</td><td>&quot;&quot;</td><td>&quot;&quot;</td><td>&quot;&quot;</td><td>&quot;60&quot;</td><td>&quot;2&quot;</td><td>&quot;0&quot;</td><td>&quot;44081&quot;</td><td>&quot;1&quot;</td><td>&quot;2&quot;</td><td>&quot;46&quot;</td><td>&quot;3&quot;</td><td>&quot;01&quot;</td><td>&quot;&quot;</td></tr><tr><td>&quot;1&quot;</td><td>&quot;1&quot;</td><td>131077</td><td>&quot;2&quot;</td><td>&quot;&quot;</td><td>&quot;&quot;</td><td>&quot;&quot;</td><td>&quot;&quot;</td><td>&quot;60&quot;</td><td>&quot;1&quot;</td><td>&quot;0&quot;</td><td>&quot;44081&quot;</td><td>&quot;5&quot;</td><td>&quot;1&quot;</td><td>&quot;19&quot;</td><td>&quot;1&quot;</td><td>&quot;07&quot;</td><td>&quot;12&quot;</td></tr><tr><td>&quot;1&quot;</td><td>&quot;1&quot;</td><td>131077</td><td>&quot;2&quot;</td><td>&quot;&quot;</td><td>&quot;&quot;</td><td>&quot;&quot;</td><td>&quot;&quot;</td><td>&quot;60&quot;</td><td>&quot;1&quot;</td><td>&quot;0&quot;</td><td>&quot;44081&quot;</td><td>&quot;5&quot;</td><td>&quot;2&quot;</td><td>&quot;21&quot;</td><td>&quot;1&quot;</td><td>&quot;07&quot;</td><td>&quot;12&quot;</td></tr><tr><td>&quot;1&quot;</td><td>&quot;1&quot;</td><td>131077</td><td>&quot;2&quot;</td><td>&quot;&quot;</td><td>&quot;&quot;</td><td>&quot;&quot;</td><td>&quot;&quot;</td><td>&quot;60&quot;</td><td>&quot;2&quot;</td><td>&quot;0&quot;</td><td>&quot;44081&quot;</td><td>&quot;1&quot;</td><td>&quot;1&quot;</td><td>&quot;52&quot;</td><td>&quot;2&quot;</td><td>&quot;03&quot;</td><td>&quot;5&quot;</td></tr><tr><td>&quot;1&quot;</td><td>&quot;1&quot;</td><td>131077</td><td>&quot;2&quot;</td><td>&quot;&quot;</td><td>&quot;&quot;</td><td>&quot;&quot;</td><td>&quot;&quot;</td><td>&quot;60&quot;</td><td>&quot;2&quot;</td><td>&quot;0&quot;</td><td>&quot;44081&quot;</td><td>&quot;2&quot;</td><td>&quot;2&quot;</td><td>&quot;50&quot;</td><td>&quot;2&quot;</td><td>&quot;01&quot;</td><td>&quot;&quot;</td></tr><tr><td>&hellip;</td><td>&hellip;</td><td>&hellip;</td><td>&hellip;</td><td>&hellip;</td><td>&hellip;</td><td>&hellip;</td><td>&hellip;</td><td>&hellip;</td><td>&hellip;</td><td>&hellip;</td><td>&hellip;</td><td>&hellip;</td><td>&hellip;</td><td>&hellip;</td><td>&hellip;</td><td>&hellip;</td><td>&hellip;</td></tr><tr><td>&quot;1&quot;</td><td>&quot;1&quot;</td><td>173023</td><td>&quot;2&quot;</td><td>&quot;&quot;</td><td>&quot;&quot;</td><td>&quot;&quot;</td><td>&quot;&quot;</td><td>&quot;60&quot;</td><td>&quot;1&quot;</td><td>&quot;0&quot;</td><td>&quot;25137&quot;</td><td>&quot;1&quot;</td><td>&quot;1&quot;</td><td>&quot;42&quot;</td><td>&quot;2&quot;</td><td>&quot;05&quot;</td><td>&quot;8&quot;</td></tr><tr><td>&quot;1&quot;</td><td>&quot;1&quot;</td><td>173023</td><td>&quot;2&quot;</td><td>&quot;&quot;</td><td>&quot;&quot;</td><td>&quot;&quot;</td><td>&quot;&quot;</td><td>&quot;57&quot;</td><td>&quot;1&quot;</td><td>&quot;0&quot;</td><td>&quot;25137&quot;</td><td>&quot;2&quot;</td><td>&quot;2&quot;</td><td>&quot;40&quot;</td><td>&quot;2&quot;</td><td>&quot;05&quot;</td><td>&quot;8&quot;</td></tr><tr><td>&quot;1&quot;</td><td>&quot;1&quot;</td><td>173023</td><td>&quot;2&quot;</td><td>&quot;&quot;</td><td>&quot;&quot;</td><td>&quot;&quot;</td><td>&quot;&quot;</td><td>&quot;60&quot;</td><td>&quot;1&quot;</td><td>&quot;0&quot;</td><td>&quot;25137&quot;</td><td>&quot;5&quot;</td><td>&quot;1&quot;</td><td>&quot;11&quot;</td><td>&quot;1&quot;</td><td>&quot;04&quot;</td><td>&quot;5&quot;</td></tr><tr><td>&quot;1&quot;</td><td>&quot;1&quot;</td><td>173023</td><td>&quot;2&quot;</td><td>&quot;&quot;</td><td>&quot;&quot;</td><td>&quot;&quot;</td><td>&quot;&quot;</td><td>&quot;60&quot;</td><td>&quot;1&quot;</td><td>&quot;0&quot;</td><td>&quot;25137&quot;</td><td>&quot;5&quot;</td><td>&quot;2&quot;</td><td>&quot;14&quot;</td><td>&quot;1&quot;</td><td>&quot;05&quot;</td><td>&quot;8&quot;</td></tr><tr><td>&quot;1&quot;</td><td>&quot;1&quot;</td><td>173023</td><td>&quot;2&quot;</td><td>&quot;&quot;</td><td>&quot;&quot;</td><td>&quot;&quot;</td><td>&quot;&quot;</td><td>&quot;60&quot;</td><td>&quot;1&quot;</td><td>&quot;0&quot;</td><td>&quot;25137&quot;</td><td>&quot;5&quot;</td><td>&quot;2&quot;</td><td>&quot;9&quot;</td><td>&quot;1&quot;</td><td>&quot;03&quot;</td><td>&quot;3&quot;</td></tr></tbody></table></div>"
      ],
      "text/plain": [
       "shape: (64_952, 18)\n",
       "┌────────────┬────────────┬────────────┬────────────┬───┬─────┬────────────┬───────────┬───────────┐\n",
       "│ Revisit_St ┆ FDQ_Origin ┆ Multiplier ┆ Meals_Usua ┆ … ┆ Age ┆ Marital_St ┆ Education ┆ Years_of_ │\n",
       "│ atus       ┆ al_Member  ┆ ---        ┆ lly_Taken_ ┆   ┆ --- ┆ atus       ┆ _Level    ┆ Education │\n",
       "│ ---        ┆ ---        ┆ i64        ┆ Per_Day    ┆   ┆ str ┆ ---        ┆ ---       ┆ ---       │\n",
       "│ str        ┆ str        ┆            ┆ ---        ┆   ┆     ┆ str        ┆ str       ┆ str       │\n",
       "│            ┆            ┆            ┆ str        ┆   ┆     ┆            ┆           ┆           │\n",
       "╞════════════╪════════════╪════════════╪════════════╪═══╪═════╪════════════╪═══════════╪═══════════╡\n",
       "│ 1          ┆ 1          ┆ 131077     ┆ 2          ┆ … ┆ 46  ┆ 3          ┆ 01        ┆           │\n",
       "│ 1          ┆ 1          ┆ 131077     ┆ 2          ┆ … ┆ 19  ┆ 1          ┆ 07        ┆ 12        │\n",
       "│ 1          ┆ 1          ┆ 131077     ┆ 2          ┆ … ┆ 21  ┆ 1          ┆ 07        ┆ 12        │\n",
       "│ 1          ┆ 1          ┆ 131077     ┆ 2          ┆ … ┆ 52  ┆ 2          ┆ 03        ┆ 5         │\n",
       "│ 1          ┆ 1          ┆ 131077     ┆ 2          ┆ … ┆ 50  ┆ 2          ┆ 01        ┆           │\n",
       "│ …          ┆ …          ┆ …          ┆ …          ┆ … ┆ …   ┆ …          ┆ …         ┆ …         │\n",
       "│ 1          ┆ 1          ┆ 173023     ┆ 2          ┆ … ┆ 42  ┆ 2          ┆ 05        ┆ 8         │\n",
       "│ 1          ┆ 1          ┆ 173023     ┆ 2          ┆ … ┆ 40  ┆ 2          ┆ 05        ┆ 8         │\n",
       "│ 1          ┆ 1          ┆ 173023     ┆ 2          ┆ … ┆ 11  ┆ 1          ┆ 04        ┆ 5         │\n",
       "│ 1          ┆ 1          ┆ 173023     ┆ 2          ┆ … ┆ 14  ┆ 1          ┆ 05        ┆ 8         │\n",
       "│ 1          ┆ 1          ┆ 173023     ┆ 2          ┆ … ┆ 9   ┆ 1          ┆ 03        ┆ 3         │\n",
       "└────────────┴────────────┴────────────┴────────────┴───┴─────┴────────────┴───────────┴───────────┘"
      ]
     },
     "execution_count": 29,
     "metadata": {},
     "output_type": "execute_result"
    }
   ],
   "source": [
    "mp_data[lev_02_cols]"
   ]
  }
 ],
 "metadata": {
  "kernelspec": {
   "display_name": "Python 3",
   "language": "python",
   "name": "python3"
  },
  "language_info": {
   "codemirror_mode": {
    "name": "ipython",
    "version": 3
   },
   "file_extension": ".py",
   "mimetype": "text/x-python",
   "name": "python",
   "nbconvert_exporter": "python",
   "pygments_lexer": "ipython3",
   "version": "3.11.9"
  }
 },
 "nbformat": 4,
 "nbformat_minor": 5
}
