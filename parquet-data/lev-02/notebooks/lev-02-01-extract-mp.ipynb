{
 "cells": [
  {
   "cell_type": "markdown",
   "id": "50ff01d7",
   "metadata": {},
   "source": [
    "# Goal: Extract MP state data from this table"
   ]
  },
  {
   "cell_type": "code",
   "execution_count": 15,
   "id": "69513632",
   "metadata": {},
   "outputs": [
    {
     "data": {
      "text/plain": [
       "' \\nGoal: Extract MP state data from this table\\nAuthor: Rudra Prasad Bhuyan\\n'"
      ]
     },
     "execution_count": 15,
     "metadata": {},
     "output_type": "execute_result"
    }
   ],
   "source": [
    "\"\"\" \n",
    "Goal: Extract MP state data from this table\n",
    "Author: Rudra Prasad Bhuyan\n",
    "\"\"\""
   ]
  },
  {
   "cell_type": "code",
   "execution_count": 16,
   "id": "b9e33eef",
   "metadata": {},
   "outputs": [],
   "source": [
    "import numpy as np\n",
    "import pandas as pd\n",
    "import polars as pl\n",
    "import matplotlib.pyplot as plt\n",
    "import seaborn as sns\n",
    "import plotly.express as px\n",
    "import plotly.offline as po\n",
    "\n",
    "import warnings\n",
    "warnings.filterwarnings('ignore')"
   ]
  },
  {
   "cell_type": "code",
   "execution_count": 17,
   "id": "4d29e02f",
   "metadata": {},
   "outputs": [],
   "source": [
    "path = r\"C:\\Users\\Rudra\\Desktop\\rural-financial-inclusion-govt-scheme-recommendation\\parquet-data\\lev-02\\data\\lev-02_merged.parquet\"\n",
    "\n",
    "#df = pd.read_parquet(path)\n",
    "pdf = pl.read_parquet(path)"
   ]
  },
  {
   "cell_type": "code",
   "execution_count": 18,
   "id": "1d039ba9",
   "metadata": {},
   "outputs": [
    {
     "data": {
      "text/plain": [
       "Schema([('Survey_Name', String),\n",
       "        ('Year', String),\n",
       "        ('FSU_Serial_No', String),\n",
       "        ('Sector', String),\n",
       "        ('State', String),\n",
       "        ('NSS_Region', String),\n",
       "        ('District', String),\n",
       "        ('Stratum', String),\n",
       "        ('Sub_stratum', String),\n",
       "        ('Panel', String),\n",
       "        ('Sub_sample', String),\n",
       "        ('FOD_Sub_Region', String),\n",
       "        ('Sample_SU_No', String),\n",
       "        ('Sample_Sub_Division_No', String),\n",
       "        ('Second_Stage_Stratum_No', String),\n",
       "        ('Sample_Household_No', String),\n",
       "        ('Questionnaire_No', String),\n",
       "        ('Level', String),\n",
       "        ('Person_Serial_No', String),\n",
       "        ('Relation_to_Head', String),\n",
       "        ('Gender', String),\n",
       "        ('Age', String),\n",
       "        ('Marital_Status', String),\n",
       "        ('Education_Level', String),\n",
       "        ('Years_of_Education', String),\n",
       "        ('Used_Internet_Last_30_Days', String),\n",
       "        ('Days_Away_From_Home_Last_30_Days', String),\n",
       "        ('Meals_Usually_Taken_Per_Day', String),\n",
       "        ('Meals_From_School', String),\n",
       "        ('Meals_From_Employer', String),\n",
       "        ('Meals_Other', String),\n",
       "        ('Meals_On_Payment', String),\n",
       "        ('Meals_At_Home', String),\n",
       "        ('Revisit_Status', String),\n",
       "        ('FDQ_Original_Member', String),\n",
       "        ('Multiplier', Int64)])"
      ]
     },
     "execution_count": 18,
     "metadata": {},
     "output_type": "execute_result"
    }
   ],
   "source": [
    "pdf.collect_schema()"
   ]
  },
  {
   "cell_type": "markdown",
   "id": "0ca9efce",
   "metadata": {},
   "source": [
    "# Where is MP"
   ]
  },
  {
   "cell_type": "code",
   "execution_count": 19,
   "id": "dba59a55",
   "metadata": {},
   "outputs": [
    {
     "data": {
      "text/plain": [
       "1107221"
      ]
     },
     "execution_count": 19,
     "metadata": {},
     "output_type": "execute_result"
    }
   ],
   "source": [
    "# Shape of the data\n",
    "pdf.shape[0]"
   ]
  },
  {
   "cell_type": "code",
   "execution_count": 20,
   "id": "b4349c11",
   "metadata": {},
   "outputs": [
    {
     "data": {
      "text/html": [
       "<div><style>\n",
       ".dataframe > thead > tr,\n",
       ".dataframe > tbody > tr {\n",
       "  text-align: right;\n",
       "  white-space: pre-wrap;\n",
       "}\n",
       "</style>\n",
       "<small>shape: (1_107_221,)</small><table border=\"1\" class=\"dataframe\"><thead><tr><th>State</th></tr><tr><td>str</td></tr></thead><tbody><tr><td>&quot;32&quot;</td></tr><tr><td>&quot;32&quot;</td></tr><tr><td>&quot;32&quot;</td></tr><tr><td>&quot;32&quot;</td></tr><tr><td>&quot;32&quot;</td></tr><tr><td>&hellip;</td></tr><tr><td>&quot;10&quot;</td></tr><tr><td>&quot;10&quot;</td></tr><tr><td>&quot;10&quot;</td></tr><tr><td>&quot;10&quot;</td></tr><tr><td>&quot;10&quot;</td></tr></tbody></table></div>"
      ],
      "text/plain": [
       "shape: (1_107_221,)\n",
       "Series: 'State' [str]\n",
       "[\n",
       "\t\"32\"\n",
       "\t\"32\"\n",
       "\t\"32\"\n",
       "\t\"32\"\n",
       "\t\"32\"\n",
       "\t…\n",
       "\t\"10\"\n",
       "\t\"10\"\n",
       "\t\"10\"\n",
       "\t\"10\"\n",
       "\t\"10\"\n",
       "]"
      ]
     },
     "execution_count": 20,
     "metadata": {},
     "output_type": "execute_result"
    }
   ],
   "source": [
    "pdf['State']"
   ]
  },
  {
   "cell_type": "code",
   "execution_count": 21,
   "id": "3241ac72",
   "metadata": {},
   "outputs": [
    {
     "data": {
      "text/html": [
       "<div><style>\n",
       ".dataframe > thead > tr,\n",
       ".dataframe > tbody > tr {\n",
       "  text-align: right;\n",
       "  white-space: pre-wrap;\n",
       "}\n",
       "</style>\n",
       "<small>shape: (1_107_221,)</small><table border=\"1\" class=\"dataframe\"><thead><tr><th>State</th></tr><tr><td>bool</td></tr></thead><tbody><tr><td>false</td></tr><tr><td>false</td></tr><tr><td>false</td></tr><tr><td>false</td></tr><tr><td>false</td></tr><tr><td>&hellip;</td></tr><tr><td>false</td></tr><tr><td>false</td></tr><tr><td>false</td></tr><tr><td>false</td></tr><tr><td>false</td></tr></tbody></table></div>"
      ],
      "text/plain": [
       "shape: (1_107_221,)\n",
       "Series: 'State' [bool]\n",
       "[\n",
       "\tfalse\n",
       "\tfalse\n",
       "\tfalse\n",
       "\tfalse\n",
       "\tfalse\n",
       "\t…\n",
       "\tfalse\n",
       "\tfalse\n",
       "\tfalse\n",
       "\tfalse\n",
       "\tfalse\n",
       "]"
      ]
     },
     "execution_count": 21,
     "metadata": {},
     "output_type": "execute_result"
    }
   ],
   "source": [
    "# This are label data \n",
    "# For know mp we used the Metadata json file\n",
    "# Line number 308\n",
    "\n",
    "pdf['State'] == '23'\n"
   ]
  },
  {
   "cell_type": "code",
   "execution_count": 30,
   "id": "402d33fd",
   "metadata": {},
   "outputs": [],
   "source": [
    "mp_data = pdf.filter(\n",
    "    pl.col('State') == '23'\n",
    ")"
   ]
  },
  {
   "cell_type": "code",
   "execution_count": 31,
   "id": "e6ea7902",
   "metadata": {},
   "outputs": [
    {
     "data": {
      "text/html": [
       "<div><style>\n",
       ".dataframe > thead > tr,\n",
       ".dataframe > tbody > tr {\n",
       "  text-align: right;\n",
       "  white-space: pre-wrap;\n",
       "}\n",
       "</style>\n",
       "<small>shape: (64_952, 36)</small><table border=\"1\" class=\"dataframe\"><thead><tr><th>Survey_Name</th><th>Year</th><th>FSU_Serial_No</th><th>Sector</th><th>State</th><th>NSS_Region</th><th>District</th><th>Stratum</th><th>Sub_stratum</th><th>Panel</th><th>Sub_sample</th><th>FOD_Sub_Region</th><th>Sample_SU_No</th><th>Sample_Sub_Division_No</th><th>Second_Stage_Stratum_No</th><th>Sample_Household_No</th><th>Questionnaire_No</th><th>Level</th><th>Person_Serial_No</th><th>Relation_to_Head</th><th>Gender</th><th>Age</th><th>Marital_Status</th><th>Education_Level</th><th>Years_of_Education</th><th>Used_Internet_Last_30_Days</th><th>Days_Away_From_Home_Last_30_Days</th><th>Meals_Usually_Taken_Per_Day</th><th>Meals_From_School</th><th>Meals_From_Employer</th><th>Meals_Other</th><th>Meals_On_Payment</th><th>Meals_At_Home</th><th>Revisit_Status</th><th>FDQ_Original_Member</th><th>Multiplier</th></tr><tr><td>str</td><td>str</td><td>str</td><td>str</td><td>str</td><td>str</td><td>str</td><td>str</td><td>str</td><td>str</td><td>str</td><td>str</td><td>str</td><td>str</td><td>str</td><td>str</td><td>str</td><td>str</td><td>str</td><td>str</td><td>str</td><td>str</td><td>str</td><td>str</td><td>str</td><td>str</td><td>str</td><td>str</td><td>str</td><td>str</td><td>str</td><td>str</td><td>str</td><td>str</td><td>str</td><td>i64</td></tr></thead><tbody><tr><td>&quot;HCES&quot;</td><td>&quot;2024&quot;</td><td>&quot;44081&quot;</td><td>&quot;1&quot;</td><td>&quot;23&quot;</td><td>&quot;232&quot;</td><td>&quot;26&quot;</td><td>&quot;22&quot;</td><td>&quot;02&quot;</td><td>&quot;10&quot;</td><td>&quot;2&quot;</td><td>&quot;2310&quot;</td><td>&quot;1&quot;</td><td>&quot;&quot;</td><td>&quot;1&quot;</td><td>&quot;01&quot;</td><td>&quot;H&quot;</td><td>&quot;02&quot;</td><td>&quot;01&quot;</td><td>&quot;1&quot;</td><td>&quot;2&quot;</td><td>&quot;46&quot;</td><td>&quot;3&quot;</td><td>&quot;01&quot;</td><td>&quot;&quot;</td><td>&quot;2&quot;</td><td>&quot;0&quot;</td><td>&quot;2&quot;</td><td>&quot;&quot;</td><td>&quot;&quot;</td><td>&quot;&quot;</td><td>&quot;&quot;</td><td>&quot;60&quot;</td><td>&quot;1&quot;</td><td>&quot;1&quot;</td><td>131077</td></tr><tr><td>&quot;HCES&quot;</td><td>&quot;2024&quot;</td><td>&quot;44081&quot;</td><td>&quot;1&quot;</td><td>&quot;23&quot;</td><td>&quot;232&quot;</td><td>&quot;26&quot;</td><td>&quot;22&quot;</td><td>&quot;02&quot;</td><td>&quot;10&quot;</td><td>&quot;2&quot;</td><td>&quot;2310&quot;</td><td>&quot;1&quot;</td><td>&quot;&quot;</td><td>&quot;1&quot;</td><td>&quot;01&quot;</td><td>&quot;H&quot;</td><td>&quot;02&quot;</td><td>&quot;02&quot;</td><td>&quot;5&quot;</td><td>&quot;1&quot;</td><td>&quot;19&quot;</td><td>&quot;1&quot;</td><td>&quot;07&quot;</td><td>&quot;12&quot;</td><td>&quot;1&quot;</td><td>&quot;0&quot;</td><td>&quot;2&quot;</td><td>&quot;&quot;</td><td>&quot;&quot;</td><td>&quot;&quot;</td><td>&quot;&quot;</td><td>&quot;60&quot;</td><td>&quot;1&quot;</td><td>&quot;1&quot;</td><td>131077</td></tr><tr><td>&quot;HCES&quot;</td><td>&quot;2024&quot;</td><td>&quot;44081&quot;</td><td>&quot;1&quot;</td><td>&quot;23&quot;</td><td>&quot;232&quot;</td><td>&quot;26&quot;</td><td>&quot;22&quot;</td><td>&quot;02&quot;</td><td>&quot;10&quot;</td><td>&quot;2&quot;</td><td>&quot;2310&quot;</td><td>&quot;1&quot;</td><td>&quot;&quot;</td><td>&quot;1&quot;</td><td>&quot;01&quot;</td><td>&quot;H&quot;</td><td>&quot;02&quot;</td><td>&quot;03&quot;</td><td>&quot;5&quot;</td><td>&quot;2&quot;</td><td>&quot;21&quot;</td><td>&quot;1&quot;</td><td>&quot;07&quot;</td><td>&quot;12&quot;</td><td>&quot;1&quot;</td><td>&quot;0&quot;</td><td>&quot;2&quot;</td><td>&quot;&quot;</td><td>&quot;&quot;</td><td>&quot;&quot;</td><td>&quot;&quot;</td><td>&quot;60&quot;</td><td>&quot;1&quot;</td><td>&quot;1&quot;</td><td>131077</td></tr><tr><td>&quot;HCES&quot;</td><td>&quot;2024&quot;</td><td>&quot;44081&quot;</td><td>&quot;1&quot;</td><td>&quot;23&quot;</td><td>&quot;232&quot;</td><td>&quot;26&quot;</td><td>&quot;22&quot;</td><td>&quot;02&quot;</td><td>&quot;10&quot;</td><td>&quot;2&quot;</td><td>&quot;2310&quot;</td><td>&quot;1&quot;</td><td>&quot;&quot;</td><td>&quot;1&quot;</td><td>&quot;02&quot;</td><td>&quot;H&quot;</td><td>&quot;02&quot;</td><td>&quot;01&quot;</td><td>&quot;1&quot;</td><td>&quot;1&quot;</td><td>&quot;52&quot;</td><td>&quot;2&quot;</td><td>&quot;03&quot;</td><td>&quot;5&quot;</td><td>&quot;2&quot;</td><td>&quot;0&quot;</td><td>&quot;2&quot;</td><td>&quot;&quot;</td><td>&quot;&quot;</td><td>&quot;&quot;</td><td>&quot;&quot;</td><td>&quot;60&quot;</td><td>&quot;1&quot;</td><td>&quot;1&quot;</td><td>131077</td></tr><tr><td>&quot;HCES&quot;</td><td>&quot;2024&quot;</td><td>&quot;44081&quot;</td><td>&quot;1&quot;</td><td>&quot;23&quot;</td><td>&quot;232&quot;</td><td>&quot;26&quot;</td><td>&quot;22&quot;</td><td>&quot;02&quot;</td><td>&quot;10&quot;</td><td>&quot;2&quot;</td><td>&quot;2310&quot;</td><td>&quot;1&quot;</td><td>&quot;&quot;</td><td>&quot;1&quot;</td><td>&quot;02&quot;</td><td>&quot;H&quot;</td><td>&quot;02&quot;</td><td>&quot;02&quot;</td><td>&quot;2&quot;</td><td>&quot;2&quot;</td><td>&quot;50&quot;</td><td>&quot;2&quot;</td><td>&quot;01&quot;</td><td>&quot;&quot;</td><td>&quot;2&quot;</td><td>&quot;0&quot;</td><td>&quot;2&quot;</td><td>&quot;&quot;</td><td>&quot;&quot;</td><td>&quot;&quot;</td><td>&quot;&quot;</td><td>&quot;60&quot;</td><td>&quot;1&quot;</td><td>&quot;1&quot;</td><td>131077</td></tr><tr><td>&hellip;</td><td>&hellip;</td><td>&hellip;</td><td>&hellip;</td><td>&hellip;</td><td>&hellip;</td><td>&hellip;</td><td>&hellip;</td><td>&hellip;</td><td>&hellip;</td><td>&hellip;</td><td>&hellip;</td><td>&hellip;</td><td>&hellip;</td><td>&hellip;</td><td>&hellip;</td><td>&hellip;</td><td>&hellip;</td><td>&hellip;</td><td>&hellip;</td><td>&hellip;</td><td>&hellip;</td><td>&hellip;</td><td>&hellip;</td><td>&hellip;</td><td>&hellip;</td><td>&hellip;</td><td>&hellip;</td><td>&hellip;</td><td>&hellip;</td><td>&hellip;</td><td>&hellip;</td><td>&hellip;</td><td>&hellip;</td><td>&hellip;</td><td>&hellip;</td></tr><tr><td>&quot;HCES&quot;</td><td>&quot;2024&quot;</td><td>&quot;25137&quot;</td><td>&quot;2&quot;</td><td>&quot;23&quot;</td><td>&quot;232&quot;</td><td>&quot;10&quot;</td><td>&quot;12&quot;</td><td>&quot;05&quot;</td><td>&quot;10&quot;</td><td>&quot;1&quot;</td><td>&quot;2332&quot;</td><td>&quot;1&quot;</td><td>&quot;&quot;</td><td>&quot;3&quot;</td><td>&quot;17&quot;</td><td>&quot;H&quot;</td><td>&quot;02&quot;</td><td>&quot;01&quot;</td><td>&quot;1&quot;</td><td>&quot;1&quot;</td><td>&quot;42&quot;</td><td>&quot;2&quot;</td><td>&quot;05&quot;</td><td>&quot;8&quot;</td><td>&quot;1&quot;</td><td>&quot;0&quot;</td><td>&quot;2&quot;</td><td>&quot;&quot;</td><td>&quot;&quot;</td><td>&quot;&quot;</td><td>&quot;&quot;</td><td>&quot;60&quot;</td><td>&quot;1&quot;</td><td>&quot;1&quot;</td><td>173023</td></tr><tr><td>&quot;HCES&quot;</td><td>&quot;2024&quot;</td><td>&quot;25137&quot;</td><td>&quot;2&quot;</td><td>&quot;23&quot;</td><td>&quot;232&quot;</td><td>&quot;10&quot;</td><td>&quot;12&quot;</td><td>&quot;05&quot;</td><td>&quot;10&quot;</td><td>&quot;1&quot;</td><td>&quot;2332&quot;</td><td>&quot;1&quot;</td><td>&quot;&quot;</td><td>&quot;3&quot;</td><td>&quot;17&quot;</td><td>&quot;H&quot;</td><td>&quot;02&quot;</td><td>&quot;02&quot;</td><td>&quot;2&quot;</td><td>&quot;2&quot;</td><td>&quot;40&quot;</td><td>&quot;2&quot;</td><td>&quot;05&quot;</td><td>&quot;8&quot;</td><td>&quot;1&quot;</td><td>&quot;0&quot;</td><td>&quot;2&quot;</td><td>&quot;&quot;</td><td>&quot;&quot;</td><td>&quot;&quot;</td><td>&quot;&quot;</td><td>&quot;57&quot;</td><td>&quot;1&quot;</td><td>&quot;1&quot;</td><td>173023</td></tr><tr><td>&quot;HCES&quot;</td><td>&quot;2024&quot;</td><td>&quot;25137&quot;</td><td>&quot;2&quot;</td><td>&quot;23&quot;</td><td>&quot;232&quot;</td><td>&quot;10&quot;</td><td>&quot;12&quot;</td><td>&quot;05&quot;</td><td>&quot;10&quot;</td><td>&quot;1&quot;</td><td>&quot;2332&quot;</td><td>&quot;1&quot;</td><td>&quot;&quot;</td><td>&quot;3&quot;</td><td>&quot;17&quot;</td><td>&quot;H&quot;</td><td>&quot;02&quot;</td><td>&quot;03&quot;</td><td>&quot;5&quot;</td><td>&quot;1&quot;</td><td>&quot;11&quot;</td><td>&quot;1&quot;</td><td>&quot;04&quot;</td><td>&quot;5&quot;</td><td>&quot;1&quot;</td><td>&quot;0&quot;</td><td>&quot;2&quot;</td><td>&quot;&quot;</td><td>&quot;&quot;</td><td>&quot;&quot;</td><td>&quot;&quot;</td><td>&quot;60&quot;</td><td>&quot;1&quot;</td><td>&quot;1&quot;</td><td>173023</td></tr><tr><td>&quot;HCES&quot;</td><td>&quot;2024&quot;</td><td>&quot;25137&quot;</td><td>&quot;2&quot;</td><td>&quot;23&quot;</td><td>&quot;232&quot;</td><td>&quot;10&quot;</td><td>&quot;12&quot;</td><td>&quot;05&quot;</td><td>&quot;10&quot;</td><td>&quot;1&quot;</td><td>&quot;2332&quot;</td><td>&quot;1&quot;</td><td>&quot;&quot;</td><td>&quot;3&quot;</td><td>&quot;17&quot;</td><td>&quot;H&quot;</td><td>&quot;02&quot;</td><td>&quot;04&quot;</td><td>&quot;5&quot;</td><td>&quot;2&quot;</td><td>&quot;14&quot;</td><td>&quot;1&quot;</td><td>&quot;05&quot;</td><td>&quot;8&quot;</td><td>&quot;1&quot;</td><td>&quot;0&quot;</td><td>&quot;2&quot;</td><td>&quot;&quot;</td><td>&quot;&quot;</td><td>&quot;&quot;</td><td>&quot;&quot;</td><td>&quot;60&quot;</td><td>&quot;1&quot;</td><td>&quot;1&quot;</td><td>173023</td></tr><tr><td>&quot;HCES&quot;</td><td>&quot;2024&quot;</td><td>&quot;25137&quot;</td><td>&quot;2&quot;</td><td>&quot;23&quot;</td><td>&quot;232&quot;</td><td>&quot;10&quot;</td><td>&quot;12&quot;</td><td>&quot;05&quot;</td><td>&quot;10&quot;</td><td>&quot;1&quot;</td><td>&quot;2332&quot;</td><td>&quot;1&quot;</td><td>&quot;&quot;</td><td>&quot;3&quot;</td><td>&quot;17&quot;</td><td>&quot;H&quot;</td><td>&quot;02&quot;</td><td>&quot;05&quot;</td><td>&quot;5&quot;</td><td>&quot;2&quot;</td><td>&quot;9&quot;</td><td>&quot;1&quot;</td><td>&quot;03&quot;</td><td>&quot;3&quot;</td><td>&quot;1&quot;</td><td>&quot;0&quot;</td><td>&quot;2&quot;</td><td>&quot;&quot;</td><td>&quot;&quot;</td><td>&quot;&quot;</td><td>&quot;&quot;</td><td>&quot;60&quot;</td><td>&quot;1&quot;</td><td>&quot;1&quot;</td><td>173023</td></tr></tbody></table></div>"
      ],
      "text/plain": [
       "shape: (64_952, 36)\n",
       "┌─────────────┬──────┬────────────┬────────┬───┬────────────┬────────────┬────────────┬────────────┐\n",
       "│ Survey_Name ┆ Year ┆ FSU_Serial ┆ Sector ┆ … ┆ Meals_At_H ┆ Revisit_St ┆ FDQ_Origin ┆ Multiplier │\n",
       "│ ---         ┆ ---  ┆ _No        ┆ ---    ┆   ┆ ome        ┆ atus       ┆ al_Member  ┆ ---        │\n",
       "│ str         ┆ str  ┆ ---        ┆ str    ┆   ┆ ---        ┆ ---        ┆ ---        ┆ i64        │\n",
       "│             ┆      ┆ str        ┆        ┆   ┆ str        ┆ str        ┆ str        ┆            │\n",
       "╞═════════════╪══════╪════════════╪════════╪═══╪════════════╪════════════╪════════════╪════════════╡\n",
       "│ HCES        ┆ 2024 ┆ 44081      ┆ 1      ┆ … ┆ 60         ┆ 1          ┆ 1          ┆ 131077     │\n",
       "│ HCES        ┆ 2024 ┆ 44081      ┆ 1      ┆ … ┆ 60         ┆ 1          ┆ 1          ┆ 131077     │\n",
       "│ HCES        ┆ 2024 ┆ 44081      ┆ 1      ┆ … ┆ 60         ┆ 1          ┆ 1          ┆ 131077     │\n",
       "│ HCES        ┆ 2024 ┆ 44081      ┆ 1      ┆ … ┆ 60         ┆ 1          ┆ 1          ┆ 131077     │\n",
       "│ HCES        ┆ 2024 ┆ 44081      ┆ 1      ┆ … ┆ 60         ┆ 1          ┆ 1          ┆ 131077     │\n",
       "│ …           ┆ …    ┆ …          ┆ …      ┆ … ┆ …          ┆ …          ┆ …          ┆ …          │\n",
       "│ HCES        ┆ 2024 ┆ 25137      ┆ 2      ┆ … ┆ 60         ┆ 1          ┆ 1          ┆ 173023     │\n",
       "│ HCES        ┆ 2024 ┆ 25137      ┆ 2      ┆ … ┆ 57         ┆ 1          ┆ 1          ┆ 173023     │\n",
       "│ HCES        ┆ 2024 ┆ 25137      ┆ 2      ┆ … ┆ 60         ┆ 1          ┆ 1          ┆ 173023     │\n",
       "│ HCES        ┆ 2024 ┆ 25137      ┆ 2      ┆ … ┆ 60         ┆ 1          ┆ 1          ┆ 173023     │\n",
       "│ HCES        ┆ 2024 ┆ 25137      ┆ 2      ┆ … ┆ 60         ┆ 1          ┆ 1          ┆ 173023     │\n",
       "└─────────────┴──────┴────────────┴────────┴───┴────────────┴────────────┴────────────┴────────────┘"
      ]
     },
     "execution_count": 31,
     "metadata": {},
     "output_type": "execute_result"
    }
   ],
   "source": [
    "mp_data"
   ]
  },
  {
   "cell_type": "code",
   "execution_count": 23,
   "id": "7dbdeca6",
   "metadata": {},
   "outputs": [
    {
     "data": {
      "text/plain": [
       "64952"
      ]
     },
     "execution_count": 23,
     "metadata": {},
     "output_type": "execute_result"
    }
   ],
   "source": [
    "# In this table MP data is present \n",
    "\n",
    "mp_data.shape[0]"
   ]
  },
  {
   "cell_type": "markdown",
   "id": "0388976f",
   "metadata": {},
   "source": [
    "# Save"
   ]
  },
  {
   "cell_type": "code",
   "execution_count": 24,
   "id": "cc7bcf67",
   "metadata": {},
   "outputs": [
    {
     "name": "stdout",
     "output_type": "stream",
     "text": [
      " 64952 are the MP data points\n"
     ]
    }
   ],
   "source": [
    "print(f\" {mp_data.shape[0]} are the MP data points\")"
   ]
  },
  {
   "cell_type": "code",
   "execution_count": 25,
   "id": "b6f545ac",
   "metadata": {},
   "outputs": [],
   "source": [
    "# convert to both csv and parquet data format"
   ]
  },
  {
   "cell_type": "code",
   "execution_count": 28,
   "id": "c6d5b085",
   "metadata": {},
   "outputs": [
    {
     "data": {
      "text/plain": [
       "1"
      ]
     },
     "execution_count": 28,
     "metadata": {},
     "output_type": "execute_result"
    }
   ],
   "source": [
    "mp_data['State'].n_unique()"
   ]
  },
  {
   "cell_type": "code",
   "execution_count": null,
   "id": "31ef5e23",
   "metadata": {},
   "outputs": [],
   "source": [
    "mp_data.write_csv(r\"C:\\Users\\Rudra\\Desktop\\rural-financial-inclusion-govt-scheme-recommendation\\parquet-data\\lev-02\\data2\\lev_02_mp.csv\")"
   ]
  },
  {
   "cell_type": "code",
   "execution_count": null,
   "id": "27e6f01f",
   "metadata": {},
   "outputs": [],
   "source": [
    "mp_data.write_parquet(r\"C:\\Users\\Rudra\\Desktop\\rural-financial-inclusion-govt-scheme-recommendation\\parquet-data\\lev-02\\data2\\lev_02_mp.parquet\", compression=\"zstd\")"
   ]
  }
 ],
 "metadata": {
  "kernelspec": {
   "display_name": "Python 3",
   "language": "python",
   "name": "python3"
  },
  "language_info": {
   "codemirror_mode": {
    "name": "ipython",
    "version": 3
   },
   "file_extension": ".py",
   "mimetype": "text/x-python",
   "name": "python",
   "nbconvert_exporter": "python",
   "pygments_lexer": "ipython3",
   "version": "3.11.9"
  }
 },
 "nbformat": 4,
 "nbformat_minor": 5
}
