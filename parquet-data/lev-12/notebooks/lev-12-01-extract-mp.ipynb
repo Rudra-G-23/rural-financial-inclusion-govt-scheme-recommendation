{
 "cells": [
  {
   "cell_type": "markdown",
   "id": "50ff01d7",
   "metadata": {},
   "source": [
    "# Goal: Extract MP state data from this table"
   ]
  },
  {
   "cell_type": "code",
   "execution_count": 1,
   "id": "69513632",
   "metadata": {},
   "outputs": [
    {
     "data": {
      "text/plain": [
       "' \\nGoal: Extract MP state data from this table\\nAuthor: Rudra Prasad Bhuyan\\n'"
      ]
     },
     "execution_count": 1,
     "metadata": {},
     "output_type": "execute_result"
    }
   ],
   "source": [
    "\"\"\" \n",
    "Goal: Extract MP state data from this table\n",
    "Author: Rudra Prasad Bhuyan\n",
    "\"\"\""
   ]
  },
  {
   "cell_type": "code",
   "execution_count": 2,
   "id": "b9e33eef",
   "metadata": {},
   "outputs": [],
   "source": [
    "import numpy as np\n",
    "import pandas as pd\n",
    "import polars as pl\n",
    "import matplotlib.pyplot as plt\n",
    "import seaborn as sns\n",
    "import plotly.express as px\n",
    "import plotly.offline as po\n",
    "\n",
    "import warnings\n",
    "warnings.filterwarnings('ignore')"
   ]
  },
  {
   "cell_type": "code",
   "execution_count": 3,
   "id": "4d29e02f",
   "metadata": {},
   "outputs": [],
   "source": [
    "path = r\"C:\\Users\\Rudra\\Desktop\\rural-financial-inclusion-govt-scheme-recommendation\\parquet-data\\lev-12\\data\\lev-12_merged.parquet\"\n",
    "\n",
    "#df = pd.read_parquet(path)\n",
    "pdf = pl.read_parquet(path)"
   ]
  },
  {
   "cell_type": "code",
   "execution_count": 4,
   "id": "1d039ba9",
   "metadata": {},
   "outputs": [
    {
     "data": {
      "text/plain": [
       "Schema([('Survey_Name', String),\n",
       "        ('Year', String),\n",
       "        ('FSU_Serial_No', String),\n",
       "        ('Sector', String),\n",
       "        ('State', String),\n",
       "        ('NSS_Region', String),\n",
       "        ('District', String),\n",
       "        ('Stratum', String),\n",
       "        ('Sub_stratum', String),\n",
       "        ('Panel', String),\n",
       "        ('Sub_sample', String),\n",
       "        ('FOD_Sub_Region', String),\n",
       "        ('Sample_SU_No', String),\n",
       "        ('Sample_Sub_Division_No', String),\n",
       "        ('Second_Stage_Stratum_No', String),\n",
       "        ('Sample_Household_No', String),\n",
       "        ('Questionnaire_No', String),\n",
       "        ('Level', String),\n",
       "        ('ITEM_CODE', String),\n",
       "        ('QUANTITY', Float64),\n",
       "        ('VALUE', Int64),\n",
       "        ('MULTIPLIER', Int64)])"
      ]
     },
     "execution_count": 4,
     "metadata": {},
     "output_type": "execute_result"
    }
   ],
   "source": [
    "pdf.collect_schema()"
   ]
  },
  {
   "cell_type": "markdown",
   "id": "0ca9efce",
   "metadata": {},
   "source": [
    "# Where is MP"
   ]
  },
  {
   "cell_type": "code",
   "execution_count": 5,
   "id": "dba59a55",
   "metadata": {},
   "outputs": [
    {
     "data": {
      "text/plain": [
       "9414702"
      ]
     },
     "execution_count": 5,
     "metadata": {},
     "output_type": "execute_result"
    }
   ],
   "source": [
    "# Shape of the data\n",
    "pdf.shape[0]"
   ]
  },
  {
   "cell_type": "code",
   "execution_count": 6,
   "id": "b4349c11",
   "metadata": {},
   "outputs": [
    {
     "data": {
      "text/html": [
       "<div><style>\n",
       ".dataframe > thead > tr,\n",
       ".dataframe > tbody > tr {\n",
       "  text-align: right;\n",
       "  white-space: pre-wrap;\n",
       "}\n",
       "</style>\n",
       "<small>shape: (9_414_702,)</small><table border=\"1\" class=\"dataframe\"><thead><tr><th>State</th></tr><tr><td>str</td></tr></thead><tbody><tr><td>&quot;01&quot;</td></tr><tr><td>&quot;01&quot;</td></tr><tr><td>&quot;01&quot;</td></tr><tr><td>&quot;01&quot;</td></tr><tr><td>&quot;01&quot;</td></tr><tr><td>&hellip;</td></tr><tr><td>&quot;27&quot;</td></tr><tr><td>&quot;27&quot;</td></tr><tr><td>&quot;27&quot;</td></tr><tr><td>&quot;27&quot;</td></tr><tr><td>&quot;27&quot;</td></tr></tbody></table></div>"
      ],
      "text/plain": [
       "shape: (9_414_702,)\n",
       "Series: 'State' [str]\n",
       "[\n",
       "\t\"01\"\n",
       "\t\"01\"\n",
       "\t\"01\"\n",
       "\t\"01\"\n",
       "\t\"01\"\n",
       "\t…\n",
       "\t\"27\"\n",
       "\t\"27\"\n",
       "\t\"27\"\n",
       "\t\"27\"\n",
       "\t\"27\"\n",
       "]"
      ]
     },
     "execution_count": 6,
     "metadata": {},
     "output_type": "execute_result"
    }
   ],
   "source": [
    "pdf['State']"
   ]
  },
  {
   "cell_type": "code",
   "execution_count": 7,
   "id": "3241ac72",
   "metadata": {},
   "outputs": [
    {
     "data": {
      "text/html": [
       "<div><style>\n",
       ".dataframe > thead > tr,\n",
       ".dataframe > tbody > tr {\n",
       "  text-align: right;\n",
       "  white-space: pre-wrap;\n",
       "}\n",
       "</style>\n",
       "<small>shape: (9_414_702,)</small><table border=\"1\" class=\"dataframe\"><thead><tr><th>District</th></tr><tr><td>bool</td></tr></thead><tbody><tr><td>false</td></tr><tr><td>false</td></tr><tr><td>false</td></tr><tr><td>false</td></tr><tr><td>false</td></tr><tr><td>&hellip;</td></tr><tr><td>false</td></tr><tr><td>false</td></tr><tr><td>false</td></tr><tr><td>false</td></tr><tr><td>false</td></tr></tbody></table></div>"
      ],
      "text/plain": [
       "shape: (9_414_702,)\n",
       "Series: 'District' [bool]\n",
       "[\n",
       "\tfalse\n",
       "\tfalse\n",
       "\tfalse\n",
       "\tfalse\n",
       "\tfalse\n",
       "\t…\n",
       "\tfalse\n",
       "\tfalse\n",
       "\tfalse\n",
       "\tfalse\n",
       "\tfalse\n",
       "]"
      ]
     },
     "execution_count": 7,
     "metadata": {},
     "output_type": "execute_result"
    }
   ],
   "source": [
    "# This are label data \n",
    "# For know mp we used the Metadata json file\n",
    "# Line number 308\n",
    "\n",
    "pdf['District'] == '23'\n"
   ]
  },
  {
   "cell_type": "code",
   "execution_count": 8,
   "id": "402d33fd",
   "metadata": {},
   "outputs": [],
   "source": [
    "mp_data = pdf.filter(\n",
    "    pl.col('State') == '23'\n",
    ")"
   ]
  },
  {
   "cell_type": "code",
   "execution_count": 9,
   "id": "dea7bcaf",
   "metadata": {},
   "outputs": [
    {
     "data": {
      "text/html": [
       "<div><style>\n",
       ".dataframe > thead > tr,\n",
       ".dataframe > tbody > tr {\n",
       "  text-align: right;\n",
       "  white-space: pre-wrap;\n",
       "}\n",
       "</style>\n",
       "<small>shape: (539_656, 22)</small><table border=\"1\" class=\"dataframe\"><thead><tr><th>Survey_Name</th><th>Year</th><th>FSU_Serial_No</th><th>Sector</th><th>State</th><th>NSS_Region</th><th>District</th><th>Stratum</th><th>Sub_stratum</th><th>Panel</th><th>Sub_sample</th><th>FOD_Sub_Region</th><th>Sample_SU_No</th><th>Sample_Sub_Division_No</th><th>Second_Stage_Stratum_No</th><th>Sample_Household_No</th><th>Questionnaire_No</th><th>Level</th><th>ITEM_CODE</th><th>QUANTITY</th><th>VALUE</th><th>MULTIPLIER</th></tr><tr><td>str</td><td>str</td><td>str</td><td>str</td><td>str</td><td>str</td><td>str</td><td>str</td><td>str</td><td>str</td><td>str</td><td>str</td><td>str</td><td>str</td><td>str</td><td>str</td><td>str</td><td>str</td><td>str</td><td>f64</td><td>i64</td><td>i64</td></tr></thead><tbody><tr><td>&quot;HCES&quot;</td><td>&quot;2024&quot;</td><td>&quot;25276&quot;</td><td>&quot;2&quot;</td><td>&quot;23&quot;</td><td>&quot;235&quot;</td><td>&quot;32&quot;</td><td>&quot;12&quot;</td><td>&quot;01&quot;</td><td>&quot;4&quot;</td><td>&quot;2&quot;</td><td>&quot;2310&quot;</td><td>&quot;1&quot;</td><td>&quot;&quot;</td><td>&quot;2&quot;</td><td>&quot;01&quot;</td><td>&quot;D&quot;</td><td>&quot;12&quot;</td><td>&quot;351&quot;</td><td>3.0</td><td>1800</td><td>61763</td></tr><tr><td>&quot;HCES&quot;</td><td>&quot;2024&quot;</td><td>&quot;25276&quot;</td><td>&quot;2&quot;</td><td>&quot;23&quot;</td><td>&quot;235&quot;</td><td>&quot;32&quot;</td><td>&quot;12&quot;</td><td>&quot;01&quot;</td><td>&quot;4&quot;</td><td>&quot;2&quot;</td><td>&quot;2310&quot;</td><td>&quot;1&quot;</td><td>&quot;&quot;</td><td>&quot;2&quot;</td><td>&quot;01&quot;</td><td>&quot;D&quot;</td><td>&quot;12&quot;</td><td>&quot;352&quot;</td><td>4.6</td><td>800</td><td>61763</td></tr><tr><td>&quot;HCES&quot;</td><td>&quot;2024&quot;</td><td>&quot;25276&quot;</td><td>&quot;2&quot;</td><td>&quot;23&quot;</td><td>&quot;235&quot;</td><td>&quot;32&quot;</td><td>&quot;12&quot;</td><td>&quot;01&quot;</td><td>&quot;4&quot;</td><td>&quot;2&quot;</td><td>&quot;2310&quot;</td><td>&quot;1&quot;</td><td>&quot;&quot;</td><td>&quot;2&quot;</td><td>&quot;01&quot;</td><td>&quot;D&quot;</td><td>&quot;12&quot;</td><td>&quot;366&quot;</td><td>4.0</td><td>450</td><td>61763</td></tr><tr><td>&quot;HCES&quot;</td><td>&quot;2024&quot;</td><td>&quot;25276&quot;</td><td>&quot;2&quot;</td><td>&quot;23&quot;</td><td>&quot;235&quot;</td><td>&quot;32&quot;</td><td>&quot;12&quot;</td><td>&quot;01&quot;</td><td>&quot;4&quot;</td><td>&quot;2&quot;</td><td>&quot;2310&quot;</td><td>&quot;1&quot;</td><td>&quot;&quot;</td><td>&quot;2&quot;</td><td>&quot;01&quot;</td><td>&quot;D&quot;</td><td>&quot;12&quot;</td><td>&quot;370&quot;</td><td>8.0</td><td>600</td><td>61763</td></tr><tr><td>&quot;HCES&quot;</td><td>&quot;2024&quot;</td><td>&quot;25276&quot;</td><td>&quot;2&quot;</td><td>&quot;23&quot;</td><td>&quot;235&quot;</td><td>&quot;32&quot;</td><td>&quot;12&quot;</td><td>&quot;01&quot;</td><td>&quot;4&quot;</td><td>&quot;2&quot;</td><td>&quot;2310&quot;</td><td>&quot;1&quot;</td><td>&quot;&quot;</td><td>&quot;2&quot;</td><td>&quot;01&quot;</td><td>&quot;D&quot;</td><td>&quot;12&quot;</td><td>&quot;371&quot;</td><td>10.0</td><td>400</td><td>61763</td></tr><tr><td>&hellip;</td><td>&hellip;</td><td>&hellip;</td><td>&hellip;</td><td>&hellip;</td><td>&hellip;</td><td>&hellip;</td><td>&hellip;</td><td>&hellip;</td><td>&hellip;</td><td>&hellip;</td><td>&hellip;</td><td>&hellip;</td><td>&hellip;</td><td>&hellip;</td><td>&hellip;</td><td>&hellip;</td><td>&hellip;</td><td>&hellip;</td><td>&hellip;</td><td>&hellip;</td><td>&hellip;</td></tr><tr><td>&quot;HCES&quot;</td><td>&quot;2024&quot;</td><td>&quot;42591&quot;</td><td>&quot;1&quot;</td><td>&quot;23&quot;</td><td>&quot;232&quot;</td><td>&quot;11&quot;</td><td>&quot;23&quot;</td><td>&quot;20&quot;</td><td>&quot;7&quot;</td><td>&quot;2&quot;</td><td>&quot;2332&quot;</td><td>&quot;2&quot;</td><td>&quot;&quot;</td><td>&quot;3&quot;</td><td>&quot;17&quot;</td><td>&quot;D&quot;</td><td>&quot;12&quot;</td><td>&quot;371&quot;</td><td>8.0</td><td>760</td><td>97270</td></tr><tr><td>&quot;HCES&quot;</td><td>&quot;2024&quot;</td><td>&quot;42591&quot;</td><td>&quot;1&quot;</td><td>&quot;23&quot;</td><td>&quot;232&quot;</td><td>&quot;11&quot;</td><td>&quot;23&quot;</td><td>&quot;20&quot;</td><td>&quot;7&quot;</td><td>&quot;2&quot;</td><td>&quot;2332&quot;</td><td>&quot;2&quot;</td><td>&quot;&quot;</td><td>&quot;3&quot;</td><td>&quot;17&quot;</td><td>&quot;D&quot;</td><td>&quot;12&quot;</td><td>&quot;373&quot;</td><td>3.0</td><td>420</td><td>97270</td></tr><tr><td>&quot;HCES&quot;</td><td>&quot;2024&quot;</td><td>&quot;42591&quot;</td><td>&quot;1&quot;</td><td>&quot;23&quot;</td><td>&quot;232&quot;</td><td>&quot;11&quot;</td><td>&quot;23&quot;</td><td>&quot;20&quot;</td><td>&quot;7&quot;</td><td>&quot;2&quot;</td><td>&quot;2332&quot;</td><td>&quot;2&quot;</td><td>&quot;&quot;</td><td>&quot;3&quot;</td><td>&quot;17&quot;</td><td>&quot;D&quot;</td><td>&quot;12&quot;</td><td>&quot;383&quot;</td><td>2.0</td><td>1200</td><td>97270</td></tr><tr><td>&quot;HCES&quot;</td><td>&quot;2024&quot;</td><td>&quot;42591&quot;</td><td>&quot;1&quot;</td><td>&quot;23&quot;</td><td>&quot;232&quot;</td><td>&quot;11&quot;</td><td>&quot;23&quot;</td><td>&quot;20&quot;</td><td>&quot;7&quot;</td><td>&quot;2&quot;</td><td>&quot;2332&quot;</td><td>&quot;2&quot;</td><td>&quot;&quot;</td><td>&quot;3&quot;</td><td>&quot;17&quot;</td><td>&quot;D&quot;</td><td>&quot;12&quot;</td><td>&quot;393&quot;</td><td>9.0</td><td>2450</td><td>97270</td></tr><tr><td>&quot;HCES&quot;</td><td>&quot;2024&quot;</td><td>&quot;42591&quot;</td><td>&quot;1&quot;</td><td>&quot;23&quot;</td><td>&quot;232&quot;</td><td>&quot;11&quot;</td><td>&quot;23&quot;</td><td>&quot;20&quot;</td><td>&quot;7&quot;</td><td>&quot;2&quot;</td><td>&quot;2332&quot;</td><td>&quot;2&quot;</td><td>&quot;&quot;</td><td>&quot;3&quot;</td><td>&quot;17&quot;</td><td>&quot;D&quot;</td><td>&quot;12&quot;</td><td>&quot;394&quot;</td><td>4.0</td><td>1360</td><td>97270</td></tr></tbody></table></div>"
      ],
      "text/plain": [
       "shape: (539_656, 22)\n",
       "┌─────────────┬──────┬───────────────┬────────┬───┬───────────┬──────────┬───────┬────────────┐\n",
       "│ Survey_Name ┆ Year ┆ FSU_Serial_No ┆ Sector ┆ … ┆ ITEM_CODE ┆ QUANTITY ┆ VALUE ┆ MULTIPLIER │\n",
       "│ ---         ┆ ---  ┆ ---           ┆ ---    ┆   ┆ ---       ┆ ---      ┆ ---   ┆ ---        │\n",
       "│ str         ┆ str  ┆ str           ┆ str    ┆   ┆ str       ┆ f64      ┆ i64   ┆ i64        │\n",
       "╞═════════════╪══════╪═══════════════╪════════╪═══╪═══════════╪══════════╪═══════╪════════════╡\n",
       "│ HCES        ┆ 2024 ┆ 25276         ┆ 2      ┆ … ┆ 351       ┆ 3.0      ┆ 1800  ┆ 61763      │\n",
       "│ HCES        ┆ 2024 ┆ 25276         ┆ 2      ┆ … ┆ 352       ┆ 4.6      ┆ 800   ┆ 61763      │\n",
       "│ HCES        ┆ 2024 ┆ 25276         ┆ 2      ┆ … ┆ 366       ┆ 4.0      ┆ 450   ┆ 61763      │\n",
       "│ HCES        ┆ 2024 ┆ 25276         ┆ 2      ┆ … ┆ 370       ┆ 8.0      ┆ 600   ┆ 61763      │\n",
       "│ HCES        ┆ 2024 ┆ 25276         ┆ 2      ┆ … ┆ 371       ┆ 10.0     ┆ 400   ┆ 61763      │\n",
       "│ …           ┆ …    ┆ …             ┆ …      ┆ … ┆ …         ┆ …        ┆ …     ┆ …          │\n",
       "│ HCES        ┆ 2024 ┆ 42591         ┆ 1      ┆ … ┆ 371       ┆ 8.0      ┆ 760   ┆ 97270      │\n",
       "│ HCES        ┆ 2024 ┆ 42591         ┆ 1      ┆ … ┆ 373       ┆ 3.0      ┆ 420   ┆ 97270      │\n",
       "│ HCES        ┆ 2024 ┆ 42591         ┆ 1      ┆ … ┆ 383       ┆ 2.0      ┆ 1200  ┆ 97270      │\n",
       "│ HCES        ┆ 2024 ┆ 42591         ┆ 1      ┆ … ┆ 393       ┆ 9.0      ┆ 2450  ┆ 97270      │\n",
       "│ HCES        ┆ 2024 ┆ 42591         ┆ 1      ┆ … ┆ 394       ┆ 4.0      ┆ 1360  ┆ 97270      │\n",
       "└─────────────┴──────┴───────────────┴────────┴───┴───────────┴──────────┴───────┴────────────┘"
      ]
     },
     "execution_count": 9,
     "metadata": {},
     "output_type": "execute_result"
    }
   ],
   "source": [
    "mp_data"
   ]
  },
  {
   "cell_type": "code",
   "execution_count": 18,
   "id": "576d03ea",
   "metadata": {},
   "outputs": [
    {
     "data": {
      "text/html": [
       "<div><style>\n",
       ".dataframe > thead > tr,\n",
       ".dataframe > tbody > tr {\n",
       "  text-align: right;\n",
       "  white-space: pre-wrap;\n",
       "}\n",
       "</style>\n",
       "<small>shape: (6,)</small><table border=\"1\" class=\"dataframe\"><thead><tr><th>NSS_Region</th></tr><tr><td>str</td></tr></thead><tbody><tr><td>&quot;234&quot;</td></tr><tr><td>&quot;236&quot;</td></tr><tr><td>&quot;233&quot;</td></tr><tr><td>&quot;235&quot;</td></tr><tr><td>&quot;231&quot;</td></tr><tr><td>&quot;232&quot;</td></tr></tbody></table></div>"
      ],
      "text/plain": [
       "shape: (6,)\n",
       "Series: 'NSS_Region' [str]\n",
       "[\n",
       "\t\"234\"\n",
       "\t\"236\"\n",
       "\t\"233\"\n",
       "\t\"235\"\n",
       "\t\"231\"\n",
       "\t\"232\"\n",
       "]"
      ]
     },
     "execution_count": 18,
     "metadata": {},
     "output_type": "execute_result"
    }
   ],
   "source": [
    "mp_data['NSS_Region'].unique()"
   ]
  },
  {
   "cell_type": "code",
   "execution_count": 16,
   "id": "3820a17a",
   "metadata": {},
   "outputs": [
    {
     "data": {
      "text/html": [
       "<div><style>\n",
       ".dataframe > thead > tr,\n",
       ".dataframe > tbody > tr {\n",
       "  text-align: right;\n",
       "  white-space: pre-wrap;\n",
       "}\n",
       "</style>\n",
       "<small>shape: (2,)</small><table border=\"1\" class=\"dataframe\"><thead><tr><th>Sector</th></tr><tr><td>str</td></tr></thead><tbody><tr><td>&quot;2&quot;</td></tr><tr><td>&quot;1&quot;</td></tr></tbody></table></div>"
      ],
      "text/plain": [
       "shape: (2,)\n",
       "Series: 'Sector' [str]\n",
       "[\n",
       "\t\"2\"\n",
       "\t\"1\"\n",
       "]"
      ]
     },
     "execution_count": 16,
     "metadata": {},
     "output_type": "execute_result"
    }
   ],
   "source": [
    "mp_data['Sector'].unique()"
   ]
  },
  {
   "cell_type": "code",
   "execution_count": 10,
   "id": "3a99c7de",
   "metadata": {},
   "outputs": [
    {
     "data": {
      "text/plain": [
       "791"
      ]
     },
     "execution_count": 10,
     "metadata": {},
     "output_type": "execute_result"
    }
   ],
   "source": [
    "mp_data['FSU_Serial_No'].n_unique()"
   ]
  },
  {
   "cell_type": "markdown",
   "id": "0388976f",
   "metadata": {},
   "source": [
    "# Save"
   ]
  },
  {
   "cell_type": "code",
   "execution_count": 11,
   "id": "cc7bcf67",
   "metadata": {},
   "outputs": [
    {
     "name": "stdout",
     "output_type": "stream",
     "text": [
      " 539656 are the MP data points\n"
     ]
    }
   ],
   "source": [
    "print(f\" {pdf.filter(pl.col('State') == '23').shape[0]} are the MP data points\")"
   ]
  },
  {
   "cell_type": "code",
   "execution_count": 12,
   "id": "b6f545ac",
   "metadata": {},
   "outputs": [],
   "source": [
    "# convert to both csv and parquet data format"
   ]
  },
  {
   "cell_type": "code",
   "execution_count": 13,
   "id": "31ef5e23",
   "metadata": {},
   "outputs": [],
   "source": [
    "mp_data.write_csv(r\"C:\\Users\\Rudra\\Desktop\\rural-financial-inclusion-govt-scheme-recommendation\\parquet-data\\lev-12\\data2\\lev_12_mp.csv\")"
   ]
  },
  {
   "cell_type": "code",
   "execution_count": 14,
   "id": "27e6f01f",
   "metadata": {},
   "outputs": [],
   "source": [
    "mp_data.write_parquet(r\"C:\\Users\\Rudra\\Desktop\\rural-financial-inclusion-govt-scheme-recommendation\\parquet-data\\lev-12\\data2\\lev_12_mp.parquet\", compression=\"zstd\")"
   ]
  }
 ],
 "metadata": {
  "kernelspec": {
   "display_name": "Python 3",
   "language": "python",
   "name": "python3"
  },
  "language_info": {
   "codemirror_mode": {
    "name": "ipython",
    "version": 3
   },
   "file_extension": ".py",
   "mimetype": "text/x-python",
   "name": "python",
   "nbconvert_exporter": "python",
   "pygments_lexer": "ipython3",
   "version": "3.11.9"
  }
 },
 "nbformat": 4,
 "nbformat_minor": 5
}
