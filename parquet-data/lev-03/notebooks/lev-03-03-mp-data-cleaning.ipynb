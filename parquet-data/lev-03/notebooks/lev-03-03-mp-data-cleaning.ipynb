{
 "cells": [
  {
   "cell_type": "markdown",
   "id": "e6195ad7",
   "metadata": {},
   "source": [
    "# Goal: Data Cleaning"
   ]
  },
  {
   "cell_type": "code",
   "execution_count": 51,
   "id": "b878d176",
   "metadata": {},
   "outputs": [
    {
     "data": {
      "text/plain": [
       "' \\nGoal: Data Cleaning\\nAuthor: Rudra Prasad Bhuyan\\n'"
      ]
     },
     "execution_count": 51,
     "metadata": {},
     "output_type": "execute_result"
    }
   ],
   "source": [
    "\"\"\" \n",
    "Goal: Data Cleaning\n",
    "Author: Rudra Prasad Bhuyan\n",
    "\"\"\""
   ]
  },
  {
   "cell_type": "code",
   "execution_count": 52,
   "id": "113ef065",
   "metadata": {},
   "outputs": [],
   "source": [
    "import polars as pl\n",
    "import matplotlib.pyplot as plt\n",
    "import seaborn as sns"
   ]
  },
  {
   "cell_type": "code",
   "execution_count": 53,
   "id": "db63f811",
   "metadata": {},
   "outputs": [],
   "source": [
    "path = r\"C:\\Users\\Rudra\\Desktop\\rural-financial-inclusion-govt-scheme-recommendation\\parquet-data\\lev-03\\data\\lev-03_merged.parquet\"\n",
    "\n",
    "pdf = pl.read_parquet(path)"
   ]
  },
  {
   "cell_type": "code",
   "execution_count": 54,
   "id": "063096f3",
   "metadata": {},
   "outputs": [
    {
     "data": {
      "text/plain": [
       "Schema([('Survey_Name', String),\n",
       "        ('Year', String),\n",
       "        ('FSU_Serial_No', String),\n",
       "        ('Sector', String),\n",
       "        ('State', String),\n",
       "        ('NSS_Region', String),\n",
       "        ('District', String),\n",
       "        ('Stratum', String),\n",
       "        ('Sub_stratum', String),\n",
       "        ('Panel', String),\n",
       "        ('Sub_sample', String),\n",
       "        ('FOD_Sub_Region', String),\n",
       "        ('Sample_SU_No', String),\n",
       "        ('Sample_Sub_Division_No', String),\n",
       "        ('Second_Stage_Stratum_No', String),\n",
       "        ('Sample_Household_No', String),\n",
       "        ('Questionnaire_No', String),\n",
       "        ('Level', String),\n",
       "        ('HH_Size_FDQ', Float64),\n",
       "        ('Engaged_in_Economic_Activity_Las', String),\n",
       "        ('NCO_2015_Code', String),\n",
       "        ('NIC_2008_Code', String),\n",
       "        ('Max_Income_Activity', String),\n",
       "        ('Self_Employment_Source_Sector', String),\n",
       "        ('Regular_Wage_Source_Sector', String),\n",
       "        ('Casual_Labour_Source_Sector', String),\n",
       "        ('Household_Type', String),\n",
       "        ('Religion_of_HH_Head', String),\n",
       "        ('Social_Group_of_HH_Head', String),\n",
       "        ('Land_Ownership', String),\n",
       "        ('Type_of_Land_Owned', String),\n",
       "        ('Total_Area_Land_Owned_Acres', String),\n",
       "        ('Dwelling_Unit_Exists', String),\n",
       "        ('Type_of_Dwelling_Unit', String),\n",
       "        ('Energy_Source_Cooking', String),\n",
       "        ('Energy_Source_Lighting', String),\n",
       "        ('Ration_Card_Type', String),\n",
       "        ('Rent_Rate_Available_Rural', String),\n",
       "        ('Benefitted_From_PMGKY', String),\n",
       "        ('Multiplier', Float64)])"
      ]
     },
     "execution_count": 54,
     "metadata": {},
     "output_type": "execute_result"
    }
   ],
   "source": [
    "pdf.collect_schema()"
   ]
  },
  {
   "cell_type": "code",
   "execution_count": 55,
   "id": "8f6a5c6b",
   "metadata": {},
   "outputs": [],
   "source": [
    "mp_data = pdf.filter(\n",
    "    pl.col('State') == '23'\n",
    ")"
   ]
  },
  {
   "cell_type": "code",
   "execution_count": 56,
   "id": "1a794b3d",
   "metadata": {},
   "outputs": [
    {
     "data": {
      "text/html": [
       "<div><style>\n",
       ".dataframe > thead > tr,\n",
       ".dataframe > tbody > tr {\n",
       "  text-align: right;\n",
       "  white-space: pre-wrap;\n",
       "}\n",
       "</style>\n",
       "<small>shape: (1,)</small><table border=\"1\" class=\"dataframe\"><thead><tr><th>State</th></tr><tr><td>str</td></tr></thead><tbody><tr><td>&quot;23&quot;</td></tr></tbody></table></div>"
      ],
      "text/plain": [
       "shape: (1,)\n",
       "Series: 'State' [str]\n",
       "[\n",
       "\t\"23\"\n",
       "]"
      ]
     },
     "execution_count": 56,
     "metadata": {},
     "output_type": "execute_result"
    }
   ],
   "source": [
    "mp_data['State'].unique()"
   ]
  },
  {
   "cell_type": "markdown",
   "id": "0e4d3780",
   "metadata": {},
   "source": [
    "# Break down all useful variables into separate group"
   ]
  },
  {
   "cell_type": "code",
   "execution_count": 57,
   "id": "5b3ff430",
   "metadata": {},
   "outputs": [],
   "source": [
    "lev_03_hh = ['FSU_Serial_No', 'HH_Size_FDQ', 'Household_Type',\n",
    "            'Religion_of_HH_Head', 'Land_Ownership',\n",
    "            'Type_of_Land_Owned','Total_Area_Land_Owned_Acres',\n",
    "            'Energy_Source_Cooking', 'Energy_Source_Lighting',\n",
    "            'Dwelling_Unit_Exists', 'Type_of_Dwelling_Unit',\n",
    "            'Rent_Rate_Available_Rural', 'Multiplier']\n",
    "\n",
    "lev_03_fin = [\n",
    "    'Self_Employment_Source_Sector','Regular_Wage_Source_Sector',\n",
    "    'Casual_Labour_Source_Sector']\n",
    "\n",
    "lev_03_occupation = [\n",
    "    'Engaged_in_Economic_Activity_Las',\t'Max_Income_Activity']\n",
    "\n",
    "lev_03_scheme = ['Benefitted_From_PMGKY']"
   ]
  },
  {
   "cell_type": "code",
   "execution_count": 58,
   "id": "bee2ff75",
   "metadata": {},
   "outputs": [
    {
     "data": {
      "text/html": [
       "<div><style>\n",
       ".dataframe > thead > tr,\n",
       ".dataframe > tbody > tr {\n",
       "  text-align: right;\n",
       "  white-space: pre-wrap;\n",
       "}\n",
       "</style>\n",
       "<small>shape: (56_420, 19)</small><table border=\"1\" class=\"dataframe\"><thead><tr><th>FSU_Serial_No</th><th>HH_Size_FDQ</th><th>Household_Type</th><th>Religion_of_HH_Head</th><th>Land_Ownership</th><th>Type_of_Land_Owned</th><th>Total_Area_Land_Owned_Acres</th><th>Energy_Source_Cooking</th><th>Energy_Source_Lighting</th><th>Dwelling_Unit_Exists</th><th>Type_of_Dwelling_Unit</th><th>Rent_Rate_Available_Rural</th><th>Multiplier</th><th>Self_Employment_Source_Sector</th><th>Regular_Wage_Source_Sector</th><th>Casual_Labour_Source_Sector</th><th>Engaged_in_Economic_Activity_Las</th><th>Max_Income_Activity</th><th>Benefitted_From_PMGKY</th></tr><tr><td>str</td><td>f64</td><td>str</td><td>str</td><td>str</td><td>str</td><td>str</td><td>str</td><td>str</td><td>str</td><td>str</td><td>str</td><td>f64</td><td>str</td><td>str</td><td>str</td><td>str</td><td>str</td><td>str</td></tr></thead><tbody><tr><td>&quot;44085&quot;</td><td>7.0</td><td>&quot;1&quot;</td><td>&quot;1&quot;</td><td>&quot;1&quot;</td><td>&quot;2&quot;</td><td>&quot;6.01&quot;</td><td>&quot;01&quot;</td><td>&quot;1&quot;</td><td>&quot;1&quot;</td><td>&quot;1&quot;</td><td>&quot;2&quot;</td><td>58558.0</td><td>&quot;1&quot;</td><td>&quot;&quot;</td><td>&quot;&quot;</td><td>&quot;1&quot;</td><td>&quot;1&quot;</td><td>&quot;1&quot;</td></tr><tr><td>&quot;44085&quot;</td><td>7.0</td><td>&quot;1&quot;</td><td>&quot;1&quot;</td><td>&quot;1&quot;</td><td>&quot;2&quot;</td><td>&quot;6.61&quot;</td><td>&quot;01&quot;</td><td>&quot;1&quot;</td><td>&quot;1&quot;</td><td>&quot;1&quot;</td><td>&quot;2&quot;</td><td>58558.0</td><td>&quot;1&quot;</td><td>&quot;&quot;</td><td>&quot;&quot;</td><td>&quot;1&quot;</td><td>&quot;1&quot;</td><td>&quot;1&quot;</td></tr><tr><td>&quot;44085&quot;</td><td>7.0</td><td>&quot;1&quot;</td><td>&quot;1&quot;</td><td>&quot;1&quot;</td><td>&quot;2&quot;</td><td>&quot;4.21&quot;</td><td>&quot;02&quot;</td><td>&quot;1&quot;</td><td>&quot;1&quot;</td><td>&quot;1&quot;</td><td>&quot;2&quot;</td><td>58558.0</td><td>&quot;1&quot;</td><td>&quot;&quot;</td><td>&quot;&quot;</td><td>&quot;1&quot;</td><td>&quot;1&quot;</td><td>&quot;1&quot;</td></tr><tr><td>&quot;44085&quot;</td><td>7.0</td><td>&quot;1&quot;</td><td>&quot;1&quot;</td><td>&quot;1&quot;</td><td>&quot;2&quot;</td><td>&quot;3.62&quot;</td><td>&quot;01&quot;</td><td>&quot;1&quot;</td><td>&quot;1&quot;</td><td>&quot;1&quot;</td><td>&quot;2&quot;</td><td>58558.0</td><td>&quot;1&quot;</td><td>&quot;&quot;</td><td>&quot;&quot;</td><td>&quot;1&quot;</td><td>&quot;1&quot;</td><td>&quot;1&quot;</td></tr><tr><td>&quot;44085&quot;</td><td>13.0</td><td>&quot;5&quot;</td><td>&quot;1&quot;</td><td>&quot;1&quot;</td><td>&quot;2&quot;</td><td>&quot;4.01&quot;</td><td>&quot;01&quot;</td><td>&quot;1&quot;</td><td>&quot;1&quot;</td><td>&quot;1&quot;</td><td>&quot;2&quot;</td><td>58558.0</td><td>&quot;&quot;</td><td>&quot;&quot;</td><td>&quot;5&quot;</td><td>&quot;1&quot;</td><td>&quot;3&quot;</td><td>&quot;1&quot;</td></tr><tr><td>&hellip;</td><td>&hellip;</td><td>&hellip;</td><td>&hellip;</td><td>&hellip;</td><td>&hellip;</td><td>&hellip;</td><td>&hellip;</td><td>&hellip;</td><td>&hellip;</td><td>&hellip;</td><td>&hellip;</td><td>&hellip;</td><td>&hellip;</td><td>&hellip;</td><td>&hellip;</td><td>&hellip;</td><td>&hellip;</td><td>&hellip;</td></tr><tr><td>&quot;25137&quot;</td><td>5.0</td><td>&quot;1&quot;</td><td>&quot;1&quot;</td><td>&quot;1&quot;</td><td>&quot;1&quot;</td><td>&quot;0.02&quot;</td><td>&quot;02&quot;</td><td>&quot;1&quot;</td><td>&quot;1&quot;</td><td>&quot;1&quot;</td><td>&quot;&quot;</td><td>173023.0</td><td>&quot;&quot;</td><td>&quot;&quot;</td><td>&quot;&quot;</td><td>&quot;1&quot;</td><td>&quot;1&quot;</td><td>&quot;1&quot;</td></tr><tr><td>&quot;25137&quot;</td><td>3.0</td><td>&quot;1&quot;</td><td>&quot;1&quot;</td><td>&quot;1&quot;</td><td>&quot;1&quot;</td><td>&quot;0.03&quot;</td><td>&quot;02&quot;</td><td>&quot;1&quot;</td><td>&quot;1&quot;</td><td>&quot;1&quot;</td><td>&quot;&quot;</td><td>173023.0</td><td>&quot;&quot;</td><td>&quot;&quot;</td><td>&quot;&quot;</td><td>&quot;1&quot;</td><td>&quot;1&quot;</td><td>&quot;2&quot;</td></tr><tr><td>&quot;25137&quot;</td><td>4.0</td><td>&quot;2&quot;</td><td>&quot;1&quot;</td><td>&quot;1&quot;</td><td>&quot;1&quot;</td><td>&quot;0.02&quot;</td><td>&quot;02&quot;</td><td>&quot;1&quot;</td><td>&quot;1&quot;</td><td>&quot;1&quot;</td><td>&quot;&quot;</td><td>173023.0</td><td>&quot;&quot;</td><td>&quot;&quot;</td><td>&quot;&quot;</td><td>&quot;1&quot;</td><td>&quot;2&quot;</td><td>&quot;1&quot;</td></tr><tr><td>&quot;25137&quot;</td><td>5.0</td><td>&quot;2&quot;</td><td>&quot;5&quot;</td><td>&quot;1&quot;</td><td>&quot;1&quot;</td><td>&quot;0.03&quot;</td><td>&quot;02&quot;</td><td>&quot;1&quot;</td><td>&quot;1&quot;</td><td>&quot;1&quot;</td><td>&quot;&quot;</td><td>173023.0</td><td>&quot;&quot;</td><td>&quot;&quot;</td><td>&quot;&quot;</td><td>&quot;1&quot;</td><td>&quot;2&quot;</td><td>&quot;2&quot;</td></tr><tr><td>&quot;25137&quot;</td><td>5.0</td><td>&quot;1&quot;</td><td>&quot;1&quot;</td><td>&quot;1&quot;</td><td>&quot;2&quot;</td><td>&quot;4.52&quot;</td><td>&quot;02&quot;</td><td>&quot;1&quot;</td><td>&quot;1&quot;</td><td>&quot;2&quot;</td><td>&quot;&quot;</td><td>173023.0</td><td>&quot;&quot;</td><td>&quot;&quot;</td><td>&quot;&quot;</td><td>&quot;1&quot;</td><td>&quot;1&quot;</td><td>&quot;1&quot;</td></tr></tbody></table></div>"
      ],
      "text/plain": [
       "shape: (56_420, 19)\n",
       "┌───────────┬───────────┬───────────┬───────────┬───┬───────────┬───────────┬───────────┬──────────┐\n",
       "│ FSU_Seria ┆ HH_Size_F ┆ Household ┆ Religion_ ┆ … ┆ Casual_La ┆ Engaged_i ┆ Max_Incom ┆ Benefitt │\n",
       "│ l_No      ┆ DQ        ┆ _Type     ┆ of_HH_Hea ┆   ┆ bour_Sour ┆ n_Economi ┆ e_Activit ┆ ed_From_ │\n",
       "│ ---       ┆ ---       ┆ ---       ┆ d         ┆   ┆ ce_Sector ┆ c_Activit ┆ y         ┆ PMGKY    │\n",
       "│ str       ┆ f64       ┆ str       ┆ ---       ┆   ┆ ---       ┆ y_L…      ┆ ---       ┆ ---      │\n",
       "│           ┆           ┆           ┆ str       ┆   ┆ str       ┆ ---       ┆ str       ┆ str      │\n",
       "│           ┆           ┆           ┆           ┆   ┆           ┆ str       ┆           ┆          │\n",
       "╞═══════════╪═══════════╪═══════════╪═══════════╪═══╪═══════════╪═══════════╪═══════════╪══════════╡\n",
       "│ 44085     ┆ 7.0       ┆ 1         ┆ 1         ┆ … ┆           ┆ 1         ┆ 1         ┆ 1        │\n",
       "│ 44085     ┆ 7.0       ┆ 1         ┆ 1         ┆ … ┆           ┆ 1         ┆ 1         ┆ 1        │\n",
       "│ 44085     ┆ 7.0       ┆ 1         ┆ 1         ┆ … ┆           ┆ 1         ┆ 1         ┆ 1        │\n",
       "│ 44085     ┆ 7.0       ┆ 1         ┆ 1         ┆ … ┆           ┆ 1         ┆ 1         ┆ 1        │\n",
       "│ 44085     ┆ 13.0      ┆ 5         ┆ 1         ┆ … ┆ 5         ┆ 1         ┆ 3         ┆ 1        │\n",
       "│ …         ┆ …         ┆ …         ┆ …         ┆ … ┆ …         ┆ …         ┆ …         ┆ …        │\n",
       "│ 25137     ┆ 5.0       ┆ 1         ┆ 1         ┆ … ┆           ┆ 1         ┆ 1         ┆ 1        │\n",
       "│ 25137     ┆ 3.0       ┆ 1         ┆ 1         ┆ … ┆           ┆ 1         ┆ 1         ┆ 2        │\n",
       "│ 25137     ┆ 4.0       ┆ 2         ┆ 1         ┆ … ┆           ┆ 1         ┆ 2         ┆ 1        │\n",
       "│ 25137     ┆ 5.0       ┆ 2         ┆ 5         ┆ … ┆           ┆ 1         ┆ 2         ┆ 2        │\n",
       "│ 25137     ┆ 5.0       ┆ 1         ┆ 1         ┆ … ┆           ┆ 1         ┆ 1         ┆ 1        │\n",
       "└───────────┴───────────┴───────────┴───────────┴───┴───────────┴───────────┴───────────┴──────────┘"
      ]
     },
     "execution_count": 58,
     "metadata": {},
     "output_type": "execute_result"
    }
   ],
   "source": [
    "lev_03_cols = (\n",
    "    lev_03_hh\n",
    "    + lev_03_fin\n",
    "    + lev_03_occupation\n",
    "    + lev_03_scheme\n",
    ")\n",
    "\n",
    "mp_data = mp_data[lev_03_cols]\n",
    "\n",
    "mp_data"
   ]
  },
  {
   "cell_type": "markdown",
   "id": "fd6d1e11",
   "metadata": {},
   "source": [
    "# Conversion"
   ]
  },
  {
   "cell_type": "code",
   "execution_count": 59,
   "id": "f1bd650f",
   "metadata": {},
   "outputs": [],
   "source": [
    "mp_data = mp_data.with_columns(\n",
    "    [pl.col(col).cast(pl.Int32, strict=False) for col in lev_03_cols]\n",
    ")"
   ]
  },
  {
   "cell_type": "code",
   "execution_count": 60,
   "id": "c0582ca9",
   "metadata": {},
   "outputs": [
    {
     "data": {
      "text/plain": [
       "Schema([('FSU_Serial_No', Int32),\n",
       "        ('HH_Size_FDQ', Int32),\n",
       "        ('Household_Type', Int32),\n",
       "        ('Religion_of_HH_Head', Int32),\n",
       "        ('Land_Ownership', Int32),\n",
       "        ('Type_of_Land_Owned', Int32),\n",
       "        ('Total_Area_Land_Owned_Acres', Int32),\n",
       "        ('Energy_Source_Cooking', Int32),\n",
       "        ('Energy_Source_Lighting', Int32),\n",
       "        ('Dwelling_Unit_Exists', Int32),\n",
       "        ('Type_of_Dwelling_Unit', Int32),\n",
       "        ('Rent_Rate_Available_Rural', Int32),\n",
       "        ('Multiplier', Int32),\n",
       "        ('Self_Employment_Source_Sector', Int32),\n",
       "        ('Regular_Wage_Source_Sector', Int32),\n",
       "        ('Casual_Labour_Source_Sector', Int32),\n",
       "        ('Engaged_in_Economic_Activity_Las', Int32),\n",
       "        ('Max_Income_Activity', Int32),\n",
       "        ('Benefitted_From_PMGKY', Int32)])"
      ]
     },
     "execution_count": 60,
     "metadata": {},
     "output_type": "execute_result"
    }
   ],
   "source": [
    "mp_data.collect_schema()"
   ]
  },
  {
   "cell_type": "markdown",
   "id": "46f8171c",
   "metadata": {},
   "source": [
    "# Functions"
   ]
  },
  {
   "cell_type": "code",
   "execution_count": 61,
   "id": "cc584c36",
   "metadata": {},
   "outputs": [],
   "source": [
    "def summary(col):\n",
    "    display(mp_data[col].sample(3))\n",
    "    display(mp_data[col].describe())\n",
    "    display(mp_data[col].null_count())\n",
    "    display(mp_data[col].null_count() / mp_data.shape[0])"
   ]
  },
  {
   "cell_type": "code",
   "execution_count": 69,
   "id": "764ccd68",
   "metadata": {},
   "outputs": [],
   "source": [
    "def plot_hist(col):\n",
    "    sns.histplot(mp_data[col])\n",
    "    plt.title(col)\n",
    "    plt.show()"
   ]
  },
  {
   "cell_type": "code",
   "execution_count": 71,
   "id": "70faa156",
   "metadata": {},
   "outputs": [],
   "source": [
    "def check_unique(col):\n",
    "    print(f\"{col} contains : {mp_data[col].n_unique()}\")\n",
    "    display(mp_data[col].unique())"
   ]
  },
  {
   "cell_type": "markdown",
   "id": "8e9e183a",
   "metadata": {},
   "source": [
    "# Data"
   ]
  },
  {
   "cell_type": "markdown",
   "id": "eaf61a61",
   "metadata": {},
   "source": [
    "## Household "
   ]
  },
  {
   "cell_type": "code",
   "execution_count": 62,
   "id": "a9dace5a",
   "metadata": {},
   "outputs": [
    {
     "data": {
      "text/html": [
       "<div><style>\n",
       ".dataframe > thead > tr,\n",
       ".dataframe > tbody > tr {\n",
       "  text-align: right;\n",
       "  white-space: pre-wrap;\n",
       "}\n",
       "</style>\n",
       "<small>shape: (3, 13)</small><table border=\"1\" class=\"dataframe\"><thead><tr><th>FSU_Serial_No</th><th>HH_Size_FDQ</th><th>Household_Type</th><th>Religion_of_HH_Head</th><th>Land_Ownership</th><th>Type_of_Land_Owned</th><th>Total_Area_Land_Owned_Acres</th><th>Energy_Source_Cooking</th><th>Energy_Source_Lighting</th><th>Dwelling_Unit_Exists</th><th>Type_of_Dwelling_Unit</th><th>Rent_Rate_Available_Rural</th><th>Multiplier</th></tr><tr><td>i32</td><td>i32</td><td>i32</td><td>i32</td><td>i32</td><td>i32</td><td>i32</td><td>i32</td><td>i32</td><td>i32</td><td>i32</td><td>i32</td><td>i32</td></tr></thead><tbody><tr><td>25837</td><td>2</td><td>3</td><td>1</td><td>1</td><td>1</td><td>null</td><td>2</td><td>1</td><td>1</td><td>1</td><td>null</td><td>24223</td></tr><tr><td>42349</td><td>5</td><td>6</td><td>1</td><td>1</td><td>2</td><td>null</td><td>1</td><td>1</td><td>1</td><td>1</td><td>2</td><td>168925</td></tr><tr><td>42602</td><td>4</td><td>1</td><td>1</td><td>1</td><td>2</td><td>null</td><td>1</td><td>1</td><td>1</td><td>1</td><td>2</td><td>115095</td></tr></tbody></table></div>"
      ],
      "text/plain": [
       "shape: (3, 13)\n",
       "┌───────────┬───────────┬───────────┬───────────┬───┬───────────┬───────────┬───────────┬──────────┐\n",
       "│ FSU_Seria ┆ HH_Size_F ┆ Household ┆ Religion_ ┆ … ┆ Dwelling_ ┆ Type_of_D ┆ Rent_Rate ┆ Multipli │\n",
       "│ l_No      ┆ DQ        ┆ _Type     ┆ of_HH_Hea ┆   ┆ Unit_Exis ┆ welling_U ┆ _Availabl ┆ er       │\n",
       "│ ---       ┆ ---       ┆ ---       ┆ d         ┆   ┆ ts        ┆ nit       ┆ e_Rural   ┆ ---      │\n",
       "│ i32       ┆ i32       ┆ i32       ┆ ---       ┆   ┆ ---       ┆ ---       ┆ ---       ┆ i32      │\n",
       "│           ┆           ┆           ┆ i32       ┆   ┆ i32       ┆ i32       ┆ i32       ┆          │\n",
       "╞═══════════╪═══════════╪═══════════╪═══════════╪═══╪═══════════╪═══════════╪═══════════╪══════════╡\n",
       "│ 25837     ┆ 2         ┆ 3         ┆ 1         ┆ … ┆ 1         ┆ 1         ┆ null      ┆ 24223    │\n",
       "│ 42349     ┆ 5         ┆ 6         ┆ 1         ┆ … ┆ 1         ┆ 1         ┆ 2         ┆ 168925   │\n",
       "│ 42602     ┆ 4         ┆ 1         ┆ 1         ┆ … ┆ 1         ┆ 1         ┆ 2         ┆ 115095   │\n",
       "└───────────┴───────────┴───────────┴───────────┴───┴───────────┴───────────┴───────────┴──────────┘"
      ]
     },
     "metadata": {},
     "output_type": "display_data"
    },
    {
     "data": {
      "text/html": [
       "<div><style>\n",
       ".dataframe > thead > tr,\n",
       ".dataframe > tbody > tr {\n",
       "  text-align: right;\n",
       "  white-space: pre-wrap;\n",
       "}\n",
       "</style>\n",
       "<small>shape: (9, 14)</small><table border=\"1\" class=\"dataframe\"><thead><tr><th>statistic</th><th>FSU_Serial_No</th><th>HH_Size_FDQ</th><th>Household_Type</th><th>Religion_of_HH_Head</th><th>Land_Ownership</th><th>Type_of_Land_Owned</th><th>Total_Area_Land_Owned_Acres</th><th>Energy_Source_Cooking</th><th>Energy_Source_Lighting</th><th>Dwelling_Unit_Exists</th><th>Type_of_Dwelling_Unit</th><th>Rent_Rate_Available_Rural</th><th>Multiplier</th></tr><tr><td>str</td><td>f64</td><td>f64</td><td>f64</td><td>f64</td><td>f64</td><td>f64</td><td>f64</td><td>f64</td><td>f64</td><td>f64</td><td>f64</td><td>f64</td><td>f64</td></tr></thead><tbody><tr><td>&quot;count&quot;</td><td>56420.0</td><td>56420.0</td><td>56420.0</td><td>56420.0</td><td>56420.0</td><td>54348.0</td><td>0.0</td><td>56420.0</td><td>56420.0</td><td>56420.0</td><td>55600.0</td><td>33704.0</td><td>56420.0</td></tr><tr><td>&quot;null_count&quot;</td><td>0.0</td><td>0.0</td><td>0.0</td><td>0.0</td><td>0.0</td><td>2072.0</td><td>56420.0</td><td>0.0</td><td>0.0</td><td>0.0</td><td>820.0</td><td>22716.0</td><td>0.0</td></tr><tr><td>&quot;mean&quot;</td><td>35892.134208</td><td>4.598653</td><td>2.792272</td><td>1.120028</td><td>1.036725</td><td>1.520277</td><td>null</td><td>1.671819</td><td>1.014747</td><td>1.014534</td><td>1.105468</td><td>1.897342</td><td>111667.115207</td></tr><tr><td>&quot;std&quot;</td><td>8662.860768</td><td>2.152007</td><td>2.314186</td><td>0.54058</td><td>0.188086</td><td>0.514973</td><td>null</td><td>1.138049</td><td>0.328808</td><td>0.119678</td><td>0.337938</td><td>0.303517</td><td>70936.050835</td></tr><tr><td>&quot;min&quot;</td><td>25000.0</td><td>1.0</td><td>1.0</td><td>1.0</td><td>1.0</td><td>1.0</td><td>null</td><td>1.0</td><td>1.0</td><td>1.0</td><td>1.0</td><td>1.0</td><td>1913.0</td></tr><tr><td>&quot;25%&quot;</td><td>25278.0</td><td>3.0</td><td>1.0</td><td>1.0</td><td>1.0</td><td>1.0</td><td>null</td><td>1.0</td><td>1.0</td><td>1.0</td><td>1.0</td><td>2.0</td><td>64751.0</td></tr><tr><td>&quot;50%&quot;</td><td>42377.0</td><td>4.0</td><td>2.0</td><td>1.0</td><td>1.0</td><td>2.0</td><td>null</td><td>2.0</td><td>1.0</td><td>1.0</td><td>1.0</td><td>2.0</td><td>114789.0</td></tr><tr><td>&quot;75%&quot;</td><td>42727.0</td><td>6.0</td><td>5.0</td><td>1.0</td><td>1.0</td><td>2.0</td><td>null</td><td>2.0</td><td>1.0</td><td>1.0</td><td>1.0</td><td>2.0</td><td>145525.0</td></tr><tr><td>&quot;max&quot;</td><td>44199.0</td><td>31.0</td><td>9.0</td><td>9.0</td><td>2.0</td><td>3.0</td><td>null</td><td>12.0</td><td>9.0</td><td>2.0</td><td>3.0</td><td>2.0</td><td>888474.0</td></tr></tbody></table></div>"
      ],
      "text/plain": [
       "shape: (9, 14)\n",
       "┌───────────┬───────────┬───────────┬───────────┬───┬───────────┬───────────┬───────────┬──────────┐\n",
       "│ statistic ┆ FSU_Seria ┆ HH_Size_F ┆ Household ┆ … ┆ Dwelling_ ┆ Type_of_D ┆ Rent_Rate ┆ Multipli │\n",
       "│ ---       ┆ l_No      ┆ DQ        ┆ _Type     ┆   ┆ Unit_Exis ┆ welling_U ┆ _Availabl ┆ er       │\n",
       "│ str       ┆ ---       ┆ ---       ┆ ---       ┆   ┆ ts        ┆ nit       ┆ e_Rural   ┆ ---      │\n",
       "│           ┆ f64       ┆ f64       ┆ f64       ┆   ┆ ---       ┆ ---       ┆ ---       ┆ f64      │\n",
       "│           ┆           ┆           ┆           ┆   ┆ f64       ┆ f64       ┆ f64       ┆          │\n",
       "╞═══════════╪═══════════╪═══════════╪═══════════╪═══╪═══════════╪═══════════╪═══════════╪══════════╡\n",
       "│ count     ┆ 56420.0   ┆ 56420.0   ┆ 56420.0   ┆ … ┆ 56420.0   ┆ 55600.0   ┆ 33704.0   ┆ 56420.0  │\n",
       "│ null_coun ┆ 0.0       ┆ 0.0       ┆ 0.0       ┆ … ┆ 0.0       ┆ 820.0     ┆ 22716.0   ┆ 0.0      │\n",
       "│ t         ┆           ┆           ┆           ┆   ┆           ┆           ┆           ┆          │\n",
       "│ mean      ┆ 35892.134 ┆ 4.598653  ┆ 2.792272  ┆ … ┆ 1.014534  ┆ 1.105468  ┆ 1.897342  ┆ 111667.1 │\n",
       "│           ┆ 208       ┆           ┆           ┆   ┆           ┆           ┆           ┆ 15207    │\n",
       "│ std       ┆ 8662.8607 ┆ 2.152007  ┆ 2.314186  ┆ … ┆ 0.119678  ┆ 0.337938  ┆ 0.303517  ┆ 70936.05 │\n",
       "│           ┆ 68        ┆           ┆           ┆   ┆           ┆           ┆           ┆ 0835     │\n",
       "│ min       ┆ 25000.0   ┆ 1.0       ┆ 1.0       ┆ … ┆ 1.0       ┆ 1.0       ┆ 1.0       ┆ 1913.0   │\n",
       "│ 25%       ┆ 25278.0   ┆ 3.0       ┆ 1.0       ┆ … ┆ 1.0       ┆ 1.0       ┆ 2.0       ┆ 64751.0  │\n",
       "│ 50%       ┆ 42377.0   ┆ 4.0       ┆ 2.0       ┆ … ┆ 1.0       ┆ 1.0       ┆ 2.0       ┆ 114789.0 │\n",
       "│ 75%       ┆ 42727.0   ┆ 6.0       ┆ 5.0       ┆ … ┆ 1.0       ┆ 1.0       ┆ 2.0       ┆ 145525.0 │\n",
       "│ max       ┆ 44199.0   ┆ 31.0      ┆ 9.0       ┆ … ┆ 2.0       ┆ 3.0       ┆ 2.0       ┆ 888474.0 │\n",
       "└───────────┴───────────┴───────────┴───────────┴───┴───────────┴───────────┴───────────┴──────────┘"
      ]
     },
     "metadata": {},
     "output_type": "display_data"
    },
    {
     "data": {
      "text/html": [
       "<div><style>\n",
       ".dataframe > thead > tr,\n",
       ".dataframe > tbody > tr {\n",
       "  text-align: right;\n",
       "  white-space: pre-wrap;\n",
       "}\n",
       "</style>\n",
       "<small>shape: (1, 13)</small><table border=\"1\" class=\"dataframe\"><thead><tr><th>FSU_Serial_No</th><th>HH_Size_FDQ</th><th>Household_Type</th><th>Religion_of_HH_Head</th><th>Land_Ownership</th><th>Type_of_Land_Owned</th><th>Total_Area_Land_Owned_Acres</th><th>Energy_Source_Cooking</th><th>Energy_Source_Lighting</th><th>Dwelling_Unit_Exists</th><th>Type_of_Dwelling_Unit</th><th>Rent_Rate_Available_Rural</th><th>Multiplier</th></tr><tr><td>u32</td><td>u32</td><td>u32</td><td>u32</td><td>u32</td><td>u32</td><td>u32</td><td>u32</td><td>u32</td><td>u32</td><td>u32</td><td>u32</td><td>u32</td></tr></thead><tbody><tr><td>0</td><td>0</td><td>0</td><td>0</td><td>0</td><td>2072</td><td>56420</td><td>0</td><td>0</td><td>0</td><td>820</td><td>22716</td><td>0</td></tr></tbody></table></div>"
      ],
      "text/plain": [
       "shape: (1, 13)\n",
       "┌───────────┬───────────┬───────────┬───────────┬───┬───────────┬───────────┬───────────┬──────────┐\n",
       "│ FSU_Seria ┆ HH_Size_F ┆ Household ┆ Religion_ ┆ … ┆ Dwelling_ ┆ Type_of_D ┆ Rent_Rate ┆ Multipli │\n",
       "│ l_No      ┆ DQ        ┆ _Type     ┆ of_HH_Hea ┆   ┆ Unit_Exis ┆ welling_U ┆ _Availabl ┆ er       │\n",
       "│ ---       ┆ ---       ┆ ---       ┆ d         ┆   ┆ ts        ┆ nit       ┆ e_Rural   ┆ ---      │\n",
       "│ u32       ┆ u32       ┆ u32       ┆ ---       ┆   ┆ ---       ┆ ---       ┆ ---       ┆ u32      │\n",
       "│           ┆           ┆           ┆ u32       ┆   ┆ u32       ┆ u32       ┆ u32       ┆          │\n",
       "╞═══════════╪═══════════╪═══════════╪═══════════╪═══╪═══════════╪═══════════╪═══════════╪══════════╡\n",
       "│ 0         ┆ 0         ┆ 0         ┆ 0         ┆ … ┆ 0         ┆ 820       ┆ 22716     ┆ 0        │\n",
       "└───────────┴───────────┴───────────┴───────────┴───┴───────────┴───────────┴───────────┴──────────┘"
      ]
     },
     "metadata": {},
     "output_type": "display_data"
    },
    {
     "data": {
      "text/html": [
       "<div><style>\n",
       ".dataframe > thead > tr,\n",
       ".dataframe > tbody > tr {\n",
       "  text-align: right;\n",
       "  white-space: pre-wrap;\n",
       "}\n",
       "</style>\n",
       "<small>shape: (1, 13)</small><table border=\"1\" class=\"dataframe\"><thead><tr><th>FSU_Serial_No</th><th>HH_Size_FDQ</th><th>Household_Type</th><th>Religion_of_HH_Head</th><th>Land_Ownership</th><th>Type_of_Land_Owned</th><th>Total_Area_Land_Owned_Acres</th><th>Energy_Source_Cooking</th><th>Energy_Source_Lighting</th><th>Dwelling_Unit_Exists</th><th>Type_of_Dwelling_Unit</th><th>Rent_Rate_Available_Rural</th><th>Multiplier</th></tr><tr><td>f64</td><td>f64</td><td>f64</td><td>f64</td><td>f64</td><td>f64</td><td>f64</td><td>f64</td><td>f64</td><td>f64</td><td>f64</td><td>f64</td><td>f64</td></tr></thead><tbody><tr><td>0.0</td><td>0.0</td><td>0.0</td><td>0.0</td><td>0.0</td><td>0.036725</td><td>1.0</td><td>0.0</td><td>0.0</td><td>0.0</td><td>0.014534</td><td>0.402623</td><td>0.0</td></tr></tbody></table></div>"
      ],
      "text/plain": [
       "shape: (1, 13)\n",
       "┌───────────┬───────────┬───────────┬───────────┬───┬───────────┬───────────┬───────────┬──────────┐\n",
       "│ FSU_Seria ┆ HH_Size_F ┆ Household ┆ Religion_ ┆ … ┆ Dwelling_ ┆ Type_of_D ┆ Rent_Rate ┆ Multipli │\n",
       "│ l_No      ┆ DQ        ┆ _Type     ┆ of_HH_Hea ┆   ┆ Unit_Exis ┆ welling_U ┆ _Availabl ┆ er       │\n",
       "│ ---       ┆ ---       ┆ ---       ┆ d         ┆   ┆ ts        ┆ nit       ┆ e_Rural   ┆ ---      │\n",
       "│ f64       ┆ f64       ┆ f64       ┆ ---       ┆   ┆ ---       ┆ ---       ┆ ---       ┆ f64      │\n",
       "│           ┆           ┆           ┆ f64       ┆   ┆ f64       ┆ f64       ┆ f64       ┆          │\n",
       "╞═══════════╪═══════════╪═══════════╪═══════════╪═══╪═══════════╪═══════════╪═══════════╪══════════╡\n",
       "│ 0.0       ┆ 0.0       ┆ 0.0       ┆ 0.0       ┆ … ┆ 0.0       ┆ 0.014534  ┆ 0.402623  ┆ 0.0      │\n",
       "└───────────┴───────────┴───────────┴───────────┴───┴───────────┴───────────┴───────────┴──────────┘"
      ]
     },
     "metadata": {},
     "output_type": "display_data"
    }
   ],
   "source": [
    "summary(lev_03_hh)"
   ]
  },
  {
   "cell_type": "code",
   "execution_count": 77,
   "id": "7c723689",
   "metadata": {},
   "outputs": [
    {
     "name": "stdout",
     "output_type": "stream",
     "text": [
      "Rent_Rate_Available_Rural contains : 3\n"
     ]
    },
    {
     "data": {
      "text/html": [
       "<div><style>\n",
       ".dataframe > thead > tr,\n",
       ".dataframe > tbody > tr {\n",
       "  text-align: right;\n",
       "  white-space: pre-wrap;\n",
       "}\n",
       "</style>\n",
       "<small>shape: (3,)</small><table border=\"1\" class=\"dataframe\"><thead><tr><th>Rent_Rate_Available_Rural</th></tr><tr><td>i32</td></tr></thead><tbody><tr><td>1</td></tr><tr><td>2</td></tr><tr><td>3</td></tr></tbody></table></div>"
      ],
      "text/plain": [
       "shape: (3,)\n",
       "Series: 'Rent_Rate_Available_Rural' [i32]\n",
       "[\n",
       "\t1\n",
       "\t2\n",
       "\t3\n",
       "]"
      ]
     },
     "metadata": {},
     "output_type": "display_data"
    },
    {
     "data": {
      "image/png": "[encoded data removed]",
      "text/plain": [
       "<Figure size 640x480 with 1 Axes>"
      ]
     },
     "metadata": {},
     "output_type": "display_data"
    },
    {
     "name": "stdout",
     "output_type": "stream",
     "text": [
      "Rent_Rate_Available_Rural contains : 3\n"
     ]
    },
    {
     "data": {
      "text/html": [
       "<div><style>\n",
       ".dataframe > thead > tr,\n",
       ".dataframe > tbody > tr {\n",
       "  text-align: right;\n",
       "  white-space: pre-wrap;\n",
       "}\n",
       "</style>\n",
       "<small>shape: (3,)</small><table border=\"1\" class=\"dataframe\"><thead><tr><th>Rent_Rate_Available_Rural</th></tr><tr><td>i32</td></tr></thead><tbody><tr><td>1</td></tr><tr><td>2</td></tr><tr><td>3</td></tr></tbody></table></div>"
      ],
      "text/plain": [
       "shape: (3,)\n",
       "Series: 'Rent_Rate_Available_Rural' [i32]\n",
       "[\n",
       "\t1\n",
       "\t2\n",
       "\t3\n",
       "]"
      ]
     },
     "metadata": {},
     "output_type": "display_data"
    }
   ],
   "source": [
    "check_unique('Rent_Rate_Available_Rural')\n",
    "\n",
    "plot_hist('Rent_Rate_Available_Rural')\n",
    "\n",
    "mp_data = mp_data.with_columns(\n",
    "    pl.col('Rent_Rate_Available_Rural').fill_null(value=3)\n",
    ")\n",
    "\n",
    "check_unique('Rent_Rate_Available_Rural')"
   ]
  },
  {
   "cell_type": "code",
   "execution_count": 73,
   "id": "c2c1c4f0",
   "metadata": {},
   "outputs": [
    {
     "name": "stdout",
     "output_type": "stream",
     "text": [
      "Type_of_Dwelling_Unit contains : 4\n"
     ]
    },
    {
     "data": {
      "text/html": [
       "<div><style>\n",
       ".dataframe > thead > tr,\n",
       ".dataframe > tbody > tr {\n",
       "  text-align: right;\n",
       "  white-space: pre-wrap;\n",
       "}\n",
       "</style>\n",
       "<small>shape: (4,)</small><table border=\"1\" class=\"dataframe\"><thead><tr><th>Type_of_Dwelling_Unit</th></tr><tr><td>i32</td></tr></thead><tbody><tr><td>null</td></tr><tr><td>1</td></tr><tr><td>2</td></tr><tr><td>3</td></tr></tbody></table></div>"
      ],
      "text/plain": [
       "shape: (4,)\n",
       "Series: 'Type_of_Dwelling_Unit' [i32]\n",
       "[\n",
       "\tnull\n",
       "\t1\n",
       "\t2\n",
       "\t3\n",
       "]"
      ]
     },
     "metadata": {},
     "output_type": "display_data"
    },
    {
     "data": {
      "image/png": "[encoded data removed]",
      "text/plain": [
       "<Figure size 640x480 with 1 Axes>"
      ]
     },
     "metadata": {},
     "output_type": "display_data"
    },
    {
     "name": "stdout",
     "output_type": "stream",
     "text": [
      "Type_of_Dwelling_Unit contains : 3\n"
     ]
    },
    {
     "data": {
      "text/html": [
       "<div><style>\n",
       ".dataframe > thead > tr,\n",
       ".dataframe > tbody > tr {\n",
       "  text-align: right;\n",
       "  white-space: pre-wrap;\n",
       "}\n",
       "</style>\n",
       "<small>shape: (3,)</small><table border=\"1\" class=\"dataframe\"><thead><tr><th>Type_of_Dwelling_Unit</th></tr><tr><td>i32</td></tr></thead><tbody><tr><td>1</td></tr><tr><td>2</td></tr><tr><td>3</td></tr></tbody></table></div>"
      ],
      "text/plain": [
       "shape: (3,)\n",
       "Series: 'Type_of_Dwelling_Unit' [i32]\n",
       "[\n",
       "\t1\n",
       "\t2\n",
       "\t3\n",
       "]"
      ]
     },
     "metadata": {},
     "output_type": "display_data"
    }
   ],
   "source": [
    "check_unique('Type_of_Dwelling_Unit')\n",
    "\n",
    "plot_hist('Type_of_Dwelling_Unit')\n",
    "\n",
    "mp_data = mp_data.with_columns(\n",
    "    pl.col('Type_of_Dwelling_Unit').fill_null(value=3)\n",
    ")\n",
    "\n",
    "check_unique('Type_of_Dwelling_Unit')"
   ]
  },
  {
   "cell_type": "code",
   "execution_count": 63,
   "id": "bad75e5d",
   "metadata": {},
   "outputs": [
    {
     "data": {
      "text/html": [
       "<div><style>\n",
       ".dataframe > thead > tr,\n",
       ".dataframe > tbody > tr {\n",
       "  text-align: right;\n",
       "  white-space: pre-wrap;\n",
       "}\n",
       "</style>\n",
       "<small>shape: (4,)</small><table border=\"1\" class=\"dataframe\"><thead><tr><th>Type_of_Land_Owned</th></tr><tr><td>i32</td></tr></thead><tbody><tr><td>null</td></tr><tr><td>1</td></tr><tr><td>2</td></tr><tr><td>3</td></tr></tbody></table></div>"
      ],
      "text/plain": [
       "shape: (4,)\n",
       "Series: 'Type_of_Land_Owned' [i32]\n",
       "[\n",
       "\tnull\n",
       "\t1\n",
       "\t2\n",
       "\t3\n",
       "]"
      ]
     },
     "metadata": {},
     "output_type": "display_data"
    },
    {
     "data": {
      "text/html": [
       "<div><style>\n",
       ".dataframe > thead > tr,\n",
       ".dataframe > tbody > tr {\n",
       "  text-align: right;\n",
       "  white-space: pre-wrap;\n",
       "}\n",
       "</style>\n",
       "<small>shape: (3,)</small><table border=\"1\" class=\"dataframe\"><thead><tr><th>Type_of_Land_Owned</th></tr><tr><td>i32</td></tr></thead><tbody><tr><td>1</td></tr><tr><td>2</td></tr><tr><td>3</td></tr></tbody></table></div>"
      ],
      "text/plain": [
       "shape: (3,)\n",
       "Series: 'Type_of_Land_Owned' [i32]\n",
       "[\n",
       "\t1\n",
       "\t2\n",
       "\t3\n",
       "]"
      ]
     },
     "metadata": {},
     "output_type": "display_data"
    },
    {
     "data": {
      "image/png": "[encoded data removed]",
      "text/plain": [
       "<Figure size 640x480 with 1 Axes>"
      ]
     },
     "metadata": {},
     "output_type": "display_data"
    }
   ],
   "source": [
    "# Just to support the 3 😁\n",
    "\n",
    "display(mp_data['Type_of_Land_Owned'].unique())\n",
    "sns.histplot(mp_data['Type_of_Land_Owned'])\n",
    "\n",
    "mp_data = mp_data.with_columns(\n",
    "    pl.col('Type_of_Land_Owned').fill_null(value=3)\n",
    ")\n",
    "\n",
    "display(mp_data['Type_of_Land_Owned'].unique())"
   ]
  },
  {
   "cell_type": "code",
   "execution_count": 80,
   "id": "098af6d3",
   "metadata": {},
   "outputs": [
    {
     "data": {
      "text/plain": [
       "['FSU_Serial_No',\n",
       " 'HH_Size_FDQ',\n",
       " 'Household_Type',\n",
       " 'Religion_of_HH_Head',\n",
       " 'Land_Ownership',\n",
       " 'Type_of_Land_Owned',\n",
       " 'Total_Area_Land_Owned_Acres',\n",
       " 'Energy_Source_Cooking',\n",
       " 'Energy_Source_Lighting',\n",
       " 'Dwelling_Unit_Exists',\n",
       " 'Type_of_Dwelling_Unit',\n",
       " 'Rent_Rate_Available_Rural',\n",
       " 'Multiplier']"
      ]
     },
     "execution_count": 80,
     "metadata": {},
     "output_type": "execute_result"
    }
   ],
   "source": [
    "mp_data[lev_03_hh].columns"
   ]
  },
  {
   "cell_type": "code",
   "execution_count": null,
   "id": "78435ca9",
   "metadata": {},
   "outputs": [
    {
     "data": {
      "text/plain": [
       "' ========== FSU_Serial_No ========'"
      ]
     },
     "metadata": {},
     "output_type": "display_data"
    },
    {
     "name": "stdout",
     "output_type": "stream",
     "text": [
      "FSU_Serial_No contains : 791\n"
     ]
    },
    {
     "data": {
      "text/html": [
       "<div><style>\n",
       ".dataframe > thead > tr,\n",
       ".dataframe > tbody > tr {\n",
       "  text-align: right;\n",
       "  white-space: pre-wrap;\n",
       "}\n",
       "</style>\n",
       "<small>shape: (791,)</small><table border=\"1\" class=\"dataframe\"><thead><tr><th>FSU_Serial_No</th></tr><tr><td>i32</td></tr></thead><tbody><tr><td>25000</td></tr><tr><td>25001</td></tr><tr><td>25002</td></tr><tr><td>25003</td></tr><tr><td>25004</td></tr><tr><td>&hellip;</td></tr><tr><td>44195</td></tr><tr><td>44196</td></tr><tr><td>44197</td></tr><tr><td>44198</td></tr><tr><td>44199</td></tr></tbody></table></div>"
      ],
      "text/plain": [
       "shape: (791,)\n",
       "Series: 'FSU_Serial_No' [i32]\n",
       "[\n",
       "\t25000\n",
       "\t25001\n",
       "\t25002\n",
       "\t25003\n",
       "\t25004\n",
       "\t…\n",
       "\t44195\n",
       "\t44196\n",
       "\t44197\n",
       "\t44198\n",
       "\t44199\n",
       "]"
      ]
     },
     "metadata": {},
     "output_type": "display_data"
    },
    {
     "data": {
      "text/plain": [
       "None"
      ]
     },
     "metadata": {},
     "output_type": "display_data"
    },
    {
     "data": {
      "text/plain": [
       "'\\n\\n\\n -------------------------------------------------'"
      ]
     },
     "metadata": {},
     "output_type": "display_data"
    },
    {
     "data": {
      "text/plain": [
       "' ========== HH_Size_FDQ ========'"
      ]
     },
     "metadata": {},
     "output_type": "display_data"
    },
    {
     "name": "stdout",
     "output_type": "stream",
     "text": [
      "HH_Size_FDQ contains : 20\n"
     ]
    },
    {
     "data": {
      "text/html": [
       "<div><style>\n",
       ".dataframe > thead > tr,\n",
       ".dataframe > tbody > tr {\n",
       "  text-align: right;\n",
       "  white-space: pre-wrap;\n",
       "}\n",
       "</style>\n",
       "<small>shape: (20,)</small><table border=\"1\" class=\"dataframe\"><thead><tr><th>HH_Size_FDQ</th></tr><tr><td>i32</td></tr></thead><tbody><tr><td>1</td></tr><tr><td>2</td></tr><tr><td>3</td></tr><tr><td>4</td></tr><tr><td>5</td></tr><tr><td>&hellip;</td></tr><tr><td>16</td></tr><tr><td>17</td></tr><tr><td>18</td></tr><tr><td>25</td></tr><tr><td>31</td></tr></tbody></table></div>"
      ],
      "text/plain": [
       "shape: (20,)\n",
       "Series: 'HH_Size_FDQ' [i32]\n",
       "[\n",
       "\t1\n",
       "\t2\n",
       "\t3\n",
       "\t4\n",
       "\t5\n",
       "\t…\n",
       "\t16\n",
       "\t17\n",
       "\t18\n",
       "\t25\n",
       "\t31\n",
       "]"
      ]
     },
     "metadata": {},
     "output_type": "display_data"
    },
    {
     "data": {
      "text/plain": [
       "None"
      ]
     },
     "metadata": {},
     "output_type": "display_data"
    },
    {
     "data": {
      "text/plain": [
       "'\\n\\n\\n -------------------------------------------------'"
      ]
     },
     "metadata": {},
     "output_type": "display_data"
    },
    {
     "data": {
      "text/plain": [
       "' ========== Household_Type ========'"
      ]
     },
     "metadata": {},
     "output_type": "display_data"
    },
    {
     "name": "stdout",
     "output_type": "stream",
     "text": [
      "Household_Type contains : 7\n"
     ]
    },
    {
     "data": {
      "text/html": [
       "<div><style>\n",
       ".dataframe > thead > tr,\n",
       ".dataframe > tbody > tr {\n",
       "  text-align: right;\n",
       "  white-space: pre-wrap;\n",
       "}\n",
       "</style>\n",
       "<small>shape: (7,)</small><table border=\"1\" class=\"dataframe\"><thead><tr><th>Household_Type</th></tr><tr><td>i32</td></tr></thead><tbody><tr><td>1</td></tr><tr><td>2</td></tr><tr><td>3</td></tr><tr><td>4</td></tr><tr><td>5</td></tr><tr><td>6</td></tr><tr><td>9</td></tr></tbody></table></div>"
      ],
      "text/plain": [
       "shape: (7,)\n",
       "Series: 'Household_Type' [i32]\n",
       "[\n",
       "\t1\n",
       "\t2\n",
       "\t3\n",
       "\t4\n",
       "\t5\n",
       "\t6\n",
       "\t9\n",
       "]"
      ]
     },
     "metadata": {},
     "output_type": "display_data"
    },
    {
     "data": {
      "text/plain": [
       "None"
      ]
     },
     "metadata": {},
     "output_type": "display_data"
    },
    {
     "data": {
      "text/plain": [
       "'\\n\\n\\n -------------------------------------------------'"
      ]
     },
     "metadata": {},
     "output_type": "display_data"
    },
    {
     "data": {
      "text/plain": [
       "' ========== Religion_of_HH_Head ========'"
      ]
     },
     "metadata": {},
     "output_type": "display_data"
    },
    {
     "name": "stdout",
     "output_type": "stream",
     "text": [
      "Religion_of_HH_Head contains : 7\n"
     ]
    },
    {
     "data": {
      "text/html": [
       "<div><style>\n",
       ".dataframe > thead > tr,\n",
       ".dataframe > tbody > tr {\n",
       "  text-align: right;\n",
       "  white-space: pre-wrap;\n",
       "}\n",
       "</style>\n",
       "<small>shape: (7,)</small><table border=\"1\" class=\"dataframe\"><thead><tr><th>Religion_of_HH_Head</th></tr><tr><td>i32</td></tr></thead><tbody><tr><td>1</td></tr><tr><td>2</td></tr><tr><td>3</td></tr><tr><td>4</td></tr><tr><td>5</td></tr><tr><td>7</td></tr><tr><td>9</td></tr></tbody></table></div>"
      ],
      "text/plain": [
       "shape: (7,)\n",
       "Series: 'Religion_of_HH_Head' [i32]\n",
       "[\n",
       "\t1\n",
       "\t2\n",
       "\t3\n",
       "\t4\n",
       "\t5\n",
       "\t7\n",
       "\t9\n",
       "]"
      ]
     },
     "metadata": {},
     "output_type": "display_data"
    },
    {
     "data": {
      "text/plain": [
       "None"
      ]
     },
     "metadata": {},
     "output_type": "display_data"
    },
    {
     "data": {
      "text/plain": [
       "'\\n\\n\\n -------------------------------------------------'"
      ]
     },
     "metadata": {},
     "output_type": "display_data"
    },
    {
     "data": {
      "text/plain": [
       "' ========== Land_Ownership ========'"
      ]
     },
     "metadata": {},
     "output_type": "display_data"
    },
    {
     "name": "stdout",
     "output_type": "stream",
     "text": [
      "Land_Ownership contains : 2\n"
     ]
    },
    {
     "data": {
      "text/html": [
       "<div><style>\n",
       ".dataframe > thead > tr,\n",
       ".dataframe > tbody > tr {\n",
       "  text-align: right;\n",
       "  white-space: pre-wrap;\n",
       "}\n",
       "</style>\n",
       "<small>shape: (2,)</small><table border=\"1\" class=\"dataframe\"><thead><tr><th>Land_Ownership</th></tr><tr><td>i32</td></tr></thead><tbody><tr><td>1</td></tr><tr><td>2</td></tr></tbody></table></div>"
      ],
      "text/plain": [
       "shape: (2,)\n",
       "Series: 'Land_Ownership' [i32]\n",
       "[\n",
       "\t1\n",
       "\t2\n",
       "]"
      ]
     },
     "metadata": {},
     "output_type": "display_data"
    },
    {
     "data": {
      "text/plain": [
       "None"
      ]
     },
     "metadata": {},
     "output_type": "display_data"
    },
    {
     "data": {
      "text/plain": [
       "'\\n\\n\\n -------------------------------------------------'"
      ]
     },
     "metadata": {},
     "output_type": "display_data"
    },
    {
     "data": {
      "text/plain": [
       "' ========== Type_of_Land_Owned ========'"
      ]
     },
     "metadata": {},
     "output_type": "display_data"
    },
    {
     "name": "stdout",
     "output_type": "stream",
     "text": [
      "Type_of_Land_Owned contains : 3\n"
     ]
    },
    {
     "data": {
      "text/html": [
       "<div><style>\n",
       ".dataframe > thead > tr,\n",
       ".dataframe > tbody > tr {\n",
       "  text-align: right;\n",
       "  white-space: pre-wrap;\n",
       "}\n",
       "</style>\n",
       "<small>shape: (3,)</small><table border=\"1\" class=\"dataframe\"><thead><tr><th>Type_of_Land_Owned</th></tr><tr><td>i32</td></tr></thead><tbody><tr><td>1</td></tr><tr><td>2</td></tr><tr><td>3</td></tr></tbody></table></div>"
      ],
      "text/plain": [
       "shape: (3,)\n",
       "Series: 'Type_of_Land_Owned' [i32]\n",
       "[\n",
       "\t1\n",
       "\t2\n",
       "\t3\n",
       "]"
      ]
     },
     "metadata": {},
     "output_type": "display_data"
    },
    {
     "data": {
      "text/plain": [
       "None"
      ]
     },
     "metadata": {},
     "output_type": "display_data"
    },
    {
     "data": {
      "text/plain": [
       "'\\n\\n\\n -------------------------------------------------'"
      ]
     },
     "metadata": {},
     "output_type": "display_data"
    },
    {
     "data": {
      "text/plain": [
       "' ========== Total_Area_Land_Owned_Acres ========'"
      ]
     },
     "metadata": {},
     "output_type": "display_data"
    },
    {
     "name": "stdout",
     "output_type": "stream",
     "text": [
      "Total_Area_Land_Owned_Acres contains : 1\n"
     ]
    },
    {
     "data": {
      "text/html": [
       "<div><style>\n",
       ".dataframe > thead > tr,\n",
       ".dataframe > tbody > tr {\n",
       "  text-align: right;\n",
       "  white-space: pre-wrap;\n",
       "}\n",
       "</style>\n",
       "<small>shape: (1,)</small><table border=\"1\" class=\"dataframe\"><thead><tr><th>Total_Area_Land_Owned_Acres</th></tr><tr><td>i32</td></tr></thead><tbody><tr><td>null</td></tr></tbody></table></div>"
      ],
      "text/plain": [
       "shape: (1,)\n",
       "Series: 'Total_Area_Land_Owned_Acres' [i32]\n",
       "[\n",
       "\tnull\n",
       "]"
      ]
     },
     "metadata": {},
     "output_type": "display_data"
    },
    {
     "data": {
      "text/plain": [
       "None"
      ]
     },
     "metadata": {},
     "output_type": "display_data"
    },
    {
     "data": {
      "text/plain": [
       "'\\n\\n\\n -------------------------------------------------'"
      ]
     },
     "metadata": {},
     "output_type": "display_data"
    },
    {
     "data": {
      "text/plain": [
       "' ========== Energy_Source_Cooking ========'"
      ]
     },
     "metadata": {},
     "output_type": "display_data"
    },
    {
     "name": "stdout",
     "output_type": "stream",
     "text": [
      "Energy_Source_Cooking contains : 9\n"
     ]
    },
    {
     "data": {
      "text/html": [
       "<div><style>\n",
       ".dataframe > thead > tr,\n",
       ".dataframe > tbody > tr {\n",
       "  text-align: right;\n",
       "  white-space: pre-wrap;\n",
       "}\n",
       "</style>\n",
       "<small>shape: (9,)</small><table border=\"1\" class=\"dataframe\"><thead><tr><th>Energy_Source_Cooking</th></tr><tr><td>i32</td></tr></thead><tbody><tr><td>1</td></tr><tr><td>2</td></tr><tr><td>3</td></tr><tr><td>4</td></tr><tr><td>6</td></tr><tr><td>7</td></tr><tr><td>9</td></tr><tr><td>11</td></tr><tr><td>12</td></tr></tbody></table></div>"
      ],
      "text/plain": [
       "shape: (9,)\n",
       "Series: 'Energy_Source_Cooking' [i32]\n",
       "[\n",
       "\t1\n",
       "\t2\n",
       "\t3\n",
       "\t4\n",
       "\t6\n",
       "\t7\n",
       "\t9\n",
       "\t11\n",
       "\t12\n",
       "]"
      ]
     },
     "metadata": {},
     "output_type": "display_data"
    },
    {
     "data": {
      "text/plain": [
       "None"
      ]
     },
     "metadata": {},
     "output_type": "display_data"
    },
    {
     "data": {
      "text/plain": [
       "'\\n\\n\\n -------------------------------------------------'"
      ]
     },
     "metadata": {},
     "output_type": "display_data"
    },
    {
     "data": {
      "text/plain": [
       "' ========== Energy_Source_Lighting ========'"
      ]
     },
     "metadata": {},
     "output_type": "display_data"
    },
    {
     "name": "stdout",
     "output_type": "stream",
     "text": [
      "Energy_Source_Lighting contains : 5\n"
     ]
    },
    {
     "data": {
      "text/html": [
       "<div><style>\n",
       ".dataframe > thead > tr,\n",
       ".dataframe > tbody > tr {\n",
       "  text-align: right;\n",
       "  white-space: pre-wrap;\n",
       "}\n",
       "</style>\n",
       "<small>shape: (5,)</small><table border=\"1\" class=\"dataframe\"><thead><tr><th>Energy_Source_Lighting</th></tr><tr><td>i32</td></tr></thead><tbody><tr><td>1</td></tr><tr><td>2</td></tr><tr><td>5</td></tr><tr><td>6</td></tr><tr><td>9</td></tr></tbody></table></div>"
      ],
      "text/plain": [
       "shape: (5,)\n",
       "Series: 'Energy_Source_Lighting' [i32]\n",
       "[\n",
       "\t1\n",
       "\t2\n",
       "\t5\n",
       "\t6\n",
       "\t9\n",
       "]"
      ]
     },
     "metadata": {},
     "output_type": "display_data"
    },
    {
     "data": {
      "text/plain": [
       "None"
      ]
     },
     "metadata": {},
     "output_type": "display_data"
    },
    {
     "data": {
      "text/plain": [
       "'\\n\\n\\n -------------------------------------------------'"
      ]
     },
     "metadata": {},
     "output_type": "display_data"
    },
    {
     "data": {
      "text/plain": [
       "' ========== Dwelling_Unit_Exists ========'"
      ]
     },
     "metadata": {},
     "output_type": "display_data"
    },
    {
     "name": "stdout",
     "output_type": "stream",
     "text": [
      "Dwelling_Unit_Exists contains : 2\n"
     ]
    },
    {
     "data": {
      "text/html": [
       "<div><style>\n",
       ".dataframe > thead > tr,\n",
       ".dataframe > tbody > tr {\n",
       "  text-align: right;\n",
       "  white-space: pre-wrap;\n",
       "}\n",
       "</style>\n",
       "<small>shape: (2,)</small><table border=\"1\" class=\"dataframe\"><thead><tr><th>Dwelling_Unit_Exists</th></tr><tr><td>i32</td></tr></thead><tbody><tr><td>1</td></tr><tr><td>2</td></tr></tbody></table></div>"
      ],
      "text/plain": [
       "shape: (2,)\n",
       "Series: 'Dwelling_Unit_Exists' [i32]\n",
       "[\n",
       "\t1\n",
       "\t2\n",
       "]"
      ]
     },
     "metadata": {},
     "output_type": "display_data"
    },
    {
     "data": {
      "text/plain": [
       "None"
      ]
     },
     "metadata": {},
     "output_type": "display_data"
    },
    {
     "data": {
      "text/plain": [
       "'\\n\\n\\n -------------------------------------------------'"
      ]
     },
     "metadata": {},
     "output_type": "display_data"
    },
    {
     "data": {
      "text/plain": [
       "' ========== Type_of_Dwelling_Unit ========'"
      ]
     },
     "metadata": {},
     "output_type": "display_data"
    },
    {
     "name": "stdout",
     "output_type": "stream",
     "text": [
      "Type_of_Dwelling_Unit contains : 3\n"
     ]
    },
    {
     "data": {
      "text/html": [
       "<div><style>\n",
       ".dataframe > thead > tr,\n",
       ".dataframe > tbody > tr {\n",
       "  text-align: right;\n",
       "  white-space: pre-wrap;\n",
       "}\n",
       "</style>\n",
       "<small>shape: (3,)</small><table border=\"1\" class=\"dataframe\"><thead><tr><th>Type_of_Dwelling_Unit</th></tr><tr><td>i32</td></tr></thead><tbody><tr><td>1</td></tr><tr><td>2</td></tr><tr><td>3</td></tr></tbody></table></div>"
      ],
      "text/plain": [
       "shape: (3,)\n",
       "Series: 'Type_of_Dwelling_Unit' [i32]\n",
       "[\n",
       "\t1\n",
       "\t2\n",
       "\t3\n",
       "]"
      ]
     },
     "metadata": {},
     "output_type": "display_data"
    },
    {
     "data": {
      "text/plain": [
       "None"
      ]
     },
     "metadata": {},
     "output_type": "display_data"
    },
    {
     "data": {
      "text/plain": [
       "'\\n\\n\\n -------------------------------------------------'"
      ]
     },
     "metadata": {},
     "output_type": "display_data"
    },
    {
     "data": {
      "text/plain": [
       "' ========== Rent_Rate_Available_Rural ========'"
      ]
     },
     "metadata": {},
     "output_type": "display_data"
    },
    {
     "name": "stdout",
     "output_type": "stream",
     "text": [
      "Rent_Rate_Available_Rural contains : 3\n"
     ]
    },
    {
     "data": {
      "text/html": [
       "<div><style>\n",
       ".dataframe > thead > tr,\n",
       ".dataframe > tbody > tr {\n",
       "  text-align: right;\n",
       "  white-space: pre-wrap;\n",
       "}\n",
       "</style>\n",
       "<small>shape: (3,)</small><table border=\"1\" class=\"dataframe\"><thead><tr><th>Rent_Rate_Available_Rural</th></tr><tr><td>i32</td></tr></thead><tbody><tr><td>1</td></tr><tr><td>2</td></tr><tr><td>3</td></tr></tbody></table></div>"
      ],
      "text/plain": [
       "shape: (3,)\n",
       "Series: 'Rent_Rate_Available_Rural' [i32]\n",
       "[\n",
       "\t1\n",
       "\t2\n",
       "\t3\n",
       "]"
      ]
     },
     "metadata": {},
     "output_type": "display_data"
    },
    {
     "data": {
      "text/plain": [
       "None"
      ]
     },
     "metadata": {},
     "output_type": "display_data"
    },
    {
     "data": {
      "text/plain": [
       "'\\n\\n\\n -------------------------------------------------'"
      ]
     },
     "metadata": {},
     "output_type": "display_data"
    },
    {
     "data": {
      "text/plain": [
       "' ========== Multiplier ========'"
      ]
     },
     "metadata": {},
     "output_type": "display_data"
    },
    {
     "name": "stdout",
     "output_type": "stream",
     "text": [
      "Multiplier contains : 1421\n"
     ]
    },
    {
     "data": {
      "text/html": [
       "<div><style>\n",
       ".dataframe > thead > tr,\n",
       ".dataframe > tbody > tr {\n",
       "  text-align: right;\n",
       "  white-space: pre-wrap;\n",
       "}\n",
       "</style>\n",
       "<small>shape: (1_421,)</small><table border=\"1\" class=\"dataframe\"><thead><tr><th>Multiplier</th></tr><tr><td>i32</td></tr></thead><tbody><tr><td>1913</td></tr><tr><td>1983</td></tr><tr><td>2250</td></tr><tr><td>2400</td></tr><tr><td>3000</td></tr><tr><td>&hellip;</td></tr><tr><td>613888</td></tr><tr><td>653383</td></tr><tr><td>828400</td></tr><tr><td>884938</td></tr><tr><td>888474</td></tr></tbody></table></div>"
      ],
      "text/plain": [
       "shape: (1_421,)\n",
       "Series: 'Multiplier' [i32]\n",
       "[\n",
       "\t1913\n",
       "\t1983\n",
       "\t2250\n",
       "\t2400\n",
       "\t3000\n",
       "\t…\n",
       "\t613888\n",
       "\t653383\n",
       "\t828400\n",
       "\t884938\n",
       "\t888474\n",
       "]"
      ]
     },
     "metadata": {},
     "output_type": "display_data"
    },
    {
     "data": {
      "text/plain": [
       "None"
      ]
     },
     "metadata": {},
     "output_type": "display_data"
    },
    {
     "data": {
      "text/plain": [
       "'\\n\\n\\n -------------------------------------------------'"
      ]
     },
     "metadata": {},
     "output_type": "display_data"
    }
   ],
   "source": [
    "for col in mp_data[lev_03_hh].columns:\n",
    "    display(f\" ========== {col} ========\")\n",
    "    display(check_unique(col))\n",
    "    display(\"-------------------------------------------------\")"
   ]
  },
  {
   "cell_type": "markdown",
   "id": "4712af05",
   "metadata": {},
   "source": [
    "## Finance"
   ]
  },
  {
   "cell_type": "code",
   "execution_count": null,
   "id": "91daf1e3",
   "metadata": {},
   "outputs": [],
   "source": []
  },
  {
   "cell_type": "markdown",
   "id": "260db407",
   "metadata": {},
   "source": [
    "## Occupation & Schemes"
   ]
  },
  {
   "cell_type": "code",
   "execution_count": null,
   "id": "923bebef",
   "metadata": {},
   "outputs": [],
   "source": []
  },
  {
   "cell_type": "code",
   "execution_count": null,
   "id": "8aa1a26a",
   "metadata": {},
   "outputs": [],
   "source": []
  },
  {
   "cell_type": "code",
   "execution_count": null,
   "id": "d86b4f51",
   "metadata": {},
   "outputs": [],
   "source": []
  }
 ],
 "metadata": {
  "kernelspec": {
   "display_name": "Python 3",
   "language": "python",
   "name": "python3"
  },
  "language_info": {
   "codemirror_mode": {
    "name": "ipython",
    "version": 3
   },
   "file_extension": ".py",
   "mimetype": "text/x-python",
   "name": "python",
   "nbconvert_exporter": "python",
   "pygments_lexer": "ipython3",
   "version": "3.11.9"
  }
 },
 "nbformat": 4,
 "nbformat_minor": 5
}
