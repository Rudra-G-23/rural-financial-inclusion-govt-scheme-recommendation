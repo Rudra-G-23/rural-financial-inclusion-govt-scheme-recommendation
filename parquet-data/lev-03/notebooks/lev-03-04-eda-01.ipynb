{
 "cells": [
  {
   "cell_type": "code",
   "execution_count": null,
   "id": "2a8640cc",
   "metadata": {},
   "outputs": [],
   "source": [
    "\"\"\" \n",
    "Gaol: EDA of level 03\n",
    "Author: Rudra Prasad Bhuyan\n",
    "\"\"\""
   ]
  },
  {
   "cell_type": "code",
   "execution_count": 2,
   "id": "f2dc45a4",
   "metadata": {},
   "outputs": [],
   "source": [
    "import polars as pl\n",
    "import pandas as pd\n",
    "import matplotlib.pyplot as plt\n",
    "import seaborn as sns\n",
    "import plotly.express as px\n",
    "\n",
    "import warnings\n",
    "warnings.filterwarnings('ignore')"
   ]
  },
  {
   "cell_type": "code",
   "execution_count": 33,
   "id": "8fcaa256",
   "metadata": {},
   "outputs": [],
   "source": [
    "colors = ['#cb17eb','#A4EB17', '#17EBC8', '#EB173A', '#ffde59']  \n",
    "plt.rcParams['axes.prop_cycle'] = plt.cycler(color=colors)\n",
    "\n",
    "palette = ['#cb17eb','#A4EB17', '#17EBC8', '#EB173A', '#ffde59', '#ccff33', '#ff36ab', '#e0fbfc', '#3772ff', '#45062e']  \n",
    "sns.set_palette(palette)\n"
   ]
  },
  {
   "cell_type": "code",
   "execution_count": 7,
   "id": "f3a6094f",
   "metadata": {},
   "outputs": [
    {
     "data": {
      "text/plain": [
       "Schema([('FSU_Serial_No', Int32),\n",
       "        ('HH_Size_FDQ', Int32),\n",
       "        ('Household_Type', Int32),\n",
       "        ('Religion_of_HH_Head', Int32),\n",
       "        ('Land_Ownership', Int32),\n",
       "        ('Type_of_Land_Owned', Int32),\n",
       "        ('Total_Area_Land_Owned_Acres', Int32),\n",
       "        ('Energy_Source_Cooking', Int32),\n",
       "        ('Energy_Source_Lighting', Int32),\n",
       "        ('Dwelling_Unit_Exists', Int32),\n",
       "        ('Type_of_Dwelling_Unit', Int32),\n",
       "        ('Rent_Rate_Available_Rural', String),\n",
       "        ('Multiplier', Int32),\n",
       "        ('Self_Employment_Source_Sector', Int32),\n",
       "        ('Regular_Wage_Source_Sector', Int32),\n",
       "        ('Casual_Labour_Source_Sector', Int32),\n",
       "        ('Engaged_in_Economic_Activity_Las', Int32),\n",
       "        ('Max_Income_Activity', Int32),\n",
       "        ('Benefitted_From_PMGKY', Int32)])"
      ]
     },
     "execution_count": 7,
     "metadata": {},
     "output_type": "execute_result"
    }
   ],
   "source": [
    "path = r\"C:\\Users\\Rudra\\Desktop\\rural-financial-inclusion-govt-scheme-recommendation\\parquet-data\\lev-03\\data2\\lev_03_mp_clean.parquet\"\n",
    "\n",
    "pdf = pl.read_parquet(path)\n",
    "pdf.collect_schema()"
   ]
  },
  {
   "cell_type": "markdown",
   "id": "f0f65f6f",
   "metadata": {},
   "source": [
    "# 1. Basic Descriptive Questions"
   ]
  },
  {
   "cell_type": "markdown",
   "id": "16fb7b87",
   "metadata": {},
   "source": [
    "## What is the **average household size (`HH_Size_FDQ`)**?"
   ]
  },
  {
   "cell_type": "code",
   "execution_count": 8,
   "id": "252bc30b",
   "metadata": {},
   "outputs": [
    {
     "data": {
      "text/html": [
       "<div><style>\n",
       ".dataframe > thead > tr,\n",
       ".dataframe > tbody > tr {\n",
       "  text-align: right;\n",
       "  white-space: pre-wrap;\n",
       "}\n",
       "</style>\n",
       "<small>shape: (9, 2)</small><table border=\"1\" class=\"dataframe\"><thead><tr><th>statistic</th><th>value</th></tr><tr><td>str</td><td>f64</td></tr></thead><tbody><tr><td>&quot;count&quot;</td><td>56420.0</td></tr><tr><td>&quot;null_count&quot;</td><td>0.0</td></tr><tr><td>&quot;mean&quot;</td><td>4.598653</td></tr><tr><td>&quot;std&quot;</td><td>2.152007</td></tr><tr><td>&quot;min&quot;</td><td>1.0</td></tr><tr><td>&quot;25%&quot;</td><td>3.0</td></tr><tr><td>&quot;50%&quot;</td><td>4.0</td></tr><tr><td>&quot;75%&quot;</td><td>6.0</td></tr><tr><td>&quot;max&quot;</td><td>31.0</td></tr></tbody></table></div>"
      ],
      "text/plain": [
       "shape: (9, 2)\n",
       "┌────────────┬──────────┐\n",
       "│ statistic  ┆ value    │\n",
       "│ ---        ┆ ---      │\n",
       "│ str        ┆ f64      │\n",
       "╞════════════╪══════════╡\n",
       "│ count      ┆ 56420.0  │\n",
       "│ null_count ┆ 0.0      │\n",
       "│ mean       ┆ 4.598653 │\n",
       "│ std        ┆ 2.152007 │\n",
       "│ min        ┆ 1.0      │\n",
       "│ 25%        ┆ 3.0      │\n",
       "│ 50%        ┆ 4.0      │\n",
       "│ 75%        ┆ 6.0      │\n",
       "│ max        ┆ 31.0     │\n",
       "└────────────┴──────────┘"
      ]
     },
     "execution_count": 8,
     "metadata": {},
     "output_type": "execute_result"
    }
   ],
   "source": [
    "pdf['HH_Size_FDQ'].describe()"
   ]
  },
  {
   "cell_type": "code",
   "execution_count": 21,
   "id": "65833e04",
   "metadata": {},
   "outputs": [
    {
     "data": {
      "text/html": [
       "<div>\n",
       "<style scoped>\n",
       "    .dataframe tbody tr th:only-of-type {\n",
       "        vertical-align: middle;\n",
       "    }\n",
       "\n",
       "    .dataframe tbody tr th {\n",
       "        vertical-align: top;\n",
       "    }\n",
       "\n",
       "    .dataframe thead th {\n",
       "        text-align: right;\n",
       "    }\n",
       "</style>\n",
       "<table border=\"1\" class=\"dataframe\">\n",
       "  <thead>\n",
       "    <tr style=\"text-align: right;\">\n",
       "      <th></th>\n",
       "      <th>HH_Size_FDQ</th>\n",
       "      <th>count</th>\n",
       "    </tr>\n",
       "  </thead>\n",
       "  <tbody>\n",
       "    <tr>\n",
       "      <th>0</th>\n",
       "      <td>7</td>\n",
       "      <td>3568</td>\n",
       "    </tr>\n",
       "    <tr>\n",
       "      <th>1</th>\n",
       "      <td>15</td>\n",
       "      <td>32</td>\n",
       "    </tr>\n",
       "    <tr>\n",
       "      <th>2</th>\n",
       "      <td>4</td>\n",
       "      <td>13968</td>\n",
       "    </tr>\n",
       "    <tr>\n",
       "      <th>3</th>\n",
       "      <td>1</td>\n",
       "      <td>2692</td>\n",
       "    </tr>\n",
       "    <tr>\n",
       "      <th>4</th>\n",
       "      <td>31</td>\n",
       "      <td>4</td>\n",
       "    </tr>\n",
       "    <tr>\n",
       "      <th>5</th>\n",
       "      <td>2</td>\n",
       "      <td>6080</td>\n",
       "    </tr>\n",
       "    <tr>\n",
       "      <th>6</th>\n",
       "      <td>14</td>\n",
       "      <td>84</td>\n",
       "    </tr>\n",
       "    <tr>\n",
       "      <th>7</th>\n",
       "      <td>18</td>\n",
       "      <td>4</td>\n",
       "    </tr>\n",
       "    <tr>\n",
       "      <th>8</th>\n",
       "      <td>3</td>\n",
       "      <td>7488</td>\n",
       "    </tr>\n",
       "    <tr>\n",
       "      <th>9</th>\n",
       "      <td>10</td>\n",
       "      <td>792</td>\n",
       "    </tr>\n",
       "    <tr>\n",
       "      <th>10</th>\n",
       "      <td>5</td>\n",
       "      <td>10524</td>\n",
       "    </tr>\n",
       "    <tr>\n",
       "      <th>11</th>\n",
       "      <td>11</td>\n",
       "      <td>384</td>\n",
       "    </tr>\n",
       "    <tr>\n",
       "      <th>12</th>\n",
       "      <td>6</td>\n",
       "      <td>7356</td>\n",
       "    </tr>\n",
       "    <tr>\n",
       "      <th>13</th>\n",
       "      <td>13</td>\n",
       "      <td>112</td>\n",
       "    </tr>\n",
       "    <tr>\n",
       "      <th>14</th>\n",
       "      <td>16</td>\n",
       "      <td>28</td>\n",
       "    </tr>\n",
       "    <tr>\n",
       "      <th>15</th>\n",
       "      <td>17</td>\n",
       "      <td>8</td>\n",
       "    </tr>\n",
       "    <tr>\n",
       "      <th>16</th>\n",
       "      <td>12</td>\n",
       "      <td>220</td>\n",
       "    </tr>\n",
       "    <tr>\n",
       "      <th>17</th>\n",
       "      <td>25</td>\n",
       "      <td>4</td>\n",
       "    </tr>\n",
       "    <tr>\n",
       "      <th>18</th>\n",
       "      <td>9</td>\n",
       "      <td>1184</td>\n",
       "    </tr>\n",
       "    <tr>\n",
       "      <th>19</th>\n",
       "      <td>8</td>\n",
       "      <td>1888</td>\n",
       "    </tr>\n",
       "  </tbody>\n",
       "</table>\n",
       "</div>"
      ],
      "text/plain": [
       "    HH_Size_FDQ  count\n",
       "0             7   3568\n",
       "1            15     32\n",
       "2             4  13968\n",
       "3             1   2692\n",
       "4            31      4\n",
       "5             2   6080\n",
       "6            14     84\n",
       "7            18      4\n",
       "8             3   7488\n",
       "9            10    792\n",
       "10            5  10524\n",
       "11           11    384\n",
       "12            6   7356\n",
       "13           13    112\n",
       "14           16     28\n",
       "15           17      8\n",
       "16           12    220\n",
       "17           25      4\n",
       "18            9   1184\n",
       "19            8   1888"
      ]
     },
     "execution_count": 21,
     "metadata": {},
     "output_type": "execute_result"
    }
   ],
   "source": [
    "hh_size_count = pdf['HH_Size_FDQ'].value_counts().to_pandas()\n",
    "hh_size_count"
   ]
  },
  {
   "cell_type": "code",
   "execution_count": 23,
   "id": "f4f76816",
   "metadata": {},
   "outputs": [
    {
     "data": {
      "image/png": "[encoded data removed]",
      "text/plain": [
       "<Figure size 640x480 with 1 Axes>"
      ]
     },
     "metadata": {},
     "output_type": "display_data"
    }
   ],
   "source": [
    "sns.barplot(hh_size_count, \n",
    "            x=hh_size_count['HH_Size_FDQ'], \n",
    "            y=hh_size_count['count']\n",
    ")\n",
    "\n",
    "plt.title('House Hold Size Count')\n",
    "plt.show()"
   ]
  },
  {
   "cell_type": "markdown",
   "id": "d0007cb9",
   "metadata": {},
   "source": [
    "## How are households distributed by **type (`Household_Type`)**?"
   ]
  },
  {
   "cell_type": "code",
   "execution_count": null,
   "id": "2d846048",
   "metadata": {},
   "outputs": [
    {
     "data": {
      "text/html": [
       "<div><style>\n",
       ".dataframe > thead > tr,\n",
       ".dataframe > tbody > tr {\n",
       "  text-align: right;\n",
       "  white-space: pre-wrap;\n",
       "}\n",
       "</style>\n",
       "<small>shape: (7, 2)</small><table border=\"1\" class=\"dataframe\"><thead><tr><th>Household_Type</th><th>count</th></tr><tr><td>i32</td><td>u32</td></tr></thead><tbody><tr><td>6</td><td>5084</td></tr><tr><td>1</td><td>25728</td></tr><tr><td>4</td><td>1808</td></tr><tr><td>5</td><td>6728</td></tr><tr><td>2</td><td>10268</td></tr><tr><td>3</td><td>3556</td></tr><tr><td>9</td><td>3248</td></tr></tbody></table></div>"
      ],
      "text/plain": [
       "shape: (7, 2)\n",
       "┌────────────────┬───────┐\n",
       "│ Household_Type ┆ count │\n",
       "│ ---            ┆ ---   │\n",
       "│ i32            ┆ u32   │\n",
       "╞════════════════╪═══════╡\n",
       "│ 6              ┆ 5084  │\n",
       "│ 1              ┆ 25728 │\n",
       "│ 4              ┆ 1808  │\n",
       "│ 5              ┆ 6728  │\n",
       "│ 2              ┆ 10268 │\n",
       "│ 3              ┆ 3556  │\n",
       "│ 9              ┆ 3248  │\n",
       "└────────────────┴───────┘"
      ]
     },
     "execution_count": 25,
     "metadata": {},
     "output_type": "execute_result"
    }
   ],
   "source": [
    "pdf['Household_Type'].value_counts()"
   ]
  },
  {
   "cell_type": "code",
   "execution_count": 35,
   "id": "128c9852",
   "metadata": {},
   "outputs": [
    {
     "data": {
      "image/png": "[encoded data removed]",
      "text/plain": [
       "<Figure size 640x480 with 1 Axes>"
      ]
     },
     "metadata": {},
     "output_type": "display_data"
    }
   ],
   "source": [
    "hh_type_count_df = pdf['Household_Type'].value_counts(normalize=True).to_pandas()\n",
    "plt.pie(hh_type_count_df['Household_Type'], \n",
    "        labels=hh_type_count_df['Household_Type'],\n",
    "    autopct='%1.2f%%',                            \n",
    "    startangle=10\n",
    ")\n",
    "plt.title(\"Distribution of Marital Status\")\n",
    "plt.show()"
   ]
  },
  {
   "cell_type": "code",
   "execution_count": null,
   "id": "26bef660",
   "metadata": {},
   "outputs": [],
   "source": []
  }
 ],
 "metadata": {
  "kernelspec": {
   "display_name": "Python 3",
   "language": "python",
   "name": "python3"
  },
  "language_info": {
   "codemirror_mode": {
    "name": "ipython",
    "version": 3
   },
   "file_extension": ".py",
   "mimetype": "text/x-python",
   "name": "python",
   "nbconvert_exporter": "python",
   "pygments_lexer": "ipython3",
   "version": "3.11.9"
  }
 },
 "nbformat": 4,
 "nbformat_minor": 5
}
