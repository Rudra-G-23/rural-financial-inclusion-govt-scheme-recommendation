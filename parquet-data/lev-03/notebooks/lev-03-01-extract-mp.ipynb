{
 "cells": [
  {
   "cell_type": "markdown",
   "id": "50ff01d7",
   "metadata": {},
   "source": [
    "# Goal: Extract MP state data from this table"
   ]
  },
  {
   "cell_type": "code",
   "execution_count": 18,
   "id": "69513632",
   "metadata": {},
   "outputs": [
    {
     "data": {
      "text/plain": [
       "' \\nGoal: Extract MP state data from this table\\nAuthor: Rudra Prasad Bhuyan\\n'"
      ]
     },
     "execution_count": 18,
     "metadata": {},
     "output_type": "execute_result"
    }
   ],
   "source": [
    "\"\"\" \n",
    "Goal: Extract MP state data from this table\n",
    "Author: Rudra Prasad Bhuyan\n",
    "\"\"\""
   ]
  },
  {
   "cell_type": "code",
   "execution_count": 19,
   "id": "b9e33eef",
   "metadata": {},
   "outputs": [],
   "source": [
    "import polars as pl\n",
    "\n",
    "import warnings\n",
    "warnings.filterwarnings('ignore')"
   ]
  },
  {
   "cell_type": "code",
   "execution_count": 20,
   "id": "4d29e02f",
   "metadata": {},
   "outputs": [],
   "source": [
    "path = r\"C:\\Users\\Rudra\\Desktop\\rural-financial-inclusion-govt-scheme-recommendation\\parquet-data\\lev-03\\data\\lev-03_merged.parquet\"\n",
    "\n",
    "pdf = pl.read_parquet(path)"
   ]
  },
  {
   "cell_type": "code",
   "execution_count": 21,
   "id": "1d039ba9",
   "metadata": {},
   "outputs": [
    {
     "data": {
      "text/plain": [
       "Schema([('Survey_Name', String),\n",
       "        ('Year', String),\n",
       "        ('FSU_Serial_No', String),\n",
       "        ('Sector', String),\n",
       "        ('State', String),\n",
       "        ('NSS_Region', String),\n",
       "        ('District', String),\n",
       "        ('Stratum', String),\n",
       "        ('Sub_stratum', String),\n",
       "        ('Panel', String),\n",
       "        ('Sub_sample', String),\n",
       "        ('FOD_Sub_Region', String),\n",
       "        ('Sample_SU_No', String),\n",
       "        ('Sample_Sub_Division_No', String),\n",
       "        ('Second_Stage_Stratum_No', String),\n",
       "        ('Sample_Household_No', String),\n",
       "        ('Questionnaire_No', String),\n",
       "        ('Level', String),\n",
       "        ('HH_Size_FDQ', Float64),\n",
       "        ('Engaged_in_Economic_Activity_Las', String),\n",
       "        ('NCO_2015_Code', String),\n",
       "        ('NIC_2008_Code', String),\n",
       "        ('Max_Income_Activity', String),\n",
       "        ('Self_Employment_Source_Sector', String),\n",
       "        ('Regular_Wage_Source_Sector', String),\n",
       "        ('Casual_Labour_Source_Sector', String),\n",
       "        ('Household_Type', String),\n",
       "        ('Religion_of_HH_Head', String),\n",
       "        ('Social_Group_of_HH_Head', String),\n",
       "        ('Land_Ownership', String),\n",
       "        ('Type_of_Land_Owned', String),\n",
       "        ('Total_Area_Land_Owned_Acres', String),\n",
       "        ('Dwelling_Unit_Exists', String),\n",
       "        ('Type_of_Dwelling_Unit', String),\n",
       "        ('Energy_Source_Cooking', String),\n",
       "        ('Energy_Source_Lighting', String),\n",
       "        ('Ration_Card_Type', String),\n",
       "        ('Rent_Rate_Available_Rural', String),\n",
       "        ('Benefitted_From_PMGKY', String),\n",
       "        ('Multiplier', Float64)])"
      ]
     },
     "execution_count": 21,
     "metadata": {},
     "output_type": "execute_result"
    }
   ],
   "source": [
    "pdf.collect_schema()"
   ]
  },
  {
   "cell_type": "markdown",
   "id": "0ca9efce",
   "metadata": {},
   "source": [
    "# Where is MP"
   ]
  },
  {
   "cell_type": "code",
   "execution_count": 22,
   "id": "dba59a55",
   "metadata": {},
   "outputs": [
    {
     "data": {
      "text/plain": [
       "1047812"
      ]
     },
     "execution_count": 22,
     "metadata": {},
     "output_type": "execute_result"
    }
   ],
   "source": [
    "# Shape of the data\n",
    "pdf.shape[0]"
   ]
  },
  {
   "cell_type": "code",
   "execution_count": 23,
   "id": "b4349c11",
   "metadata": {},
   "outputs": [
    {
     "data": {
      "text/html": [
       "<div><style>\n",
       ".dataframe > thead > tr,\n",
       ".dataframe > tbody > tr {\n",
       "  text-align: right;\n",
       "  white-space: pre-wrap;\n",
       "}\n",
       "</style>\n",
       "<small>shape: (1_047_812,)</small><table border=\"1\" class=\"dataframe\"><thead><tr><th>State</th></tr><tr><td>str</td></tr></thead><tbody><tr><td>&quot;01&quot;</td></tr><tr><td>&quot;01&quot;</td></tr><tr><td>&quot;01&quot;</td></tr><tr><td>&quot;01&quot;</td></tr><tr><td>&quot;01&quot;</td></tr><tr><td>&hellip;</td></tr><tr><td>&quot;10&quot;</td></tr><tr><td>&quot;10&quot;</td></tr><tr><td>&quot;10&quot;</td></tr><tr><td>&quot;10&quot;</td></tr><tr><td>&quot;10&quot;</td></tr></tbody></table></div>"
      ],
      "text/plain": [
       "shape: (1_047_812,)\n",
       "Series: 'State' [str]\n",
       "[\n",
       "\t\"01\"\n",
       "\t\"01\"\n",
       "\t\"01\"\n",
       "\t\"01\"\n",
       "\t\"01\"\n",
       "\t…\n",
       "\t\"10\"\n",
       "\t\"10\"\n",
       "\t\"10\"\n",
       "\t\"10\"\n",
       "\t\"10\"\n",
       "]"
      ]
     },
     "execution_count": 23,
     "metadata": {},
     "output_type": "execute_result"
    }
   ],
   "source": [
    "pdf['State']"
   ]
  },
  {
   "cell_type": "code",
   "execution_count": 24,
   "id": "3241ac72",
   "metadata": {},
   "outputs": [
    {
     "data": {
      "text/html": [
       "<div><style>\n",
       ".dataframe > thead > tr,\n",
       ".dataframe > tbody > tr {\n",
       "  text-align: right;\n",
       "  white-space: pre-wrap;\n",
       "}\n",
       "</style>\n",
       "<small>shape: (1_047_812,)</small><table border=\"1\" class=\"dataframe\"><thead><tr><th>State</th></tr><tr><td>bool</td></tr></thead><tbody><tr><td>false</td></tr><tr><td>false</td></tr><tr><td>false</td></tr><tr><td>false</td></tr><tr><td>false</td></tr><tr><td>&hellip;</td></tr><tr><td>false</td></tr><tr><td>false</td></tr><tr><td>false</td></tr><tr><td>false</td></tr><tr><td>false</td></tr></tbody></table></div>"
      ],
      "text/plain": [
       "shape: (1_047_812,)\n",
       "Series: 'State' [bool]\n",
       "[\n",
       "\tfalse\n",
       "\tfalse\n",
       "\tfalse\n",
       "\tfalse\n",
       "\tfalse\n",
       "\t…\n",
       "\tfalse\n",
       "\tfalse\n",
       "\tfalse\n",
       "\tfalse\n",
       "\tfalse\n",
       "]"
      ]
     },
     "execution_count": 24,
     "metadata": {},
     "output_type": "execute_result"
    }
   ],
   "source": [
    "# This are label data \n",
    "# For know mp we used the Metadata json file\n",
    "# Line number 308\n",
    "\n",
    "pdf['State'] == '23'\n"
   ]
  },
  {
   "cell_type": "code",
   "execution_count": 25,
   "id": "402d33fd",
   "metadata": {},
   "outputs": [],
   "source": [
    "mp_data = pdf.filter(\n",
    "    pl.col('State') == '23'\n",
    ")"
   ]
  },
  {
   "cell_type": "code",
   "execution_count": 26,
   "id": "929dc17f",
   "metadata": {},
   "outputs": [
    {
     "data": {
      "text/html": [
       "<div><style>\n",
       ".dataframe > thead > tr,\n",
       ".dataframe > tbody > tr {\n",
       "  text-align: right;\n",
       "  white-space: pre-wrap;\n",
       "}\n",
       "</style>\n",
       "<small>shape: (56_420, 40)</small><table border=\"1\" class=\"dataframe\"><thead><tr><th>Survey_Name</th><th>Year</th><th>FSU_Serial_No</th><th>Sector</th><th>State</th><th>NSS_Region</th><th>District</th><th>Stratum</th><th>Sub_stratum</th><th>Panel</th><th>Sub_sample</th><th>FOD_Sub_Region</th><th>Sample_SU_No</th><th>Sample_Sub_Division_No</th><th>Second_Stage_Stratum_No</th><th>Sample_Household_No</th><th>Questionnaire_No</th><th>Level</th><th>HH_Size_FDQ</th><th>Engaged_in_Economic_Activity_Las</th><th>NCO_2015_Code</th><th>NIC_2008_Code</th><th>Max_Income_Activity</th><th>Self_Employment_Source_Sector</th><th>Regular_Wage_Source_Sector</th><th>Casual_Labour_Source_Sector</th><th>Household_Type</th><th>Religion_of_HH_Head</th><th>Social_Group_of_HH_Head</th><th>Land_Ownership</th><th>Type_of_Land_Owned</th><th>Total_Area_Land_Owned_Acres</th><th>Dwelling_Unit_Exists</th><th>Type_of_Dwelling_Unit</th><th>Energy_Source_Cooking</th><th>Energy_Source_Lighting</th><th>Ration_Card_Type</th><th>Rent_Rate_Available_Rural</th><th>Benefitted_From_PMGKY</th><th>Multiplier</th></tr><tr><td>str</td><td>str</td><td>str</td><td>str</td><td>str</td><td>str</td><td>str</td><td>str</td><td>str</td><td>str</td><td>str</td><td>str</td><td>str</td><td>str</td><td>str</td><td>str</td><td>str</td><td>str</td><td>f64</td><td>str</td><td>str</td><td>str</td><td>str</td><td>str</td><td>str</td><td>str</td><td>str</td><td>str</td><td>str</td><td>str</td><td>str</td><td>str</td><td>str</td><td>str</td><td>str</td><td>str</td><td>str</td><td>str</td><td>str</td><td>f64</td></tr></thead><tbody><tr><td>&quot;HCES&quot;</td><td>&quot;2024&quot;</td><td>&quot;44085&quot;</td><td>&quot;1&quot;</td><td>&quot;23&quot;</td><td>&quot;232&quot;</td><td>&quot;26&quot;</td><td>&quot;21&quot;</td><td>&quot;01&quot;</td><td>&quot;1&quot;</td><td>&quot;2&quot;</td><td>&quot;2310&quot;</td><td>&quot;1&quot;</td><td>&quot;&quot;</td><td>&quot;2&quot;</td><td>&quot;01&quot;</td><td>&quot;H&quot;</td><td>&quot;03&quot;</td><td>7.0</td><td>&quot;1&quot;</td><td>&quot;611&quot;</td><td>&quot;01111&quot;</td><td>&quot;1&quot;</td><td>&quot;1&quot;</td><td>&quot;&quot;</td><td>&quot;&quot;</td><td>&quot;1&quot;</td><td>&quot;1&quot;</td><td>&quot;3&quot;</td><td>&quot;1&quot;</td><td>&quot;2&quot;</td><td>&quot;6.01&quot;</td><td>&quot;1&quot;</td><td>&quot;1&quot;</td><td>&quot;01&quot;</td><td>&quot;1&quot;</td><td>&quot;2&quot;</td><td>&quot;2&quot;</td><td>&quot;1&quot;</td><td>58558.0</td></tr><tr><td>&quot;HCES&quot;</td><td>&quot;2024&quot;</td><td>&quot;44085&quot;</td><td>&quot;1&quot;</td><td>&quot;23&quot;</td><td>&quot;232&quot;</td><td>&quot;26&quot;</td><td>&quot;21&quot;</td><td>&quot;01&quot;</td><td>&quot;1&quot;</td><td>&quot;2&quot;</td><td>&quot;2310&quot;</td><td>&quot;1&quot;</td><td>&quot;&quot;</td><td>&quot;2&quot;</td><td>&quot;02&quot;</td><td>&quot;H&quot;</td><td>&quot;03&quot;</td><td>7.0</td><td>&quot;1&quot;</td><td>&quot;611&quot;</td><td>&quot;01111&quot;</td><td>&quot;1&quot;</td><td>&quot;1&quot;</td><td>&quot;&quot;</td><td>&quot;&quot;</td><td>&quot;1&quot;</td><td>&quot;1&quot;</td><td>&quot;2&quot;</td><td>&quot;1&quot;</td><td>&quot;2&quot;</td><td>&quot;6.61&quot;</td><td>&quot;1&quot;</td><td>&quot;1&quot;</td><td>&quot;01&quot;</td><td>&quot;1&quot;</td><td>&quot;2&quot;</td><td>&quot;2&quot;</td><td>&quot;1&quot;</td><td>58558.0</td></tr><tr><td>&quot;HCES&quot;</td><td>&quot;2024&quot;</td><td>&quot;44085&quot;</td><td>&quot;1&quot;</td><td>&quot;23&quot;</td><td>&quot;232&quot;</td><td>&quot;26&quot;</td><td>&quot;21&quot;</td><td>&quot;01&quot;</td><td>&quot;1&quot;</td><td>&quot;2&quot;</td><td>&quot;2310&quot;</td><td>&quot;1&quot;</td><td>&quot;&quot;</td><td>&quot;2&quot;</td><td>&quot;03&quot;</td><td>&quot;H&quot;</td><td>&quot;03&quot;</td><td>7.0</td><td>&quot;1&quot;</td><td>&quot;611&quot;</td><td>&quot;01111&quot;</td><td>&quot;1&quot;</td><td>&quot;1&quot;</td><td>&quot;&quot;</td><td>&quot;&quot;</td><td>&quot;1&quot;</td><td>&quot;1&quot;</td><td>&quot;2&quot;</td><td>&quot;1&quot;</td><td>&quot;2&quot;</td><td>&quot;4.21&quot;</td><td>&quot;1&quot;</td><td>&quot;1&quot;</td><td>&quot;02&quot;</td><td>&quot;1&quot;</td><td>&quot;2&quot;</td><td>&quot;2&quot;</td><td>&quot;1&quot;</td><td>58558.0</td></tr><tr><td>&quot;HCES&quot;</td><td>&quot;2024&quot;</td><td>&quot;44085&quot;</td><td>&quot;1&quot;</td><td>&quot;23&quot;</td><td>&quot;232&quot;</td><td>&quot;26&quot;</td><td>&quot;21&quot;</td><td>&quot;01&quot;</td><td>&quot;1&quot;</td><td>&quot;2&quot;</td><td>&quot;2310&quot;</td><td>&quot;1&quot;</td><td>&quot;&quot;</td><td>&quot;2&quot;</td><td>&quot;04&quot;</td><td>&quot;H&quot;</td><td>&quot;03&quot;</td><td>7.0</td><td>&quot;1&quot;</td><td>&quot;611&quot;</td><td>&quot;01111&quot;</td><td>&quot;1&quot;</td><td>&quot;1&quot;</td><td>&quot;&quot;</td><td>&quot;&quot;</td><td>&quot;1&quot;</td><td>&quot;1&quot;</td><td>&quot;2&quot;</td><td>&quot;1&quot;</td><td>&quot;2&quot;</td><td>&quot;3.62&quot;</td><td>&quot;1&quot;</td><td>&quot;1&quot;</td><td>&quot;01&quot;</td><td>&quot;1&quot;</td><td>&quot;2&quot;</td><td>&quot;2&quot;</td><td>&quot;1&quot;</td><td>58558.0</td></tr><tr><td>&quot;HCES&quot;</td><td>&quot;2024&quot;</td><td>&quot;44085&quot;</td><td>&quot;1&quot;</td><td>&quot;23&quot;</td><td>&quot;232&quot;</td><td>&quot;26&quot;</td><td>&quot;21&quot;</td><td>&quot;01&quot;</td><td>&quot;1&quot;</td><td>&quot;2&quot;</td><td>&quot;2310&quot;</td><td>&quot;1&quot;</td><td>&quot;&quot;</td><td>&quot;2&quot;</td><td>&quot;05&quot;</td><td>&quot;H&quot;</td><td>&quot;03&quot;</td><td>13.0</td><td>&quot;1&quot;</td><td>&quot;921&quot;</td><td>&quot;01111&quot;</td><td>&quot;3&quot;</td><td>&quot;&quot;</td><td>&quot;&quot;</td><td>&quot;5&quot;</td><td>&quot;5&quot;</td><td>&quot;1&quot;</td><td>&quot;2&quot;</td><td>&quot;1&quot;</td><td>&quot;2&quot;</td><td>&quot;4.01&quot;</td><td>&quot;1&quot;</td><td>&quot;1&quot;</td><td>&quot;01&quot;</td><td>&quot;1&quot;</td><td>&quot;2&quot;</td><td>&quot;2&quot;</td><td>&quot;1&quot;</td><td>58558.0</td></tr><tr><td>&hellip;</td><td>&hellip;</td><td>&hellip;</td><td>&hellip;</td><td>&hellip;</td><td>&hellip;</td><td>&hellip;</td><td>&hellip;</td><td>&hellip;</td><td>&hellip;</td><td>&hellip;</td><td>&hellip;</td><td>&hellip;</td><td>&hellip;</td><td>&hellip;</td><td>&hellip;</td><td>&hellip;</td><td>&hellip;</td><td>&hellip;</td><td>&hellip;</td><td>&hellip;</td><td>&hellip;</td><td>&hellip;</td><td>&hellip;</td><td>&hellip;</td><td>&hellip;</td><td>&hellip;</td><td>&hellip;</td><td>&hellip;</td><td>&hellip;</td><td>&hellip;</td><td>&hellip;</td><td>&hellip;</td><td>&hellip;</td><td>&hellip;</td><td>&hellip;</td><td>&hellip;</td><td>&hellip;</td><td>&hellip;</td><td>&hellip;</td></tr><tr><td>&quot;HCES&quot;</td><td>&quot;2024&quot;</td><td>&quot;25137&quot;</td><td>&quot;2&quot;</td><td>&quot;23&quot;</td><td>&quot;232&quot;</td><td>&quot;10&quot;</td><td>&quot;12&quot;</td><td>&quot;05&quot;</td><td>&quot;10&quot;</td><td>&quot;1&quot;</td><td>&quot;2332&quot;</td><td>&quot;1&quot;</td><td>&quot;&quot;</td><td>&quot;3&quot;</td><td>&quot;13&quot;</td><td>&quot;H&quot;</td><td>&quot;03&quot;</td><td>5.0</td><td>&quot;1&quot;</td><td>&quot;522&quot;</td><td>&quot;56303&quot;</td><td>&quot;1&quot;</td><td>&quot;&quot;</td><td>&quot;&quot;</td><td>&quot;&quot;</td><td>&quot;1&quot;</td><td>&quot;1&quot;</td><td>&quot;3&quot;</td><td>&quot;1&quot;</td><td>&quot;1&quot;</td><td>&quot;0.02&quot;</td><td>&quot;1&quot;</td><td>&quot;1&quot;</td><td>&quot;02&quot;</td><td>&quot;1&quot;</td><td>&quot;2&quot;</td><td>&quot;&quot;</td><td>&quot;1&quot;</td><td>173023.0</td></tr><tr><td>&quot;HCES&quot;</td><td>&quot;2024&quot;</td><td>&quot;25137&quot;</td><td>&quot;2&quot;</td><td>&quot;23&quot;</td><td>&quot;232&quot;</td><td>&quot;10&quot;</td><td>&quot;12&quot;</td><td>&quot;05&quot;</td><td>&quot;10&quot;</td><td>&quot;1&quot;</td><td>&quot;2332&quot;</td><td>&quot;1&quot;</td><td>&quot;&quot;</td><td>&quot;3&quot;</td><td>&quot;14&quot;</td><td>&quot;H&quot;</td><td>&quot;03&quot;</td><td>3.0</td><td>&quot;1&quot;</td><td>&quot;522&quot;</td><td>&quot;47211&quot;</td><td>&quot;1&quot;</td><td>&quot;&quot;</td><td>&quot;&quot;</td><td>&quot;&quot;</td><td>&quot;1&quot;</td><td>&quot;1&quot;</td><td>&quot;3&quot;</td><td>&quot;1&quot;</td><td>&quot;1&quot;</td><td>&quot;0.03&quot;</td><td>&quot;1&quot;</td><td>&quot;1&quot;</td><td>&quot;02&quot;</td><td>&quot;1&quot;</td><td>&quot;0&quot;</td><td>&quot;&quot;</td><td>&quot;2&quot;</td><td>173023.0</td></tr><tr><td>&quot;HCES&quot;</td><td>&quot;2024&quot;</td><td>&quot;25137&quot;</td><td>&quot;2&quot;</td><td>&quot;23&quot;</td><td>&quot;232&quot;</td><td>&quot;10&quot;</td><td>&quot;12&quot;</td><td>&quot;05&quot;</td><td>&quot;10&quot;</td><td>&quot;1&quot;</td><td>&quot;2332&quot;</td><td>&quot;1&quot;</td><td>&quot;&quot;</td><td>&quot;3&quot;</td><td>&quot;15&quot;</td><td>&quot;H&quot;</td><td>&quot;03&quot;</td><td>4.0</td><td>&quot;1&quot;</td><td>&quot;832&quot;</td><td>&quot;49224&quot;</td><td>&quot;2&quot;</td><td>&quot;&quot;</td><td>&quot;&quot;</td><td>&quot;&quot;</td><td>&quot;2&quot;</td><td>&quot;1&quot;</td><td>&quot;3&quot;</td><td>&quot;1&quot;</td><td>&quot;1&quot;</td><td>&quot;0.02&quot;</td><td>&quot;1&quot;</td><td>&quot;1&quot;</td><td>&quot;02&quot;</td><td>&quot;1&quot;</td><td>&quot;1&quot;</td><td>&quot;&quot;</td><td>&quot;1&quot;</td><td>173023.0</td></tr><tr><td>&quot;HCES&quot;</td><td>&quot;2024&quot;</td><td>&quot;25137&quot;</td><td>&quot;2&quot;</td><td>&quot;23&quot;</td><td>&quot;232&quot;</td><td>&quot;10&quot;</td><td>&quot;12&quot;</td><td>&quot;05&quot;</td><td>&quot;10&quot;</td><td>&quot;1&quot;</td><td>&quot;2332&quot;</td><td>&quot;1&quot;</td><td>&quot;&quot;</td><td>&quot;3&quot;</td><td>&quot;16&quot;</td><td>&quot;H&quot;</td><td>&quot;03&quot;</td><td>5.0</td><td>&quot;1&quot;</td><td>&quot;234&quot;</td><td>&quot;85102&quot;</td><td>&quot;2&quot;</td><td>&quot;&quot;</td><td>&quot;&quot;</td><td>&quot;&quot;</td><td>&quot;2&quot;</td><td>&quot;5&quot;</td><td>&quot;9&quot;</td><td>&quot;1&quot;</td><td>&quot;1&quot;</td><td>&quot;0.03&quot;</td><td>&quot;1&quot;</td><td>&quot;1&quot;</td><td>&quot;02&quot;</td><td>&quot;1&quot;</td><td>&quot;0&quot;</td><td>&quot;&quot;</td><td>&quot;2&quot;</td><td>173023.0</td></tr><tr><td>&quot;HCES&quot;</td><td>&quot;2024&quot;</td><td>&quot;25137&quot;</td><td>&quot;2&quot;</td><td>&quot;23&quot;</td><td>&quot;232&quot;</td><td>&quot;10&quot;</td><td>&quot;12&quot;</td><td>&quot;05&quot;</td><td>&quot;10&quot;</td><td>&quot;1&quot;</td><td>&quot;2332&quot;</td><td>&quot;1&quot;</td><td>&quot;&quot;</td><td>&quot;3&quot;</td><td>&quot;17&quot;</td><td>&quot;H&quot;</td><td>&quot;03&quot;</td><td>5.0</td><td>&quot;1&quot;</td><td>&quot;611&quot;</td><td>&quot;01111&quot;</td><td>&quot;1&quot;</td><td>&quot;&quot;</td><td>&quot;&quot;</td><td>&quot;&quot;</td><td>&quot;1&quot;</td><td>&quot;1&quot;</td><td>&quot;1&quot;</td><td>&quot;1&quot;</td><td>&quot;2&quot;</td><td>&quot;4.52&quot;</td><td>&quot;1&quot;</td><td>&quot;2&quot;</td><td>&quot;02&quot;</td><td>&quot;1&quot;</td><td>&quot;2&quot;</td><td>&quot;&quot;</td><td>&quot;1&quot;</td><td>173023.0</td></tr></tbody></table></div>"
      ],
      "text/plain": [
       "shape: (56_420, 40)\n",
       "┌─────────────┬──────┬────────────┬────────┬───┬────────────┬────────────┬────────────┬────────────┐\n",
       "│ Survey_Name ┆ Year ┆ FSU_Serial ┆ Sector ┆ … ┆ Ration_Car ┆ Rent_Rate_ ┆ Benefitted ┆ Multiplier │\n",
       "│ ---         ┆ ---  ┆ _No        ┆ ---    ┆   ┆ d_Type     ┆ Available_ ┆ _From_PMGK ┆ ---        │\n",
       "│ str         ┆ str  ┆ ---        ┆ str    ┆   ┆ ---        ┆ Rural      ┆ Y          ┆ f64        │\n",
       "│             ┆      ┆ str        ┆        ┆   ┆ str        ┆ ---        ┆ ---        ┆            │\n",
       "│             ┆      ┆            ┆        ┆   ┆            ┆ str        ┆ str        ┆            │\n",
       "╞═════════════╪══════╪════════════╪════════╪═══╪════════════╪════════════╪════════════╪════════════╡\n",
       "│ HCES        ┆ 2024 ┆ 44085      ┆ 1      ┆ … ┆ 2          ┆ 2          ┆ 1          ┆ 58558.0    │\n",
       "│ HCES        ┆ 2024 ┆ 44085      ┆ 1      ┆ … ┆ 2          ┆ 2          ┆ 1          ┆ 58558.0    │\n",
       "│ HCES        ┆ 2024 ┆ 44085      ┆ 1      ┆ … ┆ 2          ┆ 2          ┆ 1          ┆ 58558.0    │\n",
       "│ HCES        ┆ 2024 ┆ 44085      ┆ 1      ┆ … ┆ 2          ┆ 2          ┆ 1          ┆ 58558.0    │\n",
       "│ HCES        ┆ 2024 ┆ 44085      ┆ 1      ┆ … ┆ 2          ┆ 2          ┆ 1          ┆ 58558.0    │\n",
       "│ …           ┆ …    ┆ …          ┆ …      ┆ … ┆ …          ┆ …          ┆ …          ┆ …          │\n",
       "│ HCES        ┆ 2024 ┆ 25137      ┆ 2      ┆ … ┆ 2          ┆            ┆ 1          ┆ 173023.0   │\n",
       "│ HCES        ┆ 2024 ┆ 25137      ┆ 2      ┆ … ┆ 0          ┆            ┆ 2          ┆ 173023.0   │\n",
       "│ HCES        ┆ 2024 ┆ 25137      ┆ 2      ┆ … ┆ 1          ┆            ┆ 1          ┆ 173023.0   │\n",
       "│ HCES        ┆ 2024 ┆ 25137      ┆ 2      ┆ … ┆ 0          ┆            ┆ 2          ┆ 173023.0   │\n",
       "│ HCES        ┆ 2024 ┆ 25137      ┆ 2      ┆ … ┆ 2          ┆            ┆ 1          ┆ 173023.0   │\n",
       "└─────────────┴──────┴────────────┴────────┴───┴────────────┴────────────┴────────────┴────────────┘"
      ]
     },
     "execution_count": 26,
     "metadata": {},
     "output_type": "execute_result"
    }
   ],
   "source": [
    "mp_data"
   ]
  },
  {
   "cell_type": "markdown",
   "id": "0388976f",
   "metadata": {},
   "source": [
    "# Save"
   ]
  },
  {
   "cell_type": "code",
   "execution_count": 27,
   "id": "cc7bcf67",
   "metadata": {},
   "outputs": [
    {
     "name": "stdout",
     "output_type": "stream",
     "text": [
      "56420 are the MP data points\n"
     ]
    }
   ],
   "source": [
    "print(f\"{mp_data.shape[0]} are the MP data points\")"
   ]
  },
  {
   "cell_type": "code",
   "execution_count": 28,
   "id": "b6f545ac",
   "metadata": {},
   "outputs": [],
   "source": [
    "# convert to both csv and parquet data format"
   ]
  },
  {
   "cell_type": "code",
   "execution_count": 31,
   "id": "36d15632",
   "metadata": {},
   "outputs": [
    {
     "data": {
      "text/plain": [
       "1"
      ]
     },
     "execution_count": 31,
     "metadata": {},
     "output_type": "execute_result"
    }
   ],
   "source": [
    "mp_data['State'].n_unique()"
   ]
  },
  {
   "cell_type": "code",
   "execution_count": 29,
   "id": "31ef5e23",
   "metadata": {},
   "outputs": [],
   "source": [
    "mp_data.write_csv(r\"C:\\Users\\Rudra\\Desktop\\rural-financial-inclusion-govt-scheme-recommendation\\parquet-data\\lev-03\\data2\\lev_03_mp.csv\")"
   ]
  },
  {
   "cell_type": "code",
   "execution_count": 30,
   "id": "27e6f01f",
   "metadata": {},
   "outputs": [],
   "source": [
    "mp_data.write_parquet(r\"C:\\Users\\Rudra\\Desktop\\rural-financial-inclusion-govt-scheme-recommendation\\parquet-data\\lev-03\\data2\\lev_03_mp.parquet\", compression=\"zstd\")"
   ]
  }
 ],
 "metadata": {
  "kernelspec": {
   "display_name": "Python 3",
   "language": "python",
   "name": "python3"
  },
  "language_info": {
   "codemirror_mode": {
    "name": "ipython",
    "version": 3
   },
   "file_extension": ".py",
   "mimetype": "text/x-python",
   "name": "python",
   "nbconvert_exporter": "python",
   "pygments_lexer": "ipython3",
   "version": "3.11.9"
  }
 },
 "nbformat": 4,
 "nbformat_minor": 5
}
