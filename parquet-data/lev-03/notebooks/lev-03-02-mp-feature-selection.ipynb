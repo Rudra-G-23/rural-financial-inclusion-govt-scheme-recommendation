{
 "cells": [
  {
   "cell_type": "markdown",
   "id": "e6195ad7",
   "metadata": {},
   "source": [
    "# Goal: Feature Selection"
   ]
  },
  {
   "cell_type": "code",
   "execution_count": 14,
   "id": "b878d176",
   "metadata": {},
   "outputs": [
    {
     "data": {
      "text/plain": [
       "' \\nGoal: Feature Selection\\nAuthor: Rudra Prasad Bhuyan\\n'"
      ]
     },
     "execution_count": 14,
     "metadata": {},
     "output_type": "execute_result"
    }
   ],
   "source": [
    "\"\"\" \n",
    "Goal: Feature Selection\n",
    "Author: Rudra Prasad Bhuyan\n",
    "\"\"\""
   ]
  },
  {
   "cell_type": "code",
   "execution_count": 15,
   "id": "113ef065",
   "metadata": {},
   "outputs": [],
   "source": [
    "import polars as pl"
   ]
  },
  {
   "cell_type": "code",
   "execution_count": 16,
   "id": "db63f811",
   "metadata": {},
   "outputs": [],
   "source": [
    "path = r\"C:\\Users\\Rudra\\Desktop\\rural-financial-inclusion-govt-scheme-recommendation\\parquet-data\\lev-03\\data\\lev-03_merged.parquet\"\n",
    "\n",
    "pdf = pl.read_parquet(path)"
   ]
  },
  {
   "cell_type": "code",
   "execution_count": 17,
   "id": "063096f3",
   "metadata": {},
   "outputs": [
    {
     "data": {
      "text/plain": [
       "Schema([('Survey_Name', String),\n",
       "        ('Year', String),\n",
       "        ('FSU_Serial_No', String),\n",
       "        ('Sector', String),\n",
       "        ('State', String),\n",
       "        ('NSS_Region', String),\n",
       "        ('District', String),\n",
       "        ('Stratum', String),\n",
       "        ('Sub_stratum', String),\n",
       "        ('Panel', String),\n",
       "        ('Sub_sample', String),\n",
       "        ('FOD_Sub_Region', String),\n",
       "        ('Sample_SU_No', String),\n",
       "        ('Sample_Sub_Division_No', String),\n",
       "        ('Second_Stage_Stratum_No', String),\n",
       "        ('Sample_Household_No', String),\n",
       "        ('Questionnaire_No', String),\n",
       "        ('Level', String),\n",
       "        ('HH_Size_FDQ', Float64),\n",
       "        ('Engaged_in_Economic_Activity_Las', String),\n",
       "        ('NCO_2015_Code', String),\n",
       "        ('NIC_2008_Code', String),\n",
       "        ('Max_Income_Activity', String),\n",
       "        ('Self_Employment_Source_Sector', String),\n",
       "        ('Regular_Wage_Source_Sector', String),\n",
       "        ('Casual_Labour_Source_Sector', String),\n",
       "        ('Household_Type', String),\n",
       "        ('Religion_of_HH_Head', String),\n",
       "        ('Social_Group_of_HH_Head', String),\n",
       "        ('Land_Ownership', String),\n",
       "        ('Type_of_Land_Owned', String),\n",
       "        ('Total_Area_Land_Owned_Acres', String),\n",
       "        ('Dwelling_Unit_Exists', String),\n",
       "        ('Type_of_Dwelling_Unit', String),\n",
       "        ('Energy_Source_Cooking', String),\n",
       "        ('Energy_Source_Lighting', String),\n",
       "        ('Ration_Card_Type', String),\n",
       "        ('Rent_Rate_Available_Rural', String),\n",
       "        ('Benefitted_From_PMGKY', String),\n",
       "        ('Multiplier', Float64)])"
      ]
     },
     "execution_count": 17,
     "metadata": {},
     "output_type": "execute_result"
    }
   ],
   "source": [
    "pdf.collect_schema()"
   ]
  },
  {
   "cell_type": "code",
   "execution_count": 18,
   "id": "8f6a5c6b",
   "metadata": {},
   "outputs": [],
   "source": [
    "mp_data = pdf.filter(\n",
    "    pl.col('State') == '23'\n",
    ")"
   ]
  },
  {
   "cell_type": "code",
   "execution_count": 19,
   "id": "1a794b3d",
   "metadata": {},
   "outputs": [
    {
     "data": {
      "text/html": [
       "<div><style>\n",
       ".dataframe > thead > tr,\n",
       ".dataframe > tbody > tr {\n",
       "  text-align: right;\n",
       "  white-space: pre-wrap;\n",
       "}\n",
       "</style>\n",
       "<small>shape: (1,)</small><table border=\"1\" class=\"dataframe\"><thead><tr><th>State</th></tr><tr><td>str</td></tr></thead><tbody><tr><td>&quot;23&quot;</td></tr></tbody></table></div>"
      ],
      "text/plain": [
       "shape: (1,)\n",
       "Series: 'State' [str]\n",
       "[\n",
       "\t\"23\"\n",
       "]"
      ]
     },
     "execution_count": 19,
     "metadata": {},
     "output_type": "execute_result"
    }
   ],
   "source": [
    "mp_data['State'].unique()"
   ]
  },
  {
   "cell_type": "markdown",
   "id": "0e4d3780",
   "metadata": {},
   "source": [
    "# Break down all useful variables into separate group"
   ]
  },
  {
   "cell_type": "code",
   "execution_count": 20,
   "id": "5b3ff430",
   "metadata": {},
   "outputs": [],
   "source": [
    "lev_03_hh = ['HH_Size_FDQ', 'Household_Type',\n",
    "            'Religion_of_HH_Head', 'Land_Ownership',\n",
    "            'Type_of_Land_Owned','Total_Area_Land_Owned_Acres',\n",
    "            'Energy_Source_Cooking', 'Energy_Source_Lighting',\n",
    "            'Dwelling_Unit_Exists', 'Type_of_Dwelling_Unit',\n",
    "            'Rent_Rate_Available_Rural', 'Multiplier']\n",
    "\n",
    "lev_03_fin = [\n",
    "    'Self_Employment_Source_Sector','Regular_Wage_Source_Sector',\n",
    "    'Casual_Labour_Source_Sector']\n",
    "\n",
    "lev_03_occupation = [\n",
    "    'Engaged_in_Economic_Activity_Las',\t'Max_Income_Activity']\n",
    "\n",
    "lev_03_scheme = ['Benefitted_From_PMGKY']"
   ]
  },
  {
   "cell_type": "code",
   "execution_count": 21,
   "id": "bee2ff75",
   "metadata": {},
   "outputs": [],
   "source": [
    "lev_03_cols = (\n",
    "    lev_03_hh\n",
    "    + lev_03_fin\n",
    "    + lev_03_occupation\n",
    "    + lev_03_scheme\n",
    ")"
   ]
  },
  {
   "cell_type": "code",
   "execution_count": 22,
   "id": "1c5df624",
   "metadata": {},
   "outputs": [
    {
     "data": {
      "text/html": [
       "<div><style>\n",
       ".dataframe > thead > tr,\n",
       ".dataframe > tbody > tr {\n",
       "  text-align: right;\n",
       "  white-space: pre-wrap;\n",
       "}\n",
       "</style>\n",
       "<small>shape: (56_420, 18)</small><table border=\"1\" class=\"dataframe\"><thead><tr><th>HH_Size_FDQ</th><th>Household_Type</th><th>Religion_of_HH_Head</th><th>Land_Ownership</th><th>Type_of_Land_Owned</th><th>Total_Area_Land_Owned_Acres</th><th>Energy_Source_Cooking</th><th>Energy_Source_Lighting</th><th>Dwelling_Unit_Exists</th><th>Type_of_Dwelling_Unit</th><th>Rent_Rate_Available_Rural</th><th>Multiplier</th><th>Self_Employment_Source_Sector</th><th>Regular_Wage_Source_Sector</th><th>Casual_Labour_Source_Sector</th><th>Engaged_in_Economic_Activity_Las</th><th>Max_Income_Activity</th><th>Benefitted_From_PMGKY</th></tr><tr><td>f64</td><td>str</td><td>str</td><td>str</td><td>str</td><td>str</td><td>str</td><td>str</td><td>str</td><td>str</td><td>str</td><td>f64</td><td>str</td><td>str</td><td>str</td><td>str</td><td>str</td><td>str</td></tr></thead><tbody><tr><td>7.0</td><td>&quot;1&quot;</td><td>&quot;1&quot;</td><td>&quot;1&quot;</td><td>&quot;2&quot;</td><td>&quot;6.01&quot;</td><td>&quot;01&quot;</td><td>&quot;1&quot;</td><td>&quot;1&quot;</td><td>&quot;1&quot;</td><td>&quot;2&quot;</td><td>58558.0</td><td>&quot;1&quot;</td><td>&quot;&quot;</td><td>&quot;&quot;</td><td>&quot;1&quot;</td><td>&quot;1&quot;</td><td>&quot;1&quot;</td></tr><tr><td>7.0</td><td>&quot;1&quot;</td><td>&quot;1&quot;</td><td>&quot;1&quot;</td><td>&quot;2&quot;</td><td>&quot;6.61&quot;</td><td>&quot;01&quot;</td><td>&quot;1&quot;</td><td>&quot;1&quot;</td><td>&quot;1&quot;</td><td>&quot;2&quot;</td><td>58558.0</td><td>&quot;1&quot;</td><td>&quot;&quot;</td><td>&quot;&quot;</td><td>&quot;1&quot;</td><td>&quot;1&quot;</td><td>&quot;1&quot;</td></tr><tr><td>7.0</td><td>&quot;1&quot;</td><td>&quot;1&quot;</td><td>&quot;1&quot;</td><td>&quot;2&quot;</td><td>&quot;4.21&quot;</td><td>&quot;02&quot;</td><td>&quot;1&quot;</td><td>&quot;1&quot;</td><td>&quot;1&quot;</td><td>&quot;2&quot;</td><td>58558.0</td><td>&quot;1&quot;</td><td>&quot;&quot;</td><td>&quot;&quot;</td><td>&quot;1&quot;</td><td>&quot;1&quot;</td><td>&quot;1&quot;</td></tr><tr><td>7.0</td><td>&quot;1&quot;</td><td>&quot;1&quot;</td><td>&quot;1&quot;</td><td>&quot;2&quot;</td><td>&quot;3.62&quot;</td><td>&quot;01&quot;</td><td>&quot;1&quot;</td><td>&quot;1&quot;</td><td>&quot;1&quot;</td><td>&quot;2&quot;</td><td>58558.0</td><td>&quot;1&quot;</td><td>&quot;&quot;</td><td>&quot;&quot;</td><td>&quot;1&quot;</td><td>&quot;1&quot;</td><td>&quot;1&quot;</td></tr><tr><td>13.0</td><td>&quot;5&quot;</td><td>&quot;1&quot;</td><td>&quot;1&quot;</td><td>&quot;2&quot;</td><td>&quot;4.01&quot;</td><td>&quot;01&quot;</td><td>&quot;1&quot;</td><td>&quot;1&quot;</td><td>&quot;1&quot;</td><td>&quot;2&quot;</td><td>58558.0</td><td>&quot;&quot;</td><td>&quot;&quot;</td><td>&quot;5&quot;</td><td>&quot;1&quot;</td><td>&quot;3&quot;</td><td>&quot;1&quot;</td></tr><tr><td>&hellip;</td><td>&hellip;</td><td>&hellip;</td><td>&hellip;</td><td>&hellip;</td><td>&hellip;</td><td>&hellip;</td><td>&hellip;</td><td>&hellip;</td><td>&hellip;</td><td>&hellip;</td><td>&hellip;</td><td>&hellip;</td><td>&hellip;</td><td>&hellip;</td><td>&hellip;</td><td>&hellip;</td><td>&hellip;</td></tr><tr><td>5.0</td><td>&quot;1&quot;</td><td>&quot;1&quot;</td><td>&quot;1&quot;</td><td>&quot;1&quot;</td><td>&quot;0.02&quot;</td><td>&quot;02&quot;</td><td>&quot;1&quot;</td><td>&quot;1&quot;</td><td>&quot;1&quot;</td><td>&quot;&quot;</td><td>173023.0</td><td>&quot;&quot;</td><td>&quot;&quot;</td><td>&quot;&quot;</td><td>&quot;1&quot;</td><td>&quot;1&quot;</td><td>&quot;1&quot;</td></tr><tr><td>3.0</td><td>&quot;1&quot;</td><td>&quot;1&quot;</td><td>&quot;1&quot;</td><td>&quot;1&quot;</td><td>&quot;0.03&quot;</td><td>&quot;02&quot;</td><td>&quot;1&quot;</td><td>&quot;1&quot;</td><td>&quot;1&quot;</td><td>&quot;&quot;</td><td>173023.0</td><td>&quot;&quot;</td><td>&quot;&quot;</td><td>&quot;&quot;</td><td>&quot;1&quot;</td><td>&quot;1&quot;</td><td>&quot;2&quot;</td></tr><tr><td>4.0</td><td>&quot;2&quot;</td><td>&quot;1&quot;</td><td>&quot;1&quot;</td><td>&quot;1&quot;</td><td>&quot;0.02&quot;</td><td>&quot;02&quot;</td><td>&quot;1&quot;</td><td>&quot;1&quot;</td><td>&quot;1&quot;</td><td>&quot;&quot;</td><td>173023.0</td><td>&quot;&quot;</td><td>&quot;&quot;</td><td>&quot;&quot;</td><td>&quot;1&quot;</td><td>&quot;2&quot;</td><td>&quot;1&quot;</td></tr><tr><td>5.0</td><td>&quot;2&quot;</td><td>&quot;5&quot;</td><td>&quot;1&quot;</td><td>&quot;1&quot;</td><td>&quot;0.03&quot;</td><td>&quot;02&quot;</td><td>&quot;1&quot;</td><td>&quot;1&quot;</td><td>&quot;1&quot;</td><td>&quot;&quot;</td><td>173023.0</td><td>&quot;&quot;</td><td>&quot;&quot;</td><td>&quot;&quot;</td><td>&quot;1&quot;</td><td>&quot;2&quot;</td><td>&quot;2&quot;</td></tr><tr><td>5.0</td><td>&quot;1&quot;</td><td>&quot;1&quot;</td><td>&quot;1&quot;</td><td>&quot;2&quot;</td><td>&quot;4.52&quot;</td><td>&quot;02&quot;</td><td>&quot;1&quot;</td><td>&quot;1&quot;</td><td>&quot;2&quot;</td><td>&quot;&quot;</td><td>173023.0</td><td>&quot;&quot;</td><td>&quot;&quot;</td><td>&quot;&quot;</td><td>&quot;1&quot;</td><td>&quot;1&quot;</td><td>&quot;1&quot;</td></tr></tbody></table></div>"
      ],
      "text/plain": [
       "shape: (56_420, 18)\n",
       "┌───────────┬───────────┬───────────┬───────────┬───┬───────────┬───────────┬───────────┬──────────┐\n",
       "│ HH_Size_F ┆ Household ┆ Religion_ ┆ Land_Owne ┆ … ┆ Casual_La ┆ Engaged_i ┆ Max_Incom ┆ Benefitt │\n",
       "│ DQ        ┆ _Type     ┆ of_HH_Hea ┆ rship     ┆   ┆ bour_Sour ┆ n_Economi ┆ e_Activit ┆ ed_From_ │\n",
       "│ ---       ┆ ---       ┆ d         ┆ ---       ┆   ┆ ce_Sector ┆ c_Activit ┆ y         ┆ PMGKY    │\n",
       "│ f64       ┆ str       ┆ ---       ┆ str       ┆   ┆ ---       ┆ y_L…      ┆ ---       ┆ ---      │\n",
       "│           ┆           ┆ str       ┆           ┆   ┆ str       ┆ ---       ┆ str       ┆ str      │\n",
       "│           ┆           ┆           ┆           ┆   ┆           ┆ str       ┆           ┆          │\n",
       "╞═══════════╪═══════════╪═══════════╪═══════════╪═══╪═══════════╪═══════════╪═══════════╪══════════╡\n",
       "│ 7.0       ┆ 1         ┆ 1         ┆ 1         ┆ … ┆           ┆ 1         ┆ 1         ┆ 1        │\n",
       "│ 7.0       ┆ 1         ┆ 1         ┆ 1         ┆ … ┆           ┆ 1         ┆ 1         ┆ 1        │\n",
       "│ 7.0       ┆ 1         ┆ 1         ┆ 1         ┆ … ┆           ┆ 1         ┆ 1         ┆ 1        │\n",
       "│ 7.0       ┆ 1         ┆ 1         ┆ 1         ┆ … ┆           ┆ 1         ┆ 1         ┆ 1        │\n",
       "│ 13.0      ┆ 5         ┆ 1         ┆ 1         ┆ … ┆ 5         ┆ 1         ┆ 3         ┆ 1        │\n",
       "│ …         ┆ …         ┆ …         ┆ …         ┆ … ┆ …         ┆ …         ┆ …         ┆ …        │\n",
       "│ 5.0       ┆ 1         ┆ 1         ┆ 1         ┆ … ┆           ┆ 1         ┆ 1         ┆ 1        │\n",
       "│ 3.0       ┆ 1         ┆ 1         ┆ 1         ┆ … ┆           ┆ 1         ┆ 1         ┆ 2        │\n",
       "│ 4.0       ┆ 2         ┆ 1         ┆ 1         ┆ … ┆           ┆ 1         ┆ 2         ┆ 1        │\n",
       "│ 5.0       ┆ 2         ┆ 5         ┆ 1         ┆ … ┆           ┆ 1         ┆ 2         ┆ 2        │\n",
       "│ 5.0       ┆ 1         ┆ 1         ┆ 1         ┆ … ┆           ┆ 1         ┆ 1         ┆ 1        │\n",
       "└───────────┴───────────┴───────────┴───────────┴───┴───────────┴───────────┴───────────┴──────────┘"
      ]
     },
     "execution_count": 22,
     "metadata": {},
     "output_type": "execute_result"
    }
   ],
   "source": [
    "mp_data[lev_03_cols]"
   ]
  }
 ],
 "metadata": {
  "kernelspec": {
   "display_name": "Python 3",
   "language": "python",
   "name": "python3"
  },
  "language_info": {
   "codemirror_mode": {
    "name": "ipython",
    "version": 3
   },
   "file_extension": ".py",
   "mimetype": "text/x-python",
   "name": "python",
   "nbconvert_exporter": "python",
   "pygments_lexer": "ipython3",
   "version": "3.11.9"
  }
 },
 "nbformat": 4,
 "nbformat_minor": 5
}
