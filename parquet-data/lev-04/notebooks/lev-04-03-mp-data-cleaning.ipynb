{
 "cells": [
  {
   "cell_type": "markdown",
   "id": "955d5bea",
   "metadata": {},
   "source": [
    "# Goal: Data Cleaning"
   ]
  },
  {
   "cell_type": "code",
   "execution_count": 49,
   "id": "00586d61",
   "metadata": {},
   "outputs": [
    {
     "data": {
      "text/plain": [
       "Schema([('Survey_Name', String),\n",
       "        ('Year', String),\n",
       "        ('FSU_Serial_No', String),\n",
       "        ('Sector', String),\n",
       "        ('State', String),\n",
       "        ('NSS_Region', String),\n",
       "        ('District', String),\n",
       "        ('Stratum', String),\n",
       "        ('Sub_stratum', String),\n",
       "        ('Panel', String),\n",
       "        ('Sub_sample', String),\n",
       "        ('FOD_Sub_Region', String),\n",
       "        ('Sample_SU_No', String),\n",
       "        ('Sample_Sub_Division_No', String),\n",
       "        ('Second_Stage_Stratum_No', String),\n",
       "        ('Sample_Household_No', String),\n",
       "        ('Questionnaire_No', String),\n",
       "        ('Level', String),\n",
       "        ('Ration_Any_Item_Last_30_Days', String),\n",
       "        ('Ration_Rice', String),\n",
       "        ('Ration_Wheat', String),\n",
       "        ('Ration_Coarse_Grain', String),\n",
       "        ('Ration_Sugar', String),\n",
       "        ('Ration_Pulses', String),\n",
       "        ('Ration_Edible_Oil', String),\n",
       "        ('Ration_Other_Food_Items', String),\n",
       "        ('Online_Groceries', String),\n",
       "        ('Online_Milk', String),\n",
       "        ('Online_Vegetables', String),\n",
       "        ('Online_Fresh_Fruits', String),\n",
       "        ('Online_Dry_Fruits', String),\n",
       "        ('Online_Egg_Fish_Meat', String),\n",
       "        ('Online_Served_Processed_Food', String),\n",
       "        ('Online_Packed_Processed_Food', String),\n",
       "        ('Online_Other_Food_Items', String),\n",
       "        ('Ceremony_Performed_Last_30_Days', String),\n",
       "        ('Meals_Served_to_Non_HH_Members', String),\n",
       "        ('Multiplier', Float64)])"
      ]
     },
     "execution_count": 49,
     "metadata": {},
     "output_type": "execute_result"
    }
   ],
   "source": [
    "import polars as pl\n",
    "import pandas as pd\n",
    "import matplotlib.pyplot as plt\n",
    "import seaborn as sns\n",
    "\n",
    "path = r\"C:\\Users\\Rudra\\Desktop\\rural-financial-inclusion-govt-scheme-recommendation\\parquet-data\\lev-04\\data\\lev-04_merged.parquet\"\n",
    "\n",
    "pdf = pl.read_parquet(path)\n",
    "pdf.collect_schema()"
   ]
  },
  {
   "cell_type": "code",
   "execution_count": 50,
   "id": "0197c793",
   "metadata": {},
   "outputs": [
    {
     "data": {
      "text/html": [
       "<div><style>\n",
       ".dataframe > thead > tr,\n",
       ".dataframe > tbody > tr {\n",
       "  text-align: right;\n",
       "  white-space: pre-wrap;\n",
       "}\n",
       "</style>\n",
       "<small>shape: (1,)</small><table border=\"1\" class=\"dataframe\"><thead><tr><th>State</th></tr><tr><td>str</td></tr></thead><tbody><tr><td>&quot;23&quot;</td></tr></tbody></table></div>"
      ],
      "text/plain": [
       "shape: (1,)\n",
       "Series: 'State' [str]\n",
       "[\n",
       "\t\"23\"\n",
       "]"
      ]
     },
     "execution_count": 50,
     "metadata": {},
     "output_type": "execute_result"
    }
   ],
   "source": [
    "pdf = pdf.filter(\n",
    "    pl.col('State') == '23'\n",
    ")\n",
    "\n",
    "pdf['State'].unique()"
   ]
  },
  {
   "cell_type": "code",
   "execution_count": 51,
   "id": "c1d0e788",
   "metadata": {},
   "outputs": [],
   "source": [
    "lev_04_fin = ['Ration_Any_Item_Last_30_Days' ,'Ration_Rice',\n",
    "              'Ration_Wheat','Ration_Coarse_Grain',\n",
    "              'Ration_Sugar','Ration_Pulses',\n",
    "              'Ration_Edible_Oil','Ration_Other_Food_Items']\n",
    "\n",
    "lev_04_digital = [\n",
    "    'Online_Groceries',\n",
    "'Online_Milk',\n",
    "'Online_Vegetables',\n",
    "'Online_Fresh_Fruits',\n",
    "'Online_Dry_Fruits',\n",
    "'Online_Egg_Fish_Meat',\n",
    "'Online_Served_Processed_Food',\n",
    "'Online_Packed_Processed_Food',\n",
    "'Online_Other_Food_Items',\n",
    "]\n",
    "\n",
    "lev_04_behavior = ['Ceremony_Performed_Last_30_Days']\n",
    "lev_04_food = ['Meals_Served_to_Non_HH_Members']"
   ]
  },
  {
   "cell_type": "code",
   "execution_count": 52,
   "id": "299bf004",
   "metadata": {},
   "outputs": [],
   "source": [
    "lev_04_cols = (\n",
    "    lev_04_food \n",
    "    + lev_04_behavior\n",
    "    + lev_04_digital \n",
    "    + lev_04_fin\n",
    ")"
   ]
  },
  {
   "cell_type": "code",
   "execution_count": 53,
   "id": "d21d0988",
   "metadata": {},
   "outputs": [
    {
     "data": {
      "text/html": [
       "<div><style>\n",
       ".dataframe > thead > tr,\n",
       ".dataframe > tbody > tr {\n",
       "  text-align: right;\n",
       "  white-space: pre-wrap;\n",
       "}\n",
       "</style>\n",
       "<small>shape: (42_315, 19)</small><table border=\"1\" class=\"dataframe\"><thead><tr><th>Meals_Served_to_Non_HH_Members</th><th>Ceremony_Performed_Last_30_Days</th><th>Online_Groceries</th><th>Online_Milk</th><th>Online_Vegetables</th><th>Online_Fresh_Fruits</th><th>Online_Dry_Fruits</th><th>Online_Egg_Fish_Meat</th><th>Online_Served_Processed_Food</th><th>Online_Packed_Processed_Food</th><th>Online_Other_Food_Items</th><th>Ration_Any_Item_Last_30_Days</th><th>Ration_Rice</th><th>Ration_Wheat</th><th>Ration_Coarse_Grain</th><th>Ration_Sugar</th><th>Ration_Pulses</th><th>Ration_Edible_Oil</th><th>Ration_Other_Food_Items</th></tr><tr><td>str</td><td>str</td><td>str</td><td>str</td><td>str</td><td>str</td><td>str</td><td>str</td><td>str</td><td>str</td><td>str</td><td>str</td><td>str</td><td>str</td><td>str</td><td>str</td><td>str</td><td>str</td><td>str</td></tr></thead><tbody><tr><td>&quot;6&quot;</td><td>&quot;2&quot;</td><td>&quot;&quot;</td><td>&quot;&quot;</td><td>&quot;&quot;</td><td>&quot;&quot;</td><td>&quot;&quot;</td><td>&quot;&quot;</td><td>&quot;&quot;</td><td>&quot;&quot;</td><td>&quot;&quot;</td><td>&quot;1&quot;</td><td>&quot;1&quot;</td><td>&quot;1&quot;</td><td>&quot;&quot;</td><td>&quot;&quot;</td><td>&quot;&quot;</td><td>&quot;&quot;</td><td>&quot;1&quot;</td></tr><tr><td>&quot;5&quot;</td><td>&quot;2&quot;</td><td>&quot;&quot;</td><td>&quot;&quot;</td><td>&quot;&quot;</td><td>&quot;&quot;</td><td>&quot;&quot;</td><td>&quot;&quot;</td><td>&quot;&quot;</td><td>&quot;&quot;</td><td>&quot;&quot;</td><td>&quot;1&quot;</td><td>&quot;1&quot;</td><td>&quot;1&quot;</td><td>&quot;&quot;</td><td>&quot;&quot;</td><td>&quot;&quot;</td><td>&quot;&quot;</td><td>&quot;1&quot;</td></tr><tr><td>&quot;8&quot;</td><td>&quot;2&quot;</td><td>&quot;&quot;</td><td>&quot;&quot;</td><td>&quot;&quot;</td><td>&quot;&quot;</td><td>&quot;&quot;</td><td>&quot;&quot;</td><td>&quot;&quot;</td><td>&quot;&quot;</td><td>&quot;&quot;</td><td>&quot;1&quot;</td><td>&quot;1&quot;</td><td>&quot;1&quot;</td><td>&quot;&quot;</td><td>&quot;&quot;</td><td>&quot;&quot;</td><td>&quot;&quot;</td><td>&quot;1&quot;</td></tr><tr><td>&quot;0&quot;</td><td>&quot;2&quot;</td><td>&quot;&quot;</td><td>&quot;&quot;</td><td>&quot;&quot;</td><td>&quot;&quot;</td><td>&quot;&quot;</td><td>&quot;&quot;</td><td>&quot;&quot;</td><td>&quot;&quot;</td><td>&quot;&quot;</td><td>&quot;1&quot;</td><td>&quot;1&quot;</td><td>&quot;1&quot;</td><td>&quot;&quot;</td><td>&quot;&quot;</td><td>&quot;&quot;</td><td>&quot;&quot;</td><td>&quot;1&quot;</td></tr><tr><td>&quot;6&quot;</td><td>&quot;2&quot;</td><td>&quot;&quot;</td><td>&quot;&quot;</td><td>&quot;&quot;</td><td>&quot;&quot;</td><td>&quot;&quot;</td><td>&quot;&quot;</td><td>&quot;&quot;</td><td>&quot;&quot;</td><td>&quot;&quot;</td><td>&quot;1&quot;</td><td>&quot;1&quot;</td><td>&quot;1&quot;</td><td>&quot;&quot;</td><td>&quot;&quot;</td><td>&quot;&quot;</td><td>&quot;&quot;</td><td>&quot;1&quot;</td></tr><tr><td>&hellip;</td><td>&hellip;</td><td>&hellip;</td><td>&hellip;</td><td>&hellip;</td><td>&hellip;</td><td>&hellip;</td><td>&hellip;</td><td>&hellip;</td><td>&hellip;</td><td>&hellip;</td><td>&hellip;</td><td>&hellip;</td><td>&hellip;</td><td>&hellip;</td><td>&hellip;</td><td>&hellip;</td><td>&hellip;</td><td>&hellip;</td></tr><tr><td>&quot;0&quot;</td><td>&quot;2&quot;</td><td>&quot;&quot;</td><td>&quot;&quot;</td><td>&quot;&quot;</td><td>&quot;&quot;</td><td>&quot;&quot;</td><td>&quot;&quot;</td><td>&quot;&quot;</td><td>&quot;&quot;</td><td>&quot;&quot;</td><td>&quot;1&quot;</td><td>&quot;1&quot;</td><td>&quot;1&quot;</td><td>&quot;&quot;</td><td>&quot;&quot;</td><td>&quot;&quot;</td><td>&quot;&quot;</td><td>&quot;1&quot;</td></tr><tr><td>&quot;8&quot;</td><td>&quot;2&quot;</td><td>&quot;&quot;</td><td>&quot;&quot;</td><td>&quot;&quot;</td><td>&quot;&quot;</td><td>&quot;&quot;</td><td>&quot;&quot;</td><td>&quot;&quot;</td><td>&quot;&quot;</td><td>&quot;&quot;</td><td>&quot;2&quot;</td><td>&quot;&quot;</td><td>&quot;&quot;</td><td>&quot;&quot;</td><td>&quot;&quot;</td><td>&quot;&quot;</td><td>&quot;&quot;</td><td>&quot;&quot;</td></tr><tr><td>&quot;0&quot;</td><td>&quot;2&quot;</td><td>&quot;&quot;</td><td>&quot;&quot;</td><td>&quot;&quot;</td><td>&quot;&quot;</td><td>&quot;&quot;</td><td>&quot;&quot;</td><td>&quot;&quot;</td><td>&quot;&quot;</td><td>&quot;&quot;</td><td>&quot;1&quot;</td><td>&quot;1&quot;</td><td>&quot;1&quot;</td><td>&quot;&quot;</td><td>&quot;1&quot;</td><td>&quot;&quot;</td><td>&quot;&quot;</td><td>&quot;1&quot;</td></tr><tr><td>&quot;0&quot;</td><td>&quot;2&quot;</td><td>&quot;&quot;</td><td>&quot;&quot;</td><td>&quot;&quot;</td><td>&quot;&quot;</td><td>&quot;&quot;</td><td>&quot;&quot;</td><td>&quot;&quot;</td><td>&quot;&quot;</td><td>&quot;&quot;</td><td>&quot;2&quot;</td><td>&quot;&quot;</td><td>&quot;&quot;</td><td>&quot;&quot;</td><td>&quot;&quot;</td><td>&quot;&quot;</td><td>&quot;&quot;</td><td>&quot;&quot;</td></tr><tr><td>&quot;8&quot;</td><td>&quot;1&quot;</td><td>&quot;&quot;</td><td>&quot;&quot;</td><td>&quot;&quot;</td><td>&quot;&quot;</td><td>&quot;&quot;</td><td>&quot;&quot;</td><td>&quot;&quot;</td><td>&quot;&quot;</td><td>&quot;&quot;</td><td>&quot;1&quot;</td><td>&quot;1&quot;</td><td>&quot;1&quot;</td><td>&quot;&quot;</td><td>&quot;&quot;</td><td>&quot;&quot;</td><td>&quot;&quot;</td><td>&quot;1&quot;</td></tr></tbody></table></div>"
      ],
      "text/plain": [
       "shape: (42_315, 19)\n",
       "┌───────────┬───────────┬───────────┬───────────┬───┬───────────┬───────────┬───────────┬──────────┐\n",
       "│ Meals_Ser ┆ Ceremony_ ┆ Online_Gr ┆ Online_Mi ┆ … ┆ Ration_Su ┆ Ration_Pu ┆ Ration_Ed ┆ Ration_O │\n",
       "│ ved_to_No ┆ Performed ┆ oceries   ┆ lk        ┆   ┆ gar       ┆ lses      ┆ ible_Oil  ┆ ther_Foo │\n",
       "│ n_HH_Memb ┆ _Last_30_ ┆ ---       ┆ ---       ┆   ┆ ---       ┆ ---       ┆ ---       ┆ d_Items  │\n",
       "│ ers       ┆ Day…      ┆ str       ┆ str       ┆   ┆ str       ┆ str       ┆ str       ┆ ---      │\n",
       "│ ---       ┆ ---       ┆           ┆           ┆   ┆           ┆           ┆           ┆ str      │\n",
       "│ str       ┆ str       ┆           ┆           ┆   ┆           ┆           ┆           ┆          │\n",
       "╞═══════════╪═══════════╪═══════════╪═══════════╪═══╪═══════════╪═══════════╪═══════════╪══════════╡\n",
       "│ 6         ┆ 2         ┆           ┆           ┆ … ┆           ┆           ┆           ┆ 1        │\n",
       "│ 5         ┆ 2         ┆           ┆           ┆ … ┆           ┆           ┆           ┆ 1        │\n",
       "│ 8         ┆ 2         ┆           ┆           ┆ … ┆           ┆           ┆           ┆ 1        │\n",
       "│ 0         ┆ 2         ┆           ┆           ┆ … ┆           ┆           ┆           ┆ 1        │\n",
       "│ 6         ┆ 2         ┆           ┆           ┆ … ┆           ┆           ┆           ┆ 1        │\n",
       "│ …         ┆ …         ┆ …         ┆ …         ┆ … ┆ …         ┆ …         ┆ …         ┆ …        │\n",
       "│ 0         ┆ 2         ┆           ┆           ┆ … ┆           ┆           ┆           ┆ 1        │\n",
       "│ 8         ┆ 2         ┆           ┆           ┆ … ┆           ┆           ┆           ┆          │\n",
       "│ 0         ┆ 2         ┆           ┆           ┆ … ┆ 1         ┆           ┆           ┆ 1        │\n",
       "│ 0         ┆ 2         ┆           ┆           ┆ … ┆           ┆           ┆           ┆          │\n",
       "│ 8         ┆ 1         ┆           ┆           ┆ … ┆           ┆           ┆           ┆ 1        │\n",
       "└───────────┴───────────┴───────────┴───────────┴───┴───────────┴───────────┴───────────┴──────────┘"
      ]
     },
     "execution_count": 53,
     "metadata": {},
     "output_type": "execute_result"
    }
   ],
   "source": [
    "pdf = pdf[lev_04_cols]\n",
    "\n",
    "pdf"
   ]
  },
  {
   "cell_type": "code",
   "execution_count": 54,
   "id": "ee9ff751",
   "metadata": {},
   "outputs": [
    {
     "data": {
      "text/plain": [
       "Schema([('Meals_Served_to_Non_HH_Members', Int32),\n",
       "        ('Ceremony_Performed_Last_30_Days', Int32),\n",
       "        ('Online_Groceries', Int32),\n",
       "        ('Online_Milk', Int32),\n",
       "        ('Online_Vegetables', Int32),\n",
       "        ('Online_Fresh_Fruits', Int32),\n",
       "        ('Online_Dry_Fruits', Int32),\n",
       "        ('Online_Egg_Fish_Meat', Int32),\n",
       "        ('Online_Served_Processed_Food', Int32),\n",
       "        ('Online_Packed_Processed_Food', Int32),\n",
       "        ('Online_Other_Food_Items', Int32),\n",
       "        ('Ration_Any_Item_Last_30_Days', Int32),\n",
       "        ('Ration_Rice', Int32),\n",
       "        ('Ration_Wheat', Int32),\n",
       "        ('Ration_Coarse_Grain', Int32),\n",
       "        ('Ration_Sugar', Int32),\n",
       "        ('Ration_Pulses', Int32),\n",
       "        ('Ration_Edible_Oil', Int32),\n",
       "        ('Ration_Other_Food_Items', Int32)])"
      ]
     },
     "execution_count": 54,
     "metadata": {},
     "output_type": "execute_result"
    }
   ],
   "source": [
    "pdf = pdf.with_columns(\n",
    "    [pl.col(col).cast(pl.Int32, strict=False) for col in lev_04_cols]\n",
    ")\n",
    "pdf.schema"
   ]
  },
  {
   "cell_type": "markdown",
   "id": "91a94f4e",
   "metadata": {},
   "source": [
    "# Functions "
   ]
  },
  {
   "cell_type": "code",
   "execution_count": 55,
   "id": "3edf5cc5",
   "metadata": {},
   "outputs": [],
   "source": [
    "def summary(col):\n",
    "    display(pdf[col].sample(3))\n",
    "    display(pdf[col].describe())\n",
    "    display(pdf[col].null_count())\n",
    "    display(pdf[col].null_count() / pdf.shape[0])"
   ]
  },
  {
   "cell_type": "code",
   "execution_count": 56,
   "id": "5652fa11",
   "metadata": {},
   "outputs": [],
   "source": [
    "def plot_hist(col):\n",
    "    sns.histplot(pdf[col])\n",
    "    plt.title(col)\n",
    "    plt.show()"
   ]
  },
  {
   "cell_type": "code",
   "execution_count": 57,
   "id": "a089aff4",
   "metadata": {},
   "outputs": [],
   "source": [
    "def check_unique(col):\n",
    "    print(f\"{col} contains : {pdf[col].n_unique()}\")\n",
    "    display(pdf[col].unique())"
   ]
  },
  {
   "cell_type": "markdown",
   "id": "7d309bea",
   "metadata": {},
   "source": [
    "# Fin"
   ]
  },
  {
   "cell_type": "code",
   "execution_count": 58,
   "id": "4851ebea",
   "metadata": {},
   "outputs": [
    {
     "data": {
      "text/html": [
       "<div><style>\n",
       ".dataframe > thead > tr,\n",
       ".dataframe > tbody > tr {\n",
       "  text-align: right;\n",
       "  white-space: pre-wrap;\n",
       "}\n",
       "</style>\n",
       "<small>shape: (3, 8)</small><table border=\"1\" class=\"dataframe\"><thead><tr><th>Ration_Any_Item_Last_30_Days</th><th>Ration_Rice</th><th>Ration_Wheat</th><th>Ration_Coarse_Grain</th><th>Ration_Sugar</th><th>Ration_Pulses</th><th>Ration_Edible_Oil</th><th>Ration_Other_Food_Items</th></tr><tr><td>i32</td><td>i32</td><td>i32</td><td>i32</td><td>i32</td><td>i32</td><td>i32</td><td>i32</td></tr></thead><tbody><tr><td>2</td><td>null</td><td>null</td><td>null</td><td>null</td><td>null</td><td>null</td><td>null</td></tr><tr><td>2</td><td>null</td><td>null</td><td>null</td><td>null</td><td>null</td><td>null</td><td>null</td></tr><tr><td>1</td><td>1</td><td>1</td><td>null</td><td>null</td><td>null</td><td>null</td><td>1</td></tr></tbody></table></div>"
      ],
      "text/plain": [
       "shape: (3, 8)\n",
       "┌────────────┬────────────┬────────────┬───────────┬───────────┬───────────┬───────────┬───────────┐\n",
       "│ Ration_Any ┆ Ration_Ric ┆ Ration_Whe ┆ Ration_Co ┆ Ration_Su ┆ Ration_Pu ┆ Ration_Ed ┆ Ration_Ot │\n",
       "│ _Item_Last ┆ e          ┆ at         ┆ arse_Grai ┆ gar       ┆ lses      ┆ ible_Oil  ┆ her_Food_ │\n",
       "│ _30_Days   ┆ ---        ┆ ---        ┆ n         ┆ ---       ┆ ---       ┆ ---       ┆ Items     │\n",
       "│ ---        ┆ i32        ┆ i32        ┆ ---       ┆ i32       ┆ i32       ┆ i32       ┆ ---       │\n",
       "│ i32        ┆            ┆            ┆ i32       ┆           ┆           ┆           ┆ i32       │\n",
       "╞════════════╪════════════╪════════════╪═══════════╪═══════════╪═══════════╪═══════════╪═══════════╡\n",
       "│ 2          ┆ null       ┆ null       ┆ null      ┆ null      ┆ null      ┆ null      ┆ null      │\n",
       "│ 2          ┆ null       ┆ null       ┆ null      ┆ null      ┆ null      ┆ null      ┆ null      │\n",
       "│ 1          ┆ 1          ┆ 1          ┆ null      ┆ null      ┆ null      ┆ null      ┆ 1         │\n",
       "└────────────┴────────────┴────────────┴───────────┴───────────┴───────────┴───────────┴───────────┘"
      ]
     },
     "metadata": {},
     "output_type": "display_data"
    },
    {
     "data": {
      "text/html": [
       "<div><style>\n",
       ".dataframe > thead > tr,\n",
       ".dataframe > tbody > tr {\n",
       "  text-align: right;\n",
       "  white-space: pre-wrap;\n",
       "}\n",
       "</style>\n",
       "<small>shape: (9, 9)</small><table border=\"1\" class=\"dataframe\"><thead><tr><th>statistic</th><th>Ration_Any_Item_Last_30_Days</th><th>Ration_Rice</th><th>Ration_Wheat</th><th>Ration_Coarse_Grain</th><th>Ration_Sugar</th><th>Ration_Pulses</th><th>Ration_Edible_Oil</th><th>Ration_Other_Food_Items</th></tr><tr><td>str</td><td>f64</td><td>f64</td><td>f64</td><td>f64</td><td>f64</td><td>f64</td><td>f64</td><td>f64</td></tr></thead><tbody><tr><td>&quot;count&quot;</td><td>42315.0</td><td>26724.0</td><td>26529.0</td><td>0.0</td><td>738.0</td><td>0.0</td><td>0.0</td><td>24543.0</td></tr><tr><td>&quot;null_count&quot;</td><td>0.0</td><td>15591.0</td><td>15786.0</td><td>42315.0</td><td>41577.0</td><td>42315.0</td><td>42315.0</td><td>17772.0</td></tr><tr><td>&quot;mean&quot;</td><td>1.366537</td><td>1.0</td><td>1.0</td><td>null</td><td>1.0</td><td>null</td><td>null</td><td>1.0</td></tr><tr><td>&quot;std&quot;</td><td>0.481864</td><td>0.0</td><td>0.0</td><td>null</td><td>0.0</td><td>null</td><td>null</td><td>0.0</td></tr><tr><td>&quot;min&quot;</td><td>1.0</td><td>1.0</td><td>1.0</td><td>null</td><td>1.0</td><td>null</td><td>null</td><td>1.0</td></tr><tr><td>&quot;25%&quot;</td><td>1.0</td><td>1.0</td><td>1.0</td><td>null</td><td>1.0</td><td>null</td><td>null</td><td>1.0</td></tr><tr><td>&quot;50%&quot;</td><td>1.0</td><td>1.0</td><td>1.0</td><td>null</td><td>1.0</td><td>null</td><td>null</td><td>1.0</td></tr><tr><td>&quot;75%&quot;</td><td>2.0</td><td>1.0</td><td>1.0</td><td>null</td><td>1.0</td><td>null</td><td>null</td><td>1.0</td></tr><tr><td>&quot;max&quot;</td><td>2.0</td><td>1.0</td><td>1.0</td><td>null</td><td>1.0</td><td>null</td><td>null</td><td>1.0</td></tr></tbody></table></div>"
      ],
      "text/plain": [
       "shape: (9, 9)\n",
       "┌───────────┬───────────┬───────────┬───────────┬───┬───────────┬───────────┬───────────┬──────────┐\n",
       "│ statistic ┆ Ration_An ┆ Ration_Ri ┆ Ration_Wh ┆ … ┆ Ration_Su ┆ Ration_Pu ┆ Ration_Ed ┆ Ration_O │\n",
       "│ ---       ┆ y_Item_La ┆ ce        ┆ eat       ┆   ┆ gar       ┆ lses      ┆ ible_Oil  ┆ ther_Foo │\n",
       "│ str       ┆ st_30_Day ┆ ---       ┆ ---       ┆   ┆ ---       ┆ ---       ┆ ---       ┆ d_Items  │\n",
       "│           ┆ s         ┆ f64       ┆ f64       ┆   ┆ f64       ┆ f64       ┆ f64       ┆ ---      │\n",
       "│           ┆ ---       ┆           ┆           ┆   ┆           ┆           ┆           ┆ f64      │\n",
       "│           ┆ f64       ┆           ┆           ┆   ┆           ┆           ┆           ┆          │\n",
       "╞═══════════╪═══════════╪═══════════╪═══════════╪═══╪═══════════╪═══════════╪═══════════╪══════════╡\n",
       "│ count     ┆ 42315.0   ┆ 26724.0   ┆ 26529.0   ┆ … ┆ 738.0     ┆ 0.0       ┆ 0.0       ┆ 24543.0  │\n",
       "│ null_coun ┆ 0.0       ┆ 15591.0   ┆ 15786.0   ┆ … ┆ 41577.0   ┆ 42315.0   ┆ 42315.0   ┆ 17772.0  │\n",
       "│ t         ┆           ┆           ┆           ┆   ┆           ┆           ┆           ┆          │\n",
       "│ mean      ┆ 1.366537  ┆ 1.0       ┆ 1.0       ┆ … ┆ 1.0       ┆ null      ┆ null      ┆ 1.0      │\n",
       "│ std       ┆ 0.481864  ┆ 0.0       ┆ 0.0       ┆ … ┆ 0.0       ┆ null      ┆ null      ┆ 0.0      │\n",
       "│ min       ┆ 1.0       ┆ 1.0       ┆ 1.0       ┆ … ┆ 1.0       ┆ null      ┆ null      ┆ 1.0      │\n",
       "│ 25%       ┆ 1.0       ┆ 1.0       ┆ 1.0       ┆ … ┆ 1.0       ┆ null      ┆ null      ┆ 1.0      │\n",
       "│ 50%       ┆ 1.0       ┆ 1.0       ┆ 1.0       ┆ … ┆ 1.0       ┆ null      ┆ null      ┆ 1.0      │\n",
       "│ 75%       ┆ 2.0       ┆ 1.0       ┆ 1.0       ┆ … ┆ 1.0       ┆ null      ┆ null      ┆ 1.0      │\n",
       "│ max       ┆ 2.0       ┆ 1.0       ┆ 1.0       ┆ … ┆ 1.0       ┆ null      ┆ null      ┆ 1.0      │\n",
       "└───────────┴───────────┴───────────┴───────────┴───┴───────────┴───────────┴───────────┴──────────┘"
      ]
     },
     "metadata": {},
     "output_type": "display_data"
    },
    {
     "data": {
      "text/html": [
       "<div><style>\n",
       ".dataframe > thead > tr,\n",
       ".dataframe > tbody > tr {\n",
       "  text-align: right;\n",
       "  white-space: pre-wrap;\n",
       "}\n",
       "</style>\n",
       "<small>shape: (1, 8)</small><table border=\"1\" class=\"dataframe\"><thead><tr><th>Ration_Any_Item_Last_30_Days</th><th>Ration_Rice</th><th>Ration_Wheat</th><th>Ration_Coarse_Grain</th><th>Ration_Sugar</th><th>Ration_Pulses</th><th>Ration_Edible_Oil</th><th>Ration_Other_Food_Items</th></tr><tr><td>u32</td><td>u32</td><td>u32</td><td>u32</td><td>u32</td><td>u32</td><td>u32</td><td>u32</td></tr></thead><tbody><tr><td>0</td><td>15591</td><td>15786</td><td>42315</td><td>41577</td><td>42315</td><td>42315</td><td>17772</td></tr></tbody></table></div>"
      ],
      "text/plain": [
       "shape: (1, 8)\n",
       "┌────────────┬────────────┬────────────┬───────────┬───────────┬───────────┬───────────┬───────────┐\n",
       "│ Ration_Any ┆ Ration_Ric ┆ Ration_Whe ┆ Ration_Co ┆ Ration_Su ┆ Ration_Pu ┆ Ration_Ed ┆ Ration_Ot │\n",
       "│ _Item_Last ┆ e          ┆ at         ┆ arse_Grai ┆ gar       ┆ lses      ┆ ible_Oil  ┆ her_Food_ │\n",
       "│ _30_Days   ┆ ---        ┆ ---        ┆ n         ┆ ---       ┆ ---       ┆ ---       ┆ Items     │\n",
       "│ ---        ┆ u32        ┆ u32        ┆ ---       ┆ u32       ┆ u32       ┆ u32       ┆ ---       │\n",
       "│ u32        ┆            ┆            ┆ u32       ┆           ┆           ┆           ┆ u32       │\n",
       "╞════════════╪════════════╪════════════╪═══════════╪═══════════╪═══════════╪═══════════╪═══════════╡\n",
       "│ 0          ┆ 15591      ┆ 15786      ┆ 42315     ┆ 41577     ┆ 42315     ┆ 42315     ┆ 17772     │\n",
       "└────────────┴────────────┴────────────┴───────────┴───────────┴───────────┴───────────┴───────────┘"
      ]
     },
     "metadata": {},
     "output_type": "display_data"
    },
    {
     "data": {
      "text/html": [
       "<div><style>\n",
       ".dataframe > thead > tr,\n",
       ".dataframe > tbody > tr {\n",
       "  text-align: right;\n",
       "  white-space: pre-wrap;\n",
       "}\n",
       "</style>\n",
       "<small>shape: (1, 8)</small><table border=\"1\" class=\"dataframe\"><thead><tr><th>Ration_Any_Item_Last_30_Days</th><th>Ration_Rice</th><th>Ration_Wheat</th><th>Ration_Coarse_Grain</th><th>Ration_Sugar</th><th>Ration_Pulses</th><th>Ration_Edible_Oil</th><th>Ration_Other_Food_Items</th></tr><tr><td>f64</td><td>f64</td><td>f64</td><td>f64</td><td>f64</td><td>f64</td><td>f64</td><td>f64</td></tr></thead><tbody><tr><td>0.0</td><td>0.368451</td><td>0.373059</td><td>1.0</td><td>0.982559</td><td>1.0</td><td>1.0</td><td>0.419993</td></tr></tbody></table></div>"
      ],
      "text/plain": [
       "shape: (1, 8)\n",
       "┌────────────┬────────────┬────────────┬───────────┬───────────┬───────────┬───────────┬───────────┐\n",
       "│ Ration_Any ┆ Ration_Ric ┆ Ration_Whe ┆ Ration_Co ┆ Ration_Su ┆ Ration_Pu ┆ Ration_Ed ┆ Ration_Ot │\n",
       "│ _Item_Last ┆ e          ┆ at         ┆ arse_Grai ┆ gar       ┆ lses      ┆ ible_Oil  ┆ her_Food_ │\n",
       "│ _30_Days   ┆ ---        ┆ ---        ┆ n         ┆ ---       ┆ ---       ┆ ---       ┆ Items     │\n",
       "│ ---        ┆ f64        ┆ f64        ┆ ---       ┆ f64       ┆ f64       ┆ f64       ┆ ---       │\n",
       "│ f64        ┆            ┆            ┆ f64       ┆           ┆           ┆           ┆ f64       │\n",
       "╞════════════╪════════════╪════════════╪═══════════╪═══════════╪═══════════╪═══════════╪═══════════╡\n",
       "│ 0.0        ┆ 0.368451   ┆ 0.373059   ┆ 1.0       ┆ 0.982559  ┆ 1.0       ┆ 1.0       ┆ 0.419993  │\n",
       "└────────────┴────────────┴────────────┴───────────┴───────────┴───────────┴───────────┴───────────┘"
      ]
     },
     "metadata": {},
     "output_type": "display_data"
    }
   ],
   "source": [
    "summary(lev_04_fin)"
   ]
  },
  {
   "cell_type": "code",
   "execution_count": 59,
   "id": "cddc718c",
   "metadata": {},
   "outputs": [
    {
     "name": "stdout",
     "output_type": "stream",
     "text": [
      "Ration_Any_Item_Last_30_Days contains : 2\n"
     ]
    },
    {
     "data": {
      "text/html": [
       "<div><style>\n",
       ".dataframe > thead > tr,\n",
       ".dataframe > tbody > tr {\n",
       "  text-align: right;\n",
       "  white-space: pre-wrap;\n",
       "}\n",
       "</style>\n",
       "<small>shape: (2,)</small><table border=\"1\" class=\"dataframe\"><thead><tr><th>Ration_Any_Item_Last_30_Days</th></tr><tr><td>i32</td></tr></thead><tbody><tr><td>1</td></tr><tr><td>2</td></tr></tbody></table></div>"
      ],
      "text/plain": [
       "shape: (2,)\n",
       "Series: 'Ration_Any_Item_Last_30_Days' [i32]\n",
       "[\n",
       "\t1\n",
       "\t2\n",
       "]"
      ]
     },
     "metadata": {},
     "output_type": "display_data"
    },
    {
     "name": "stdout",
     "output_type": "stream",
     "text": [
      "Ration_Rice contains : 2\n"
     ]
    },
    {
     "data": {
      "text/html": [
       "<div><style>\n",
       ".dataframe > thead > tr,\n",
       ".dataframe > tbody > tr {\n",
       "  text-align: right;\n",
       "  white-space: pre-wrap;\n",
       "}\n",
       "</style>\n",
       "<small>shape: (2,)</small><table border=\"1\" class=\"dataframe\"><thead><tr><th>Ration_Rice</th></tr><tr><td>i32</td></tr></thead><tbody><tr><td>null</td></tr><tr><td>1</td></tr></tbody></table></div>"
      ],
      "text/plain": [
       "shape: (2,)\n",
       "Series: 'Ration_Rice' [i32]\n",
       "[\n",
       "\tnull\n",
       "\t1\n",
       "]"
      ]
     },
     "metadata": {},
     "output_type": "display_data"
    },
    {
     "name": "stdout",
     "output_type": "stream",
     "text": [
      "Ration_Wheat contains : 2\n"
     ]
    },
    {
     "data": {
      "text/html": [
       "<div><style>\n",
       ".dataframe > thead > tr,\n",
       ".dataframe > tbody > tr {\n",
       "  text-align: right;\n",
       "  white-space: pre-wrap;\n",
       "}\n",
       "</style>\n",
       "<small>shape: (2,)</small><table border=\"1\" class=\"dataframe\"><thead><tr><th>Ration_Wheat</th></tr><tr><td>i32</td></tr></thead><tbody><tr><td>null</td></tr><tr><td>1</td></tr></tbody></table></div>"
      ],
      "text/plain": [
       "shape: (2,)\n",
       "Series: 'Ration_Wheat' [i32]\n",
       "[\n",
       "\tnull\n",
       "\t1\n",
       "]"
      ]
     },
     "metadata": {},
     "output_type": "display_data"
    },
    {
     "name": "stdout",
     "output_type": "stream",
     "text": [
      "Ration_Coarse_Grain contains : 1\n"
     ]
    },
    {
     "data": {
      "text/html": [
       "<div><style>\n",
       ".dataframe > thead > tr,\n",
       ".dataframe > tbody > tr {\n",
       "  text-align: right;\n",
       "  white-space: pre-wrap;\n",
       "}\n",
       "</style>\n",
       "<small>shape: (1,)</small><table border=\"1\" class=\"dataframe\"><thead><tr><th>Ration_Coarse_Grain</th></tr><tr><td>i32</td></tr></thead><tbody><tr><td>null</td></tr></tbody></table></div>"
      ],
      "text/plain": [
       "shape: (1,)\n",
       "Series: 'Ration_Coarse_Grain' [i32]\n",
       "[\n",
       "\tnull\n",
       "]"
      ]
     },
     "metadata": {},
     "output_type": "display_data"
    },
    {
     "name": "stdout",
     "output_type": "stream",
     "text": [
      "Ration_Sugar contains : 2\n"
     ]
    },
    {
     "data": {
      "text/html": [
       "<div><style>\n",
       ".dataframe > thead > tr,\n",
       ".dataframe > tbody > tr {\n",
       "  text-align: right;\n",
       "  white-space: pre-wrap;\n",
       "}\n",
       "</style>\n",
       "<small>shape: (2,)</small><table border=\"1\" class=\"dataframe\"><thead><tr><th>Ration_Sugar</th></tr><tr><td>i32</td></tr></thead><tbody><tr><td>null</td></tr><tr><td>1</td></tr></tbody></table></div>"
      ],
      "text/plain": [
       "shape: (2,)\n",
       "Series: 'Ration_Sugar' [i32]\n",
       "[\n",
       "\tnull\n",
       "\t1\n",
       "]"
      ]
     },
     "metadata": {},
     "output_type": "display_data"
    },
    {
     "name": "stdout",
     "output_type": "stream",
     "text": [
      "Ration_Pulses contains : 1\n"
     ]
    },
    {
     "data": {
      "text/html": [
       "<div><style>\n",
       ".dataframe > thead > tr,\n",
       ".dataframe > tbody > tr {\n",
       "  text-align: right;\n",
       "  white-space: pre-wrap;\n",
       "}\n",
       "</style>\n",
       "<small>shape: (1,)</small><table border=\"1\" class=\"dataframe\"><thead><tr><th>Ration_Pulses</th></tr><tr><td>i32</td></tr></thead><tbody><tr><td>null</td></tr></tbody></table></div>"
      ],
      "text/plain": [
       "shape: (1,)\n",
       "Series: 'Ration_Pulses' [i32]\n",
       "[\n",
       "\tnull\n",
       "]"
      ]
     },
     "metadata": {},
     "output_type": "display_data"
    },
    {
     "name": "stdout",
     "output_type": "stream",
     "text": [
      "Ration_Edible_Oil contains : 1\n"
     ]
    },
    {
     "data": {
      "text/html": [
       "<div><style>\n",
       ".dataframe > thead > tr,\n",
       ".dataframe > tbody > tr {\n",
       "  text-align: right;\n",
       "  white-space: pre-wrap;\n",
       "}\n",
       "</style>\n",
       "<small>shape: (1,)</small><table border=\"1\" class=\"dataframe\"><thead><tr><th>Ration_Edible_Oil</th></tr><tr><td>i32</td></tr></thead><tbody><tr><td>null</td></tr></tbody></table></div>"
      ],
      "text/plain": [
       "shape: (1,)\n",
       "Series: 'Ration_Edible_Oil' [i32]\n",
       "[\n",
       "\tnull\n",
       "]"
      ]
     },
     "metadata": {},
     "output_type": "display_data"
    },
    {
     "name": "stdout",
     "output_type": "stream",
     "text": [
      "Ration_Other_Food_Items contains : 2\n"
     ]
    },
    {
     "data": {
      "text/html": [
       "<div><style>\n",
       ".dataframe > thead > tr,\n",
       ".dataframe > tbody > tr {\n",
       "  text-align: right;\n",
       "  white-space: pre-wrap;\n",
       "}\n",
       "</style>\n",
       "<small>shape: (2,)</small><table border=\"1\" class=\"dataframe\"><thead><tr><th>Ration_Other_Food_Items</th></tr><tr><td>i32</td></tr></thead><tbody><tr><td>null</td></tr><tr><td>1</td></tr></tbody></table></div>"
      ],
      "text/plain": [
       "shape: (2,)\n",
       "Series: 'Ration_Other_Food_Items' [i32]\n",
       "[\n",
       "\tnull\n",
       "\t1\n",
       "]"
      ]
     },
     "metadata": {},
     "output_type": "display_data"
    }
   ],
   "source": [
    "for col in lev_04_fin:\n",
    "    check_unique(col)"
   ]
  },
  {
   "cell_type": "code",
   "execution_count": 60,
   "id": "752a82a8",
   "metadata": {},
   "outputs": [],
   "source": [
    "# For Rest Rations\n",
    "for col in lev_04_fin:\n",
    "    pdf = pdf.with_columns(\n",
    "        pl.col(col).fill_null(strategy='zero')\n",
    "        )\n",
    "\n",
    "# For Ration Sugar col\n",
    "pdf = pdf.with_columns(\n",
    "    pl.col('Ration_Sugar').fill_null(strategy='zero')\n",
    ")"
   ]
  },
  {
   "cell_type": "code",
   "execution_count": 61,
   "id": "e8dbcf12",
   "metadata": {},
   "outputs": [
    {
     "data": {
      "text/html": [
       "<div><style>\n",
       ".dataframe > thead > tr,\n",
       ".dataframe > tbody > tr {\n",
       "  text-align: right;\n",
       "  white-space: pre-wrap;\n",
       "}\n",
       "</style>\n",
       "<small>shape: (1, 8)</small><table border=\"1\" class=\"dataframe\"><thead><tr><th>Ration_Any_Item_Last_30_Days</th><th>Ration_Rice</th><th>Ration_Wheat</th><th>Ration_Coarse_Grain</th><th>Ration_Sugar</th><th>Ration_Pulses</th><th>Ration_Edible_Oil</th><th>Ration_Other_Food_Items</th></tr><tr><td>f64</td><td>f64</td><td>f64</td><td>f64</td><td>f64</td><td>f64</td><td>f64</td><td>f64</td></tr></thead><tbody><tr><td>0.0</td><td>0.0</td><td>0.0</td><td>0.0</td><td>0.0</td><td>0.0</td><td>0.0</td><td>0.0</td></tr></tbody></table></div>"
      ],
      "text/plain": [
       "shape: (1, 8)\n",
       "┌────────────┬────────────┬────────────┬───────────┬───────────┬───────────┬───────────┬───────────┐\n",
       "│ Ration_Any ┆ Ration_Ric ┆ Ration_Whe ┆ Ration_Co ┆ Ration_Su ┆ Ration_Pu ┆ Ration_Ed ┆ Ration_Ot │\n",
       "│ _Item_Last ┆ e          ┆ at         ┆ arse_Grai ┆ gar       ┆ lses      ┆ ible_Oil  ┆ her_Food_ │\n",
       "│ _30_Days   ┆ ---        ┆ ---        ┆ n         ┆ ---       ┆ ---       ┆ ---       ┆ Items     │\n",
       "│ ---        ┆ f64        ┆ f64        ┆ ---       ┆ f64       ┆ f64       ┆ f64       ┆ ---       │\n",
       "│ f64        ┆            ┆            ┆ f64       ┆           ┆           ┆           ┆ f64       │\n",
       "╞════════════╪════════════╪════════════╪═══════════╪═══════════╪═══════════╪═══════════╪═══════════╡\n",
       "│ 0.0        ┆ 0.0        ┆ 0.0        ┆ 0.0       ┆ 0.0       ┆ 0.0       ┆ 0.0       ┆ 0.0       │\n",
       "└────────────┴────────────┴────────────┴───────────┴───────────┴───────────┴───────────┴───────────┘"
      ]
     },
     "metadata": {},
     "output_type": "display_data"
    }
   ],
   "source": [
    "display(pdf[lev_04_fin].null_count() / pdf.shape[0])"
   ]
  },
  {
   "cell_type": "code",
   "execution_count": 62,
   "id": "404fbc55",
   "metadata": {},
   "outputs": [],
   "source": [
    "# 'Ration_Rice','Ration_Pulses','Ration_Edible_Oil', delete this columns"
   ]
  },
  {
   "cell_type": "markdown",
   "id": "e2229474",
   "metadata": {},
   "source": [
    "# Digital"
   ]
  },
  {
   "cell_type": "code",
   "execution_count": 63,
   "id": "5a4edb87",
   "metadata": {},
   "outputs": [
    {
     "data": {
      "text/html": [
       "<div><style>\n",
       ".dataframe > thead > tr,\n",
       ".dataframe > tbody > tr {\n",
       "  text-align: right;\n",
       "  white-space: pre-wrap;\n",
       "}\n",
       "</style>\n",
       "<small>shape: (3, 9)</small><table border=\"1\" class=\"dataframe\"><thead><tr><th>Online_Groceries</th><th>Online_Milk</th><th>Online_Vegetables</th><th>Online_Fresh_Fruits</th><th>Online_Dry_Fruits</th><th>Online_Egg_Fish_Meat</th><th>Online_Served_Processed_Food</th><th>Online_Packed_Processed_Food</th><th>Online_Other_Food_Items</th></tr><tr><td>i32</td><td>i32</td><td>i32</td><td>i32</td><td>i32</td><td>i32</td><td>i32</td><td>i32</td><td>i32</td></tr></thead><tbody><tr><td>null</td><td>null</td><td>null</td><td>null</td><td>null</td><td>null</td><td>null</td><td>null</td><td>null</td></tr><tr><td>null</td><td>null</td><td>null</td><td>null</td><td>null</td><td>null</td><td>null</td><td>null</td><td>null</td></tr><tr><td>null</td><td>null</td><td>null</td><td>null</td><td>null</td><td>null</td><td>null</td><td>null</td><td>null</td></tr></tbody></table></div>"
      ],
      "text/plain": [
       "shape: (3, 9)\n",
       "┌───────────┬───────────┬───────────┬───────────┬───┬───────────┬───────────┬───────────┬──────────┐\n",
       "│ Online_Gr ┆ Online_Mi ┆ Online_Ve ┆ Online_Fr ┆ … ┆ Online_Eg ┆ Online_Se ┆ Online_Pa ┆ Online_O │\n",
       "│ oceries   ┆ lk        ┆ getables  ┆ esh_Fruit ┆   ┆ g_Fish_Me ┆ rved_Proc ┆ cked_Proc ┆ ther_Foo │\n",
       "│ ---       ┆ ---       ┆ ---       ┆ s         ┆   ┆ at        ┆ essed_Foo ┆ essed_Foo ┆ d_Items  │\n",
       "│ i32       ┆ i32       ┆ i32       ┆ ---       ┆   ┆ ---       ┆ d         ┆ d         ┆ ---      │\n",
       "│           ┆           ┆           ┆ i32       ┆   ┆ i32       ┆ ---       ┆ ---       ┆ i32      │\n",
       "│           ┆           ┆           ┆           ┆   ┆           ┆ i32       ┆ i32       ┆          │\n",
       "╞═══════════╪═══════════╪═══════════╪═══════════╪═══╪═══════════╪═══════════╪═══════════╪══════════╡\n",
       "│ null      ┆ null      ┆ null      ┆ null      ┆ … ┆ null      ┆ null      ┆ null      ┆ null     │\n",
       "│ null      ┆ null      ┆ null      ┆ null      ┆ … ┆ null      ┆ null      ┆ null      ┆ null     │\n",
       "│ null      ┆ null      ┆ null      ┆ null      ┆ … ┆ null      ┆ null      ┆ null      ┆ null     │\n",
       "└───────────┴───────────┴───────────┴───────────┴───┴───────────┴───────────┴───────────┴──────────┘"
      ]
     },
     "metadata": {},
     "output_type": "display_data"
    },
    {
     "data": {
      "text/html": [
       "<div><style>\n",
       ".dataframe > thead > tr,\n",
       ".dataframe > tbody > tr {\n",
       "  text-align: right;\n",
       "  white-space: pre-wrap;\n",
       "}\n",
       "</style>\n",
       "<small>shape: (9, 10)</small><table border=\"1\" class=\"dataframe\"><thead><tr><th>statistic</th><th>Online_Groceries</th><th>Online_Milk</th><th>Online_Vegetables</th><th>Online_Fresh_Fruits</th><th>Online_Dry_Fruits</th><th>Online_Egg_Fish_Meat</th><th>Online_Served_Processed_Food</th><th>Online_Packed_Processed_Food</th><th>Online_Other_Food_Items</th></tr><tr><td>str</td><td>f64</td><td>f64</td><td>f64</td><td>f64</td><td>f64</td><td>f64</td><td>f64</td><td>f64</td><td>f64</td></tr></thead><tbody><tr><td>&quot;count&quot;</td><td>1299.0</td><td>312.0</td><td>441.0</td><td>399.0</td><td>306.0</td><td>57.0</td><td>303.0</td><td>564.0</td><td>189.0</td></tr><tr><td>&quot;null_count&quot;</td><td>41016.0</td><td>42003.0</td><td>41874.0</td><td>41916.0</td><td>42009.0</td><td>42258.0</td><td>42012.0</td><td>41751.0</td><td>42126.0</td></tr><tr><td>&quot;mean&quot;</td><td>1.0</td><td>1.0</td><td>1.0</td><td>1.0</td><td>1.0</td><td>1.0</td><td>1.0</td><td>1.0</td><td>1.0</td></tr><tr><td>&quot;std&quot;</td><td>0.0</td><td>0.0</td><td>0.0</td><td>0.0</td><td>0.0</td><td>0.0</td><td>0.0</td><td>0.0</td><td>0.0</td></tr><tr><td>&quot;min&quot;</td><td>1.0</td><td>1.0</td><td>1.0</td><td>1.0</td><td>1.0</td><td>1.0</td><td>1.0</td><td>1.0</td><td>1.0</td></tr><tr><td>&quot;25%&quot;</td><td>1.0</td><td>1.0</td><td>1.0</td><td>1.0</td><td>1.0</td><td>1.0</td><td>1.0</td><td>1.0</td><td>1.0</td></tr><tr><td>&quot;50%&quot;</td><td>1.0</td><td>1.0</td><td>1.0</td><td>1.0</td><td>1.0</td><td>1.0</td><td>1.0</td><td>1.0</td><td>1.0</td></tr><tr><td>&quot;75%&quot;</td><td>1.0</td><td>1.0</td><td>1.0</td><td>1.0</td><td>1.0</td><td>1.0</td><td>1.0</td><td>1.0</td><td>1.0</td></tr><tr><td>&quot;max&quot;</td><td>1.0</td><td>1.0</td><td>1.0</td><td>1.0</td><td>1.0</td><td>1.0</td><td>1.0</td><td>1.0</td><td>1.0</td></tr></tbody></table></div>"
      ],
      "text/plain": [
       "shape: (9, 10)\n",
       "┌───────────┬───────────┬───────────┬───────────┬───┬───────────┬───────────┬───────────┬──────────┐\n",
       "│ statistic ┆ Online_Gr ┆ Online_Mi ┆ Online_Ve ┆ … ┆ Online_Eg ┆ Online_Se ┆ Online_Pa ┆ Online_O │\n",
       "│ ---       ┆ oceries   ┆ lk        ┆ getables  ┆   ┆ g_Fish_Me ┆ rved_Proc ┆ cked_Proc ┆ ther_Foo │\n",
       "│ str       ┆ ---       ┆ ---       ┆ ---       ┆   ┆ at        ┆ essed_Foo ┆ essed_Foo ┆ d_Items  │\n",
       "│           ┆ f64       ┆ f64       ┆ f64       ┆   ┆ ---       ┆ d         ┆ d         ┆ ---      │\n",
       "│           ┆           ┆           ┆           ┆   ┆ f64       ┆ ---       ┆ ---       ┆ f64      │\n",
       "│           ┆           ┆           ┆           ┆   ┆           ┆ f64       ┆ f64       ┆          │\n",
       "╞═══════════╪═══════════╪═══════════╪═══════════╪═══╪═══════════╪═══════════╪═══════════╪══════════╡\n",
       "│ count     ┆ 1299.0    ┆ 312.0     ┆ 441.0     ┆ … ┆ 57.0      ┆ 303.0     ┆ 564.0     ┆ 189.0    │\n",
       "│ null_coun ┆ 41016.0   ┆ 42003.0   ┆ 41874.0   ┆ … ┆ 42258.0   ┆ 42012.0   ┆ 41751.0   ┆ 42126.0  │\n",
       "│ t         ┆           ┆           ┆           ┆   ┆           ┆           ┆           ┆          │\n",
       "│ mean      ┆ 1.0       ┆ 1.0       ┆ 1.0       ┆ … ┆ 1.0       ┆ 1.0       ┆ 1.0       ┆ 1.0      │\n",
       "│ std       ┆ 0.0       ┆ 0.0       ┆ 0.0       ┆ … ┆ 0.0       ┆ 0.0       ┆ 0.0       ┆ 0.0      │\n",
       "│ min       ┆ 1.0       ┆ 1.0       ┆ 1.0       ┆ … ┆ 1.0       ┆ 1.0       ┆ 1.0       ┆ 1.0      │\n",
       "│ 25%       ┆ 1.0       ┆ 1.0       ┆ 1.0       ┆ … ┆ 1.0       ┆ 1.0       ┆ 1.0       ┆ 1.0      │\n",
       "│ 50%       ┆ 1.0       ┆ 1.0       ┆ 1.0       ┆ … ┆ 1.0       ┆ 1.0       ┆ 1.0       ┆ 1.0      │\n",
       "│ 75%       ┆ 1.0       ┆ 1.0       ┆ 1.0       ┆ … ┆ 1.0       ┆ 1.0       ┆ 1.0       ┆ 1.0      │\n",
       "│ max       ┆ 1.0       ┆ 1.0       ┆ 1.0       ┆ … ┆ 1.0       ┆ 1.0       ┆ 1.0       ┆ 1.0      │\n",
       "└───────────┴───────────┴───────────┴───────────┴───┴───────────┴───────────┴───────────┴──────────┘"
      ]
     },
     "metadata": {},
     "output_type": "display_data"
    },
    {
     "data": {
      "text/html": [
       "<div><style>\n",
       ".dataframe > thead > tr,\n",
       ".dataframe > tbody > tr {\n",
       "  text-align: right;\n",
       "  white-space: pre-wrap;\n",
       "}\n",
       "</style>\n",
       "<small>shape: (1, 9)</small><table border=\"1\" class=\"dataframe\"><thead><tr><th>Online_Groceries</th><th>Online_Milk</th><th>Online_Vegetables</th><th>Online_Fresh_Fruits</th><th>Online_Dry_Fruits</th><th>Online_Egg_Fish_Meat</th><th>Online_Served_Processed_Food</th><th>Online_Packed_Processed_Food</th><th>Online_Other_Food_Items</th></tr><tr><td>u32</td><td>u32</td><td>u32</td><td>u32</td><td>u32</td><td>u32</td><td>u32</td><td>u32</td><td>u32</td></tr></thead><tbody><tr><td>41016</td><td>42003</td><td>41874</td><td>41916</td><td>42009</td><td>42258</td><td>42012</td><td>41751</td><td>42126</td></tr></tbody></table></div>"
      ],
      "text/plain": [
       "shape: (1, 9)\n",
       "┌───────────┬───────────┬───────────┬───────────┬───┬───────────┬───────────┬───────────┬──────────┐\n",
       "│ Online_Gr ┆ Online_Mi ┆ Online_Ve ┆ Online_Fr ┆ … ┆ Online_Eg ┆ Online_Se ┆ Online_Pa ┆ Online_O │\n",
       "│ oceries   ┆ lk        ┆ getables  ┆ esh_Fruit ┆   ┆ g_Fish_Me ┆ rved_Proc ┆ cked_Proc ┆ ther_Foo │\n",
       "│ ---       ┆ ---       ┆ ---       ┆ s         ┆   ┆ at        ┆ essed_Foo ┆ essed_Foo ┆ d_Items  │\n",
       "│ u32       ┆ u32       ┆ u32       ┆ ---       ┆   ┆ ---       ┆ d         ┆ d         ┆ ---      │\n",
       "│           ┆           ┆           ┆ u32       ┆   ┆ u32       ┆ ---       ┆ ---       ┆ u32      │\n",
       "│           ┆           ┆           ┆           ┆   ┆           ┆ u32       ┆ u32       ┆          │\n",
       "╞═══════════╪═══════════╪═══════════╪═══════════╪═══╪═══════════╪═══════════╪═══════════╪══════════╡\n",
       "│ 41016     ┆ 42003     ┆ 41874     ┆ 41916     ┆ … ┆ 42258     ┆ 42012     ┆ 41751     ┆ 42126    │\n",
       "└───────────┴───────────┴───────────┴───────────┴───┴───────────┴───────────┴───────────┴──────────┘"
      ]
     },
     "metadata": {},
     "output_type": "display_data"
    },
    {
     "data": {
      "text/html": [
       "<div><style>\n",
       ".dataframe > thead > tr,\n",
       ".dataframe > tbody > tr {\n",
       "  text-align: right;\n",
       "  white-space: pre-wrap;\n",
       "}\n",
       "</style>\n",
       "<small>shape: (1, 9)</small><table border=\"1\" class=\"dataframe\"><thead><tr><th>Online_Groceries</th><th>Online_Milk</th><th>Online_Vegetables</th><th>Online_Fresh_Fruits</th><th>Online_Dry_Fruits</th><th>Online_Egg_Fish_Meat</th><th>Online_Served_Processed_Food</th><th>Online_Packed_Processed_Food</th><th>Online_Other_Food_Items</th></tr><tr><td>f64</td><td>f64</td><td>f64</td><td>f64</td><td>f64</td><td>f64</td><td>f64</td><td>f64</td><td>f64</td></tr></thead><tbody><tr><td>0.969302</td><td>0.992627</td><td>0.989578</td><td>0.990571</td><td>0.992769</td><td>0.998653</td><td>0.992839</td><td>0.986671</td><td>0.995533</td></tr></tbody></table></div>"
      ],
      "text/plain": [
       "shape: (1, 9)\n",
       "┌───────────┬───────────┬───────────┬───────────┬───┬───────────┬───────────┬───────────┬──────────┐\n",
       "│ Online_Gr ┆ Online_Mi ┆ Online_Ve ┆ Online_Fr ┆ … ┆ Online_Eg ┆ Online_Se ┆ Online_Pa ┆ Online_O │\n",
       "│ oceries   ┆ lk        ┆ getables  ┆ esh_Fruit ┆   ┆ g_Fish_Me ┆ rved_Proc ┆ cked_Proc ┆ ther_Foo │\n",
       "│ ---       ┆ ---       ┆ ---       ┆ s         ┆   ┆ at        ┆ essed_Foo ┆ essed_Foo ┆ d_Items  │\n",
       "│ f64       ┆ f64       ┆ f64       ┆ ---       ┆   ┆ ---       ┆ d         ┆ d         ┆ ---      │\n",
       "│           ┆           ┆           ┆ f64       ┆   ┆ f64       ┆ ---       ┆ ---       ┆ f64      │\n",
       "│           ┆           ┆           ┆           ┆   ┆           ┆ f64       ┆ f64       ┆          │\n",
       "╞═══════════╪═══════════╪═══════════╪═══════════╪═══╪═══════════╪═══════════╪═══════════╪══════════╡\n",
       "│ 0.969302  ┆ 0.992627  ┆ 0.989578  ┆ 0.990571  ┆ … ┆ 0.998653  ┆ 0.992839  ┆ 0.986671  ┆ 0.995533 │\n",
       "└───────────┴───────────┴───────────┴───────────┴───┴───────────┴───────────┴───────────┴──────────┘"
      ]
     },
     "metadata": {},
     "output_type": "display_data"
    }
   ],
   "source": [
    "summary(lev_04_digital)"
   ]
  },
  {
   "cell_type": "code",
   "execution_count": 64,
   "id": "a8d58361",
   "metadata": {},
   "outputs": [
    {
     "name": "stdout",
     "output_type": "stream",
     "text": [
      "Online_Groceries contains : 2\n"
     ]
    },
    {
     "data": {
      "text/html": [
       "<div><style>\n",
       ".dataframe > thead > tr,\n",
       ".dataframe > tbody > tr {\n",
       "  text-align: right;\n",
       "  white-space: pre-wrap;\n",
       "}\n",
       "</style>\n",
       "<small>shape: (2,)</small><table border=\"1\" class=\"dataframe\"><thead><tr><th>Online_Groceries</th></tr><tr><td>i32</td></tr></thead><tbody><tr><td>null</td></tr><tr><td>1</td></tr></tbody></table></div>"
      ],
      "text/plain": [
       "shape: (2,)\n",
       "Series: 'Online_Groceries' [i32]\n",
       "[\n",
       "\tnull\n",
       "\t1\n",
       "]"
      ]
     },
     "metadata": {},
     "output_type": "display_data"
    },
    {
     "name": "stdout",
     "output_type": "stream",
     "text": [
      "Online_Milk contains : 2\n"
     ]
    },
    {
     "data": {
      "text/html": [
       "<div><style>\n",
       ".dataframe > thead > tr,\n",
       ".dataframe > tbody > tr {\n",
       "  text-align: right;\n",
       "  white-space: pre-wrap;\n",
       "}\n",
       "</style>\n",
       "<small>shape: (2,)</small><table border=\"1\" class=\"dataframe\"><thead><tr><th>Online_Milk</th></tr><tr><td>i32</td></tr></thead><tbody><tr><td>null</td></tr><tr><td>1</td></tr></tbody></table></div>"
      ],
      "text/plain": [
       "shape: (2,)\n",
       "Series: 'Online_Milk' [i32]\n",
       "[\n",
       "\tnull\n",
       "\t1\n",
       "]"
      ]
     },
     "metadata": {},
     "output_type": "display_data"
    },
    {
     "name": "stdout",
     "output_type": "stream",
     "text": [
      "Online_Vegetables contains : 2\n"
     ]
    },
    {
     "data": {
      "text/html": [
       "<div><style>\n",
       ".dataframe > thead > tr,\n",
       ".dataframe > tbody > tr {\n",
       "  text-align: right;\n",
       "  white-space: pre-wrap;\n",
       "}\n",
       "</style>\n",
       "<small>shape: (2,)</small><table border=\"1\" class=\"dataframe\"><thead><tr><th>Online_Vegetables</th></tr><tr><td>i32</td></tr></thead><tbody><tr><td>null</td></tr><tr><td>1</td></tr></tbody></table></div>"
      ],
      "text/plain": [
       "shape: (2,)\n",
       "Series: 'Online_Vegetables' [i32]\n",
       "[\n",
       "\tnull\n",
       "\t1\n",
       "]"
      ]
     },
     "metadata": {},
     "output_type": "display_data"
    },
    {
     "name": "stdout",
     "output_type": "stream",
     "text": [
      "Online_Fresh_Fruits contains : 2\n"
     ]
    },
    {
     "data": {
      "text/html": [
       "<div><style>\n",
       ".dataframe > thead > tr,\n",
       ".dataframe > tbody > tr {\n",
       "  text-align: right;\n",
       "  white-space: pre-wrap;\n",
       "}\n",
       "</style>\n",
       "<small>shape: (2,)</small><table border=\"1\" class=\"dataframe\"><thead><tr><th>Online_Fresh_Fruits</th></tr><tr><td>i32</td></tr></thead><tbody><tr><td>null</td></tr><tr><td>1</td></tr></tbody></table></div>"
      ],
      "text/plain": [
       "shape: (2,)\n",
       "Series: 'Online_Fresh_Fruits' [i32]\n",
       "[\n",
       "\tnull\n",
       "\t1\n",
       "]"
      ]
     },
     "metadata": {},
     "output_type": "display_data"
    },
    {
     "name": "stdout",
     "output_type": "stream",
     "text": [
      "Online_Dry_Fruits contains : 2\n"
     ]
    },
    {
     "data": {
      "text/html": [
       "<div><style>\n",
       ".dataframe > thead > tr,\n",
       ".dataframe > tbody > tr {\n",
       "  text-align: right;\n",
       "  white-space: pre-wrap;\n",
       "}\n",
       "</style>\n",
       "<small>shape: (2,)</small><table border=\"1\" class=\"dataframe\"><thead><tr><th>Online_Dry_Fruits</th></tr><tr><td>i32</td></tr></thead><tbody><tr><td>null</td></tr><tr><td>1</td></tr></tbody></table></div>"
      ],
      "text/plain": [
       "shape: (2,)\n",
       "Series: 'Online_Dry_Fruits' [i32]\n",
       "[\n",
       "\tnull\n",
       "\t1\n",
       "]"
      ]
     },
     "metadata": {},
     "output_type": "display_data"
    },
    {
     "name": "stdout",
     "output_type": "stream",
     "text": [
      "Online_Egg_Fish_Meat contains : 2\n"
     ]
    },
    {
     "data": {
      "text/html": [
       "<div><style>\n",
       ".dataframe > thead > tr,\n",
       ".dataframe > tbody > tr {\n",
       "  text-align: right;\n",
       "  white-space: pre-wrap;\n",
       "}\n",
       "</style>\n",
       "<small>shape: (2,)</small><table border=\"1\" class=\"dataframe\"><thead><tr><th>Online_Egg_Fish_Meat</th></tr><tr><td>i32</td></tr></thead><tbody><tr><td>null</td></tr><tr><td>1</td></tr></tbody></table></div>"
      ],
      "text/plain": [
       "shape: (2,)\n",
       "Series: 'Online_Egg_Fish_Meat' [i32]\n",
       "[\n",
       "\tnull\n",
       "\t1\n",
       "]"
      ]
     },
     "metadata": {},
     "output_type": "display_data"
    },
    {
     "name": "stdout",
     "output_type": "stream",
     "text": [
      "Online_Served_Processed_Food contains : 2\n"
     ]
    },
    {
     "data": {
      "text/html": [
       "<div><style>\n",
       ".dataframe > thead > tr,\n",
       ".dataframe > tbody > tr {\n",
       "  text-align: right;\n",
       "  white-space: pre-wrap;\n",
       "}\n",
       "</style>\n",
       "<small>shape: (2,)</small><table border=\"1\" class=\"dataframe\"><thead><tr><th>Online_Served_Processed_Food</th></tr><tr><td>i32</td></tr></thead><tbody><tr><td>null</td></tr><tr><td>1</td></tr></tbody></table></div>"
      ],
      "text/plain": [
       "shape: (2,)\n",
       "Series: 'Online_Served_Processed_Food' [i32]\n",
       "[\n",
       "\tnull\n",
       "\t1\n",
       "]"
      ]
     },
     "metadata": {},
     "output_type": "display_data"
    },
    {
     "name": "stdout",
     "output_type": "stream",
     "text": [
      "Online_Packed_Processed_Food contains : 2\n"
     ]
    },
    {
     "data": {
      "text/html": [
       "<div><style>\n",
       ".dataframe > thead > tr,\n",
       ".dataframe > tbody > tr {\n",
       "  text-align: right;\n",
       "  white-space: pre-wrap;\n",
       "}\n",
       "</style>\n",
       "<small>shape: (2,)</small><table border=\"1\" class=\"dataframe\"><thead><tr><th>Online_Packed_Processed_Food</th></tr><tr><td>i32</td></tr></thead><tbody><tr><td>null</td></tr><tr><td>1</td></tr></tbody></table></div>"
      ],
      "text/plain": [
       "shape: (2,)\n",
       "Series: 'Online_Packed_Processed_Food' [i32]\n",
       "[\n",
       "\tnull\n",
       "\t1\n",
       "]"
      ]
     },
     "metadata": {},
     "output_type": "display_data"
    },
    {
     "name": "stdout",
     "output_type": "stream",
     "text": [
      "Online_Other_Food_Items contains : 2\n"
     ]
    },
    {
     "data": {
      "text/html": [
       "<div><style>\n",
       ".dataframe > thead > tr,\n",
       ".dataframe > tbody > tr {\n",
       "  text-align: right;\n",
       "  white-space: pre-wrap;\n",
       "}\n",
       "</style>\n",
       "<small>shape: (2,)</small><table border=\"1\" class=\"dataframe\"><thead><tr><th>Online_Other_Food_Items</th></tr><tr><td>i32</td></tr></thead><tbody><tr><td>null</td></tr><tr><td>1</td></tr></tbody></table></div>"
      ],
      "text/plain": [
       "shape: (2,)\n",
       "Series: 'Online_Other_Food_Items' [i32]\n",
       "[\n",
       "\tnull\n",
       "\t1\n",
       "]"
      ]
     },
     "metadata": {},
     "output_type": "display_data"
    }
   ],
   "source": [
    "for col in lev_04_digital:\n",
    "    check_unique(col)"
   ]
  },
  {
   "cell_type": "code",
   "execution_count": 65,
   "id": "7ec7478a",
   "metadata": {},
   "outputs": [],
   "source": [
    "for col in lev_04_digital:\n",
    "    pdf = pdf.with_columns(\n",
    "        pl.col(col).fill_null(strategy='zero')\n",
    "        )"
   ]
  },
  {
   "cell_type": "code",
   "execution_count": 66,
   "id": "818d6682",
   "metadata": {},
   "outputs": [
    {
     "data": {
      "text/html": [
       "<div><style>\n",
       ".dataframe > thead > tr,\n",
       ".dataframe > tbody > tr {\n",
       "  text-align: right;\n",
       "  white-space: pre-wrap;\n",
       "}\n",
       "</style>\n",
       "<small>shape: (1, 9)</small><table border=\"1\" class=\"dataframe\"><thead><tr><th>Online_Groceries</th><th>Online_Milk</th><th>Online_Vegetables</th><th>Online_Fresh_Fruits</th><th>Online_Dry_Fruits</th><th>Online_Egg_Fish_Meat</th><th>Online_Served_Processed_Food</th><th>Online_Packed_Processed_Food</th><th>Online_Other_Food_Items</th></tr><tr><td>f64</td><td>f64</td><td>f64</td><td>f64</td><td>f64</td><td>f64</td><td>f64</td><td>f64</td><td>f64</td></tr></thead><tbody><tr><td>0.0</td><td>0.0</td><td>0.0</td><td>0.0</td><td>0.0</td><td>0.0</td><td>0.0</td><td>0.0</td><td>0.0</td></tr></tbody></table></div>"
      ],
      "text/plain": [
       "shape: (1, 9)\n",
       "┌───────────┬───────────┬───────────┬───────────┬───┬───────────┬───────────┬───────────┬──────────┐\n",
       "│ Online_Gr ┆ Online_Mi ┆ Online_Ve ┆ Online_Fr ┆ … ┆ Online_Eg ┆ Online_Se ┆ Online_Pa ┆ Online_O │\n",
       "│ oceries   ┆ lk        ┆ getables  ┆ esh_Fruit ┆   ┆ g_Fish_Me ┆ rved_Proc ┆ cked_Proc ┆ ther_Foo │\n",
       "│ ---       ┆ ---       ┆ ---       ┆ s         ┆   ┆ at        ┆ essed_Foo ┆ essed_Foo ┆ d_Items  │\n",
       "│ f64       ┆ f64       ┆ f64       ┆ ---       ┆   ┆ ---       ┆ d         ┆ d         ┆ ---      │\n",
       "│           ┆           ┆           ┆ f64       ┆   ┆ f64       ┆ ---       ┆ ---       ┆ f64      │\n",
       "│           ┆           ┆           ┆           ┆   ┆           ┆ f64       ┆ f64       ┆          │\n",
       "╞═══════════╪═══════════╪═══════════╪═══════════╪═══╪═══════════╪═══════════╪═══════════╪══════════╡\n",
       "│ 0.0       ┆ 0.0       ┆ 0.0       ┆ 0.0       ┆ … ┆ 0.0       ┆ 0.0       ┆ 0.0       ┆ 0.0      │\n",
       "└───────────┴───────────┴───────────┴───────────┴───┴───────────┴───────────┴───────────┴──────────┘"
      ]
     },
     "execution_count": 66,
     "metadata": {},
     "output_type": "execute_result"
    }
   ],
   "source": [
    "pdf[lev_04_digital].null_count() / pdf.shape[0]"
   ]
  },
  {
   "cell_type": "markdown",
   "id": "f3a06ad7",
   "metadata": {},
   "source": [
    "# Others"
   ]
  },
  {
   "cell_type": "code",
   "execution_count": 67,
   "id": "ff88767f",
   "metadata": {},
   "outputs": [],
   "source": [
    "lev_04_behavior = ['Ceremony_Performed_Last_30_Days']\n",
    "lev_04_food = ['Meals_Served_to_Non_HH_Members']"
   ]
  },
  {
   "cell_type": "code",
   "execution_count": 71,
   "id": "7d246899",
   "metadata": {},
   "outputs": [
    {
     "data": {
      "text/plain": [
       "0"
      ]
     },
     "execution_count": 71,
     "metadata": {},
     "output_type": "execute_result"
    }
   ],
   "source": [
    "pdf['Meals_Served_to_Non_HH_Members'].null_count()"
   ]
  },
  {
   "cell_type": "code",
   "execution_count": 69,
   "id": "893c8dda",
   "metadata": {},
   "outputs": [
    {
     "data": {
      "text/html": [
       "<div><style>\n",
       ".dataframe > thead > tr,\n",
       ".dataframe > tbody > tr {\n",
       "  text-align: right;\n",
       "  white-space: pre-wrap;\n",
       "}\n",
       "</style>\n",
       "<small>shape: (9, 2)</small><table border=\"1\" class=\"dataframe\"><thead><tr><th>statistic</th><th>value</th></tr><tr><td>str</td><td>f64</td></tr></thead><tbody><tr><td>&quot;count&quot;</td><td>42315.0</td></tr><tr><td>&quot;null_count&quot;</td><td>0.0</td></tr><tr><td>&quot;mean&quot;</td><td>1.987664</td></tr><tr><td>&quot;std&quot;</td><td>0.110382</td></tr><tr><td>&quot;min&quot;</td><td>1.0</td></tr><tr><td>&quot;25%&quot;</td><td>2.0</td></tr><tr><td>&quot;50%&quot;</td><td>2.0</td></tr><tr><td>&quot;75%&quot;</td><td>2.0</td></tr><tr><td>&quot;max&quot;</td><td>2.0</td></tr></tbody></table></div>"
      ],
      "text/plain": [
       "shape: (9, 2)\n",
       "┌────────────┬──────────┐\n",
       "│ statistic  ┆ value    │\n",
       "│ ---        ┆ ---      │\n",
       "│ str        ┆ f64      │\n",
       "╞════════════╪══════════╡\n",
       "│ count      ┆ 42315.0  │\n",
       "│ null_count ┆ 0.0      │\n",
       "│ mean       ┆ 1.987664 │\n",
       "│ std        ┆ 0.110382 │\n",
       "│ min        ┆ 1.0      │\n",
       "│ 25%        ┆ 2.0      │\n",
       "│ 50%        ┆ 2.0      │\n",
       "│ 75%        ┆ 2.0      │\n",
       "│ max        ┆ 2.0      │\n",
       "└────────────┴──────────┘"
      ]
     },
     "execution_count": 69,
     "metadata": {},
     "output_type": "execute_result"
    }
   ],
   "source": [
    "pdf['Ceremony_Performed_Last_30_Days'].describe()"
   ]
  },
  {
   "cell_type": "code",
   "execution_count": 70,
   "id": "e44a7384",
   "metadata": {},
   "outputs": [
    {
     "data": {
      "text/plain": [
       "0"
      ]
     },
     "execution_count": 70,
     "metadata": {},
     "output_type": "execute_result"
    }
   ],
   "source": [
    "pdf['Ceremony_Performed_Last_30_Days'].null_count()"
   ]
  },
  {
   "cell_type": "markdown",
   "id": "e2021366",
   "metadata": {},
   "source": [
    "# Saving"
   ]
  },
  {
   "cell_type": "code",
   "execution_count": 72,
   "id": "dfe86ebc",
   "metadata": {},
   "outputs": [
    {
     "name": "stdout",
     "output_type": "stream",
     "text": [
      "Saved 🙌\n"
     ]
    }
   ],
   "source": [
    "pdf.write_csv(r\"C:\\Users\\Rudra\\Desktop\\rural-financial-inclusion-govt-scheme-recommendation\\parquet-data\\lev-04\\data2\\lev_04_mp_clean.csv\")\n",
    "pdf.write_parquet(r\"C:\\Users\\Rudra\\Desktop\\rural-financial-inclusion-govt-scheme-recommendation\\parquet-data\\lev-04\\data2\\lev_04_mp_clean.parquet\", compression=\"zstd\")\n",
    "print('Saved 🙌')"
   ]
  }
 ],
 "metadata": {
  "kernelspec": {
   "display_name": "Python 3",
   "language": "python",
   "name": "python3"
  },
  "language_info": {
   "codemirror_mode": {
    "name": "ipython",
    "version": 3
   },
   "file_extension": ".py",
   "mimetype": "text/x-python",
   "name": "python",
   "nbconvert_exporter": "python",
   "pygments_lexer": "ipython3",
   "version": "3.11.9"
  }
 },
 "nbformat": 4,
 "nbformat_minor": 5
}
