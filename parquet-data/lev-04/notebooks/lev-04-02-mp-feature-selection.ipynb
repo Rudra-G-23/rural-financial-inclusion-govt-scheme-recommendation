{
 "cells": [
  {
   "cell_type": "markdown",
   "id": "955d5bea",
   "metadata": {},
   "source": [
    "# Goal: Feature Extraction "
   ]
  },
  {
   "cell_type": "code",
   "execution_count": 1,
   "id": "00586d61",
   "metadata": {},
   "outputs": [
    {
     "data": {
      "text/plain": [
       "Schema([('Survey_Name', String),\n",
       "        ('Year', String),\n",
       "        ('FSU_Serial_No', String),\n",
       "        ('Sector', String),\n",
       "        ('State', String),\n",
       "        ('NSS_Region', String),\n",
       "        ('District', String),\n",
       "        ('Stratum', String),\n",
       "        ('Sub_stratum', String),\n",
       "        ('Panel', String),\n",
       "        ('Sub_sample', String),\n",
       "        ('FOD_Sub_Region', String),\n",
       "        ('Sample_SU_No', String),\n",
       "        ('Sample_Sub_Division_No', String),\n",
       "        ('Second_Stage_Stratum_No', String),\n",
       "        ('Sample_Household_No', String),\n",
       "        ('Questionnaire_No', String),\n",
       "        ('Level', String),\n",
       "        ('Ration_Any_Item_Last_30_Days', String),\n",
       "        ('Ration_Rice', String),\n",
       "        ('Ration_Wheat', String),\n",
       "        ('Ration_Coarse_Grain', String),\n",
       "        ('Ration_Sugar', String),\n",
       "        ('Ration_Pulses', String),\n",
       "        ('Ration_Edible_Oil', String),\n",
       "        ('Ration_Other_Food_Items', String),\n",
       "        ('Online_Groceries', String),\n",
       "        ('Online_Milk', String),\n",
       "        ('Online_Vegetables', String),\n",
       "        ('Online_Fresh_Fruits', String),\n",
       "        ('Online_Dry_Fruits', String),\n",
       "        ('Online_Egg_Fish_Meat', String),\n",
       "        ('Online_Served_Processed_Food', String),\n",
       "        ('Online_Packed_Processed_Food', String),\n",
       "        ('Online_Other_Food_Items', String),\n",
       "        ('Ceremony_Performed_Last_30_Days', String),\n",
       "        ('Meals_Served_to_Non_HH_Members', String),\n",
       "        ('Multiplier', Float64)])"
      ]
     },
     "execution_count": 1,
     "metadata": {},
     "output_type": "execute_result"
    }
   ],
   "source": [
    "import polars as pl\n",
    "\n",
    "path = r\"C:\\Users\\Rudra\\Desktop\\rural-financial-inclusion-govt-scheme-recommendation\\parquet-data\\lev-04\\data\\lev-04_merged.parquet\"\n",
    "\n",
    "pdf = pl.read_parquet(path)\n",
    "pdf.collect_schema()"
   ]
  },
  {
   "cell_type": "code",
   "execution_count": 2,
   "id": "0197c793",
   "metadata": {},
   "outputs": [
    {
     "data": {
      "text/html": [
       "<div><style>\n",
       ".dataframe > thead > tr,\n",
       ".dataframe > tbody > tr {\n",
       "  text-align: right;\n",
       "  white-space: pre-wrap;\n",
       "}\n",
       "</style>\n",
       "<small>shape: (1,)</small><table border=\"1\" class=\"dataframe\"><thead><tr><th>State</th></tr><tr><td>str</td></tr></thead><tbody><tr><td>&quot;23&quot;</td></tr></tbody></table></div>"
      ],
      "text/plain": [
       "shape: (1,)\n",
       "Series: 'State' [str]\n",
       "[\n",
       "\t\"23\"\n",
       "]"
      ]
     },
     "execution_count": 2,
     "metadata": {},
     "output_type": "execute_result"
    }
   ],
   "source": [
    "pdf = pdf.filter(\n",
    "    pl.col('State') == '23'\n",
    ")\n",
    "\n",
    "pdf['State'].unique()"
   ]
  },
  {
   "cell_type": "code",
   "execution_count": 3,
   "id": "c1d0e788",
   "metadata": {},
   "outputs": [],
   "source": [
    "lev_04_fin = ['Ration_Any_Item_Last_30_Days' ,'Ration_Rice',\n",
    "              'Ration_Wheat','Ration_Coarse_Grain',\n",
    "              'Ration_Sugar','Ration_Pulses',\n",
    "              'Ration_Edible_Oil','Ration_Other_Food_Items']\n",
    "\n",
    "lev_04_digital = [\n",
    "    'Online_Groceries',\n",
    "'Online_Milk',\n",
    "'Online_Vegetables',\n",
    "'Online_Fresh_Fruits',\n",
    "'Online_Dry_Fruits',\n",
    "'Online_Egg_Fish_Meat',\n",
    "'Online_Served_Processed_Food',\n",
    "'Online_Packed_Processed_Food',\n",
    "'Online_Other_Food_Items',\n",
    "]\n",
    "\n",
    "lev_04_behavior = ['Ceremony_Performed_Last_30_Days']\n",
    "lev_04_food = ['Meals_Served_to_Non_HH_Members']"
   ]
  },
  {
   "cell_type": "code",
   "execution_count": 6,
   "id": "299bf004",
   "metadata": {},
   "outputs": [],
   "source": [
    "lev_04_cols = (\n",
    "    lev_04_food \n",
    "    + lev_04_behavior\n",
    "    + lev_04_digital \n",
    "    + lev_04_fin\n",
    ")"
   ]
  },
  {
   "cell_type": "code",
   "execution_count": 7,
   "id": "d21d0988",
   "metadata": {},
   "outputs": [
    {
     "data": {
      "text/html": [
       "<div><style>\n",
       ".dataframe > thead > tr,\n",
       ".dataframe > tbody > tr {\n",
       "  text-align: right;\n",
       "  white-space: pre-wrap;\n",
       "}\n",
       "</style>\n",
       "<small>shape: (42_315, 19)</small><table border=\"1\" class=\"dataframe\"><thead><tr><th>Meals_Served_to_Non_HH_Members</th><th>Ceremony_Performed_Last_30_Days</th><th>Online_Groceries</th><th>Online_Milk</th><th>Online_Vegetables</th><th>Online_Fresh_Fruits</th><th>Online_Dry_Fruits</th><th>Online_Egg_Fish_Meat</th><th>Online_Served_Processed_Food</th><th>Online_Packed_Processed_Food</th><th>Online_Other_Food_Items</th><th>Ration_Any_Item_Last_30_Days</th><th>Ration_Rice</th><th>Ration_Wheat</th><th>Ration_Coarse_Grain</th><th>Ration_Sugar</th><th>Ration_Pulses</th><th>Ration_Edible_Oil</th><th>Ration_Other_Food_Items</th></tr><tr><td>str</td><td>str</td><td>str</td><td>str</td><td>str</td><td>str</td><td>str</td><td>str</td><td>str</td><td>str</td><td>str</td><td>str</td><td>str</td><td>str</td><td>str</td><td>str</td><td>str</td><td>str</td><td>str</td></tr></thead><tbody><tr><td>&quot;6&quot;</td><td>&quot;2&quot;</td><td>&quot;&quot;</td><td>&quot;&quot;</td><td>&quot;&quot;</td><td>&quot;&quot;</td><td>&quot;&quot;</td><td>&quot;&quot;</td><td>&quot;&quot;</td><td>&quot;&quot;</td><td>&quot;&quot;</td><td>&quot;1&quot;</td><td>&quot;1&quot;</td><td>&quot;1&quot;</td><td>&quot;&quot;</td><td>&quot;&quot;</td><td>&quot;&quot;</td><td>&quot;&quot;</td><td>&quot;1&quot;</td></tr><tr><td>&quot;5&quot;</td><td>&quot;2&quot;</td><td>&quot;&quot;</td><td>&quot;&quot;</td><td>&quot;&quot;</td><td>&quot;&quot;</td><td>&quot;&quot;</td><td>&quot;&quot;</td><td>&quot;&quot;</td><td>&quot;&quot;</td><td>&quot;&quot;</td><td>&quot;1&quot;</td><td>&quot;1&quot;</td><td>&quot;1&quot;</td><td>&quot;&quot;</td><td>&quot;&quot;</td><td>&quot;&quot;</td><td>&quot;&quot;</td><td>&quot;1&quot;</td></tr><tr><td>&quot;8&quot;</td><td>&quot;2&quot;</td><td>&quot;&quot;</td><td>&quot;&quot;</td><td>&quot;&quot;</td><td>&quot;&quot;</td><td>&quot;&quot;</td><td>&quot;&quot;</td><td>&quot;&quot;</td><td>&quot;&quot;</td><td>&quot;&quot;</td><td>&quot;1&quot;</td><td>&quot;1&quot;</td><td>&quot;1&quot;</td><td>&quot;&quot;</td><td>&quot;&quot;</td><td>&quot;&quot;</td><td>&quot;&quot;</td><td>&quot;1&quot;</td></tr><tr><td>&quot;0&quot;</td><td>&quot;2&quot;</td><td>&quot;&quot;</td><td>&quot;&quot;</td><td>&quot;&quot;</td><td>&quot;&quot;</td><td>&quot;&quot;</td><td>&quot;&quot;</td><td>&quot;&quot;</td><td>&quot;&quot;</td><td>&quot;&quot;</td><td>&quot;1&quot;</td><td>&quot;1&quot;</td><td>&quot;1&quot;</td><td>&quot;&quot;</td><td>&quot;&quot;</td><td>&quot;&quot;</td><td>&quot;&quot;</td><td>&quot;1&quot;</td></tr><tr><td>&quot;6&quot;</td><td>&quot;2&quot;</td><td>&quot;&quot;</td><td>&quot;&quot;</td><td>&quot;&quot;</td><td>&quot;&quot;</td><td>&quot;&quot;</td><td>&quot;&quot;</td><td>&quot;&quot;</td><td>&quot;&quot;</td><td>&quot;&quot;</td><td>&quot;1&quot;</td><td>&quot;1&quot;</td><td>&quot;1&quot;</td><td>&quot;&quot;</td><td>&quot;&quot;</td><td>&quot;&quot;</td><td>&quot;&quot;</td><td>&quot;1&quot;</td></tr><tr><td>&hellip;</td><td>&hellip;</td><td>&hellip;</td><td>&hellip;</td><td>&hellip;</td><td>&hellip;</td><td>&hellip;</td><td>&hellip;</td><td>&hellip;</td><td>&hellip;</td><td>&hellip;</td><td>&hellip;</td><td>&hellip;</td><td>&hellip;</td><td>&hellip;</td><td>&hellip;</td><td>&hellip;</td><td>&hellip;</td><td>&hellip;</td></tr><tr><td>&quot;0&quot;</td><td>&quot;2&quot;</td><td>&quot;&quot;</td><td>&quot;&quot;</td><td>&quot;&quot;</td><td>&quot;&quot;</td><td>&quot;&quot;</td><td>&quot;&quot;</td><td>&quot;&quot;</td><td>&quot;&quot;</td><td>&quot;&quot;</td><td>&quot;1&quot;</td><td>&quot;1&quot;</td><td>&quot;1&quot;</td><td>&quot;&quot;</td><td>&quot;&quot;</td><td>&quot;&quot;</td><td>&quot;&quot;</td><td>&quot;1&quot;</td></tr><tr><td>&quot;8&quot;</td><td>&quot;2&quot;</td><td>&quot;&quot;</td><td>&quot;&quot;</td><td>&quot;&quot;</td><td>&quot;&quot;</td><td>&quot;&quot;</td><td>&quot;&quot;</td><td>&quot;&quot;</td><td>&quot;&quot;</td><td>&quot;&quot;</td><td>&quot;2&quot;</td><td>&quot;&quot;</td><td>&quot;&quot;</td><td>&quot;&quot;</td><td>&quot;&quot;</td><td>&quot;&quot;</td><td>&quot;&quot;</td><td>&quot;&quot;</td></tr><tr><td>&quot;0&quot;</td><td>&quot;2&quot;</td><td>&quot;&quot;</td><td>&quot;&quot;</td><td>&quot;&quot;</td><td>&quot;&quot;</td><td>&quot;&quot;</td><td>&quot;&quot;</td><td>&quot;&quot;</td><td>&quot;&quot;</td><td>&quot;&quot;</td><td>&quot;1&quot;</td><td>&quot;1&quot;</td><td>&quot;1&quot;</td><td>&quot;&quot;</td><td>&quot;1&quot;</td><td>&quot;&quot;</td><td>&quot;&quot;</td><td>&quot;1&quot;</td></tr><tr><td>&quot;0&quot;</td><td>&quot;2&quot;</td><td>&quot;&quot;</td><td>&quot;&quot;</td><td>&quot;&quot;</td><td>&quot;&quot;</td><td>&quot;&quot;</td><td>&quot;&quot;</td><td>&quot;&quot;</td><td>&quot;&quot;</td><td>&quot;&quot;</td><td>&quot;2&quot;</td><td>&quot;&quot;</td><td>&quot;&quot;</td><td>&quot;&quot;</td><td>&quot;&quot;</td><td>&quot;&quot;</td><td>&quot;&quot;</td><td>&quot;&quot;</td></tr><tr><td>&quot;8&quot;</td><td>&quot;1&quot;</td><td>&quot;&quot;</td><td>&quot;&quot;</td><td>&quot;&quot;</td><td>&quot;&quot;</td><td>&quot;&quot;</td><td>&quot;&quot;</td><td>&quot;&quot;</td><td>&quot;&quot;</td><td>&quot;&quot;</td><td>&quot;1&quot;</td><td>&quot;1&quot;</td><td>&quot;1&quot;</td><td>&quot;&quot;</td><td>&quot;&quot;</td><td>&quot;&quot;</td><td>&quot;&quot;</td><td>&quot;1&quot;</td></tr></tbody></table></div>"
      ],
      "text/plain": [
       "shape: (42_315, 19)\n",
       "┌───────────┬───────────┬───────────┬───────────┬───┬───────────┬───────────┬───────────┬──────────┐\n",
       "│ Meals_Ser ┆ Ceremony_ ┆ Online_Gr ┆ Online_Mi ┆ … ┆ Ration_Su ┆ Ration_Pu ┆ Ration_Ed ┆ Ration_O │\n",
       "│ ved_to_No ┆ Performed ┆ oceries   ┆ lk        ┆   ┆ gar       ┆ lses      ┆ ible_Oil  ┆ ther_Foo │\n",
       "│ n_HH_Memb ┆ _Last_30_ ┆ ---       ┆ ---       ┆   ┆ ---       ┆ ---       ┆ ---       ┆ d_Items  │\n",
       "│ ers       ┆ Day…      ┆ str       ┆ str       ┆   ┆ str       ┆ str       ┆ str       ┆ ---      │\n",
       "│ ---       ┆ ---       ┆           ┆           ┆   ┆           ┆           ┆           ┆ str      │\n",
       "│ str       ┆ str       ┆           ┆           ┆   ┆           ┆           ┆           ┆          │\n",
       "╞═══════════╪═══════════╪═══════════╪═══════════╪═══╪═══════════╪═══════════╪═══════════╪══════════╡\n",
       "│ 6         ┆ 2         ┆           ┆           ┆ … ┆           ┆           ┆           ┆ 1        │\n",
       "│ 5         ┆ 2         ┆           ┆           ┆ … ┆           ┆           ┆           ┆ 1        │\n",
       "│ 8         ┆ 2         ┆           ┆           ┆ … ┆           ┆           ┆           ┆ 1        │\n",
       "│ 0         ┆ 2         ┆           ┆           ┆ … ┆           ┆           ┆           ┆ 1        │\n",
       "│ 6         ┆ 2         ┆           ┆           ┆ … ┆           ┆           ┆           ┆ 1        │\n",
       "│ …         ┆ …         ┆ …         ┆ …         ┆ … ┆ …         ┆ …         ┆ …         ┆ …        │\n",
       "│ 0         ┆ 2         ┆           ┆           ┆ … ┆           ┆           ┆           ┆ 1        │\n",
       "│ 8         ┆ 2         ┆           ┆           ┆ … ┆           ┆           ┆           ┆          │\n",
       "│ 0         ┆ 2         ┆           ┆           ┆ … ┆ 1         ┆           ┆           ┆ 1        │\n",
       "│ 0         ┆ 2         ┆           ┆           ┆ … ┆           ┆           ┆           ┆          │\n",
       "│ 8         ┆ 1         ┆           ┆           ┆ … ┆           ┆           ┆           ┆ 1        │\n",
       "└───────────┴───────────┴───────────┴───────────┴───┴───────────┴───────────┴───────────┴──────────┘"
      ]
     },
     "execution_count": 7,
     "metadata": {},
     "output_type": "execute_result"
    }
   ],
   "source": [
    "pdf[lev_04_cols]"
   ]
  }
 ],
 "metadata": {
  "kernelspec": {
   "display_name": "Python 3",
   "language": "python",
   "name": "python3"
  },
  "language_info": {
   "codemirror_mode": {
    "name": "ipython",
    "version": 3
   },
   "file_extension": ".py",
   "mimetype": "text/x-python",
   "name": "python",
   "nbconvert_exporter": "python",
   "pygments_lexer": "ipython3",
   "version": "3.11.9"
  }
 },
 "nbformat": 4,
 "nbformat_minor": 5
}
